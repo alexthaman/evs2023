{
  "cells": [
    {
      "cell_type": "markdown",
      "metadata": {
        "id": "view-in-github",
        "colab_type": "text"
      },
      "source": [
        "<a href=\"https://colab.research.google.com/github/alexthaman/evs2023/blob/main/Cocostats.ipynb\" target=\"_parent\"><img src=\"https://colab.research.google.com/assets/colab-badge.svg\" alt=\"Open In Colab\"/></a>"
      ]
    },
    {
      "cell_type": "markdown",
      "metadata": {
        "id": "yT2h8AYDoS09"
      },
      "source": [
        "# Coco Enhanced Dataset Statistics sample\n",
        "This notebook contains a demonstration of data analysis on the Coco 2017 dataset.  In this sample, the Coco 2017 val dataset is augmented with additional metadata from the paper [\"Understanding and Evaluating Racial Biases in Image Captioning\"](https://arxiv.org/abs/2106.08503).\n",
        "\n",
        "## Prerequisites\n",
        "To run this notebook, you will need to first download the additional metadata manually to Google Drive (recommended) or another location of your choice.  The notebook is configured to connect directly to a Google Drive that contains the downloaded dataset, but with some small code modifications you will be able to download from a location of your choice.  The supplemental metadata can be requested from [the project website](https://princetonvisualai.github.io/imagecaptioning-bias/).  In the sample below, the `instances_2014all.csv` file from the metadata is expected to be placed at the root of your Google Drive."
      ]
    },
    {
      "cell_type": "code",
      "execution_count": null,
      "metadata": {
        "colab": {
          "base_uri": "https://localhost:8080/"
        },
        "id": "Vk1OdtoLa9pr",
        "outputId": "f4e94195-dd90-44c3-a7e4-da2592d3ea02"
      },
      "outputs": [
        {
          "output_type": "stream",
          "name": "stdout",
          "text": [
            "Mounted at /content/gdrive\n"
          ]
        }
      ],
      "source": [
        "# Mount a Google Drive to this Colab instance\n",
        "from google.colab import drive\n",
        "drive.mount('/content/gdrive')"
      ]
    },
    {
      "cell_type": "code",
      "execution_count": null,
      "metadata": {
        "colab": {
          "base_uri": "https://localhost:8080/"
        },
        "id": "7M8WpSHiCnja",
        "outputId": "b537abb8-fe6b-41fc-ea08-f9a9ebf2e825"
      },
      "outputs": [
        {
          "output_type": "stream",
          "name": "stdout",
          "text": [
            "  % Total    % Received % Xferd  Average Speed   Time    Time     Time  Current\n",
            "                                 Dload  Upload   Total   Spent    Left  Speed\n",
            "100  777M  100  777M    0     0  10.6M      0  0:01:12  0:01:12 --:--:-- 13.3M\n",
            "  % Total    % Received % Xferd  Average Speed   Time    Time     Time  Current\n",
            "                                 Dload  Upload   Total   Spent    Left  Speed\n",
            "100  241M  100  241M    0     0  11.9M      0  0:00:20  0:00:20 --:--:-- 13.2M\n"
          ]
        }
      ],
      "source": [
        "# Download the Coco 2017 val dataset\n",
        "!mkdir val2017\n",
        "!curl -O http://images.cocodataset.org/zips/val2017.zip\n",
        "!curl -O http://images.cocodataset.org/annotations/annotations_trainval2017.zip"
      ]
    },
    {
      "cell_type": "code",
      "execution_count": null,
      "metadata": {
        "id": "U0BiWpbECtgS"
      },
      "outputs": [],
      "source": [
        "# Unzip imanges and annotations\n",
        "!unzip -q val2017.zip -d val2017\n",
        "!unzip -q annotations_trainval2017.zip -d annotations\n",
        "!mv val2017/val2017 val2017/data"
      ]
    },
    {
      "cell_type": "code",
      "execution_count": null,
      "metadata": {
        "id": "_bbtwQA1E6ai"
      },
      "outputs": [],
      "source": [
        "# Install packages that will be used for this sample\n",
        "!pip install fiftyone\n",
        "!pip install torch torchvision umap-learn"
      ]
    },
    {
      "cell_type": "code",
      "execution_count": null,
      "metadata": {
        "colab": {
          "base_uri": "https://localhost:8080/"
        },
        "id": "yCqvtj7lO16C",
        "outputId": "cbe8d89c-21e2-42ab-b1c1-209402351e88"
      },
      "outputs": [
        {
          "output_type": "stream",
          "name": "stdout",
          "text": [
            "Copied instances_2014all.csv\n"
          ]
        }
      ],
      "source": [
        "# Augment annotations file with supplemental metadata\n",
        "import csv\n",
        "import os\n",
        "import shutil\n",
        "import json\n",
        "\n",
        "with open(f'./annotations/annotations/instances_val2017.json') as f:\n",
        "    js = json.load(f)\n",
        "\n",
        "# DELETE THIS ONCE TESTED\n",
        "#!cp '/content/gdrive/My Drive/'$coco_extra_metadata_file $coco_extra_metadata_file\n",
        "coco_extra_metadata_file = 'instances_2014all.csv'\n",
        "shutil.copyfile(f'/content/gdrive/My Drive/{coco_extra_metadata_file}', coco_extra_metadata_file)\n",
        "if not os.path.isfile(coco_extra_metadata_file):\n",
        "  print(f'Unable to find {coco_extra_metadata_file}.  Please download this file locally to continue')\n",
        "  exit(1)\n",
        "print(f'Copied {coco_extra_metadata_file}')\n",
        "\n",
        "# Load supplemental metadata into a dictionary\n",
        "data = {}\n",
        "with open('instances_2014all.csv', 'r') as csvfile:\n",
        "    csvreader = csv.DictReader(csvfile)\n",
        "    for row in csvreader:\n",
        "        data[row['annId']] = row\n",
        "\n",
        "# Join labels and extra metadata on annotation ID\n",
        "for row in js['annotations']:\n",
        "  id = row['id']\n",
        "  if str(id) in data:\n",
        "    row.update(data[str(id)])\n",
        "\n",
        "# Write the labels file back with the updated metadata\n",
        "with open('./val2017/labels.json', 'w') as f:\n",
        "    json.dump(js, f, indent=2)"
      ]
    },
    {
      "cell_type": "markdown",
      "metadata": {
        "id": "l_s8Zq9WoS1D"
      },
      "source": [
        "# Data visualization and exploration\n",
        "For this sample we use the open source tool FiftyOne to visualize the dataset.  FiftyOne provides an interactive visualizer for computer vision datasets.  We will work exclusively with images that contain objects of category \"person\".\n",
        "\n",
        "## Embedding Analysis\n",
        "Included below are two examples of embedding analysis on the images.  Embedding analysis is useful to evaluate image similarity, and can be used to discover categories of problematic predictions.\n",
        "\n",
        "## Metadata Statistics\n",
        "Also included below are a number of example charts showing the kinds of statistics that can be performed on the dataset with the supplementary metadata.  Data analysis is an exploratory activity and issues of imbalance or unintended correlation are not necessarily problematic, but this kind of information can facilitate deeper investigation into the data and additional experiments to conduct."
      ]
    },
    {
      "cell_type": "code",
      "execution_count": null,
      "metadata": {
        "colab": {
          "base_uri": "https://localhost:8080/",
          "height": 891
        },
        "id": "Ut9kMFQBHISt",
        "outputId": "b07e1eaa-41bd-4a0b-e7ae-73469e5eecfb"
      },
      "outputs": [
        {
          "output_type": "stream",
          "name": "stdout",
          "text": [
            "Migrating database to v0.20.1\n"
          ]
        },
        {
          "output_type": "stream",
          "name": "stderr",
          "text": [
            "INFO:fiftyone.migrations.runner:Migrating database to v0.20.1\n"
          ]
        },
        {
          "output_type": "stream",
          "name": "stdout",
          "text": [
            " 100% |███████████████| 5000/5000 [1.9m elapsed, 0s remaining, 45.7 samples/s]      \n"
          ]
        },
        {
          "output_type": "stream",
          "name": "stderr",
          "text": [
            "INFO:eta.core.utils: 100% |███████████████| 5000/5000 [1.9m elapsed, 0s remaining, 45.7 samples/s]      \n"
          ]
        },
        {
          "output_type": "stream",
          "name": "stdout",
          "text": [
            "{'Female': 867, '': 163, 'Male': 1678, 'Unsure': 818, None: 7251}\n"
          ]
        },
        {
          "output_type": "display_data",
          "data": {
            "text/plain": [
              "<IPython.core.display.HTML object>"
            ],
            "text/html": [
              "\n",
              "<style>\n",
              "\n",
              "@import url(\"https://fonts.googleapis.com/css2?family=Palanquin&display=swap\");\n",
              "\n",
              "body, html {\n",
              "  margin: 0;\n",
              "  padding: 0;\n",
              "  width: 100%;\n",
              "}\n",
              "\n",
              "#focontainer-09c05210-366c-4f1c-890f-d09a9a1a9807 {\n",
              "  position: relative;\n",
              "  height: px;\n",
              "  display: block !important;\n",
              "}\n",
              "#foactivate-09c05210-366c-4f1c-890f-d09a9a1a9807 {\n",
              "  font-weight: bold;\n",
              "  cursor: pointer;\n",
              "  font-size: 24px;\n",
              "  border-radius: 3px;\n",
              "  text-align: center;\n",
              "  padding: 0.5em;\n",
              "  color: rgb(255, 255, 255);\n",
              "  font-family: \"Palanquin\", sans-serif;\n",
              "  position: absolute;\n",
              "  left: 50%;\n",
              "  top: 50%;\n",
              "  width: 160px;\n",
              "  margin-left: -80px;\n",
              "  margin-top: -23px;\n",
              "  background: hsla(210,11%,15%, 0.8);\n",
              "  border: none;\n",
              "}\n",
              "#foactivate-09c05210-366c-4f1c-890f-d09a9a1a9807:focus {\n",
              "  outline: none;\n",
              "}\n",
              "#fooverlay-09c05210-366c-4f1c-890f-d09a9a1a9807 {\n",
              "  width: 100%;\n",
              "  height: 100%;\n",
              "  background: hsla(208, 7%, 46%, 0.7);\n",
              "  position: absolute;\n",
              "  top: 0;\n",
              "  left: 0;\n",
              "  display: none;\n",
              "  cursor: pointer;\n",
              "}\n",
              "</style>\n",
              "<div id=\"focontainer-09c05210-366c-4f1c-890f-d09a9a1a9807\" style=\"display: none;\">\n",
              "   <div id=\"fooverlay-09c05210-366c-4f1c-890f-d09a9a1a9807\">\n",
              "      <button id=\"foactivate-09c05210-366c-4f1c-890f-d09a9a1a9807\" >Activate</button>\n",
              "   </div>\n",
              "</div>"
            ]
          },
          "metadata": {}
        }
      ],
      "source": [
        "# Load Coco dataset into FiftyOne and display only the subset of data with objects of category \"person\".\n",
        "# From this point forward we will only work with this portion of the Coco dataset.\n",
        "import fiftyone as fo\n",
        "from fiftyone import ViewField as F\n",
        "import fiftyone.brain as fob\n",
        "\n",
        "dataset_name = \"coco-2017-val\"\n",
        "dataset_dir = \"./val2017\"\n",
        "dataset_type = fo.types.COCODetectionDataset  # for example\n",
        "if not dataset_name in fo.list_datasets():\n",
        "    dataset = fo.Dataset.from_dir(\n",
        "        dataset_dir=dataset_dir,\n",
        "        dataset_type=dataset_type,\n",
        "        name=dataset_name,\n",
        "    )\n",
        "else:\n",
        "    dataset = fo.load_dataset(dataset_name)\n",
        "\n",
        "personimages = dataset.filter_labels(\"detections\", F(\"label\").is_in([\"person\"])) \\\n",
        "                                     .filter_labels(\"detections\", F(\"iscrowd\") == 0) \\\n",
        "                                     .exclude_fields(\"segmentations\")\n",
        "\n",
        "counts = personimages.count_values(\"detections.detections.gender\")\n",
        "print(counts)\n",
        "\n",
        "session = fo.launch_app(personimages)"
      ]
    },
    {
      "cell_type": "code",
      "execution_count": null,
      "metadata": {
        "colab": {
          "base_uri": "https://localhost:8080/",
          "height": 1000,
          "referenced_widgets": [
            "d9258872add74275bedd12f1e76ad4dc",
            "ba5c4db89b634f00b9ffce8df5e2839e",
            "bbffcbf0eceb43dfbbc2765485dd5314",
            "8f0b1bbaadf04005833ce6e6fdd328aa",
            "806b1ee87bcd490e8b81ec6855bd5268",
            "9efe1b53b91e48d6a6b99a30d0978e18",
            "9972dd8e8451499a8a791a7c4653057c",
            "c614dfc7cfa1430786a2b7b3a14e61f8",
            "9d8521d7d06b450cba58c2c4e94a881e",
            "ba3b98b435124861b9c13f9b14e500fe",
            "74c1dbc6ef4b42188375f243e3fedaf4"
          ]
        },
        "id": "zk-LobDlsWRx",
        "outputId": "26e8a18a-9084-475e-fc36-b22c1d3edb6a"
      },
      "outputs": [
        {
          "output_type": "stream",
          "name": "stdout",
          "text": [
            "Downloading model from 'https://download.pytorch.org/models/mobilenet_v2-b0353104.pth'...\n"
          ]
        },
        {
          "output_type": "stream",
          "name": "stderr",
          "text": [
            "INFO:fiftyone.core.models:Downloading model from 'https://download.pytorch.org/models/mobilenet_v2-b0353104.pth'...\n"
          ]
        },
        {
          "output_type": "stream",
          "name": "stdout",
          "text": [
            " 100% |████|  108.4Mb/108.4Mb [177.7ms elapsed, 0s remaining, 610.3Mb/s]     \n"
          ]
        },
        {
          "output_type": "stream",
          "name": "stderr",
          "text": [
            "INFO:eta.core.utils: 100% |████|  108.4Mb/108.4Mb [177.7ms elapsed, 0s remaining, 610.3Mb/s]     \n",
            "/usr/local/lib/python3.10/dist-packages/torchvision/models/_utils.py:208: UserWarning: The parameter 'pretrained' is deprecated since 0.13 and may be removed in the future, please use 'weights' instead.\n",
            "  warnings.warn(\n",
            "/usr/local/lib/python3.10/dist-packages/torchvision/models/_utils.py:223: UserWarning: Arguments other than a weight enum or `None` for 'weights' are deprecated since 0.13 and may be removed in the future. The current behavior is equivalent to passing `weights=MobileNet_V2_Weights.IMAGENET1K_V1`. You can also use `weights=MobileNet_V2_Weights.DEFAULT` to get the most up-to-date weights.\n",
            "  warnings.warn(msg)\n",
            "Downloading: \"https://download.pytorch.org/models/mobilenet_v2-b0353104.pth\" to /root/.cache/torch/hub/checkpoints/mobilenet_v2-b0353104.pth\n",
            "100%|██████████| 13.6M/13.6M [00:00<00:00, 94.7MB/s]\n"
          ]
        },
        {
          "output_type": "stream",
          "name": "stdout",
          "text": [
            "Computing patch embeddings...\n"
          ]
        },
        {
          "output_type": "stream",
          "name": "stderr",
          "text": [
            "INFO:fiftyone.brain.internal.core.utils:Computing patch embeddings...\n"
          ]
        },
        {
          "output_type": "stream",
          "name": "stdout",
          "text": [
            " 100% |███████████████| 2693/2693 [3.2m elapsed, 0s remaining, 29.7 samples/s]      \n"
          ]
        },
        {
          "output_type": "stream",
          "name": "stderr",
          "text": [
            "INFO:eta.core.utils: 100% |███████████████| 2693/2693 [3.2m elapsed, 0s remaining, 29.7 samples/s]      \n"
          ]
        },
        {
          "output_type": "stream",
          "name": "stdout",
          "text": [
            "Generating visualization...\n"
          ]
        },
        {
          "output_type": "stream",
          "name": "stderr",
          "text": [
            "INFO:fiftyone.brain.internal.core.visualization:Generating visualization...\n"
          ]
        },
        {
          "output_type": "stream",
          "name": "stdout",
          "text": [
            "UMAP(random_state=51, verbose=True)\n",
            "Fri May 12 18:36:11 2023 Construct fuzzy simplicial set\n",
            "Fri May 12 18:36:11 2023 Finding Nearest Neighbors\n",
            "Fri May 12 18:36:11 2023 Building RP forest with 10 trees\n",
            "Fri May 12 18:36:17 2023 NN descent for 13 iterations\n",
            "\t 1  /  13\n",
            "\t 2  /  13\n",
            "\t 3  /  13\n",
            "\t 4  /  13\n",
            "\t 5  /  13\n",
            "\tStopping threshold met -- exiting after 5 iterations\n",
            "Fri May 12 18:36:35 2023 Finished Nearest Neighbor Search\n",
            "Fri May 12 18:36:38 2023 Construct embedding\n"
          ]
        },
        {
          "output_type": "display_data",
          "data": {
            "text/plain": [
              "Epochs completed:   0%|            0/200 [00:00]"
            ],
            "application/vnd.jupyter.widget-view+json": {
              "version_major": 2,
              "version_minor": 0,
              "model_id": "d9258872add74275bedd12f1e76ad4dc"
            }
          },
          "metadata": {}
        },
        {
          "output_type": "stream",
          "name": "stdout",
          "text": [
            "Fri May 12 18:36:49 2023 Finished embedding\n"
          ]
        },
        {
          "output_type": "display_data",
          "data": {
            "text/plain": [
              "<IPython.core.display.HTML object>"
            ],
            "text/html": [
              "\n",
              "<style>\n",
              "\n",
              "@import url(\"https://fonts.googleapis.com/css2?family=Palanquin&display=swap\");\n",
              "\n",
              "body, html {\n",
              "  margin: 0;\n",
              "  padding: 0;\n",
              "  width: 100%;\n",
              "}\n",
              "\n",
              "#focontainer-fe088e40-76ac-442e-9d3e-78978382214e {\n",
              "  position: relative;\n",
              "  height: px;\n",
              "  display: block !important;\n",
              "}\n",
              "#foactivate-fe088e40-76ac-442e-9d3e-78978382214e {\n",
              "  font-weight: bold;\n",
              "  cursor: pointer;\n",
              "  font-size: 24px;\n",
              "  border-radius: 3px;\n",
              "  text-align: center;\n",
              "  padding: 0.5em;\n",
              "  color: rgb(255, 255, 255);\n",
              "  font-family: \"Palanquin\", sans-serif;\n",
              "  position: absolute;\n",
              "  left: 50%;\n",
              "  top: 50%;\n",
              "  width: 160px;\n",
              "  margin-left: -80px;\n",
              "  margin-top: -23px;\n",
              "  background: hsla(210,11%,15%, 0.8);\n",
              "  border: none;\n",
              "}\n",
              "#foactivate-fe088e40-76ac-442e-9d3e-78978382214e:focus {\n",
              "  outline: none;\n",
              "}\n",
              "#fooverlay-fe088e40-76ac-442e-9d3e-78978382214e {\n",
              "  width: 100%;\n",
              "  height: 100%;\n",
              "  background: hsla(208, 7%, 46%, 0.7);\n",
              "  position: absolute;\n",
              "  top: 0;\n",
              "  left: 0;\n",
              "  display: none;\n",
              "  cursor: pointer;\n",
              "}\n",
              "</style>\n",
              "<div id=\"focontainer-fe088e40-76ac-442e-9d3e-78978382214e\" style=\"display: none;\">\n",
              "   <div id=\"fooverlay-fe088e40-76ac-442e-9d3e-78978382214e\">\n",
              "      <button id=\"foactivate-fe088e40-76ac-442e-9d3e-78978382214e\" >Activate</button>\n",
              "   </div>\n",
              "</div>"
            ]
          },
          "metadata": {}
        }
      ],
      "source": [
        "# Compute 2D UMAP on the images using default mobilenet_v2 backbone\n",
        "import cv2\n",
        "import numpy as np\n",
        "import fiftyone.brain as fob\n",
        "\n",
        "# Compute 2D representation\n",
        "results = fob.compute_visualization(\n",
        "    personimages,\n",
        "    num_dims=2,\n",
        "    method=\"umap\",\n",
        "    brain_key=\"coco_person_crop\",\n",
        "    patches_field='detections',\n",
        "    seed=51,\n",
        ")\n",
        "\n",
        "session = fo.launch_app(personimages)"
      ]
    },
    {
      "cell_type": "code",
      "execution_count": null,
      "metadata": {
        "colab": {
          "base_uri": "https://localhost:8080/",
          "height": 1000,
          "referenced_widgets": [
            "26a72caa2b3f4e1987716e5b43d5bc78",
            "cabf4ca7901046f49d20f3b6f283aec6",
            "71486389b13a4a539e919e5281aecae0",
            "0cb18b830f6846188aa768b66bd79fcc",
            "cba0aeba830442da92d9464beac7700f",
            "1cd7dfc4d9e84276af38034922020b0b",
            "ee5d5109e54c447e9aa8a65f19d1365c",
            "343d4f0b22ec4cddbf653f81d5918c4a",
            "8223c9c76e5f4d31a4715c611a3a04f5",
            "3bdc70d07808452a9da592c12c83820c",
            "81039cddd4bf4e3ea256cbaeaf0c8cf4"
          ]
        },
        "id": "kg7VY9zY03ld",
        "outputId": "6ca96fd7-b98b-4be6-c9c0-379bfd894497"
      },
      "outputs": [
        {
          "output_type": "stream",
          "name": "stdout",
          "text": [
            "Downloading model from 'https://openaipublic.azureedge.net/clip/models/40d365715913c9da98579312b702a82c18be219cc2a73407c4526f58eba950af/ViT-B-32.pt'...\n"
          ]
        },
        {
          "output_type": "stream",
          "name": "stderr",
          "text": [
            "INFO:fiftyone.core.models:Downloading model from 'https://openaipublic.azureedge.net/clip/models/40d365715913c9da98579312b702a82c18be219cc2a73407c4526f58eba950af/ViT-B-32.pt'...\n"
          ]
        },
        {
          "output_type": "stream",
          "name": "stdout",
          "text": [
            " 100% |██████|    2.6Gb/2.6Gb [6.8s elapsed, 0s remaining, 401.1Mb/s]      \n"
          ]
        },
        {
          "output_type": "stream",
          "name": "stderr",
          "text": [
            "INFO:eta.core.utils: 100% |██████|    2.6Gb/2.6Gb [6.8s elapsed, 0s remaining, 401.1Mb/s]      \n"
          ]
        },
        {
          "output_type": "stream",
          "name": "stdout",
          "text": [
            "Downloading CLIP tokenizer...\n"
          ]
        },
        {
          "output_type": "stream",
          "name": "stderr",
          "text": [
            "INFO:fiftyone.utils.clip.zoo:Downloading CLIP tokenizer...\n"
          ]
        },
        {
          "output_type": "stream",
          "name": "stdout",
          "text": [
            " 100% |█████|   10.4Mb/10.4Mb [20.2ms elapsed, 0s remaining, 511.2Mb/s]    \n"
          ]
        },
        {
          "output_type": "stream",
          "name": "stderr",
          "text": [
            "INFO:eta.core.utils: 100% |█████|   10.4Mb/10.4Mb [20.2ms elapsed, 0s remaining, 511.2Mb/s]    \n"
          ]
        },
        {
          "output_type": "stream",
          "name": "stdout",
          "text": [
            " 100% |███████████████| 3803/3803 [1.9m elapsed, 0s remaining, 45.8 samples/s]      \n"
          ]
        },
        {
          "output_type": "stream",
          "name": "stderr",
          "text": [
            "INFO:eta.core.utils: 100% |███████████████| 3803/3803 [1.9m elapsed, 0s remaining, 45.8 samples/s]      \n"
          ]
        },
        {
          "output_type": "stream",
          "name": "stdout",
          "text": [
            "Generating visualization...\n"
          ]
        },
        {
          "output_type": "stream",
          "name": "stderr",
          "text": [
            "INFO:fiftyone.brain.internal.core.visualization:Generating visualization...\n"
          ]
        },
        {
          "output_type": "stream",
          "name": "stdout",
          "text": [
            "UMAP( verbose=True)\n",
            "Fri May 12 18:40:48 2023 Construct fuzzy simplicial set\n",
            "Fri May 12 18:41:01 2023 Finding Nearest Neighbors\n",
            "Fri May 12 18:41:04 2023 Finished Nearest Neighbor Search\n",
            "Fri May 12 18:41:04 2023 Construct embedding\n"
          ]
        },
        {
          "output_type": "display_data",
          "data": {
            "text/plain": [
              "Epochs completed:   0%|            0/500 [00:00]"
            ],
            "application/vnd.jupyter.widget-view+json": {
              "version_major": 2,
              "version_minor": 0,
              "model_id": "26a72caa2b3f4e1987716e5b43d5bc78"
            }
          },
          "metadata": {}
        },
        {
          "output_type": "stream",
          "name": "stdout",
          "text": [
            "Fri May 12 18:41:11 2023 Finished embedding\n"
          ]
        },
        {
          "output_type": "display_data",
          "data": {
            "text/plain": [
              "<IPython.core.display.HTML object>"
            ],
            "text/html": [
              "\n",
              "<style>\n",
              "\n",
              "@import url(\"https://fonts.googleapis.com/css2?family=Palanquin&display=swap\");\n",
              "\n",
              "body, html {\n",
              "  margin: 0;\n",
              "  padding: 0;\n",
              "  width: 100%;\n",
              "}\n",
              "\n",
              "#focontainer-4b5d819d-1cb1-4469-b508-5c1af37d2900 {\n",
              "  position: relative;\n",
              "  height: px;\n",
              "  display: block !important;\n",
              "}\n",
              "#foactivate-4b5d819d-1cb1-4469-b508-5c1af37d2900 {\n",
              "  font-weight: bold;\n",
              "  cursor: pointer;\n",
              "  font-size: 24px;\n",
              "  border-radius: 3px;\n",
              "  text-align: center;\n",
              "  padding: 0.5em;\n",
              "  color: rgb(255, 255, 255);\n",
              "  font-family: \"Palanquin\", sans-serif;\n",
              "  position: absolute;\n",
              "  left: 50%;\n",
              "  top: 50%;\n",
              "  width: 160px;\n",
              "  margin-left: -80px;\n",
              "  margin-top: -23px;\n",
              "  background: hsla(210,11%,15%, 0.8);\n",
              "  border: none;\n",
              "}\n",
              "#foactivate-4b5d819d-1cb1-4469-b508-5c1af37d2900:focus {\n",
              "  outline: none;\n",
              "}\n",
              "#fooverlay-4b5d819d-1cb1-4469-b508-5c1af37d2900 {\n",
              "  width: 100%;\n",
              "  height: 100%;\n",
              "  background: hsla(208, 7%, 46%, 0.7);\n",
              "  position: absolute;\n",
              "  top: 0;\n",
              "  left: 0;\n",
              "  display: none;\n",
              "  cursor: pointer;\n",
              "}\n",
              "</style>\n",
              "<div id=\"focontainer-4b5d819d-1cb1-4469-b508-5c1af37d2900\" style=\"display: none;\">\n",
              "   <div id=\"fooverlay-4b5d819d-1cb1-4469-b508-5c1af37d2900\">\n",
              "      <button id=\"foactivate-4b5d819d-1cb1-4469-b508-5c1af37d2900\" >Activate</button>\n",
              "   </div>\n",
              "</div>"
            ]
          },
          "metadata": {}
        }
      ],
      "source": [
        "# Create a UMAP of cropped images of few object categories of crops above a minimum size\n",
        "# threshold (bounding box is > 5% of image) using CLIP embeddings.  In this view we can see\n",
        "# that crops that share common objects are closer in CLIP space, even when we only use\n",
        "# the cropped bounding box to measure.\n",
        "\n",
        "import fiftyone.zoo as foz\n",
        "\n",
        "# Bboxes are in [top-left-x, top-left-y, width, height] format\n",
        "bbox_area = F(\"bounding_box\")[2] * F(\"bounding_box\")[3]\n",
        "\n",
        "# Only contains boxes whose area is between 5% and 50% of the image\n",
        "mysample = dataset.filter_labels(\n",
        "    \"detections\", (0.05 <= bbox_area)\n",
        ")\n",
        "\n",
        "mysample = mysample.filter_labels(\"detections\", F(\"label\").is_in([\"person\", \"dog\", \"cat\", \"horse\", \"cow\"])) \\\n",
        "                                     .filter_labels(\"detections\", F(\"iscrowd\") != 1) \\\n",
        "                                     .exclude_fields(\"segmentations\")\n",
        "view_pch = mysample.to_patches('detections', other_fields=['skin', 'gender'])\n",
        "view_pch.compute_patch_embeddings(foz.load_zoo_model(\"clip-vit-base32-torch\"), 'detections', embeddings_field='clip')\n",
        "fob.compute_visualization(mysample, patches_field='detections', embeddings='clip', \\\n",
        "                          brain_key='mn_clip_umap3', num_dims=2, method='umap')\n",
        "\n",
        "session = fo.launch_app(view_pch)"
      ]
    },
    {
      "cell_type": "code",
      "execution_count": null,
      "metadata": {
        "colab": {
          "base_uri": "https://localhost:8080/",
          "height": 423
        },
        "id": "R90L4yneXRt7",
        "outputId": "9f78a609-2511-4dc7-8f00-7340860a115b"
      },
      "outputs": [
        {
          "output_type": "execute_result",
          "data": {
            "text/plain": [
              "        skin  gender\n",
              "0          1  Female\n",
              "1          2    Male\n",
              "2          2    Male\n",
              "3     <None>    Male\n",
              "4          2  Unsure\n",
              "...      ...     ...\n",
              "3521  <None>    Male\n",
              "3522       1  Female\n",
              "3523       1  Unsure\n",
              "3524       2  Female\n",
              "3525       2    Male\n",
              "\n",
              "[3526 rows x 2 columns]"
            ],
            "text/html": [
              "\n",
              "  <div id=\"df-14fbbc79-54db-419b-a4bb-ee1debb74fc5\">\n",
              "    <div class=\"colab-df-container\">\n",
              "      <div>\n",
              "<style scoped>\n",
              "    .dataframe tbody tr th:only-of-type {\n",
              "        vertical-align: middle;\n",
              "    }\n",
              "\n",
              "    .dataframe tbody tr th {\n",
              "        vertical-align: top;\n",
              "    }\n",
              "\n",
              "    .dataframe thead th {\n",
              "        text-align: right;\n",
              "    }\n",
              "</style>\n",
              "<table border=\"1\" class=\"dataframe\">\n",
              "  <thead>\n",
              "    <tr style=\"text-align: right;\">\n",
              "      <th></th>\n",
              "      <th>skin</th>\n",
              "      <th>gender</th>\n",
              "    </tr>\n",
              "  </thead>\n",
              "  <tbody>\n",
              "    <tr>\n",
              "      <th>0</th>\n",
              "      <td>1</td>\n",
              "      <td>Female</td>\n",
              "    </tr>\n",
              "    <tr>\n",
              "      <th>1</th>\n",
              "      <td>2</td>\n",
              "      <td>Male</td>\n",
              "    </tr>\n",
              "    <tr>\n",
              "      <th>2</th>\n",
              "      <td>2</td>\n",
              "      <td>Male</td>\n",
              "    </tr>\n",
              "    <tr>\n",
              "      <th>3</th>\n",
              "      <td>&lt;None&gt;</td>\n",
              "      <td>Male</td>\n",
              "    </tr>\n",
              "    <tr>\n",
              "      <th>4</th>\n",
              "      <td>2</td>\n",
              "      <td>Unsure</td>\n",
              "    </tr>\n",
              "    <tr>\n",
              "      <th>...</th>\n",
              "      <td>...</td>\n",
              "      <td>...</td>\n",
              "    </tr>\n",
              "    <tr>\n",
              "      <th>3521</th>\n",
              "      <td>&lt;None&gt;</td>\n",
              "      <td>Male</td>\n",
              "    </tr>\n",
              "    <tr>\n",
              "      <th>3522</th>\n",
              "      <td>1</td>\n",
              "      <td>Female</td>\n",
              "    </tr>\n",
              "    <tr>\n",
              "      <th>3523</th>\n",
              "      <td>1</td>\n",
              "      <td>Unsure</td>\n",
              "    </tr>\n",
              "    <tr>\n",
              "      <th>3524</th>\n",
              "      <td>2</td>\n",
              "      <td>Female</td>\n",
              "    </tr>\n",
              "    <tr>\n",
              "      <th>3525</th>\n",
              "      <td>2</td>\n",
              "      <td>Male</td>\n",
              "    </tr>\n",
              "  </tbody>\n",
              "</table>\n",
              "<p>3526 rows × 2 columns</p>\n",
              "</div>\n",
              "      <button class=\"colab-df-convert\" onclick=\"convertToInteractive('df-14fbbc79-54db-419b-a4bb-ee1debb74fc5')\"\n",
              "              title=\"Convert this dataframe to an interactive table.\"\n",
              "              style=\"display:none;\">\n",
              "        \n",
              "  <svg xmlns=\"http://www.w3.org/2000/svg\" height=\"24px\"viewBox=\"0 0 24 24\"\n",
              "       width=\"24px\">\n",
              "    <path d=\"M0 0h24v24H0V0z\" fill=\"none\"/>\n",
              "    <path d=\"M18.56 5.44l.94 2.06.94-2.06 2.06-.94-2.06-.94-.94-2.06-.94 2.06-2.06.94zm-11 1L8.5 8.5l.94-2.06 2.06-.94-2.06-.94L8.5 2.5l-.94 2.06-2.06.94zm10 10l.94 2.06.94-2.06 2.06-.94-2.06-.94-.94-2.06-.94 2.06-2.06.94z\"/><path d=\"M17.41 7.96l-1.37-1.37c-.4-.4-.92-.59-1.43-.59-.52 0-1.04.2-1.43.59L10.3 9.45l-7.72 7.72c-.78.78-.78 2.05 0 2.83L4 21.41c.39.39.9.59 1.41.59.51 0 1.02-.2 1.41-.59l7.78-7.78 2.81-2.81c.8-.78.8-2.07 0-2.86zM5.41 20L4 18.59l7.72-7.72 1.47 1.35L5.41 20z\"/>\n",
              "  </svg>\n",
              "      </button>\n",
              "      \n",
              "  <style>\n",
              "    .colab-df-container {\n",
              "      display:flex;\n",
              "      flex-wrap:wrap;\n",
              "      gap: 12px;\n",
              "    }\n",
              "\n",
              "    .colab-df-convert {\n",
              "      background-color: #E8F0FE;\n",
              "      border: none;\n",
              "      border-radius: 50%;\n",
              "      cursor: pointer;\n",
              "      display: none;\n",
              "      fill: #1967D2;\n",
              "      height: 32px;\n",
              "      padding: 0 0 0 0;\n",
              "      width: 32px;\n",
              "    }\n",
              "\n",
              "    .colab-df-convert:hover {\n",
              "      background-color: #E2EBFA;\n",
              "      box-shadow: 0px 1px 2px rgba(60, 64, 67, 0.3), 0px 1px 3px 1px rgba(60, 64, 67, 0.15);\n",
              "      fill: #174EA6;\n",
              "    }\n",
              "\n",
              "    [theme=dark] .colab-df-convert {\n",
              "      background-color: #3B4455;\n",
              "      fill: #D2E3FC;\n",
              "    }\n",
              "\n",
              "    [theme=dark] .colab-df-convert:hover {\n",
              "      background-color: #434B5C;\n",
              "      box-shadow: 0px 1px 3px 1px rgba(0, 0, 0, 0.15);\n",
              "      filter: drop-shadow(0px 1px 2px rgba(0, 0, 0, 0.3));\n",
              "      fill: #FFFFFF;\n",
              "    }\n",
              "  </style>\n",
              "\n",
              "      <script>\n",
              "        const buttonEl =\n",
              "          document.querySelector('#df-14fbbc79-54db-419b-a4bb-ee1debb74fc5 button.colab-df-convert');\n",
              "        buttonEl.style.display =\n",
              "          google.colab.kernel.accessAllowed ? 'block' : 'none';\n",
              "\n",
              "        async function convertToInteractive(key) {\n",
              "          const element = document.querySelector('#df-14fbbc79-54db-419b-a4bb-ee1debb74fc5');\n",
              "          const dataTable =\n",
              "            await google.colab.kernel.invokeFunction('convertToInteractive',\n",
              "                                                     [key], {});\n",
              "          if (!dataTable) return;\n",
              "\n",
              "          const docLinkHtml = 'Like what you see? Visit the ' +\n",
              "            '<a target=\"_blank\" href=https://colab.research.google.com/notebooks/data_table.ipynb>data table notebook</a>'\n",
              "            + ' to learn more about interactive tables.';\n",
              "          element.innerHTML = '';\n",
              "          dataTable['output_type'] = 'display_data';\n",
              "          await google.colab.output.renderOutput(dataTable, element);\n",
              "          const docLink = document.createElement('div');\n",
              "          docLink.innerHTML = docLinkHtml;\n",
              "          element.appendChild(docLink);\n",
              "        }\n",
              "      </script>\n",
              "    </div>\n",
              "  </div>\n",
              "  "
            ]
          },
          "metadata": {},
          "execution_count": 9
        }
      ],
      "source": [
        "# Load supplementary metadata into a dataframe for further analysis.\n",
        "import pandas as pd\n",
        "\n",
        "all = [item for sublist in personimages.values(\"detections.detections\") for item in sublist if 'skin' in item]\n",
        "df = pd.DataFrame([(obj['skin'], obj['gender']) for obj in all], columns=['skin', 'gender'])\n",
        "df = df.replace('', '<None>')\n",
        "df"
      ]
    },
    {
      "cell_type": "code",
      "execution_count": null,
      "metadata": {
        "colab": {
          "base_uri": "https://localhost:8080/",
          "height": 617
        },
        "id": "vLX74BwHN68J",
        "outputId": "1fee5767-5bde-4244-9dc5-f9780d9a6b3f"
      },
      "outputs": [
        {
          "output_type": "display_data",
          "data": {
            "text/html": [
              "<html>\n",
              "<head><meta charset=\"utf-8\" /></head>\n",
              "<body>\n",
              "    <div>            <script src=\"https://cdnjs.cloudflare.com/ajax/libs/mathjax/2.7.5/MathJax.js?config=TeX-AMS-MML_SVG\"></script><script type=\"text/javascript\">if (window.MathJax && window.MathJax.Hub && window.MathJax.Hub.Config) {window.MathJax.Hub.Config({SVG: {font: \"STIX-Web\"}});}</script>                <script type=\"text/javascript\">window.PlotlyConfig = {MathJaxConfig: 'local'};</script>\n",
              "        <script src=\"https://cdn.plot.ly/plotly-2.18.2.min.js\"></script>                <div id=\"a99b0942-d63d-4342-8f98-de03e13887f3\" class=\"plotly-graph-div\" style=\"height:600px; width:1000px;\"></div>            <script type=\"text/javascript\">                                    window.PLOTLYENV=window.PLOTLYENV || {};                                    if (document.getElementById(\"a99b0942-d63d-4342-8f98-de03e13887f3\")) {                    Plotly.newPlot(                        \"a99b0942-d63d-4342-8f98-de03e13887f3\",                        [{\"coloraxis\":\"coloraxis\",\"hovertemplate\":\"skin=%{x}<br>gender=%{y}<br>count=%{z}<extra></extra>\",\"name\":\"\",\"x\":[\"1\",\"2\",\"2\",\"<None>\",\"2\",\"2\",\"2\",\"2\",\"1\",\"1\",\"1\",\"1\",\"2\",\"Unsure\",\"1\",\"2\",\"3\",\"Unsure\",\"2\",\"<None>\",\"Unsure\",\"1\",\"Unsure\",\"Unsure\",\"Unsure\",\"1\",\"Unsure\",\"2\",\"1\",\"<None>\",\"2\",\"Unsure\",\"2\",\"1\",\"1\",\"1\",\"2\",\"Unsure\",\"<None>\",\"1\",\"2\",\"3\",\"<None>\",\"2\",\"2\",\"<None>\",\"<None>\",\"2\",\"5\",\"2\",\"4\",\"5\",\"<None>\",\"Unsure\",\"5\",\"2\",\"2\",\"4\",\"2\",\"2\",\"Unsure\",\"1\",\"3\",\"2\",\"2\",\"3\",\"1\",\"6\",\"6\",\"6\",\"6\",\"6\",\"1\",\"2\",\"2\",\"<None>\",\"1\",\"Unsure\",\"Unsure\",\"3\",\"<None>\",\"3\",\"6\",\"3\",\"<None>\",\"<None>\",\"6\",\"2\",\"<None>\",\"3\",\"2\",\"<None>\",\"<None>\",\"Unsure\",\"1\",\"2\",\"2\",\"2\",\"Unsure\",\"2\",\"1\",\"2\",\"2\",\"2\",\"2\",\"4\",\"<None>\",\"1\",\"<None>\",\"4\",\"2\",\"1\",\"2\",\"2\",\"2\",\"3\",\"3\",\"3\",\"2\",\"<None>\",\"Unsure\",\"1\",\"2\",\"2\",\"2\",\"1\",\"4\",\"2\",\"4\",\"2\",\"2\",\"1\",\"1\",\"2\",\"1\",\"Unsure\",\"2\",\"<None>\",\"1\",\"3\",\"1\",\"3\",\"<None>\",\"<None>\",\"Unsure\",\"<None>\",\"Unsure\",\"Unsure\",\"3\",\"1\",\"<None>\",\"2\",\"1\",\"1\",\"1\",\"1\",\"1\",\"3\",\"1\",\"2\",\"2\",\"2\",\"1\",\"<None>\",\"1\",\"1\",\"3\",\"4\",\"Unsure\",\"2\",\"<None>\",\"1\",\"4\",\"2\",\"2\",\"1\",\"1\",\"3\",\"1\",\"1\",\"1\",\"2\",\"2\",\"1\",\"1\",\"2\",\"1\",\"2\",\"1\",\"3\",\"<None>\",\"<None>\",\"Unsure\",\"2\",\"1\",\"2\",\"<None>\",\"1\",\"2\",\"<None>\",\"<None>\",\"1\",\"2\",\"1\",\"2\",\"2\",\"2\",\"2\",\"<None>\",\"1\",\"Unsure\",\"Unsure\",\"2\",\"3\",\"1\",\"2\",\"4\",\"3\",\"Unsure\",\"Unsure\",\"<None>\",\"4\",\"1\",\"2\",\"1\",\"2\",\"<None>\",\"3\",\"<None>\",\"6\",\"2\",\"<None>\",\"<None>\",\"Unsure\",\"Unsure\",\"1\",\"Unsure\",\"1\",\"2\",\"3\",\"1\",\"3\",\"2\",\"Unsure\",\"2\",\"6\",\"3\",\"<None>\",\"1\",\"1\",\"Unsure\",\"<None>\",\"Unsure\",\"5\",\"Unsure\",\"2\",\"<None>\",\"<None>\",\"<None>\",\"<None>\",\"3\",\"1\",\"1\",\"<None>\",\"<None>\",\"<None>\",\"3\",\"4\",\"6\",\"Unsure\",\"<None>\",\"2\",\"2\",\"Unsure\",\"<None>\",\"1\",\"1\",\"2\",\"1\",\"2\",\"Unsure\",\"<None>\",\"2\",\"<None>\",\"<None>\",\"<None>\",\"Unsure\",\"<None>\",\"3\",\"1\",\"4\",\"1\",\"<None>\",\"4\",\"2\",\"3\",\"2\",\"1\",\"2\",\"1\",\"1\",\"<None>\",\"<None>\",\"2\",\"<None>\",\"2\",\"<None>\",\"3\",\"1\",\"1\",\"1\",\"3\",\"<None>\",\"1\",\"1\",\"2\",\"Unsure\",\"2\",\"3\",\"2\",\"3\",\"2\",\"1\",\"Unsure\",\"1\",\"4\",\"1\",\"1\",\"5\",\"4\",\"Unsure\",\"<None>\",\"1\",\"2\",\"2\",\"<None>\",\"2\",\"Unsure\",\"Unsure\",\"1\",\"1\",\"2\",\"2\",\"<None>\",\"3\",\"1\",\"<None>\",\"1\",\"1\",\"2\",\"3\",\"3\",\"2\",\"<None>\",\"<None>\",\"<None>\",\"Unsure\",\"1\",\"6\",\"3\",\"1\",\"2\",\"<None>\",\"2\",\"1\",\"1\",\"4\",\"1\",\"4\",\"Unsure\",\"<None>\",\"Unsure\",\"Unsure\",\"3\",\"1\",\"2\",\"2\",\"2\",\"5\",\"1\",\"2\",\"<None>\",\"Unsure\",\"3\",\"<None>\",\"Unsure\",\"2\",\"<None>\",\"2\",\"<None>\",\"<None>\",\"1\",\"2\",\"1\",\"2\",\"4\",\"2\",\"2\",\"Unsure\",\"Unsure\",\"Unsure\",\"2\",\"Unsure\",\"Unsure\",\"2\",\"2\",\"2\",\"Unsure\",\"2\",\"Unsure\",\"1\",\"2\",\"3\",\"Unsure\",\"Unsure\",\"4\",\"<None>\",\"1\",\"2\",\"<None>\",\"Unsure\",\"Unsure\",\"3\",\"2\",\"2\",\"<None>\",\"1\",\"<None>\",\"Unsure\",\"2\",\"2\",\"<None>\",\"<None>\",\"Unsure\",\"<None>\",\"4\",\"4\",\"1\",\"1\",\"<None>\",\"<None>\",\"5\",\"<None>\",\"Unsure\",\"<None>\",\"2\",\"<None>\",\"<None>\",\"3\",\"2\",\"3\",\"4\",\"6\",\"<None>\",\"4\",\"4\",\"3\",\"2\",\"1\",\"<None>\",\"3\",\"<None>\",\"2\",\"2\",\"4\",\"1\",\"<None>\",\"2\",\"<None>\",\"Unsure\",\"1\",\"Unsure\",\"2\",\"<None>\",\"1\",\"3\",\"2\",\"4\",\"<None>\",\"2\",\"2\",\"1\",\"<None>\",\"Unsure\",\"1\",\"Unsure\",\"<None>\",\"4\",\"Unsure\",\"1\",\"2\",\"3\",\"<None>\",\"2\",\"1\",\"2\",\"<None>\",\"2\",\"2\",\"Unsure\",\"<None>\",\"Unsure\",\"<None>\",\"2\",\"Unsure\",\"2\",\"4\",\"<None>\",\"2\",\"2\",\"2\",\"1\",\"1\",\"1\",\"1\",\"<None>\",\"4\",\"1\",\"2\",\"1\",\"4\",\"1\",\"1\",\"Unsure\",\"2\",\"3\",\"<None>\",\"<None>\",\"3\",\"<None>\",\"2\",\"1\",\"2\",\"2\",\"2\",\"<None>\",\"3\",\"3\",\"<None>\",\"<None>\",\"1\",\"Unsure\",\"2\",\"3\",\"2\",\"2\",\"1\",\"2\",\"Unsure\",\"2\",\"5\",\"6\",\"6\",\"5\",\"<None>\",\"1\",\"1\",\"<None>\",\"<None>\",\"Unsure\",\"1\",\"2\",\"3\",\"2\",\"2\",\"1\",\"Unsure\",\"1\",\"2\",\"2\",\"2\",\"2\",\"1\",\"2\",\"1\",\"Unsure\",\"<None>\",\"2\",\"2\",\"Unsure\",\"Unsure\",\"Unsure\",\"Unsure\",\"Unsure\",\"Unsure\",\"Unsure\",\"2\",\"2\",\"1\",\"<None>\",\"2\",\"1\",\"1\",\"2\",\"2\",\"3\",\"<None>\",\"2\",\"2\",\"1\",\"1\",\"2\",\"1\",\"2\",\"1\",\"1\",\"1\",\"2\",\"2\",\"1\",\"<None>\",\"2\",\"2\",\"2\",\"2\",\"Unsure\",\"Unsure\",\"3\",\"2\",\"<None>\",\"1\",\"<None>\",\"Unsure\",\"2\",\"1\",\"<None>\",\"2\",\"1\",\"2\",\"2\",\"3\",\"4\",\"Unsure\",\"1\",\"1\",\"1\",\"6\",\"<None>\",\"<None>\",\"<None>\",\"1\",\"2\",\"<None>\",\"Unsure\",\"<None>\",\"2\",\"1\",\"<None>\",\"<None>\",\"2\",\"<None>\",\"3\",\"2\",\"2\",\"Unsure\",\"2\",\"2\",\"2\",\"<None>\",\"3\",\"2\",\"2\",\"1\",\"<None>\",\"Unsure\",\"3\",\"1\",\"1\",\"1\",\"Unsure\",\"2\",\"2\",\"1\",\"3\",\"<None>\",\"1\",\"3\",\"2\",\"2\",\"2\",\"1\",\"2\",\"<None>\",\"Unsure\",\"<None>\",\"2\",\"<None>\",\"<None>\",\"3\",\"Unsure\",\"Unsure\",\"Unsure\",\"<None>\",\"Unsure\",\"2\",\"3\",\"<None>\",\"1\",\"<None>\",\"Unsure\",\"<None>\",\"Unsure\",\"Unsure\",\"3\",\"<None>\",\"3\",\"1\",\"2\",\"3\",\"1\",\"2\",\"Unsure\",\"3\",\"3\",\"5\",\"<None>\",\"1\",\"1\",\"1\",\"1\",\"1\",\"2\",\"3\",\"6\",\"<None>\",\"<None>\",\"2\",\"2\",\"2\",\"<None>\",\"Unsure\",\"Unsure\",\"Unsure\",\"Unsure\",\"1\",\"1\",\"<None>\",\"<None>\",\"<None>\",\"1\",\"2\",\"2\",\"Unsure\",\"<None>\",\"<None>\",\"1\",\"2\",\"<None>\",\"6\",\"Unsure\",\"Unsure\",\"1\",\"1\",\"1\",\"Unsure\",\"4\",\"4\",\"<None>\",\"2\",\"1\",\"<None>\",\"1\",\"Unsure\",\"Unsure\",\"Unsure\",\"1\",\"2\",\"2\",\"Unsure\",\"4\",\"3\",\"Unsure\",\"<None>\",\"Unsure\",\"2\",\"1\",\"1\",\"1\",\"1\",\"3\",\"3\",\"<None>\",\"<None>\",\"2\",\"1\",\"2\",\"2\",\"2\",\"2\",\"1\",\"<None>\",\"Unsure\",\"1\",\"2\",\"6\",\"<None>\",\"1\",\"1\",\"<None>\",\"1\",\"Unsure\",\"2\",\"<None>\",\"1\",\"Unsure\",\"Unsure\",\"<None>\",\"3\",\"<None>\",\"1\",\"2\",\"2\",\"1\",\"2\",\"1\",\"Unsure\",\"<None>\",\"Unsure\",\"2\",\"Unsure\",\"Unsure\",\"5\",\"2\",\"Unsure\",\"Unsure\",\"<None>\",\"1\",\"Unsure\",\"2\",\"2\",\"2\",\"1\",\"<None>\",\"<None>\",\"<None>\",\"1\",\"1\",\"1\",\"2\",\"3\",\"1\",\"<None>\",\"<None>\",\"1\",\"<None>\",\"2\",\"<None>\",\"2\",\"2\",\"<None>\",\"<None>\",\"Unsure\",\"2\",\"1\",\"2\",\"2\",\"4\",\"3\",\"1\",\"1\",\"3\",\"Unsure\",\"2\",\"Unsure\",\"2\",\"Unsure\",\"Unsure\",\"Unsure\",\"Unsure\",\"<None>\",\"Unsure\",\"<None>\",\"Unsure\",\"Unsure\",\"2\",\"Unsure\",\"Unsure\",\"<None>\",\"1\",\"2\",\"Unsure\",\"<None>\",\"<None>\",\"6\",\"1\",\"3\",\"2\",\"3\",\"3\",\"3\",\"Unsure\",\"1\",\"1\",\"1\",\"1\",\"2\",\"<None>\",\"<None>\",\"<None>\",\"1\",\"Unsure\",\"Unsure\",\"Unsure\",\"1\",\"3\",\"1\",\"2\",\"2\",\"2\",\"2\",\"Unsure\",\"2\",\"1\",\"Unsure\",\"1\",\"<None>\",\"Unsure\",\"<None>\",\"2\",\"<None>\",\"2\",\"2\",\"<None>\",\"6\",\"Unsure\",\"2\",\"Unsure\",\"Unsure\",\"Unsure\",\"Unsure\",\"3\",\"1\",\"<None>\",\"Unsure\",\"2\",\"<None>\",\"<None>\",\"Unsure\",\"2\",\"<None>\",\"Unsure\",\"<None>\",\"1\",\"3\",\"2\",\"1\",\"Unsure\",\"<None>\",\"Unsure\",\"2\",\"2\",\"2\",\"1\",\"6\",\"3\",\"Unsure\",\"1\",\"2\",\"<None>\",\"1\",\"1\",\"1\",\"2\",\"Unsure\",\"<None>\",\"3\",\"Unsure\",\"Unsure\",\"1\",\"<None>\",\"<None>\",\"1\",\"Unsure\",\"1\",\"1\",\"Unsure\",\"Unsure\",\"2\",\"Unsure\",\"<None>\",\"<None>\",\"Unsure\",\"Unsure\",\"1\",\"3\",\"6\",\"1\",\"1\",\"3\",\"<None>\",\"Unsure\",\"Unsure\",\"<None>\",\"<None>\",\"<None>\",\"1\",\"1\",\"1\",\"Unsure\",\"1\",\"1\",\"1\",\"<None>\",\"2\",\"<None>\",\"2\",\"3\",\"Unsure\",\"Unsure\",\"2\",\"3\",\"2\",\"3\",\"1\",\"<None>\",\"2\",\"2\",\"3\",\"2\",\"Unsure\",\"<None>\",\"2\",\"1\",\"1\",\"2\",\"2\",\"<None>\",\"2\",\"2\",\"1\",\"3\",\"Unsure\",\"<None>\",\"<None>\",\"<None>\",\"<None>\",\"Unsure\",\"2\",\"<None>\",\"<None>\",\"Unsure\",\"6\",\"2\",\"<None>\",\"2\",\"Unsure\",\"<None>\",\"Unsure\",\"1\",\"2\",\"2\",\"2\",\"2\",\"2\",\"<None>\",\"1\",\"<None>\",\"2\",\"1\",\"5\",\"5\",\"2\",\"5\",\"6\",\"6\",\"6\",\"6\",\"2\",\"4\",\"1\",\"Unsure\",\"3\",\"Unsure\",\"Unsure\",\"Unsure\",\"2\",\"<None>\",\"<None>\",\"2\",\"Unsure\",\"2\",\"2\",\"1\",\"1\",\"Unsure\",\"Unsure\",\"2\",\"5\",\"3\",\"Unsure\",\"2\",\"Unsure\",\"<None>\",\"<None>\",\"1\",\"<None>\",\"3\",\"<None>\",\"3\",\"<None>\",\"3\",\"2\",\"1\",\"<None>\",\"3\",\"Unsure\",\"1\",\"Unsure\",\"2\",\"Unsure\",\"2\",\"2\",\"3\",\"3\",\"<None>\",\"2\",\"2\",\"Unsure\",\"<None>\",\"Unsure\",\"Unsure\",\"4\",\"Unsure\",\"3\",\"<None>\",\"2\",\"2\",\"<None>\",\"3\",\"<None>\",\"2\",\"<None>\",\"1\",\"2\",\"2\",\"1\",\"2\",\"Unsure\",\"Unsure\",\"2\",\"Unsure\",\"2\",\"2\",\"Unsure\",\"<None>\",\"Unsure\",\"3\",\"Unsure\",\"2\",\"1\",\"2\",\"2\",\"<None>\",\"Unsure\",\"Unsure\",\"Unsure\",\"Unsure\",\"1\",\"Unsure\",\"2\",\"1\",\"Unsure\",\"Unsure\",\"3\",\"2\",\"<None>\",\"4\",\"6\",\"Unsure\",\"<None>\",\"<None>\",\"1\",\"1\",\"1\",\"2\",\"2\",\"2\",\"2\",\"2\",\"2\",\"1\",\"3\",\"2\",\"3\",\"4\",\"Unsure\",\"2\",\"<None>\",\"2\",\"3\",\"<None>\",\"2\",\"2\",\"2\",\"2\",\"2\",\"1\",\"3\",\"2\",\"1\",\"2\",\"<None>\",\"<None>\",\"<None>\",\"Unsure\",\"2\",\"1\",\"1\",\"1\",\"2\",\"1\",\"2\",\"1\",\"2\",\"2\",\"2\",\"2\",\"2\",\"1\",\"2\",\"2\",\"Unsure\",\"1\",\"3\",\"Unsure\",\"1\",\"<None>\",\"6\",\"6\",\"6\",\"6\",\"6\",\"2\",\"<None>\",\"Unsure\",\"<None>\",\"1\",\"1\",\"1\",\"1\",\"<None>\",\"1\",\"<None>\",\"4\",\"5\",\"<None>\",\"<None>\",\"4\",\"1\",\"2\",\"2\",\"2\",\"1\",\"<None>\",\"1\",\"<None>\",\"1\",\"<None>\",\"<None>\",\"1\",\"1\",\"<None>\",\"Unsure\",\"<None>\",\"<None>\",\"2\",\"1\",\"1\",\"2\",\"1\",\"2\",\"2\",\"3\",\"2\",\"Unsure\",\"2\",\"<None>\",\"2\",\"2\",\"3\",\"Unsure\",\"1\",\"2\",\"<None>\",\"5\",\"2\",\"2\",\"Unsure\",\"Unsure\",\"2\",\"Unsure\",\"1\",\"2\",\"1\",\"<None>\",\"1\",\"<None>\",\"5\",\"Unsure\",\"3\",\"1\",\"2\",\"2\",\"2\",\"2\",\"4\",\"2\",\"2\",\"2\",\"Unsure\",\"Unsure\",\"3\",\"<None>\",\"3\",\"1\",\"Unsure\",\"<None>\",\"2\",\"2\",\"1\",\"<None>\",\"2\",\"1\",\"3\",\"<None>\",\"<None>\",\"2\",\"2\",\"1\",\"Unsure\",\"Unsure\",\"2\",\"4\",\"6\",\"5\",\"Unsure\",\"4\",\"1\",\"1\",\"Unsure\",\"2\",\"3\",\"<None>\",\"Unsure\",\"2\",\"2\",\"Unsure\",\"2\",\"<None>\",\"1\",\"<None>\",\"2\",\"Unsure\",\"Unsure\",\"2\",\"2\",\"3\",\"4\",\"3\",\"Unsure\",\"Unsure\",\"Unsure\",\"3\",\"1\",\"2\",\"2\",\"<None>\",\"Unsure\",\"Unsure\",\"Unsure\",\"Unsure\",\"2\",\"3\",\"Unsure\",\"Unsure\",\"1\",\"2\",\"1\",\"2\",\"2\",\"1\",\"1\",\"<None>\",\"1\",\"2\",\"Unsure\",\"Unsure\",\"<None>\",\"<None>\",\"<None>\",\"4\",\"2\",\"<None>\",\"<None>\",\"<None>\",\"2\",\"1\",\"Unsure\",\"1\",\"1\",\"Unsure\",\"1\",\"1\",\"1\",\"1\",\"2\",\"5\",\"Unsure\",\"2\",\"<None>\",\"2\",\"Unsure\",\"1\",\"2\",\"2\",\"2\",\"2\",\"1\",\"Unsure\",\"1\",\"Unsure\",\"Unsure\",\"Unsure\",\"2\",\"1\",\"2\",\"<None>\",\"1\",\"3\",\"<None>\",\"2\",\"1\",\"1\",\"2\",\"3\",\"2\",\"2\",\"Unsure\",\"<None>\",\"2\",\"2\",\"2\",\"1\",\"<None>\",\"Unsure\",\"1\",\"1\",\"2\",\"2\",\"<None>\",\"Unsure\",\"3\",\"1\",\"2\",\"3\",\"1\",\"Unsure\",\"3\",\"Unsure\",\"1\",\"1\",\"1\",\"2\",\"3\",\"2\",\"3\",\"2\",\"1\",\"2\",\"<None>\",\"2\",\"4\",\"2\",\"3\",\"Unsure\",\"<None>\",\"2\",\"2\",\"<None>\",\"Unsure\",\"6\",\"1\",\"<None>\",\"2\",\"Unsure\",\"Unsure\",\"2\",\"2\",\"2\",\"<None>\",\"1\",\"1\",\"2\",\"2\",\"1\",\"Unsure\",\"Unsure\",\"2\",\"3\",\"2\",\"<None>\",\"2\",\"1\",\"<None>\",\"1\",\"2\",\"1\",\"1\",\"Unsure\",\"<None>\",\"<None>\",\"1\",\"Unsure\",\"1\",\"Unsure\",\"<None>\",\"1\",\"2\",\"<None>\",\"1\",\"6\",\"<None>\",\"1\",\"2\",\"3\",\"2\",\"Unsure\",\"Unsure\",\"5\",\"1\",\"<None>\",\"3\",\"3\",\"Unsure\",\"2\",\"Unsure\",\"2\",\"2\",\"<None>\",\"1\",\"2\",\"Unsure\",\"1\",\"3\",\"Unsure\",\"Unsure\",\"<None>\",\"Unsure\",\"1\",\"2\",\"<None>\",\"2\",\"Unsure\",\"1\",\"2\",\"1\",\"<None>\",\"<None>\",\"2\",\"1\",\"2\",\"2\",\"Unsure\",\"Unsure\",\"Unsure\",\"1\",\"2\",\"2\",\"4\",\"Unsure\",\"3\",\"<None>\",\"3\",\"1\",\"<None>\",\"2\",\"1\",\"2\",\"<None>\",\"Unsure\",\"<None>\",\"Unsure\",\"<None>\",\"2\",\"Unsure\",\"Unsure\",\"3\",\"1\",\"4\",\"1\",\"1\",\"1\",\"2\",\"Unsure\",\"1\",\"2\",\"1\",\"1\",\"1\",\"2\",\"<None>\",\"6\",\"Unsure\",\"6\",\"Unsure\",\"Unsure\",\"Unsure\",\"1\",\"<None>\",\"Unsure\",\"Unsure\",\"1\",\"2\",\"2\",\"2\",\"2\",\"<None>\",\"<None>\",\"<None>\",\"1\",\"1\",\"1\",\"1\",\"2\",\"2\",\"2\",\"<None>\",\"1\",\"1\",\"2\",\"Unsure\",\"Unsure\",\"3\",\"<None>\",\"1\",\"Unsure\",\"4\",\"1\",\"3\",\"4\",\"<None>\",\"2\",\"1\",\"<None>\",\"1\",\"2\",\"<None>\",\"<None>\",\"1\",\"1\",\"Unsure\",\"2\",\"2\",\"Unsure\",\"1\",\"2\",\"1\",\"1\",\"1\",\"1\",\"2\",\"3\",\"<None>\",\"<None>\",\"4\",\"2\",\"1\",\"3\",\"Unsure\",\"1\",\"Unsure\",\"Unsure\",\"<None>\",\"Unsure\",\"Unsure\",\"<None>\",\"2\",\"<None>\",\"<None>\",\"2\",\"<None>\",\"2\",\"<None>\",\"2\",\"Unsure\",\"Unsure\",\"Unsure\",\"6\",\"Unsure\",\"6\",\"1\",\"3\",\"<None>\",\"Unsure\",\"1\",\"2\",\"1\",\"2\",\"3\",\"2\",\"Unsure\",\"1\",\"1\",\"1\",\"1\",\"1\",\"<None>\",\"1\",\"2\",\"1\",\"1\",\"1\",\"2\",\"2\",\"<None>\",\"Unsure\",\"1\",\"2\",\"<None>\",\"2\",\"1\",\"1\",\"2\",\"Unsure\",\"<None>\",\"Unsure\",\"<None>\",\"2\",\"<None>\",\"Unsure\",\"2\",\"1\",\"<None>\",\"1\",\"<None>\",\"4\",\"2\",\"3\",\"Unsure\",\"<None>\",\"2\",\"2\",\"2\",\"2\",\"2\",\"1\",\"2\",\"<None>\",\"Unsure\",\"1\",\"3\",\"1\",\"1\",\"2\",\"1\",\"1\",\"1\",\"2\",\"1\",\"1\",\"4\",\"Unsure\",\"Unsure\",\"1\",\"1\",\"2\",\"Unsure\",\"Unsure\",\"2\",\"Unsure\",\"1\",\"1\",\"Unsure\",\"2\",\"1\",\"1\",\"<None>\",\"<None>\",\"5\",\"Unsure\",\"3\",\"2\",\"2\",\"2\",\"1\",\"2\",\"2\",\"<None>\",\"Unsure\",\"1\",\"3\",\"<None>\",\"<None>\",\"Unsure\",\"Unsure\",\"3\",\"Unsure\",\"3\",\"Unsure\",\"Unsure\",\"2\",\"1\",\"2\",\"<None>\",\"Unsure\",\"1\",\"1\",\"1\",\"1\",\"2\",\"2\",\"2\",\"2\",\"<None>\",\"<None>\",\"Unsure\",\"<None>\",\"1\",\"Unsure\",\"2\",\"3\",\"5\",\"Unsure\",\"2\",\"2\",\"<None>\",\"Unsure\",\"<None>\",\"Unsure\",\"<None>\",\"<None>\",\"2\",\"1\",\"1\",\"2\",\"2\",\"3\",\"<None>\",\"2\",\"2\",\"2\",\"2\",\"Unsure\",\"5\",\"Unsure\",\"Unsure\",\"Unsure\",\"Unsure\",\"3\",\"3\",\"1\",\"2\",\"1\",\"1\",\"1\",\"2\",\"2\",\"Unsure\",\"Unsure\",\"<None>\",\"Unsure\",\"Unsure\",\"Unsure\",\"<None>\",\"2\",\"Unsure\",\"3\",\"1\",\"1\",\"2\",\"2\",\"<None>\",\"4\",\"5\",\"<None>\",\"1\",\"3\",\"Unsure\",\"2\",\"1\",\"2\",\"<None>\",\"Unsure\",\"Unsure\",\"Unsure\",\"Unsure\",\"2\",\"<None>\",\"2\",\"2\",\"5\",\"<None>\",\"Unsure\",\"1\",\"Unsure\",\"2\",\"2\",\"1\",\"<None>\",\"Unsure\",\"<None>\",\"2\",\"<None>\",\"<None>\",\"2\",\"1\",\"1\",\"3\",\"<None>\",\"3\",\"2\",\"4\",\"1\",\"1\",\"2\",\"<None>\",\"2\",\"1\",\"1\",\"4\",\"2\",\"Unsure\",\"5\",\"3\",\"1\",\"1\",\"3\",\"6\",\"Unsure\",\"5\",\"1\",\"1\",\"1\",\"1\",\"2\",\"<None>\",\"2\",\"1\",\"Unsure\",\"<None>\",\"<None>\",\"<None>\",\"2\",\"1\",\"<None>\",\"Unsure\",\"Unsure\",\"1\",\"2\",\"3\",\"Unsure\",\"3\",\"1\",\"<None>\",\"1\",\"1\",\"2\",\"1\",\"2\",\"1\",\"1\",\"2\",\"2\",\"1\",\"1\",\"2\",\"2\",\"2\",\"1\",\"3\",\"<None>\",\"1\",\"2\",\"2\",\"1\",\"2\",\"2\",\"2\",\"2\",\"2\",\"Unsure\",\"1\",\"Unsure\",\"<None>\",\"5\",\"4\",\"Unsure\",\"1\",\"4\",\"2\",\"1\",\"1\",\"<None>\",\"<None>\",\"1\",\"1\",\"Unsure\",\"Unsure\",\"Unsure\",\"2\",\"<None>\",\"5\",\"<None>\",\"5\",\"Unsure\",\"5\",\"6\",\"5\",\"<None>\",\"Unsure\",\"2\",\"<None>\",\"<None>\",\"4\",\"Unsure\",\"<None>\",\"2\",\"1\",\"2\",\"<None>\",\"Unsure\",\"<None>\",\"2\",\"Unsure\",\"2\",\"Unsure\",\"Unsure\",\"2\",\"2\",\"1\",\"2\",\"Unsure\",\"2\",\"3\",\"Unsure\",\"2\",\"2\",\"1\",\"1\",\"1\",\"1\",\"1\",\"2\",\"2\",\"5\",\"Unsure\",\"4\",\"2\",\"5\",\"1\",\"Unsure\",\"1\",\"1\",\"Unsure\",\"1\",\"<None>\",\"2\",\"<None>\",\"Unsure\",\"2\",\"2\",\"<None>\",\"3\",\"2\",\"Unsure\",\"4\",\"1\",\"<None>\",\"1\",\"3\",\"1\",\"4\",\"Unsure\",\"1\",\"2\",\"2\",\"2\",\"<None>\",\"2\",\"2\",\"<None>\",\"<None>\",\"1\",\"2\",\"2\",\"4\",\"2\",\"3\",\"1\",\"<None>\",\"2\",\"3\",\"1\",\"2\",\"2\",\"Unsure\",\"1\",\"2\",\"1\",\"1\",\"2\",\"1\",\"1\",\"1\",\"2\",\"2\",\"<None>\",\"2\",\"<None>\",\"Unsure\",\"3\",\"2\",\"1\",\"1\",\"Unsure\",\"Unsure\",\"3\",\"4\",\"2\",\"1\",\"<None>\",\"<None>\",\"<None>\",\"2\",\"Unsure\",\"1\",\"Unsure\",\"<None>\",\"2\",\"1\",\"1\",\"2\",\"1\",\"3\",\"<None>\",\"<None>\",\"<None>\",\"<None>\",\"1\",\"Unsure\",\"Unsure\",\"Unsure\",\"Unsure\",\"Unsure\",\"Unsure\",\"Unsure\",\"1\",\"Unsure\",\"<None>\",\"1\",\"<None>\",\"Unsure\",\"2\",\"2\",\"2\",\"2\",\"<None>\",\"1\",\"1\",\"1\",\"2\",\"3\",\"<None>\",\"1\",\"Unsure\",\"2\",\"Unsure\",\"<None>\",\"<None>\",\"5\",\"2\",\"1\",\"2\",\"2\",\"1\",\"1\",\"4\",\"4\",\"3\",\"<None>\",\"Unsure\",\"2\",\"Unsure\",\"1\",\"Unsure\",\"Unsure\",\"Unsure\",\"2\",\"2\",\"Unsure\",\"<None>\",\"1\",\"Unsure\",\"<None>\",\"Unsure\",\"<None>\",\"2\",\"1\",\"1\",\"1\",\"Unsure\",\"Unsure\",\"<None>\",\"2\",\"2\",\"<None>\",\"5\",\"3\",\"3\",\"1\",\"<None>\",\"6\",\"Unsure\",\"Unsure\",\"1\",\"6\",\"2\",\"3\",\"<None>\",\"<None>\",\"2\",\"2\",\"4\",\"Unsure\",\"3\",\"Unsure\",\"Unsure\",\"3\",\"1\",\"1\",\"2\",\"3\",\"5\",\"<None>\",\"3\",\"<None>\",\"1\",\"2\",\"1\",\"2\",\"1\",\"<None>\",\"2\",\"2\",\"Unsure\",\"<None>\",\"4\",\"3\",\"2\",\"Unsure\",\"2\",\"3\",\"2\",\"2\",\"2\",\"3\",\"<None>\",\"1\",\"1\",\"<None>\",\"Unsure\",\"2\",\"2\",\"Unsure\",\"2\",\"2\",\"<None>\",\"<None>\",\"1\",\"2\",\"2\",\"2\",\"1\",\"1\",\"2\",\"Unsure\",\"Unsure\",\"Unsure\",\"4\",\"2\",\"3\",\"1\",\"2\",\"1\",\"3\",\"2\",\"Unsure\",\"6\",\"2\",\"1\",\"3\",\"<None>\",\"2\",\"<None>\",\"2\",\"Unsure\",\"2\",\"<None>\",\"Unsure\",\"Unsure\",\"Unsure\",\"Unsure\",\"6\",\"<None>\",\"Unsure\",\"2\",\"<None>\",\"<None>\",\"2\",\"1\",\"2\",\"2\",\"<None>\",\"4\",\"4\",\"1\",\"1\",\"2\",\"2\",\"<None>\",\"2\",\"Unsure\",\"2\",\"Unsure\",\"2\",\"<None>\",\"2\",\"3\",\"Unsure\",\"2\",\"5\",\"3\",\"<None>\",\"1\",\"5\",\"<None>\",\"2\",\"<None>\",\"1\",\"2\",\"<None>\",\"<None>\",\"<None>\",\"1\",\"1\",\"2\",\"Unsure\",\"2\",\"Unsure\",\"2\",\"6\",\"<None>\",\"2\",\"Unsure\",\"Unsure\",\"2\",\"2\",\"Unsure\",\"2\",\"<None>\",\"Unsure\",\"4\",\"<None>\",\"1\",\"Unsure\",\"Unsure\",\"<None>\",\"Unsure\",\"2\",\"1\",\"Unsure\",\"1\",\"3\",\"2\",\"1\",\"1\",\"<None>\",\"2\",\"Unsure\",\"1\",\"<None>\",\"Unsure\",\"Unsure\",\"<None>\",\"1\",\"5\",\"4\",\"4\",\"<None>\",\"4\",\"<None>\",\"1\",\"2\",\"3\",\"Unsure\",\"1\",\"Unsure\",\"Unsure\",\"<None>\",\"2\",\"Unsure\",\"2\",\"2\",\"3\",\"2\",\"Unsure\",\"4\",\"6\",\"6\",\"<None>\",\"<None>\",\"Unsure\",\"2\",\"Unsure\",\"Unsure\",\"2\",\"2\",\"Unsure\",\"<None>\",\"1\",\"<None>\",\"4\",\"4\",\"2\",\"1\",\"2\",\"<None>\",\"1\",\"2\",\"<None>\",\"2\",\"2\",\"<None>\",\"2\",\"3\",\"2\",\"1\",\"2\",\"Unsure\",\"3\",\"<None>\",\"2\",\"<None>\",\"2\",\"2\",\"2\",\"1\",\"Unsure\",\"1\",\"2\",\"<None>\",\"Unsure\",\"Unsure\",\"Unsure\",\"2\",\"<None>\",\"2\",\"Unsure\",\"Unsure\",\"1\",\"2\",\"2\",\"1\",\"1\",\"1\",\"<None>\",\"1\",\"2\",\"2\",\"3\",\"3\",\"<None>\",\"<None>\",\"Unsure\",\"2\",\"4\",\"<None>\",\"<None>\",\"<None>\",\"3\",\"Unsure\",\"<None>\",\"3\",\"2\",\"1\",\"1\",\"1\",\"1\",\"2\",\"2\",\"1\",\"1\",\"2\",\"2\",\"6\",\"<None>\",\"Unsure\",\"<None>\",\"Unsure\",\"2\",\"1\",\"1\",\"1\",\"<None>\",\"<None>\",\"2\",\"3\",\"2\",\"<None>\",\"Unsure\",\"2\",\"<None>\",\"<None>\",\"6\",\"2\",\"6\",\"1\",\"2\",\"2\",\"3\",\"1\",\"1\",\"<None>\",\"2\",\"3\",\"1\",\"1\",\"Unsure\",\"1\",\"2\",\"Unsure\",\"4\",\"2\",\"1\",\"<None>\",\"1\",\"<None>\",\"Unsure\",\"1\",\"Unsure\",\"2\",\"1\",\"3\",\"3\",\"Unsure\",\"1\",\"5\",\"Unsure\",\"5\",\"2\",\"1\",\"Unsure\",\"2\",\"<None>\",\"5\",\"2\",\"<None>\",\"3\",\"<None>\",\"3\",\"Unsure\",\"<None>\",\"2\",\"<None>\",\"Unsure\",\"<None>\",\"Unsure\",\"Unsure\",\"2\",\"<None>\",\"Unsure\",\"<None>\",\"2\",\"Unsure\",\"<None>\",\"1\",\"<None>\",\"1\",\"2\",\"2\",\"Unsure\",\"<None>\",\"1\",\"3\",\"1\",\"<None>\",\"4\",\"Unsure\",\"2\",\"1\",\"1\",\"2\",\"2\",\"<None>\",\"2\",\"2\",\"2\",\"1\",\"<None>\",\"<None>\",\"Unsure\",\"2\",\"1\",\"Unsure\",\"<None>\",\"1\",\"1\",\"1\",\"4\",\"<None>\",\"2\",\"2\",\"1\",\"<None>\",\"<None>\",\"2\",\"Unsure\",\"3\",\"3\",\"4\",\"1\",\"Unsure\",\"4\",\"1\",\"<None>\",\"2\",\"6\",\"2\",\"3\",\"2\",\"2\",\"6\",\"6\",\"<None>\",\"6\",\"2\",\"6\",\"2\",\"<None>\",\"2\",\"Unsure\",\"Unsure\",\"<None>\",\"6\",\"<None>\",\"<None>\",\"3\",\"Unsure\",\"2\",\"2\",\"2\",\"1\",\"<None>\",\"<None>\",\"1\",\"<None>\",\"<None>\",\"3\",\"2\",\"2\",\"1\",\"2\",\"2\",\"<None>\",\"<None>\",\"2\",\"5\",\"5\",\"Unsure\",\"2\",\"1\",\"3\",\"2\",\"Unsure\",\"<None>\",\"<None>\",\"<None>\",\"1\",\"4\",\"4\",\"3\",\"2\",\"<None>\",\"1\",\"<None>\",\"1\",\"1\",\"2\",\"2\",\"<None>\",\"Unsure\",\"Unsure\",\"2\",\"3\",\"2\",\"<None>\",\"1\",\"3\",\"Unsure\",\"1\",\"2\",\"1\",\"2\",\"2\",\"<None>\",\"<None>\",\"<None>\",\"4\",\"2\",\"<None>\",\"2\",\"2\",\"1\",\"Unsure\",\"<None>\",\"1\",\"6\",\"<None>\",\"6\",\"2\",\"<None>\",\"<None>\",\"1\",\"1\",\"<None>\",\"1\",\"1\",\"1\",\"3\",\"3\",\"<None>\",\"2\",\"2\",\"<None>\",\"<None>\",\"1\",\"1\",\"Unsure\",\"3\",\"2\",\"<None>\",\"2\",\"3\",\"Unsure\",\"Unsure\",\"2\",\"2\",\"<None>\",\"2\",\"2\",\"Unsure\",\"<None>\",\"Unsure\",\"Unsure\",\"2\",\"<None>\",\"3\",\"2\",\"6\",\"6\",\"2\",\"<None>\",\"<None>\",\"3\",\"2\",\"2\",\"1\",\"<None>\",\"Unsure\",\"Unsure\",\"Unsure\",\"1\",\"3\",\"<None>\",\"2\",\"<None>\",\"<None>\",\"1\",\"Unsure\",\"<None>\",\"1\",\"2\",\"Unsure\",\"Unsure\",\"1\",\"2\",\"Unsure\",\"Unsure\",\"<None>\",\"1\",\"Unsure\",\"1\",\"1\",\"1\",\"Unsure\",\"2\",\"2\",\"2\",\"2\",\"Unsure\",\"Unsure\",\"1\",\"1\",\"1\",\"<None>\",\"<None>\",\"2\",\"Unsure\",\"2\",\"3\",\"<None>\",\"1\",\"Unsure\",\"Unsure\",\"Unsure\",\"Unsure\",\"5\",\"2\",\"Unsure\",\"Unsure\",\"Unsure\",\"Unsure\",\"<None>\",\"Unsure\",\"Unsure\",\"<None>\",\"<None>\",\"<None>\",\"Unsure\",\"1\",\"6\",\"1\",\"<None>\",\"2\",\"1\",\"Unsure\",\"1\",\"1\",\"<None>\",\"<None>\",\"1\",\"2\",\"2\",\"2\",\"Unsure\",\"3\",\"1\",\"1\",\"2\",\"1\",\"Unsure\",\"1\",\"<None>\",\"1\",\"1\",\"Unsure\",\"1\",\"3\",\"4\",\"<None>\",\"Unsure\",\"Unsure\",\"1\",\"2\",\"<None>\",\"2\",\"1\",\"2\",\"2\",\"<None>\",\"1\",\"Unsure\",\"3\",\"Unsure\",\"<None>\",\"Unsure\",\"2\",\"<None>\",\"1\",\"2\",\"<None>\",\"1\",\"2\",\"3\",\"1\",\"2\",\"1\",\"2\",\"<None>\",\"4\",\"1\",\"1\",\"2\",\"1\",\"1\",\"4\",\"4\",\"4\",\"2\",\"<None>\",\"3\",\"2\",\"<None>\",\"<None>\",\"<None>\",\"2\",\"1\",\"1\",\"3\",\"Unsure\",\"Unsure\",\"Unsure\",\"Unsure\",\"4\",\"2\",\"2\",\"Unsure\",\"1\",\"<None>\",\"2\",\"2\",\"1\",\"2\",\"<None>\",\"6\",\"1\",\"2\",\"4\",\"1\",\"1\",\"<None>\",\"6\",\"1\",\"<None>\",\"2\",\"<None>\",\"<None>\",\"Unsure\",\"1\",\"2\",\"<None>\",\"2\",\"3\",\"1\",\"Unsure\",\"1\",\"<None>\",\"Unsure\",\"1\",\"1\",\"2\",\"1\",\"5\",\"Unsure\",\"1\",\"1\",\"<None>\",\"5\",\"3\",\"Unsure\",\"5\",\"4\",\"4\",\"3\",\"Unsure\",\"1\",\"<None>\",\"2\",\"2\",\"<None>\",\"2\",\"<None>\",\"Unsure\",\"3\",\"Unsure\",\"2\",\"1\",\"6\",\"<None>\",\"<None>\",\"1\",\"1\",\"1\",\"Unsure\",\"<None>\",\"<None>\",\"1\",\"2\",\"<None>\",\"2\",\"2\",\"Unsure\",\"2\",\"2\",\"<None>\",\"3\",\"2\",\"<None>\",\"Unsure\",\"2\",\"2\",\"1\",\"4\",\"1\",\"1\",\"1\",\"2\",\"1\",\"1\",\"1\",\"Unsure\",\"2\",\"2\",\"<None>\",\"<None>\",\"Unsure\",\"2\",\"Unsure\",\"6\",\"<None>\",\"1\",\"2\",\"2\",\"1\",\"3\",\"1\",\"1\",\"1\",\"Unsure\",\"Unsure\",\"Unsure\",\"Unsure\",\"Unsure\",\"2\",\"1\",\"<None>\",\"<None>\",\"2\",\"2\",\"2\",\"<None>\",\"<None>\",\"1\",\"Unsure\",\"<None>\",\"4\",\"<None>\",\"Unsure\",\"Unsure\",\"<None>\",\"1\",\"3\",\"Unsure\",\"1\",\"2\",\"Unsure\",\"2\",\"<None>\",\"Unsure\",\"3\",\"<None>\",\"1\",\"Unsure\",\"<None>\",\"2\",\"2\",\"1\",\"<None>\",\"1\",\"1\",\"Unsure\",\"3\",\"<None>\",\"2\",\"1\",\"1\",\"2\",\"Unsure\",\"<None>\",\"2\",\"2\",\"Unsure\",\"2\",\"Unsure\",\"1\",\"Unsure\",\"<None>\",\"2\",\"2\",\"1\",\"2\",\"1\",\"2\",\"<None>\",\"2\",\"2\",\"2\",\"1\",\"3\",\"<None>\",\"2\",\"<None>\",\"<None>\",\"2\",\"2\",\"2\",\"Unsure\",\"4\",\"<None>\",\"<None>\",\"<None>\",\"<None>\",\"Unsure\",\"<None>\",\"Unsure\",\"1\",\"1\",\"2\",\"<None>\",\"4\",\"Unsure\",\"<None>\",\"3\",\"2\",\"4\",\"2\",\"1\",\"1\",\"1\",\"2\",\"2\",\"1\",\"1\",\"1\",\"2\",\"6\",\"2\",\"1\",\"1\",\"1\",\"2\",\"2\",\"1\",\"1\",\"<None>\",\"<None>\",\"<None>\",\"1\",\"3\",\"<None>\",\"2\",\"2\",\"1\",\"1\",\"2\",\"<None>\",\"Unsure\",\"Unsure\",\"1\",\"<None>\",\"6\",\"1\",\"1\",\"2\",\"Unsure\",\"Unsure\",\"2\",\"3\",\"3\",\"2\",\"2\",\"<None>\",\"<None>\",\"1\",\"<None>\",\"2\",\"2\",\"1\",\"Unsure\",\"Unsure\",\"2\",\"2\",\"2\",\"2\",\"Unsure\",\"2\",\"<None>\",\"2\",\"<None>\",\"2\",\"<None>\",\"2\",\"3\",\"6\",\"6\",\"1\",\"2\",\"3\",\"Unsure\",\"1\",\"1\",\"<None>\",\"2\",\"Unsure\",\"1\",\"2\",\"1\",\"1\",\"4\",\"2\",\"4\",\"<None>\",\"3\",\"6\",\"<None>\",\"<None>\",\"<None>\",\"2\",\"3\",\"<None>\",\"6\",\"Unsure\",\"2\",\"2\",\"1\",\"<None>\",\"Unsure\",\"<None>\",\"1\",\"2\",\"<None>\",\"Unsure\",\"3\",\"2\",\"3\",\"<None>\",\"1\",\"2\",\"1\",\"<None>\",\"2\",\"1\",\"<None>\",\"3\",\"2\",\"1\",\"1\",\"2\",\"6\",\"4\",\"5\",\"1\",\"<None>\",\"2\",\"Unsure\",\"Unsure\",\"4\",\"4\",\"4\",\"<None>\",\"1\",\"1\",\"1\",\"3\",\"Unsure\",\"Unsure\",\"1\",\"3\",\"<None>\",\"<None>\",\"2\",\"Unsure\",\"2\",\"2\",\"<None>\",\"3\",\"<None>\",\"2\",\"Unsure\",\"1\",\"1\",\"Unsure\",\"3\",\"3\",\"1\",\"<None>\",\"Unsure\",\"<None>\",\"1\",\"<None>\",\"<None>\",\"<None>\",\"2\",\"2\",\"2\",\"2\",\"1\",\"Unsure\",\"Unsure\",\"1\",\"<None>\",\"3\",\"6\",\"Unsure\",\"Unsure\",\"<None>\",\"<None>\",\"2\",\"Unsure\",\"2\",\"5\",\"1\",\"3\",\"4\",\"1\",\"<None>\",\"1\",\"1\",\"1\",\"1\",\"1\",\"4\",\"4\",\"1\",\"3\",\"<None>\",\"2\",\"Unsure\",\"3\",\"Unsure\",\"<None>\",\"1\",\"1\",\"1\",\"1\",\"<None>\",\"1\",\"5\",\"Unsure\",\"<None>\",\"2\",\"<None>\",\"Unsure\",\"2\",\"4\",\"2\",\"1\",\"2\",\"<None>\",\"1\",\"4\",\"1\",\"2\",\"Unsure\",\"<None>\",\"1\",\"6\",\"Unsure\",\"2\",\"Unsure\",\"<None>\",\"1\",\"2\",\"2\",\"2\",\"3\",\"<None>\",\"2\",\"3\",\"2\",\"1\",\"<None>\",\"1\",\"<None>\",\"3\",\"2\",\"2\",\"3\",\"2\",\"2\",\"4\",\"2\",\"6\",\"2\",\"4\",\"3\",\"2\",\"Unsure\",\"1\",\"6\",\"1\",\"<None>\",\"6\",\"5\",\"1\",\"2\",\"2\",\"1\",\"Unsure\",\"<None>\",\"1\",\"1\",\"1\",\"2\",\"6\",\"2\",\"1\",\"1\",\"Unsure\",\"1\",\"1\",\"3\",\"2\",\"1\",\"Unsure\",\"1\",\"1\",\"4\",\"<None>\",\"2\",\"1\",\"3\",\"<None>\",\"2\",\"<None>\",\"1\",\"1\",\"3\",\"Unsure\",\"Unsure\",\"Unsure\",\"Unsure\",\"<None>\",\"2\",\"1\",\"2\",\"1\",\"Unsure\",\"4\",\"6\",\"Unsure\",\"1\",\"1\",\"1\",\"Unsure\",\"1\",\"1\",\"<None>\",\"2\",\"2\",\"2\",\"2\",\"2\",\"3\",\"<None>\",\"2\",\"2\",\"<None>\",\"1\",\"1\",\"1\",\"3\",\"Unsure\",\"1\",\"1\",\"1\",\"4\",\"1\",\"5\",\"5\",\"Unsure\",\"4\",\"<None>\",\"1\",\"2\",\"1\",\"2\",\"Unsure\",\"1\",\"2\",\"2\",\"Unsure\",\"1\",\"2\",\"2\",\"2\",\"2\",\"2\",\"<None>\",\"2\",\"1\",\"2\",\"2\",\"1\",\"<None>\",\"1\",\"Unsure\",\"<None>\",\"Unsure\",\"Unsure\",\"Unsure\",\"Unsure\",\"1\",\"1\",\"1\",\"<None>\",\"2\",\"Unsure\",\"3\",\"1\",\"<None>\",\"2\",\"<None>\",\"2\",\"1\",\"1\",\"<None>\",\"1\",\"Unsure\",\"Unsure\",\"1\",\"<None>\",\"1\",\"1\",\"2\",\"2\"],\"xaxis\":\"x\",\"xbingroup\":\"x\",\"y\":[\"Female\",\"Male\",\"Male\",\"Male\",\"Unsure\",\"Male\",\"Male\",\"Male\",\"Male\",\"Male\",\"Male\",\"Unsure\",\"Female\",\"Unsure\",\"<None>\",\"Female\",\"Female\",\"Unsure\",\"Unsure\",\"Unsure\",\"Male\",\"Male\",\"Unsure\",\"Unsure\",\"Unsure\",\"Female\",\"Unsure\",\"Male\",\"Male\",\"Unsure\",\"Male\",\"Unsure\",\"Female\",\"Female\",\"Male\",\"Male\",\"Male\",\"Unsure\",\"Male\",\"Male\",\"Female\",\"Male\",\"Male\",\"Female\",\"Male\",\"Unsure\",\"Male\",\"Male\",\"Male\",\"Unsure\",\"Male\",\"Male\",\"Male\",\"Male\",\"Male\",\"Male\",\"Male\",\"Unsure\",\"Male\",\"<None>\",\"Male\",\"Male\",\"Male\",\"Male\",\"Male\",\"Female\",\"Male\",\"Male\",\"Male\",\"Unsure\",\"Unsure\",\"Male\",\"Female\",\"Male\",\"Male\",\"Male\",\"Male\",\"Unsure\",\"Unsure\",\"Male\",\"Male\",\"Male\",\"Male\",\"Female\",\"<None>\",\"<None>\",\"Female\",\"Male\",\"Female\",\"Male\",\"Female\",\"Unsure\",\"Unsure\",\"Unsure\",\"Female\",\"Male\",\"Male\",\"Male\",\"Unsure\",\"Male\",\"Male\",\"Male\",\"Male\",\"<None>\",\"Male\",\"Male\",\"Female\",\"Male\",\"Male\",\"Female\",\"<None>\",\"Female\",\"Male\",\"Male\",\"Male\",\"Male\",\"Female\",\"Female\",\"Female\",\"Female\",\"Female\",\"Unsure\",\"Male\",\"Female\",\"Male\",\"<None>\",\"Male\",\"Male\",\"Male\",\"Male\",\"Male\",\"Male\",\"Male\",\"Male\",\"Unsure\",\"Unsure\",\"Male\",\"Male\",\"Female\",\"<None>\",\"Male\",\"Female\",\"Male\",\"Male\",\"Unsure\",\"Female\",\"Male\",\"Unsure\",\"Male\",\"Female\",\"Male\",\"Male\",\"Male\",\"Female\",\"Female\",\"Male\",\"Male\",\"Male\",\"Unsure\",\"Female\",\"Female\",\"Female\",\"Male\",\"Unsure\",\"Male\",\"Male\",\"Male\",\"Male\",\"Unsure\",\"Unsure\",\"Unsure\",\"Female\",\"Male\",\"Male\",\"Male\",\"Female\",\"Male\",\"Female\",\"Female\",\"Male\",\"Male\",\"Female\",\"Female\",\"Male\",\"Male\",\"Male\",\"Female\",\"Female\",\"Female\",\"Male\",\"Male\",\"Male\",\"Unsure\",\"Male\",\"Male\",\"Female\",\"Female\",\"Male\",\"Male\",\"Male\",\"Female\",\"Female\",\"Unsure\",\"Male\",\"Male\",\"Male\",\"Unsure\",\"Male\",\"Male\",\"Female\",\"Unsure\",\"Unsure\",\"Male\",\"Male\",\"Female\",\"Unsure\",\"Male\",\"Unsure\",\"Unsure\",\"Unsure\",\"Unsure\",\"Male\",\"Male\",\"Male\",\"Female\",\"Male\",\"Male\",\"Unsure\",\"Unsure\",\"Female\",\"Female\",\"Unsure\",\"Male\",\"Unsure\",\"<None>\",\"Male\",\"Male\",\"Male\",\"Male\",\"Male\",\"Male\",\"Male\",\"Male\",\"Unsure\",\"Unsure\",\"Female\",\"Female\",\"Male\",\"Female\",\"Male\",\"Unsure\",\"Female\",\"Unsure\",\"Male\",\"Male\",\"Male\",\"Unsure\",\"Female\",\"Unsure\",\"Unsure\",\"Female\",\"Male\",\"Female\",\"Male\",\"Male\",\"Female\",\"Male\",\"Female\",\"Female\",\"Unsure\",\"Unsure\",\"Male\",\"Unsure\",\"Male\",\"Male\",\"Male\",\"Female\",\"Unsure\",\"Female\",\"Male\",\"Unsure\",\"Unsure\",\"Unsure\",\"Male\",\"Male\",\"Male\",\"Female\",\"Male\",\"Male\",\"Female\",\"Male\",\"<None>\",\"Male\",\"Female\",\"Male\",\"Male\",\"Male\",\"Unsure\",\"Female\",\"Female\",\"Male\",\"Female\",\"Male\",\"Male\",\"Male\",\"Male\",\"Male\",\"Unsure\",\"Female\",\"Male\",\"Male\",\"Male\",\"Male\",\"Male\",\"Male\",\"Male\",\"Unsure\",\"<None>\",\"Male\",\"Male\",\"Unsure\",\"Male\",\"Unsure\",\"Unsure\",\"Female\",\"Female\",\"<None>\",\"Female\",\"Female\",\"Female\",\"Unsure\",\"<None>\",\"Male\",\"<None>\",\"Male\",\"Unsure\",\"Male\",\"Unsure\",\"Unsure\",\"Male\",\"Male\",\"Male\",\"Female\",\"Unsure\",\"Female\",\"Female\",\"Female\",\"Female\",\"Male\",\"Male\",\"Male\",\"Male\",\"Female\",\"Unsure\",\"Unsure\",\"Unsure\",\"Unsure\",\"Female\",\"Female\",\"Female\",\"Female\",\"Male\",\"Male\",\"Male\",\"Male\",\"Female\",\"Male\",\"Male\",\"Female\",\"Unsure\",\"Female\",\"Male\",\"Male\",\"Female\",\"Female\",\"Male\",\"Male\",\"Male\",\"Male\",\"<None>\",\"Male\",\"Female\",\"Male\",\"<None>\",\"Female\",\"Male\",\"Female\",\"Unsure\",\"Male\",\"Male\",\"Male\",\"Female\",\"Male\",\"Male\",\"Male\",\"Unsure\",\"Female\",\"Female\",\"Female\",\"Female\",\"Female\",\"Female\",\"Female\",\"<None>\",\"Female\",\"Male\",\"Male\",\"Unsure\",\"Male\",\"Unsure\",\"Male\",\"Female\",\"Male\",\"Unsure\",\"Unsure\",\"Male\",\"Female\",\"Female\",\"Female\",\"Male\",\"Unsure\",\"Unsure\",\"Unsure\",\"Female\",\"Unsure\",\"Male\",\"Male\",\"Male\",\"Male\",\"Male\",\"Unsure\",\"Male\",\"Male\",\"Male\",\"Male\",\"Male\",\"Male\",\"Male\",\"Female\",\"Male\",\"Female\",\"Male\",\"Female\",\"Female\",\"Male\",\"Male\",\"Male\",\"Male\",\"Unsure\",\"Male\",\"Male\",\"Male\",\"Male\",\"Male\",\"Male\",\"Male\",\"Female\",\"Female\",\"Female\",\"<None>\",\"Unsure\",\"Male\",\"Male\",\"Male\",\"<None>\",\"<None>\",\"Female\",\"Male\",\"Female\",\"Female\",\"Female\",\"Unsure\",\"Female\",\"Unsure\",\"Female\",\"Female\",\"Male\",\"Unsure\",\"Male\",\"Male\",\"Male\",\"Male\",\"Male\",\"Unsure\",\"Female\",\"Unsure\",\"Male\",\"Unsure\",\"Unsure\",\"Unsure\",\"Male\",\"Female\",\"Unsure\",\"Male\",\"Male\",\"Female\",\"Female\",\"Male\",\"Male\",\"Unsure\",\"Male\",\"Unsure\",\"Male\",\"Female\",\"Female\",\"Female\",\"Male\",\"Unsure\",\"Male\",\"Female\",\"Male\",\"Male\",\"Unsure\",\"Unsure\",\"Unsure\",\"Female\",\"Male\",\"Female\",\"Female\",\"Female\",\"Male\",\"Female\",\"Male\",\"Unsure\",\"Female\",\"Female\",\"Male\",\"Male\",\"Female\",\"Female\",\"Male\",\"Male\",\"Male\",\"Female\",\"Male\",\"Female\",\"Female\",\"Male\",\"Male\",\"Female\",\"Male\",\"Male\",\"Female\",\"Female\",\"Male\",\"Female\",\"Male\",\"Male\",\"Male\",\"Female\",\"Male\",\"Unsure\",\"Male\",\"Male\",\"Male\",\"Female\",\"Female\",\"Female\",\"Female\",\"Unsure\",\"Male\",\"Male\",\"Male\",\"Male\",\"Female\",\"Male\",\"Unsure\",\"Male\",\"Female\",\"Male\",\"Unsure\",\"Unsure\",\"Male\",\"Male\",\"Male\",\"<None>\",\"<None>\",\"Male\",\"Female\",\"Unsure\",\"Unsure\",\"Unsure\",\"Unsure\",\"Unsure\",\"Female\",\"Unsure\",\"Male\",\"Male\",\"Male\",\"Male\",\"<None>\",\"Male\",\"Male\",\"Male\",\"Male\",\"Male\",\"Unsure\",\"Unsure\",\"Male\",\"Male\",\"Male\",\"Female\",\"Unsure\",\"Unsure\",\"Male\",\"Male\",\"Male\",\"Female\",\"Male\",\"Male\",\"Male\",\"Female\",\"Male\",\"Male\",\"Female\",\"Unsure\",\"Unsure\",\"Male\",\"Female\",\"Female\",\"Female\",\"Male\",\"Unsure\",\"Unsure\",\"Female\",\"Male\",\"Male\",\"Male\",\"Unsure\",\"Unsure\",\"Unsure\",\"Female\",\"Male\",\"Male\",\"Male\",\"Male\",\"Male\",\"Male\",\"Male\",\"Male\",\"Unsure\",\"Unsure\",\"Male\",\"Unsure\",\"<None>\",\"Unsure\",\"Unsure\",\"Female\",\"Male\",\"Unsure\",\"Unsure\",\"Female\",\"Female\",\"Male\",\"Male\",\"Male\",\"Male\",\"Female\",\"Male\",\"Male\",\"Male\",\"Female\",\"<None>\",\"Male\",\"Unsure\",\"Female\",\"Female\",\"Male\",\"Male\",\"Unsure\",\"Unsure\",\"Male\",\"Female\",\"Male\",\"Male\",\"Female\",\"Unsure\",\"Unsure\",\"Female\",\"Unsure\",\"Female\",\"Male\",\"Unsure\",\"Male\",\"Male\",\"Male\",\"Female\",\"Male\",\"Male\",\"Female\",\"Unsure\",\"Unsure\",\"Male\",\"Unsure\",\"Male\",\"Male\",\"Male\",\"Male\",\"<None>\",\"Male\",\"Male\",\"Unsure\",\"Unsure\",\"Female\",\"Female\",\"Male\",\"Female\",\"Female\",\"Female\",\"Female\",\"Female\",\"Unsure\",\"Male\",\"Male\",\"Male\",\"Male\",\"Male\",\"Unsure\",\"Unsure\",\"<None>\",\"Female\",\"Male\",\"Male\",\"Unsure\",\"Female\",\"Male\",\"Male\",\"Male\",\"Unsure\",\"Male\",\"Male\",\"Unsure\",\"Male\",\"Unsure\",\"<None>\",\"<None>\",\"Female\",\"Female\",\"Female\",\"Male\",\"Male\",\"Female\",\"Male\",\"Female\",\"Female\",\"Male\",\"Male\",\"Male\",\"Male\",\"Male\",\"Unsure\",\"Male\",\"Unsure\",\"Unsure\",\"Unsure\",\"Male\",\"Male\",\"Male\",\"Male\",\"Male\",\"Male\",\"Male\",\"Unsure\",\"Unsure\",\"Unsure\",\"Female\",\"Male\",\"Unsure\",\"<None>\",\"Female\",\"<None>\",\"Unsure\",\"Female\",\"Male\",\"<None>\",\"Male\",\"Female\",\"Male\",\"Male\",\"Male\",\"Male\",\"Male\",\"Male\",\"Male\",\"Male\",\"Male\",\"Male\",\"Male\",\"Male\",\"Male\",\"Male\",\"Unsure\",\"Male\",\"Male\",\"Male\",\"Male\",\"Unsure\",\"Female\",\"Male\",\"Male\",\"Male\",\"Male\",\"Female\",\"<None>\",\"Unsure\",\"Unsure\",\"Female\",\"Unsure\",\"Male\",\"Male\",\"Male\",\"Female\",\"Female\",\"Female\",\"Female\",\"Female\",\"Unsure\",\"Unsure\",\"Unsure\",\"Unsure\",\"Male\",\"Male\",\"Male\",\"Unsure\",\"Unsure\",\"Male\",\"<None>\",\"Male\",\"Male\",\"Male\",\"Male\",\"Female\",\"Male\",\"Male\",\"Unsure\",\"Female\",\"Female\",\"Male\",\"Female\",\"Female\",\"Male\",\"Female\",\"Male\",\"Female\",\"Unsure\",\"Male\",\"Female\",\"Female\",\"Female\",\"Female\",\"Female\",\"Male\",\"Male\",\"Male\",\"Male\",\"<None>\",\"Male\",\"Female\",\"Female\",\"Unsure\",\"Female\",\"Unsure\",\"Female\",\"Unsure\",\"Male\",\"Male\",\"Unsure\",\"Unsure\",\"Unsure\",\"Male\",\"Female\",\"Unsure\",\"Unsure\",\"Unsure\",\"Male\",\"Unsure\",\"Unsure\",\"Male\",\"Female\",\"<None>\",\"Female\",\"Male\",\"Female\",\"Male\",\"Female\",\"Female\",\"Male\",\"Female\",\"Male\",\"Male\",\"Unsure\",\"Male\",\"Female\",\"Male\",\"Female\",\"Male\",\"Unsure\",\"Male\",\"Female\",\"Female\",\"Unsure\",\"Unsure\",\"Unsure\",\"Male\",\"Male\",\"Male\",\"Male\",\"Male\",\"Male\",\"Male\",\"Male\",\"Male\",\"Female\",\"<None>\",\"<None>\",\"Male\",\"Unsure\",\"Male\",\"Male\",\"Male\",\"Male\",\"Male\",\"Male\",\"Male\",\"Male\",\"Male\",\"Female\",\"Unsure\",\"Unsure\",\"Male\",\"Male\",\"Male\",\"Male\",\"Male\",\"Male\",\"Male\",\"<None>\",\"Unsure\",\"Female\",\"Male\",\"Unsure\",\"Unsure\",\"Male\",\"Female\",\"Male\",\"Male\",\"Male\",\"Male\",\"Female\",\"Male\",\"Male\",\"<None>\",\"Male\",\"Unsure\",\"Male\",\"Male\",\"Female\",\"Unsure\",\"Female\",\"Male\",\"Male\",\"Male\",\"Male\",\"Unsure\",\"Male\",\"Female\",\"Unsure\",\"Unsure\",\"Female\",\"Male\",\"Female\",\"Female\",\"Male\",\"Unsure\",\"Female\",\"Unsure\",\"Unsure\",\"Female\",\"Unsure\",\"Female\",\"Male\",\"Unsure\",\"Unsure\",\"Female\",\"Male\",\"Male\",\"Male\",\"Male\",\"Male\",\"Male\",\"Unsure\",\"Unsure\",\"Male\",\"Male\",\"Male\",\"Male\",\"Male\",\"Male\",\"Male\",\"Male\",\"Female\",\"Female\",\"Female\",\"Female\",\"Unsure\",\"Unsure\",\"Male\",\"Unsure\",\"Male\",\"Female\",\"Female\",\"Male\",\"<None>\",\"Female\",\"Male\",\"Male\",\"Male\",\"Male\",\"Male\",\"Unsure\",\"Unsure\",\"Female\",\"Female\",\"Female\",\"Female\",\"Unsure\",\"Male\",\"Unsure\",\"Male\",\"Male\",\"Male\",\"Female\",\"Female\",\"Male\",\"<None>\",\"Male\",\"Male\",\"Female\",\"Unsure\",\"Male\",\"Unsure\",\"Male\",\"Male\",\"Unsure\",\"Female\",\"Unsure\",\"Male\",\"Unsure\",\"Female\",\"Male\",\"Male\",\"Male\",\"Male\",\"Female\",\"Female\",\"Female\",\"Female\",\"Female\",\"Male\",\"Male\",\"Male\",\"Unsure\",\"Female\",\"Female\",\"Female\",\"Female\",\"Female\",\"Unsure\",\"Female\",\"Female\",\"Unsure\",\"Unsure\",\"Unsure\",\"Unsure\",\"Unsure\",\"Male\",\"Male\",\"<None>\",\"Male\",\"Unsure\",\"Male\",\"Male\",\"Female\",\"Male\",\"<None>\",\"Unsure\",\"Female\",\"Female\",\"Male\",\"Female\",\"Female\",\"Male\",\"Female\",\"Male\",\"Male\",\"Male\",\"Male\",\"Male\",\"Female\",\"Male\",\"Unsure\",\"Female\",\"Female\",\"Male\",\"<None>\",\"Unsure\",\"Female\",\"Unsure\",\"Male\",\"Unsure\",\"Male\",\"Male\",\"Male\",\"Female\",\"Female\",\"Male\",\"Male\",\"Unsure\",\"Female\",\"Unsure\",\"Unsure\",\"<None>\",\"Unsure\",\"Male\",\"Male\",\"Female\",\"Female\",\"Male\",\"Unsure\",\"Female\",\"Female\",\"<None>\",\"Male\",\"Male\",\"Male\",\"Female\",\"Male\",\"Unsure\",\"Unsure\",\"<None>\",\"Unsure\",\"Female\",\"Female\",\"Unsure\",\"Male\",\"Male\",\"Male\",\"Male\",\"Female\",\"Female\",\"Male\",\"Unsure\",\"Female\",\"Female\",\"Unsure\",\"Unsure\",\"Unsure\",\"Male\",\"Unsure\",\"Female\",\"Female\",\"Male\",\"Unsure\",\"Male\",\"Male\",\"Female\",\"Male\",\"Male\",\"Male\",\"Male\",\"Male\",\"Male\",\"Male\",\"Male\",\"Unsure\",\"Female\",\"Male\",\"<None>\",\"Female\",\"Unsure\",\"Male\",\"Male\",\"Female\",\"Male\",\"Male\",\"Male\",\"Male\",\"Unsure\",\"Female\",\"Female\",\"Male\",\"Male\",\"Male\",\"<None>\",\"Female\",\"Male\",\"Male\",\"Male\",\"Male\",\"Male\",\"Male\",\"Female\",\"Male\",\"Male\",\"Unsure\",\"Male\",\"Female\",\"Female\",\"Male\",\"Male\",\"Female\",\"Female\",\"Male\",\"Male\",\"Male\",\"Male\",\"Male\",\"Male\",\"Male\",\"Unsure\",\"Female\",\"Unsure\",\"Female\",\"Male\",\"Unsure\",\"Male\",\"Male\",\"Male\",\"<None>\",\"Female\",\"Unsure\",\"Male\",\"Female\",\"Male\",\"Male\",\"Male\",\"<None>\",\"Male\",\"Male\",\"Male\",\"Female\",\"Male\",\"Male\",\"Unsure\",\"Male\",\"<None>\",\"Male\",\"Male\",\"Male\",\"Male\",\"Female\",\"Male\",\"Female\",\"Male\",\"Male\",\"Male\",\"Male\",\"Unsure\",\"Male\",\"Male\",\"Male\",\"Unsure\",\"Unsure\",\"Male\",\"Unsure\",\"Female\",\"Female\",\"Male\",\"Male\",\"Male\",\"Male\",\"Male\",\"Male\",\"Female\",\"Male\",\"Male\",\"Male\",\"Male\",\"Male\",\"Female\",\"Male\",\"Female\",\"Female\",\"Unsure\",\"Female\",\"Unsure\",\"Male\",\"Female\",\"Unsure\",\"Male\",\"Female\",\"Female\",\"Male\",\"Male\",\"Unsure\",\"Female\",\"Unsure\",\"Male\",\"<None>\",\"Male\",\"Male\",\"Unsure\",\"Male\",\"Male\",\"Male\",\"Male\",\"Female\",\"Female\",\"Male\",\"Unsure\",\"Unsure\",\"Male\",\"Male\",\"Male\",\"Unsure\",\"Unsure\",\"Female\",\"Unsure\",\"Female\",\"<None>\",\"Male\",\"Male\",\"Unsure\",\"Male\",\"Male\",\"Unsure\",\"Male\",\"Male\",\"Male\",\"Male\",\"Unsure\",\"Male\",\"Male\",\"Male\",\"Unsure\",\"Unsure\",\"Male\",\"Male\",\"Female\",\"Unsure\",\"Male\",\"Male\",\"Male\",\"Unsure\",\"Male\",\"Male\",\"Male\",\"<None>\",\"Male\",\"Unsure\",\"Male\",\"Male\",\"Unsure\",\"Unsure\",\"Male\",\"<None>\",\"Male\",\"Male\",\"Male\",\"Unsure\",\"<None>\",\"Unsure\",\"Female\",\"Male\",\"Male\",\"Female\",\"<None>\",\"Female\",\"Unsure\",\"Unsure\",\"Unsure\",\"Male\",\"Unsure\",\"Female\",\"Female\",\"Male\",\"Female\",\"Male\",\"Male\",\"Male\",\"Female\",\"Female\",\"Male\",\"Male\",\"Male\",\"Male\",\"Male\",\"Unsure\",\"Male\",\"Male\",\"<None>\",\"Female\",\"Unsure\",\"Female\",\"Male\",\"Male\",\"Male\",\"Female\",\"Female\",\"Unsure\",\"Unsure\",\"Female\",\"Unsure\",\"Unsure\",\"Male\",\"Unsure\",\"Male\",\"<None>\",\"Female\",\"Male\",\"Male\",\"<None>\",\"Unsure\",\"Male\",\"Female\",\"Male\",\"Male\",\"Unsure\",\"Female\",\"Male\",\"Female\",\"Unsure\",\"Unsure\",\"Unsure\",\"Male\",\"Female\",\"Female\",\"Male\",\"Female\",\"Male\",\"Male\",\"Female\",\"Male\",\"Male\",\"Male\",\"Male\",\"Male\",\"Male\",\"<None>\",\"Male\",\"Female\",\"Unsure\",\"Female\",\"Male\",\"Unsure\",\"Female\",\"Male\",\"Male\",\"Male\",\"Male\",\"Female\",\"Female\",\"Male\",\"Unsure\",\"Male\",\"Female\",\"Female\",\"Female\",\"Unsure\",\"Female\",\"Female\",\"Female\",\"Female\",\"Female\",\"Female\",\"Female\",\"Unsure\",\"<None>\",\"Unsure\",\"Male\",\"Male\",\"Male\",\"Male\",\"Male\",\"Unsure\",\"Unsure\",\"Female\",\"Male\",\"Female\",\"Male\",\"Male\",\"Male\",\"Male\",\"Male\",\"Unsure\",\"Female\",\"Female\",\"Male\",\"Male\",\"Male\",\"Male\",\"Male\",\"Male\",\"Male\",\"Male\",\"Unsure\",\"Male\",\"Male\",\"Male\",\"Male\",\"Male\",\"Male\",\"Male\",\"Female\",\"<None>\",\"Female\",\"Male\",\"Male\",\"Female\",\"<None>\",\"Male\",\"Female\",\"Unsure\",\"Unsure\",\"Unsure\",\"Male\",\"Unsure\",\"Unsure\",\"Male\",\"Female\",\"<None>\",\"Female\",\"Male\",\"Male\",\"Male\",\"Male\",\"Unsure\",\"Unsure\",\"Male\",\"Female\",\"Male\",\"Female\",\"Female\",\"Male\",\"Female\",\"Unsure\",\"Male\",\"Male\",\"Male\",\"Male\",\"Male\",\"Unsure\",\"Unsure\",\"Male\",\"Male\",\"Unsure\",\"Unsure\",\"Unsure\",\"Unsure\",\"Unsure\",\"Male\",\"Male\",\"Unsure\",\"Female\",\"Male\",\"Male\",\"Male\",\"Male\",\"Male\",\"Unsure\",\"Female\",\"Male\",\"Female\",\"Female\",\"Female\",\"Male\",\"Male\",\"Unsure\",\"Male\",\"Unsure\",\"Male\",\"Female\",\"Male\",\"Female\",\"Unsure\",\"Male\",\"Female\",\"Male\",\"Unsure\",\"Unsure\",\"Male\",\"Female\",\"Female\",\"Male\",\"Unsure\",\"Unsure\",\"Male\",\"Male\",\"Male\",\"Female\",\"Unsure\",\"Male\",\"Male\",\"Unsure\",\"Female\",\"Male\",\"Female\",\"Male\",\"Female\",\"Female\",\"Male\",\"Male\",\"Unsure\",\"Male\",\"Unsure\",\"Female\",\"Unsure\",\"Male\",\"<None>\",\"Male\",\"Male\",\"Male\",\"Male\",\"Female\",\"Male\",\"Male\",\"Female\",\"Male\",\"Male\",\"Male\",\"Male\",\"Male\",\"Female\",\"Male\",\"<None>\",\"Male\",\"Male\",\"Male\",\"Female\",\"Female\",\"Unsure\",\"Unsure\",\"Male\",\"Male\",\"Female\",\"Unsure\",\"Male\",\"Male\",\"Male\",\"Male\",\"Female\",\"Male\",\"Female\",\"Male\",\"Female\",\"<None>\",\"Female\",\"Unsure\",\"Female\",\"Unsure\",\"Female\",\"Male\",\"Male\",\"Unsure\",\"Female\",\"Unsure\",\"Male\",\"<None>\",\"Unsure\",\"Male\",\"Female\",\"Female\",\"Unsure\",\"Unsure\",\"Unsure\",\"Male\",\"Female\",\"Male\",\"Unsure\",\"Male\",\"Unsure\",\"<None>\",\"Male\",\"Unsure\",\"Unsure\",\"Male\",\"Unsure\",\"Female\",\"Female\",\"Unsure\",\"<None>\",\"Male\",\"Unsure\",\"Unsure\",\"Unsure\",\"Unsure\",\"Female\",\"Male\",\"Male\",\"Unsure\",\"Unsure\",\"Male\",\"Female\",\"Unsure\",\"Female\",\"<None>\",\"Female\",\"Male\",\"Male\",\"Male\",\"Unsure\",\"Male\",\"Female\",\"Female\",\"<None>\",\"Female\",\"Female\",\"Male\",\"Female\",\"Female\",\"Female\",\"Female\",\"Female\",\"Male\",\"Male\",\"Unsure\",\"Male\",\"Male\",\"Unsure\",\"Unsure\",\"Male\",\"Male\",\"<None>\",\"Unsure\",\"Male\",\"Unsure\",\"<None>\",\"Unsure\",\"Unsure\",\"Female\",\"Male\",\"Male\",\"Male\",\"Female\",\"Male\",\"Male\",\"Male\",\"Male\",\"Unsure\",\"<None>\",\"Female\",\"Male\",\"Male\",\"Male\",\"Female\",\"Female\",\"Unsure\",\"Male\",\"Female\",\"Male\",\"Male\",\"Female\",\"Male\",\"Female\",\"Unsure\",\"<None>\",\"Male\",\"Male\",\"Female\",\"Male\",\"Unsure\",\"Unsure\",\"Male\",\"Female\",\"Unsure\",\"Female\",\"Unsure\",\"Unsure\",\"Male\",\"Male\",\"Male\",\"Unsure\",\"Unsure\",\"Female\",\"Male\",\"Female\",\"Male\",\"Male\",\"Male\",\"Unsure\",\"Male\",\"Female\",\"Male\",\"Unsure\",\"Male\",\"Male\",\"Unsure\",\"Female\",\"Unsure\",\"Male\",\"Female\",\"Female\",\"Male\",\"Unsure\",\"Unsure\",\"Male\",\"Unsure\",\"Male\",\"Unsure\",\"Male\",\"Female\",\"Female\",\"Male\",\"Male\",\"Unsure\",\"Male\",\"Male\",\"Male\",\"Male\",\"Female\",\"Male\",\"Unsure\",\"Unsure\",\"Unsure\",\"Male\",\"Unsure\",\"<None>\",\"Female\",\"Unsure\",\"Unsure\",\"Male\",\"Male\",\"Male\",\"Male\",\"Female\",\"Unsure\",\"Female\",\"Female\",\"<None>\",\"Male\",\"Male\",\"Unsure\",\"Unsure\",\"Male\",\"Male\",\"Female\",\"Female\",\"Female\",\"Female\",\"Male\",\"Male\",\"Male\",\"Male\",\"Male\",\"Unsure\",\"Unsure\",\"Female\",\"Male\",\"Male\",\"Male\",\"Female\",\"Male\",\"Female\",\"Male\",\"Female\",\"Female\",\"Female\",\"Unsure\",\"Male\",\"Male\",\"Unsure\",\"Male\",\"Unsure\",\"Male\",\"Male\",\"Unsure\",\"Male\",\"Male\",\"Female\",\"Unsure\",\"Male\",\"Male\",\"Female\",\"Female\",\"Female\",\"Male\",\"<None>\",\"Unsure\",\"Unsure\",\"Unsure\",\"Unsure\",\"Male\",\"Unsure\",\"Unsure\",\"Unsure\",\"Unsure\",\"Unsure\",\"Unsure\",\"Female\",\"Male\",\"Male\",\"Male\",\"Unsure\",\"Unsure\",\"Unsure\",\"Male\",\"Male\",\"Male\",\"Unsure\",\"Unsure\",\"Female\",\"Male\",\"Unsure\",\"Female\",\"Female\",\"Male\",\"<None>\",\"Female\",\"Male\",\"Female\",\"Unsure\",\"Male\",\"<None>\",\"Female\",\"Male\",\"Male\",\"Male\",\"Male\",\"Unsure\",\"Female\",\"Unsure\",\"Unsure\",\"Male\",\"<None>\",\"Male\",\"Male\",\"Female\",\"<None>\",\"Male\",\"Unsure\",\"Female\",\"Male\",\"Female\",\"<None>\",\"Male\",\"Female\",\"Male\",\"Male\",\"Unsure\",\"Male\",\"Male\",\"Male\",\"Female\",\"Male\",\"Female\",\"Unsure\",\"Unsure\",\"Unsure\",\"Female\",\"Female\",\"Unsure\",\"Female\",\"<None>\",\"<None>\",\"Male\",\"Male\",\"Male\",\"Female\",\"Male\",\"Male\",\"Male\",\"Male\",\"Male\",\"Female\",\"Male\",\"Male\",\"Male\",\"Male\",\"Unsure\",\"Female\",\"Male\",\"Male\",\"Male\",\"Female\",\"Male\",\"<None>\",\"Male\",\"Female\",\"Unsure\",\"Unsure\",\"Unsure\",\"Female\",\"Unsure\",\"Female\",\"<None>\",\"Female\",\"Unsure\",\"Female\",\"Female\",\"Unsure\",\"Female\",\"Female\",\"Male\",\"Male\",\"Female\",\"Male\",\"Unsure\",\"Unsure\",\"Unsure\",\"Male\",\"Male\",\"Male\",\"Male\",\"Unsure\",\"Unsure\",\"Male\",\"Unsure\",\"Unsure\",\"Male\",\"Unsure\",\"Male\",\"Female\",\"Male\",\"Male\",\"Female\",\"Unsure\",\"Male\",\"Female\",\"Male\",\"Female\",\"Male\",\"Unsure\",\"Female\",\"Unsure\",\"Unsure\",\"Unsure\",\"Male\",\"Male\",\"Female\",\"Male\",\"Male\",\"Unsure\",\"Female\",\"Male\",\"Female\",\"Female\",\"Unsure\",\"Unsure\",\"Female\",\"Unsure\",\"Unsure\",\"Male\",\"<None>\",\"Male\",\"Female\",\"Male\",\"Female\",\"Male\",\"<None>\",\"Male\",\"Unsure\",\"Female\",\"Male\",\"Unsure\",\"Female\",\"Male\",\"Male\",\"Male\",\"Unsure\",\"Female\",\"Female\",\"Unsure\",\"Male\",\"Male\",\"Male\",\"Male\",\"Female\",\"Female\",\"Male\",\"Male\",\"Female\",\"Male\",\"Unsure\",\"Male\",\"Male\",\"Female\",\"Male\",\"Male\",\"Male\",\"Male\",\"Male\",\"Male\",\"Female\",\"Male\",\"Female\",\"Male\",\"Male\",\"Male\",\"Male\",\"Male\",\"<None>\",\"Male\",\"Male\",\"Male\",\"Male\",\"Unsure\",\"Male\",\"Female\",\"Male\",\"Male\",\"Female\",\"Female\",\"Female\",\"Female\",\"Female\",\"Female\",\"Male\",\"Female\",\"Unsure\",\"Unsure\",\"Male\",\"Male\",\"Female\",\"Male\",\"Unsure\",\"Unsure\",\"Male\",\"Male\",\"Male\",\"Male\",\"Female\",\"Male\",\"Male\",\"Female\",\"Female\",\"Female\",\"Unsure\",\"Unsure\",\"Female\",\"Unsure\",\"Male\",\"Male\",\"Unsure\",\"Male\",\"Male\",\"Unsure\",\"Male\",\"Unsure\",\"Female\",\"Male\",\"Unsure\",\"Unsure\",\"Male\",\"Unsure\",\"Unsure\",\"Unsure\",\"Unsure\",\"Unsure\",\"Male\",\"Male\",\"Female\",\"Unsure\",\"Male\",\"Male\",\"Male\",\"Male\",\"Female\",\"Female\",\"Male\",\"Unsure\",\"Male\",\"<None>\",\"Female\",\"Female\",\"Unsure\",\"Male\",\"Male\",\"Male\",\"Male\",\"Male\",\"Male\",\"Male\",\"Female\",\"Male\",\"Female\",\"Female\",\"Male\",\"Female\",\"Female\",\"Unsure\",\"Unsure\",\"Male\",\"<None>\",\"Unsure\",\"Unsure\",\"Unsure\",\"Male\",\"Male\",\"Unsure\",\"Unsure\",\"Male\",\"Female\",\"Male\",\"Male\",\"Unsure\",\"Unsure\",\"Male\",\"Male\",\"Male\",\"Female\",\"Male\",\"Unsure\",\"Male\",\"Female\",\"Male\",\"Male\",\"Male\",\"Unsure\",\"Male\",\"Female\",\"<None>\",\"Male\",\"Unsure\",\"Male\",\"Unsure\",\"Male\",\"Unsure\",\"Male\",\"Male\",\"<None>\",\"Female\",\"Unsure\",\"Unsure\",\"Unsure\",\"Male\",\"<None>\",\"Unsure\",\"Male\",\"Male\",\"Female\",\"Female\",\"Unsure\",\"Unsure\",\"Unsure\",\"Female\",\"Female\",\"Male\",\"Male\",\"Female\",\"Male\",\"Female\",\"Female\",\"Female\",\"<None>\",\"Unsure\",\"Female\",\"Female\",\"Female\",\"Male\",\"Unsure\",\"Female\",\"Male\",\"Female\",\"Female\",\"Female\",\"Male\",\"Female\",\"Male\",\"Unsure\",\"<None>\",\"Male\",\"Male\",\"Unsure\",\"Male\",\"Male\",\"Female\",\"Unsure\",\"Unsure\",\"Female\",\"Unsure\",\"Female\",\"Female\",\"Male\",\"Unsure\",\"Male\",\"Unsure\",\"Unsure\",\"<None>\",\"Female\",\"Female\",\"Unsure\",\"Male\",\"Male\",\"Unsure\",\"Male\",\"Male\",\"Unsure\",\"Female\",\"Male\",\"Female\",\"Unsure\",\"Male\",\"Male\",\"Unsure\",\"Unsure\",\"Unsure\",\"Unsure\",\"Unsure\",\"Unsure\",\"Unsure\",\"Male\",\"Female\",\"Male\",\"Male\",\"Unsure\",\"Male\",\"Female\",\"Male\",\"Female\",\"Male\",\"<None>\",\"Male\",\"Female\",\"Male\",\"Male\",\"Male\",\"Male\",\"Unsure\",\"Male\",\"Unsure\",\"Unsure\",\"Unsure\",\"Female\",\"Unsure\",\"Female\",\"Male\",\"Male\",\"Female\",\"Unsure\",\"<None>\",\"Male\",\"Male\",\"Male\",\"Male\",\"Male\",\"Female\",\"Male\",\"<None>\",\"Unsure\",\"<None>\",\"<None>\",\"Unsure\",\"Unsure\",\"Male\",\"Female\",\"Female\",\"Unsure\",\"Male\",\"Male\",\"Male\",\"Male\",\"Male\",\"Female\",\"Female\",\"Unsure\",\"Unsure\",\"Male\",\"Unsure\",\"Male\",\"Unsure\",\"Unsure\",\"Male\",\"Female\",\"Female\",\"Male\",\"Male\",\"Female\",\"Male\",\"<None>\",\"Male\",\"Male\",\"Unsure\",\"Male\",\"Male\",\"Female\",\"Female\",\"Female\",\"Male\",\"Unsure\",\"Unsure\",\"Male\",\"Unsure\",\"Unsure\",\"Female\",\"Female\",\"<None>\",\"Male\",\"<None>\",\"<None>\",\"Male\",\"Male\",\"Female\",\"Unsure\",\"Male\",\"Unsure\",\"Male\",\"<None>\",\"Male\",\"Male\",\"Female\",\"Unsure\",\"Male\",\"Male\",\"Female\",\"Female\",\"Unsure\",\"Male\",\"Male\",\"Male\",\"Male\",\"Male\",\"Female\",\"Female\",\"Female\",\"Female\",\"Unsure\",\"Male\",\"Male\",\"<None>\",\"Male\",\"Male\",\"Male\",\"Male\",\"Unsure\",\"Female\",\"Female\",\"Female\",\"Female\",\"Unsure\",\"Male\",\"Male\",\"Male\",\"Male\",\"Male\",\"Male\",\"Male\",\"Male\",\"Male\",\"Unsure\",\"Female\",\"Male\",\"Unsure\",\"Unsure\",\"Male\",\"Male\",\"Male\",\"Male\",\"Unsure\",\"Female\",\"Male\",\"Female\",\"Female\",\"Male\",\"Unsure\",\"Male\",\"Male\",\"Male\",\"Unsure\",\"Unsure\",\"Female\",\"Male\",\"Male\",\"Male\",\"Unsure\",\"Male\",\"Male\",\"Female\",\"Female\",\"Unsure\",\"Female\",\"Male\",\"Female\",\"Male\",\"Unsure\",\"Female\",\"Male\",\"Male\",\"Female\",\"Male\",\"Male\",\"Unsure\",\"Unsure\",\"Unsure\",\"Male\",\"Male\",\"Male\",\"Male\",\"Female\",\"Female\",\"Female\",\"Female\",\"Female\",\"<None>\",\"Male\",\"Male\",\"Male\",\"Unsure\",\"Male\",\"Unsure\",\"Male\",\"Male\",\"Female\",\"Male\",\"Unsure\",\"<None>\",\"Male\",\"Male\",\"Female\",\"Unsure\",\"Unsure\",\"Male\",\"Female\",\"Male\",\"Male\",\"Male\",\"Female\",\"Male\",\"Male\",\"Male\",\"Male\",\"Male\",\"Male\",\"Male\",\"Female\",\"Male\",\"Female\",\"Male\",\"Unsure\",\"Female\",\"Female\",\"Unsure\",\"Male\",\"Female\",\"Unsure\",\"Male\",\"Female\",\"Male\",\"Male\",\"Male\",\"Female\",\"Male\",\"Male\",\"Male\",\"Male\",\"Unsure\",\"Female\",\"Female\",\"Unsure\",\"Male\",\"Male\",\"Male\",\"<None>\",\"Female\",\"Female\",\"Male\",\"Male\",\"Unsure\",\"Male\",\"Male\",\"Male\",\"Unsure\",\"Male\",\"Male\",\"Male\",\"Male\",\"Male\",\"Unsure\",\"Unsure\",\"Female\",\"Female\",\"Male\",\"Unsure\",\"Male\",\"Unsure\",\"Unsure\",\"Unsure\",\"Unsure\",\"Female\",\"Female\",\"Unsure\",\"Unsure\",\"Unsure\",\"Male\",\"Unsure\",\"Male\",\"Female\",\"Female\",\"Unsure\",\"Male\",\"Male\",\"Female\",\"Female\",\"Unsure\",\"Female\",\"Male\",\"Unsure\",\"Male\",\"Male\",\"Male\",\"Male\",\"Unsure\",\"Male\",\"Male\",\"Unsure\",\"Male\",\"Male\",\"Male\",\"Male\",\"Male\",\"Male\",\"Female\",\"Male\",\"Female\",\"Female\",\"<None>\",\"Male\",\"Unsure\",\"Male\",\"Unsure\",\"Male\",\"Male\",\"Male\",\"<None>\",\"Female\",\"Male\",\"Male\",\"Male\",\"Male\",\"Male\",\"Male\",\"Male\",\"Male\",\"Male\",\"Male\",\"Male\",\"Female\",\"Female\",\"Unsure\",\"Male\",\"Female\",\"Male\",\"Unsure\",\"Male\",\"Female\",\"Male\",\"Unsure\",\"Female\",\"Unsure\",\"Male\",\"Male\",\"Female\",\"Male\",\"Male\",\"Unsure\",\"Female\",\"Male\",\"Female\",\"Female\",\"Male\",\"Male\",\"Unsure\",\"Female\",\"Male\",\"<None>\",\"Male\",\"Male\",\"Male\",\"Male\",\"Unsure\",\"Unsure\",\"Female\",\"Female\",\"Male\",\"Unsure\",\"Unsure\",\"Male\",\"Male\",\"Male\",\"Male\",\"Male\",\"Male\",\"Male\",\"Unsure\",\"Female\",\"Female\",\"Female\",\"Female\",\"Female\",\"Male\",\"Unsure\",\"Unsure\",\"Unsure\",\"Male\",\"Male\",\"Male\",\"Female\",\"<None>\",\"Male\",\"Male\",\"Male\",\"Male\",\"Male\",\"Male\",\"Male\",\"Female\",\"Female\",\"Male\",\"Female\",\"Male\",\"Unsure\",\"Female\",\"Male\",\"Male\",\"Female\",\"<None>\",\"Female\",\"Male\",\"Male\",\"Male\",\"Male\",\"Male\",\"Male\",\"Female\",\"Unsure\",\"<None>\",\"Male\",\"Unsure\",\"Female\",\"Female\",\"Female\",\"Male\",\"Male\",\"Male\",\"Male\",\"Unsure\",\"Female\",\"Female\",\"Unsure\",\"Female\",\"Unsure\",\"Female\",\"Female\",\"<None>\",\"Female\",\"Unsure\",\"Female\",\"Male\",\"Unsure\",\"Male\",\"Male\",\"<None>\",\"Male\",\"Male\",\"Unsure\",\"Unsure\",\"Male\",\"Male\",\"Male\",\"Male\",\"Male\",\"Unsure\",\"Female\",\"Female\",\"Male\",\"Male\",\"Male\",\"Male\",\"Male\",\"Unsure\",\"Unsure\",\"Unsure\",\"<None>\",\"Female\",\"<None>\",\"Male\",\"Male\",\"Unsure\",\"Unsure\",\"Unsure\",\"Unsure\",\"Male\",\"Male\",\"Unsure\",\"Unsure\",\"Unsure\",\"Male\",\"Unsure\",\"Female\",\"Male\",\"Female\",\"Unsure\",\"Male\",\"Male\",\"Male\",\"Unsure\",\"Male\",\"Male\",\"Male\",\"Female\",\"Male\",\"Unsure\",\"Female\",\"Male\",\"Female\",\"Male\",\"Male\",\"Female\",\"Unsure\",\"Unsure\",\"Female\",\"Female\",\"Male\",\"Unsure\",\"Unsure\",\"Unsure\",\"Male\",\"Male\",\"Male\",\"Unsure\",\"Unsure\",\"Male\",\"Male\",\"Female\",\"Male\",\"Male\",\"Male\",\"Male\",\"<None>\",\"Male\",\"Unsure\",\"Female\",\"Male\",\"<None>\",\"Male\",\"Male\",\"Male\",\"Female\",\"Male\",\"Male\",\"Male\",\"Male\",\"Male\",\"Male\",\"Male\",\"Unsure\",\"Male\",\"Unsure\",\"Unsure\",\"Male\",\"Male\",\"Male\",\"Unsure\",\"Male\",\"Unsure\",\"Female\",\"Unsure\",\"Male\",\"<None>\",\"Female\",\"Unsure\",\"Unsure\",\"Unsure\",\"Female\",\"Unsure\",\"Female\",\"Male\",\"Male\",\"Male\",\"Female\",\"Unsure\",\"Unsure\",\"Unsure\",\"Male\",\"Unsure\",\"Unsure\",\"Female\",\"Male\",\"Male\",\"<None>\",\"Male\",\"Male\",\"Male\",\"Male\",\"Female\",\"Male\",\"<None>\",\"Unsure\",\"Unsure\",\"Male\",\"Female\",\"Male\",\"Male\",\"<None>\",\"Female\",\"Unsure\",\"Male\",\"Male\",\"Female\",\"Female\",\"Unsure\",\"Male\",\"Female\",\"Male\",\"Female\",\"Male\",\"Female\",\"Male\",\"Male\",\"Male\",\"Unsure\",\"Male\",\"Unsure\",\"Male\",\"Male\",\"Male\",\"Male\",\"Male\",\"Unsure\",\"Male\",\"Male\",\"Female\",\"Male\",\"Male\",\"Female\",\"Female\",\"Female\",\"Male\",\"Male\",\"Male\",\"Male\",\"Male\",\"Male\",\"Unsure\",\"Male\",\"Male\",\"Male\",\"Male\",\"Unsure\",\"Female\",\"Male\",\"Male\",\"Unsure\",\"Female\",\"Female\",\"Male\",\"Male\",\"Male\",\"Unsure\",\"<None>\",\"Female\",\"Male\",\"Male\",\"Male\",\"Female\",\"Male\",\"Unsure\",\"Male\",\"Female\",\"Male\",\"Unsure\",\"Female\",\"Female\",\"Female\",\"Female\",\"Unsure\",\"Male\",\"Female\",\"Unsure\",\"Male\",\"Female\",\"Male\",\"Female\",\"Male\",\"Male\",\"Female\",\"Female\",\"Female\",\"Male\",\"Male\",\"Male\",\"Male\",\"Male\",\"Male\",\"Female\",\"Male\",\"Female\",\"Male\",\"Female\",\"Female\",\"Male\",\"Unsure\",\"Male\",\"Male\",\"<None>\",\"Male\",\"Male\",\"Male\",\"Female\",\"Unsure\",\"Male\",\"Unsure\",\"Female\",\"Male\",\"Male\",\"Male\",\"Male\",\"Unsure\",\"Unsure\",\"Male\",\"Female\",\"Female\",\"Male\",\"Male\",\"Male\",\"Male\",\"Female\",\"Male\",\"Unsure\",\"Male\",\"Male\",\"Female\",\"Male\",\"Female\",\"Unsure\",\"Female\",\"Male\",\"Female\",\"Female\",\"Female\",\"<None>\",\"Female\",\"Female\",\"Female\",\"Female\",\"Female\",\"<None>\",\"Female\",\"Male\",\"Female\",\"Male\",\"<None>\",\"Unsure\",\"Male\",\"Male\",\"Male\",\"Male\",\"Male\",\"Unsure\",\"Male\",\"Male\",\"Male\",\"Male\",\"Unsure\",\"Male\",\"Female\",\"Male\",\"Unsure\",\"Female\",\"Unsure\",\"Male\",\"Male\",\"<None>\",\"Unsure\",\"<None>\",\"Unsure\",\"Unsure\",\"Male\",\"Male\",\"Male\",\"Male\",\"Unsure\",\"Male\",\"Female\",\"Female\",\"Unsure\",\"Male\",\"Unsure\",\"Unsure\",\"Female\",\"Male\",\"Male\",\"Unsure\",\"Unsure\",\"Unsure\",\"Female\",\"Unsure\",\"Female\",\"Female\",\"<None>\",\"Female\",\"Unsure\",\"Female\",\"Male\",\"Male\",\"Unsure\",\"Male\",\"Female\",\"Unsure\",\"Male\",\"Male\",\"Male\",\"Unsure\",\"Female\",\"Unsure\",\"Unsure\",\"Female\",\"Female\",\"Female\",\"Male\",\"Male\",\"Male\",\"Female\",\"Unsure\",\"Female\",\"Unsure\",\"Male\",\"Male\",\"Male\",\"Unsure\",\"Male\",\"Male\",\"Male\",\"Male\",\"Male\",\"Male\",\"Female\",\"Male\",\"Male\",\"Male\",\"Male\",\"Female\",\"Female\",\"Female\",\"Male\",\"Unsure\",\"Male\",\"Male\",\"Unsure\",\"Unsure\",\"Unsure\",\"Male\",\"Male\",\"Female\",\"Male\",\"Female\",\"Male\",\"Unsure\",\"Male\",\"<None>\",\"Male\",\"Unsure\",\"Male\",\"Female\",\"Male\",\"<None>\",\"Male\",\"Unsure\",\"Unsure\",\"Female\",\"Female\",\"Male\",\"Unsure\",\"Unsure\",\"Unsure\",\"Unsure\",\"Male\",\"Male\",\"Female\",\"Female\",\"Male\",\"<None>\",\"<None>\",\"<None>\",\"Male\",\"Male\",\"Male\",\"Male\",\"Female\",\"Unsure\",\"Male\",\"Female\",\"Male\",\"Male\",\"Male\",\"Unsure\",\"Male\",\"Female\",\"Female\",\"Female\",\"<None>\",\"Male\",\"Female\",\"Male\",\"Unsure\",\"Male\",\"Male\",\"Female\",\"Female\",\"Unsure\",\"Male\",\"Male\",\"Female\",\"Male\",\"Unsure\",\"Female\",\"Male\",\"Male\",\"Male\",\"Male\",\"Female\",\"Male\",\"<None>\",\"Male\",\"Female\",\"<None>\",\"Unsure\",\"Unsure\",\"Unsure\",\"Male\",\"Male\",\"Unsure\",\"Unsure\",\"Male\",\"Female\",\"Male\",\"Male\",\"Male\",\"Female\",\"Male\",\"Unsure\",\"Unsure\",\"Unsure\",\"Male\",\"Female\",\"Unsure\",\"Unsure\",\"Male\",\"Male\",\"Female\",\"Female\",\"Female\",\"Female\",\"Male\",\"Female\",\"Female\",\"Male\",\"Female\",\"Male\",\"Unsure\",\"Male\",\"Unsure\",\"Female\",\"<None>\",\"<None>\",\"Male\",\"Unsure\",\"Male\",\"Male\",\"Male\",\"Female\",\"<None>\",\"Unsure\",\"Male\",\"<None>\",\"<None>\",\"Unsure\",\"Male\",\"Male\",\"Unsure\",\"Unsure\",\"Male\",\"Unsure\",\"Unsure\",\"Unsure\",\"Female\",\"Male\",\"Female\",\"Unsure\",\"Unsure\",\"Unsure\",\"Female\",\"Unsure\",\"Male\",\"Male\",\"Female\",\"Male\",\"Male\",\"Male\",\"Male\",\"Female\",\"Unsure\",\"Unsure\",\"Male\",\"Female\",\"<None>\",\"Male\",\"Male\",\"Unsure\",\"Unsure\",\"Unsure\",\"Unsure\",\"Female\",\"Male\",\"Unsure\",\"Unsure\",\"Male\",\"<None>\",\"Unsure\",\"Male\",\"Male\",\"Unsure\",\"Female\",\"Male\",\"Female\",\"Female\",\"Female\",\"Male\",\"Female\",\"Female\",\"Male\",\"Female\",\"Female\",\"Unsure\",\"Male\",\"Male\",\"Male\",\"Male\",\"Unsure\",\"Male\",\"<None>\",\"Male\",\"Unsure\",\"Female\",\"Female\",\"Female\",\"Female\",\"Female\",\"Male\",\"Unsure\",\"Unsure\",\"Female\",\"Unsure\",\"Unsure\",\"Female\",\"<None>\",\"Female\",\"<None>\",\"Female\",\"Male\",\"Female\",\"Male\",\"Female\",\"Male\",\"Male\",\"Male\",\"Male\",\"Male\",\"Unsure\",\"Male\",\"Unsure\",\"<None>\",\"Unsure\",\"Unsure\",\"Unsure\",\"Unsure\",\"Unsure\",\"<None>\",\"Female\",\"Male\",\"Unsure\",\"Unsure\",\"Male\",\"Male\",\"Male\",\"Female\",\"Female\",\"Female\",\"Male\",\"Unsure\",\"Male\",\"Male\",\"Unsure\",\"Unsure\",\"Male\",\"Male\",\"Male\",\"Female\",\"Unsure\",\"Female\",\"Male\",\"Male\",\"Male\",\"Male\",\"Male\",\"Unsure\",\"Male\",\"Male\",\"Female\",\"Male\",\"Male\",\"Male\",\"Male\",\"Male\",\"Unsure\",\"Female\",\"Male\",\"Female\",\"Female\",\"Unsure\",\"Unsure\",\"Female\",\"Male\",\"Male\",\"Female\",\"Unsure\",\"Female\",\"Male\",\"Male\",\"Male\",\"Male\",\"Male\",\"Unsure\",\"Unsure\",\"Female\",\"Unsure\",\"Male\",\"Male\",\"<None>\",\"Unsure\",\"Unsure\",\"Unsure\",\"Unsure\",\"Unsure\",\"Female\",\"Unsure\",\"Male\",\"Female\",\"Unsure\",\"Male\",\"Male\",\"Male\",\"Male\",\"Female\",\"Female\",\"Unsure\",\"Male\",\"Male\",\"Unsure\",\"Male\",\"Male\",\"Male\",\"Male\",\"Female\",\"Unsure\",\"Unsure\",\"Female\",\"Male\",\"Female\",\"Male\",\"Male\",\"Male\",\"Male\",\"Unsure\",\"Male\",\"Male\",\"Unsure\",\"Male\",\"Male\",\"Male\",\"Female\",\"Unsure\",\"Male\",\"Unsure\",\"Male\",\"Female\",\"Unsure\",\"Male\",\"Male\",\"Male\",\"Male\",\"Male\",\"Male\",\"Male\",\"Male\",\"Male\",\"Male\",\"Male\",\"Male\",\"Male\",\"<None>\",\"Male\",\"Unsure\",\"Male\",\"<None>\",\"Male\",\"Unsure\",\"Unsure\",\"Unsure\",\"Unsure\",\"Unsure\",\"Unsure\",\"Unsure\",\"Female\",\"Male\",\"Female\",\"Male\",\"Female\",\"Unsure\",\"Female\",\"Male\",\"Unsure\",\"Male\",\"Female\",\"Unsure\",\"Unsure\",\"Male\",\"Female\",\"Female\",\"Male\",\"Unsure\",\"Male\",\"Male\",\"Female\",\"Unsure\",\"Female\",\"Male\"],\"yaxis\":\"y\",\"ybingroup\":\"y\",\"type\":\"histogram2d\"}],                        {\"template\":{\"data\":{\"histogram2dcontour\":[{\"type\":\"histogram2dcontour\",\"colorbar\":{\"outlinewidth\":0,\"ticks\":\"\"},\"colorscale\":[[0.0,\"#0d0887\"],[0.1111111111111111,\"#46039f\"],[0.2222222222222222,\"#7201a8\"],[0.3333333333333333,\"#9c179e\"],[0.4444444444444444,\"#bd3786\"],[0.5555555555555556,\"#d8576b\"],[0.6666666666666666,\"#ed7953\"],[0.7777777777777778,\"#fb9f3a\"],[0.8888888888888888,\"#fdca26\"],[1.0,\"#f0f921\"]]}],\"choropleth\":[{\"type\":\"choropleth\",\"colorbar\":{\"outlinewidth\":0,\"ticks\":\"\"}}],\"histogram2d\":[{\"type\":\"histogram2d\",\"colorbar\":{\"outlinewidth\":0,\"ticks\":\"\"},\"colorscale\":[[0.0,\"#0d0887\"],[0.1111111111111111,\"#46039f\"],[0.2222222222222222,\"#7201a8\"],[0.3333333333333333,\"#9c179e\"],[0.4444444444444444,\"#bd3786\"],[0.5555555555555556,\"#d8576b\"],[0.6666666666666666,\"#ed7953\"],[0.7777777777777778,\"#fb9f3a\"],[0.8888888888888888,\"#fdca26\"],[1.0,\"#f0f921\"]]}],\"heatmap\":[{\"type\":\"heatmap\",\"colorbar\":{\"outlinewidth\":0,\"ticks\":\"\"},\"colorscale\":[[0.0,\"#0d0887\"],[0.1111111111111111,\"#46039f\"],[0.2222222222222222,\"#7201a8\"],[0.3333333333333333,\"#9c179e\"],[0.4444444444444444,\"#bd3786\"],[0.5555555555555556,\"#d8576b\"],[0.6666666666666666,\"#ed7953\"],[0.7777777777777778,\"#fb9f3a\"],[0.8888888888888888,\"#fdca26\"],[1.0,\"#f0f921\"]]}],\"heatmapgl\":[{\"type\":\"heatmapgl\",\"colorbar\":{\"outlinewidth\":0,\"ticks\":\"\"},\"colorscale\":[[0.0,\"#0d0887\"],[0.1111111111111111,\"#46039f\"],[0.2222222222222222,\"#7201a8\"],[0.3333333333333333,\"#9c179e\"],[0.4444444444444444,\"#bd3786\"],[0.5555555555555556,\"#d8576b\"],[0.6666666666666666,\"#ed7953\"],[0.7777777777777778,\"#fb9f3a\"],[0.8888888888888888,\"#fdca26\"],[1.0,\"#f0f921\"]]}],\"contourcarpet\":[{\"type\":\"contourcarpet\",\"colorbar\":{\"outlinewidth\":0,\"ticks\":\"\"}}],\"contour\":[{\"type\":\"contour\",\"colorbar\":{\"outlinewidth\":0,\"ticks\":\"\"},\"colorscale\":[[0.0,\"#0d0887\"],[0.1111111111111111,\"#46039f\"],[0.2222222222222222,\"#7201a8\"],[0.3333333333333333,\"#9c179e\"],[0.4444444444444444,\"#bd3786\"],[0.5555555555555556,\"#d8576b\"],[0.6666666666666666,\"#ed7953\"],[0.7777777777777778,\"#fb9f3a\"],[0.8888888888888888,\"#fdca26\"],[1.0,\"#f0f921\"]]}],\"surface\":[{\"type\":\"surface\",\"colorbar\":{\"outlinewidth\":0,\"ticks\":\"\"},\"colorscale\":[[0.0,\"#0d0887\"],[0.1111111111111111,\"#46039f\"],[0.2222222222222222,\"#7201a8\"],[0.3333333333333333,\"#9c179e\"],[0.4444444444444444,\"#bd3786\"],[0.5555555555555556,\"#d8576b\"],[0.6666666666666666,\"#ed7953\"],[0.7777777777777778,\"#fb9f3a\"],[0.8888888888888888,\"#fdca26\"],[1.0,\"#f0f921\"]]}],\"mesh3d\":[{\"type\":\"mesh3d\",\"colorbar\":{\"outlinewidth\":0,\"ticks\":\"\"}}],\"scatter\":[{\"fillpattern\":{\"fillmode\":\"overlay\",\"size\":10,\"solidity\":0.2},\"type\":\"scatter\"}],\"parcoords\":[{\"type\":\"parcoords\",\"line\":{\"colorbar\":{\"outlinewidth\":0,\"ticks\":\"\"}}}],\"scatterpolargl\":[{\"type\":\"scatterpolargl\",\"marker\":{\"colorbar\":{\"outlinewidth\":0,\"ticks\":\"\"}}}],\"bar\":[{\"error_x\":{\"color\":\"#2a3f5f\"},\"error_y\":{\"color\":\"#2a3f5f\"},\"marker\":{\"line\":{\"color\":\"#E5ECF6\",\"width\":0.5},\"pattern\":{\"fillmode\":\"overlay\",\"size\":10,\"solidity\":0.2}},\"type\":\"bar\"}],\"scattergeo\":[{\"type\":\"scattergeo\",\"marker\":{\"colorbar\":{\"outlinewidth\":0,\"ticks\":\"\"}}}],\"scatterpolar\":[{\"type\":\"scatterpolar\",\"marker\":{\"colorbar\":{\"outlinewidth\":0,\"ticks\":\"\"}}}],\"histogram\":[{\"marker\":{\"pattern\":{\"fillmode\":\"overlay\",\"size\":10,\"solidity\":0.2}},\"type\":\"histogram\"}],\"scattergl\":[{\"type\":\"scattergl\",\"marker\":{\"colorbar\":{\"outlinewidth\":0,\"ticks\":\"\"}}}],\"scatter3d\":[{\"type\":\"scatter3d\",\"line\":{\"colorbar\":{\"outlinewidth\":0,\"ticks\":\"\"}},\"marker\":{\"colorbar\":{\"outlinewidth\":0,\"ticks\":\"\"}}}],\"scattermapbox\":[{\"type\":\"scattermapbox\",\"marker\":{\"colorbar\":{\"outlinewidth\":0,\"ticks\":\"\"}}}],\"scatterternary\":[{\"type\":\"scatterternary\",\"marker\":{\"colorbar\":{\"outlinewidth\":0,\"ticks\":\"\"}}}],\"scattercarpet\":[{\"type\":\"scattercarpet\",\"marker\":{\"colorbar\":{\"outlinewidth\":0,\"ticks\":\"\"}}}],\"carpet\":[{\"aaxis\":{\"endlinecolor\":\"#2a3f5f\",\"gridcolor\":\"white\",\"linecolor\":\"white\",\"minorgridcolor\":\"white\",\"startlinecolor\":\"#2a3f5f\"},\"baxis\":{\"endlinecolor\":\"#2a3f5f\",\"gridcolor\":\"white\",\"linecolor\":\"white\",\"minorgridcolor\":\"white\",\"startlinecolor\":\"#2a3f5f\"},\"type\":\"carpet\"}],\"table\":[{\"cells\":{\"fill\":{\"color\":\"#EBF0F8\"},\"line\":{\"color\":\"white\"}},\"header\":{\"fill\":{\"color\":\"#C8D4E3\"},\"line\":{\"color\":\"white\"}},\"type\":\"table\"}],\"barpolar\":[{\"marker\":{\"line\":{\"color\":\"#E5ECF6\",\"width\":0.5},\"pattern\":{\"fillmode\":\"overlay\",\"size\":10,\"solidity\":0.2}},\"type\":\"barpolar\"}],\"pie\":[{\"automargin\":true,\"type\":\"pie\"}]},\"layout\":{\"autotypenumbers\":\"strict\",\"colorway\":[\"#636efa\",\"#EF553B\",\"#00cc96\",\"#ab63fa\",\"#FFA15A\",\"#19d3f3\",\"#FF6692\",\"#B6E880\",\"#FF97FF\",\"#FECB52\"],\"font\":{\"color\":\"#2a3f5f\"},\"hovermode\":\"closest\",\"hoverlabel\":{\"align\":\"left\"},\"paper_bgcolor\":\"white\",\"plot_bgcolor\":\"#E5ECF6\",\"polar\":{\"bgcolor\":\"#E5ECF6\",\"angularaxis\":{\"gridcolor\":\"white\",\"linecolor\":\"white\",\"ticks\":\"\"},\"radialaxis\":{\"gridcolor\":\"white\",\"linecolor\":\"white\",\"ticks\":\"\"}},\"ternary\":{\"bgcolor\":\"#E5ECF6\",\"aaxis\":{\"gridcolor\":\"white\",\"linecolor\":\"white\",\"ticks\":\"\"},\"baxis\":{\"gridcolor\":\"white\",\"linecolor\":\"white\",\"ticks\":\"\"},\"caxis\":{\"gridcolor\":\"white\",\"linecolor\":\"white\",\"ticks\":\"\"}},\"coloraxis\":{\"colorbar\":{\"outlinewidth\":0,\"ticks\":\"\"}},\"colorscale\":{\"sequential\":[[0.0,\"#0d0887\"],[0.1111111111111111,\"#46039f\"],[0.2222222222222222,\"#7201a8\"],[0.3333333333333333,\"#9c179e\"],[0.4444444444444444,\"#bd3786\"],[0.5555555555555556,\"#d8576b\"],[0.6666666666666666,\"#ed7953\"],[0.7777777777777778,\"#fb9f3a\"],[0.8888888888888888,\"#fdca26\"],[1.0,\"#f0f921\"]],\"sequentialminus\":[[0.0,\"#0d0887\"],[0.1111111111111111,\"#46039f\"],[0.2222222222222222,\"#7201a8\"],[0.3333333333333333,\"#9c179e\"],[0.4444444444444444,\"#bd3786\"],[0.5555555555555556,\"#d8576b\"],[0.6666666666666666,\"#ed7953\"],[0.7777777777777778,\"#fb9f3a\"],[0.8888888888888888,\"#fdca26\"],[1.0,\"#f0f921\"]],\"diverging\":[[0,\"#8e0152\"],[0.1,\"#c51b7d\"],[0.2,\"#de77ae\"],[0.3,\"#f1b6da\"],[0.4,\"#fde0ef\"],[0.5,\"#f7f7f7\"],[0.6,\"#e6f5d0\"],[0.7,\"#b8e186\"],[0.8,\"#7fbc41\"],[0.9,\"#4d9221\"],[1,\"#276419\"]]},\"xaxis\":{\"gridcolor\":\"white\",\"linecolor\":\"white\",\"ticks\":\"\",\"title\":{\"standoff\":15},\"zerolinecolor\":\"white\",\"automargin\":true,\"zerolinewidth\":2},\"yaxis\":{\"gridcolor\":\"white\",\"linecolor\":\"white\",\"ticks\":\"\",\"title\":{\"standoff\":15},\"zerolinecolor\":\"white\",\"automargin\":true,\"zerolinewidth\":2},\"scene\":{\"xaxis\":{\"backgroundcolor\":\"#E5ECF6\",\"gridcolor\":\"white\",\"linecolor\":\"white\",\"showbackground\":true,\"ticks\":\"\",\"zerolinecolor\":\"white\",\"gridwidth\":2},\"yaxis\":{\"backgroundcolor\":\"#E5ECF6\",\"gridcolor\":\"white\",\"linecolor\":\"white\",\"showbackground\":true,\"ticks\":\"\",\"zerolinecolor\":\"white\",\"gridwidth\":2},\"zaxis\":{\"backgroundcolor\":\"#E5ECF6\",\"gridcolor\":\"white\",\"linecolor\":\"white\",\"showbackground\":true,\"ticks\":\"\",\"zerolinecolor\":\"white\",\"gridwidth\":2}},\"shapedefaults\":{\"line\":{\"color\":\"#2a3f5f\"}},\"annotationdefaults\":{\"arrowcolor\":\"#2a3f5f\",\"arrowhead\":0,\"arrowwidth\":1},\"geo\":{\"bgcolor\":\"white\",\"landcolor\":\"#E5ECF6\",\"subunitcolor\":\"white\",\"showland\":true,\"showlakes\":true,\"lakecolor\":\"white\"},\"title\":{\"x\":0.05},\"mapbox\":{\"style\":\"light\"}}},\"xaxis\":{\"anchor\":\"y\",\"domain\":[0.0,1.0],\"title\":{\"text\":\"Skin\",\"font\":{\"size\":26}},\"categoryorder\":\"array\",\"categoryarray\":[\"1\",\"2\",\"3\",\"4\",\"5\",\"6\",\"Unsure\",\"<None>\"],\"automargin\":true,\"tickwidth\":40},\"yaxis\":{\"anchor\":\"x\",\"domain\":[0.0,1.0],\"title\":{\"text\":\"Gender\",\"standoff\":20,\"font\":{\"size\":26}},\"categoryorder\":\"array\",\"categoryarray\":[\"<None>\",\"Unsure\",\"Female\",\"Male\"],\"automargin\":true,\"tickwidth\":40},\"coloraxis\":{\"colorbar\":{\"title\":{\"text\":\"count\"}},\"colorscale\":[[0.0,\"#0d0887\"],[0.1111111111111111,\"#46039f\"],[0.2222222222222222,\"#7201a8\"],[0.3333333333333333,\"#9c179e\"],[0.4444444444444444,\"#bd3786\"],[0.5555555555555556,\"#d8576b\"],[0.6666666666666666,\"#ed7953\"],[0.7777777777777778,\"#fb9f3a\"],[0.8888888888888888,\"#fdca26\"],[1.0,\"#f0f921\"]]},\"legend\":{\"tracegroupgap\":0},\"title\":{\"text\":\"Skin / Gender distribution in Coco Val 2017\"},\"height\":600,\"width\":1000,\"font\":{\"size\":20},\"margin\":{\"l\":0,\"r\":50,\"t\":50,\"b\":20}},                        {\"responsive\": true}                    ).then(function(){\n",
              "                            \n",
              "var gd = document.getElementById('a99b0942-d63d-4342-8f98-de03e13887f3');\n",
              "var x = new MutationObserver(function (mutations, observer) {{\n",
              "        var display = window.getComputedStyle(gd).display;\n",
              "        if (!display || display === 'none') {{\n",
              "            console.log([gd, 'removed!']);\n",
              "            Plotly.purge(gd);\n",
              "            observer.disconnect();\n",
              "        }}\n",
              "}});\n",
              "\n",
              "// Listen for the removal of the full notebook cells\n",
              "var notebookContainer = gd.closest('#notebook-container');\n",
              "if (notebookContainer) {{\n",
              "    x.observe(notebookContainer, {childList: true});\n",
              "}}\n",
              "\n",
              "// Listen for the clearing of the current output cell\n",
              "var outputEl = gd.closest('.output');\n",
              "if (outputEl) {{\n",
              "    x.observe(outputEl, {childList: true});\n",
              "}}\n",
              "\n",
              "                        })                };                            </script>        </div>\n",
              "</body>\n",
              "</html>"
            ]
          },
          "metadata": {}
        }
      ],
      "source": [
        "# Create a 2D histogram with marginal distributions of skin compared with gender\n",
        "import plotly.express as px\n",
        "\n",
        "order = {\n",
        "    'skin': ['1', '2', '3', '4', '5', '6', 'Unsure', '<None>'],\n",
        "    'gender': ['Male', 'Female', 'Unsure', '<None>'],\n",
        "}\n",
        "fig = px.density_heatmap(df, x='skin', y='gender', width=1000, height=600, category_orders=order, title='Skin / Gender distribution in Coco Val 2017')\n",
        "\n",
        "fig.update_yaxes(title = 'Gender', title_standoff=20, automargin=True, title_font_size=26, tickwidth=40)\n",
        "fig.update_xaxes(title = 'Skin', automargin=True, title_font_size=26, tickwidth=40)\n",
        "fig.update_layout(\n",
        "    font_size=20,\n",
        "    margin=dict(l=0, r=50, t=50, b=20)\n",
        ")\n",
        "\n",
        "fig.show()"
      ]
    },
    {
      "cell_type": "code",
      "execution_count": null,
      "metadata": {
        "colab": {
          "base_uri": "https://localhost:8080/",
          "height": 839
        },
        "id": "E4PDqIRgTuWN",
        "outputId": "19bb8c58-05d5-4535-dd77-04cca6a3833e"
      },
      "outputs": [
        {
          "output_type": "stream",
          "name": "stderr",
          "text": [
            "100%|██████████| 2693/2693 [00:36<00:00, 74.58it/s] \n",
            "100%|██████████| 2693/2693 [00:00<00:00, 135897.55it/s]\n"
          ]
        },
        {
          "output_type": "display_data",
          "data": {
            "text/plain": [
              "<IPython.core.display.HTML object>"
            ],
            "text/html": [
              "\n",
              "<style>\n",
              "\n",
              "@import url(\"https://fonts.googleapis.com/css2?family=Palanquin&display=swap\");\n",
              "\n",
              "body, html {\n",
              "  margin: 0;\n",
              "  padding: 0;\n",
              "  width: 100%;\n",
              "}\n",
              "\n",
              "#focontainer-759e7344-5351-4d76-ab7a-926282966d55 {\n",
              "  position: relative;\n",
              "  height: px;\n",
              "  display: block !important;\n",
              "}\n",
              "#foactivate-759e7344-5351-4d76-ab7a-926282966d55 {\n",
              "  font-weight: bold;\n",
              "  cursor: pointer;\n",
              "  font-size: 24px;\n",
              "  border-radius: 3px;\n",
              "  text-align: center;\n",
              "  padding: 0.5em;\n",
              "  color: rgb(255, 255, 255);\n",
              "  font-family: \"Palanquin\", sans-serif;\n",
              "  position: absolute;\n",
              "  left: 50%;\n",
              "  top: 50%;\n",
              "  width: 160px;\n",
              "  margin-left: -80px;\n",
              "  margin-top: -23px;\n",
              "  background: hsla(210,11%,15%, 0.8);\n",
              "  border: none;\n",
              "}\n",
              "#foactivate-759e7344-5351-4d76-ab7a-926282966d55:focus {\n",
              "  outline: none;\n",
              "}\n",
              "#fooverlay-759e7344-5351-4d76-ab7a-926282966d55 {\n",
              "  width: 100%;\n",
              "  height: 100%;\n",
              "  background: hsla(208, 7%, 46%, 0.7);\n",
              "  position: absolute;\n",
              "  top: 0;\n",
              "  left: 0;\n",
              "  display: none;\n",
              "  cursor: pointer;\n",
              "}\n",
              "</style>\n",
              "<div id=\"focontainer-759e7344-5351-4d76-ab7a-926282966d55\" style=\"display: none;\">\n",
              "   <div id=\"fooverlay-759e7344-5351-4d76-ab7a-926282966d55\">\n",
              "      <button id=\"foactivate-759e7344-5351-4d76-ab7a-926282966d55\" >Activate</button>\n",
              "   </div>\n",
              "</div>"
            ]
          },
          "metadata": {}
        }
      ],
      "source": [
        "# Compute per-image brightness and augment the dataset in FiftyOne with this computed metric\n",
        "import cv2\n",
        "import fiftyone.core.odm as odm\n",
        "from tqdm import tqdm\n",
        "import concurrent.futures\n",
        "\n",
        "dataset.add_sample_field(\n",
        "    \"brightness\",\n",
        "    fo.FloatField,\n",
        ")\n",
        "\n",
        "def process_sample(sample):\n",
        "    img = cv2.imread(sample.filepath)\n",
        "    gray = cv2.cvtColor(img, cv2.COLOR_BGR2GRAY)\n",
        "    brightness = cv2.mean(gray)[0]\n",
        "    sample.brightness = brightness\n",
        "    sample.save()\n",
        "\n",
        "# Multithreaded calculation of brightness\n",
        "with concurrent.futures.ThreadPoolExecutor() as executor:\n",
        "    futures = []\n",
        "    for sample in tqdm(personimages):\n",
        "        futures.append(executor.submit(process_sample, sample))\n",
        "    for future in tqdm(concurrent.futures.as_completed(futures), total=len(futures)):\n",
        "        pass\n",
        "\n",
        "session = fo.launch_app(personimages)"
      ]
    },
    {
      "cell_type": "code",
      "execution_count": null,
      "metadata": {
        "colab": {
          "base_uri": "https://localhost:8080/",
          "height": 423
        },
        "id": "BzS89ScDyUjI",
        "outputId": "92205ebe-4c6c-46c3-b96e-1b902e417be2"
      },
      "outputs": [
        {
          "output_type": "execute_result",
          "data": {
            "text/plain": [
              "      brightness  gender\n",
              "0     196.192713  Female\n",
              "1     121.900274    Male\n",
              "2     121.900274    Male\n",
              "3      79.382575    Male\n",
              "4      79.382575  Unsure\n",
              "...          ...     ...\n",
              "3521   50.396309    Male\n",
              "3522  148.317618  Female\n",
              "3523  110.586665  Unsure\n",
              "3524  163.739274  Female\n",
              "3525  157.699432    Male\n",
              "\n",
              "[3526 rows x 2 columns]"
            ],
            "text/html": [
              "\n",
              "  <div id=\"df-c0b4e4bd-0953-486d-b0ee-a315c6a9d911\">\n",
              "    <div class=\"colab-df-container\">\n",
              "      <div>\n",
              "<style scoped>\n",
              "    .dataframe tbody tr th:only-of-type {\n",
              "        vertical-align: middle;\n",
              "    }\n",
              "\n",
              "    .dataframe tbody tr th {\n",
              "        vertical-align: top;\n",
              "    }\n",
              "\n",
              "    .dataframe thead th {\n",
              "        text-align: right;\n",
              "    }\n",
              "</style>\n",
              "<table border=\"1\" class=\"dataframe\">\n",
              "  <thead>\n",
              "    <tr style=\"text-align: right;\">\n",
              "      <th></th>\n",
              "      <th>brightness</th>\n",
              "      <th>gender</th>\n",
              "    </tr>\n",
              "  </thead>\n",
              "  <tbody>\n",
              "    <tr>\n",
              "      <th>0</th>\n",
              "      <td>196.192713</td>\n",
              "      <td>Female</td>\n",
              "    </tr>\n",
              "    <tr>\n",
              "      <th>1</th>\n",
              "      <td>121.900274</td>\n",
              "      <td>Male</td>\n",
              "    </tr>\n",
              "    <tr>\n",
              "      <th>2</th>\n",
              "      <td>121.900274</td>\n",
              "      <td>Male</td>\n",
              "    </tr>\n",
              "    <tr>\n",
              "      <th>3</th>\n",
              "      <td>79.382575</td>\n",
              "      <td>Male</td>\n",
              "    </tr>\n",
              "    <tr>\n",
              "      <th>4</th>\n",
              "      <td>79.382575</td>\n",
              "      <td>Unsure</td>\n",
              "    </tr>\n",
              "    <tr>\n",
              "      <th>...</th>\n",
              "      <td>...</td>\n",
              "      <td>...</td>\n",
              "    </tr>\n",
              "    <tr>\n",
              "      <th>3521</th>\n",
              "      <td>50.396309</td>\n",
              "      <td>Male</td>\n",
              "    </tr>\n",
              "    <tr>\n",
              "      <th>3522</th>\n",
              "      <td>148.317618</td>\n",
              "      <td>Female</td>\n",
              "    </tr>\n",
              "    <tr>\n",
              "      <th>3523</th>\n",
              "      <td>110.586665</td>\n",
              "      <td>Unsure</td>\n",
              "    </tr>\n",
              "    <tr>\n",
              "      <th>3524</th>\n",
              "      <td>163.739274</td>\n",
              "      <td>Female</td>\n",
              "    </tr>\n",
              "    <tr>\n",
              "      <th>3525</th>\n",
              "      <td>157.699432</td>\n",
              "      <td>Male</td>\n",
              "    </tr>\n",
              "  </tbody>\n",
              "</table>\n",
              "<p>3526 rows × 2 columns</p>\n",
              "</div>\n",
              "      <button class=\"colab-df-convert\" onclick=\"convertToInteractive('df-c0b4e4bd-0953-486d-b0ee-a315c6a9d911')\"\n",
              "              title=\"Convert this dataframe to an interactive table.\"\n",
              "              style=\"display:none;\">\n",
              "        \n",
              "  <svg xmlns=\"http://www.w3.org/2000/svg\" height=\"24px\"viewBox=\"0 0 24 24\"\n",
              "       width=\"24px\">\n",
              "    <path d=\"M0 0h24v24H0V0z\" fill=\"none\"/>\n",
              "    <path d=\"M18.56 5.44l.94 2.06.94-2.06 2.06-.94-2.06-.94-.94-2.06-.94 2.06-2.06.94zm-11 1L8.5 8.5l.94-2.06 2.06-.94-2.06-.94L8.5 2.5l-.94 2.06-2.06.94zm10 10l.94 2.06.94-2.06 2.06-.94-2.06-.94-.94-2.06-.94 2.06-2.06.94z\"/><path d=\"M17.41 7.96l-1.37-1.37c-.4-.4-.92-.59-1.43-.59-.52 0-1.04.2-1.43.59L10.3 9.45l-7.72 7.72c-.78.78-.78 2.05 0 2.83L4 21.41c.39.39.9.59 1.41.59.51 0 1.02-.2 1.41-.59l7.78-7.78 2.81-2.81c.8-.78.8-2.07 0-2.86zM5.41 20L4 18.59l7.72-7.72 1.47 1.35L5.41 20z\"/>\n",
              "  </svg>\n",
              "      </button>\n",
              "      \n",
              "  <style>\n",
              "    .colab-df-container {\n",
              "      display:flex;\n",
              "      flex-wrap:wrap;\n",
              "      gap: 12px;\n",
              "    }\n",
              "\n",
              "    .colab-df-convert {\n",
              "      background-color: #E8F0FE;\n",
              "      border: none;\n",
              "      border-radius: 50%;\n",
              "      cursor: pointer;\n",
              "      display: none;\n",
              "      fill: #1967D2;\n",
              "      height: 32px;\n",
              "      padding: 0 0 0 0;\n",
              "      width: 32px;\n",
              "    }\n",
              "\n",
              "    .colab-df-convert:hover {\n",
              "      background-color: #E2EBFA;\n",
              "      box-shadow: 0px 1px 2px rgba(60, 64, 67, 0.3), 0px 1px 3px 1px rgba(60, 64, 67, 0.15);\n",
              "      fill: #174EA6;\n",
              "    }\n",
              "\n",
              "    [theme=dark] .colab-df-convert {\n",
              "      background-color: #3B4455;\n",
              "      fill: #D2E3FC;\n",
              "    }\n",
              "\n",
              "    [theme=dark] .colab-df-convert:hover {\n",
              "      background-color: #434B5C;\n",
              "      box-shadow: 0px 1px 3px 1px rgba(0, 0, 0, 0.15);\n",
              "      filter: drop-shadow(0px 1px 2px rgba(0, 0, 0, 0.3));\n",
              "      fill: #FFFFFF;\n",
              "    }\n",
              "  </style>\n",
              "\n",
              "      <script>\n",
              "        const buttonEl =\n",
              "          document.querySelector('#df-c0b4e4bd-0953-486d-b0ee-a315c6a9d911 button.colab-df-convert');\n",
              "        buttonEl.style.display =\n",
              "          google.colab.kernel.accessAllowed ? 'block' : 'none';\n",
              "\n",
              "        async function convertToInteractive(key) {\n",
              "          const element = document.querySelector('#df-c0b4e4bd-0953-486d-b0ee-a315c6a9d911');\n",
              "          const dataTable =\n",
              "            await google.colab.kernel.invokeFunction('convertToInteractive',\n",
              "                                                     [key], {});\n",
              "          if (!dataTable) return;\n",
              "\n",
              "          const docLinkHtml = 'Like what you see? Visit the ' +\n",
              "            '<a target=\"_blank\" href=https://colab.research.google.com/notebooks/data_table.ipynb>data table notebook</a>'\n",
              "            + ' to learn more about interactive tables.';\n",
              "          element.innerHTML = '';\n",
              "          dataTable['output_type'] = 'display_data';\n",
              "          await google.colab.output.renderOutput(dataTable, element);\n",
              "          const docLink = document.createElement('div');\n",
              "          docLink.innerHTML = docLinkHtml;\n",
              "          element.appendChild(docLink);\n",
              "        }\n",
              "      </script>\n",
              "    </div>\n",
              "  </div>\n",
              "  "
            ]
          },
          "metadata": {},
          "execution_count": 13
        }
      ],
      "source": [
        "# Build a dataframe of all person detections with gender compared with overall image brightness\n",
        "\n",
        "mylist = []\n",
        "compare_variable = 'gender'\n",
        "for image in personimages:\n",
        "  br = image.brightness\n",
        "  for det in image.detections.detections:\n",
        "    if compare_variable in det:\n",
        "      mylist.append((br, det[compare_variable]))\n",
        "df = pd.DataFrame(mylist, columns=['brightness', compare_variable])\n",
        "df"
      ]
    },
    {
      "cell_type": "code",
      "execution_count": null,
      "metadata": {
        "colab": {
          "base_uri": "https://localhost:8080/",
          "height": 423
        },
        "id": "5SoU_l3QfW5E",
        "outputId": "c290789c-ff84-4361-a44a-1bf4f458f574"
      },
      "outputs": [
        {
          "output_type": "execute_result",
          "data": {
            "text/plain": [
              "      brightness  gender  gender_normalized\n",
              "0     196.192713  Female           0.001153\n",
              "1     121.900274    Male           0.000596\n",
              "2     121.900274    Male           0.000596\n",
              "3      79.382575    Male           0.000596\n",
              "4      79.382575  Unsure           0.001222\n",
              "...          ...     ...                ...\n",
              "3521   50.396309    Male           0.000596\n",
              "3522  148.317618  Female           0.001153\n",
              "3523  110.586665  Unsure           0.001222\n",
              "3524  163.739274  Female           0.001153\n",
              "3525  157.699432    Male           0.000596\n",
              "\n",
              "[3526 rows x 3 columns]"
            ],
            "text/html": [
              "\n",
              "  <div id=\"df-dc7d7089-4f53-4f03-9d99-1c25ea975c8c\">\n",
              "    <div class=\"colab-df-container\">\n",
              "      <div>\n",
              "<style scoped>\n",
              "    .dataframe tbody tr th:only-of-type {\n",
              "        vertical-align: middle;\n",
              "    }\n",
              "\n",
              "    .dataframe tbody tr th {\n",
              "        vertical-align: top;\n",
              "    }\n",
              "\n",
              "    .dataframe thead th {\n",
              "        text-align: right;\n",
              "    }\n",
              "</style>\n",
              "<table border=\"1\" class=\"dataframe\">\n",
              "  <thead>\n",
              "    <tr style=\"text-align: right;\">\n",
              "      <th></th>\n",
              "      <th>brightness</th>\n",
              "      <th>gender</th>\n",
              "      <th>gender_normalized</th>\n",
              "    </tr>\n",
              "  </thead>\n",
              "  <tbody>\n",
              "    <tr>\n",
              "      <th>0</th>\n",
              "      <td>196.192713</td>\n",
              "      <td>Female</td>\n",
              "      <td>0.001153</td>\n",
              "    </tr>\n",
              "    <tr>\n",
              "      <th>1</th>\n",
              "      <td>121.900274</td>\n",
              "      <td>Male</td>\n",
              "      <td>0.000596</td>\n",
              "    </tr>\n",
              "    <tr>\n",
              "      <th>2</th>\n",
              "      <td>121.900274</td>\n",
              "      <td>Male</td>\n",
              "      <td>0.000596</td>\n",
              "    </tr>\n",
              "    <tr>\n",
              "      <th>3</th>\n",
              "      <td>79.382575</td>\n",
              "      <td>Male</td>\n",
              "      <td>0.000596</td>\n",
              "    </tr>\n",
              "    <tr>\n",
              "      <th>4</th>\n",
              "      <td>79.382575</td>\n",
              "      <td>Unsure</td>\n",
              "      <td>0.001222</td>\n",
              "    </tr>\n",
              "    <tr>\n",
              "      <th>...</th>\n",
              "      <td>...</td>\n",
              "      <td>...</td>\n",
              "      <td>...</td>\n",
              "    </tr>\n",
              "    <tr>\n",
              "      <th>3521</th>\n",
              "      <td>50.396309</td>\n",
              "      <td>Male</td>\n",
              "      <td>0.000596</td>\n",
              "    </tr>\n",
              "    <tr>\n",
              "      <th>3522</th>\n",
              "      <td>148.317618</td>\n",
              "      <td>Female</td>\n",
              "      <td>0.001153</td>\n",
              "    </tr>\n",
              "    <tr>\n",
              "      <th>3523</th>\n",
              "      <td>110.586665</td>\n",
              "      <td>Unsure</td>\n",
              "      <td>0.001222</td>\n",
              "    </tr>\n",
              "    <tr>\n",
              "      <th>3524</th>\n",
              "      <td>163.739274</td>\n",
              "      <td>Female</td>\n",
              "      <td>0.001153</td>\n",
              "    </tr>\n",
              "    <tr>\n",
              "      <th>3525</th>\n",
              "      <td>157.699432</td>\n",
              "      <td>Male</td>\n",
              "      <td>0.000596</td>\n",
              "    </tr>\n",
              "  </tbody>\n",
              "</table>\n",
              "<p>3526 rows × 3 columns</p>\n",
              "</div>\n",
              "      <button class=\"colab-df-convert\" onclick=\"convertToInteractive('df-dc7d7089-4f53-4f03-9d99-1c25ea975c8c')\"\n",
              "              title=\"Convert this dataframe to an interactive table.\"\n",
              "              style=\"display:none;\">\n",
              "        \n",
              "  <svg xmlns=\"http://www.w3.org/2000/svg\" height=\"24px\"viewBox=\"0 0 24 24\"\n",
              "       width=\"24px\">\n",
              "    <path d=\"M0 0h24v24H0V0z\" fill=\"none\"/>\n",
              "    <path d=\"M18.56 5.44l.94 2.06.94-2.06 2.06-.94-2.06-.94-.94-2.06-.94 2.06-2.06.94zm-11 1L8.5 8.5l.94-2.06 2.06-.94-2.06-.94L8.5 2.5l-.94 2.06-2.06.94zm10 10l.94 2.06.94-2.06 2.06-.94-2.06-.94-.94-2.06-.94 2.06-2.06.94z\"/><path d=\"M17.41 7.96l-1.37-1.37c-.4-.4-.92-.59-1.43-.59-.52 0-1.04.2-1.43.59L10.3 9.45l-7.72 7.72c-.78.78-.78 2.05 0 2.83L4 21.41c.39.39.9.59 1.41.59.51 0 1.02-.2 1.41-.59l7.78-7.78 2.81-2.81c.8-.78.8-2.07 0-2.86zM5.41 20L4 18.59l7.72-7.72 1.47 1.35L5.41 20z\"/>\n",
              "  </svg>\n",
              "      </button>\n",
              "      \n",
              "  <style>\n",
              "    .colab-df-container {\n",
              "      display:flex;\n",
              "      flex-wrap:wrap;\n",
              "      gap: 12px;\n",
              "    }\n",
              "\n",
              "    .colab-df-convert {\n",
              "      background-color: #E8F0FE;\n",
              "      border: none;\n",
              "      border-radius: 50%;\n",
              "      cursor: pointer;\n",
              "      display: none;\n",
              "      fill: #1967D2;\n",
              "      height: 32px;\n",
              "      padding: 0 0 0 0;\n",
              "      width: 32px;\n",
              "    }\n",
              "\n",
              "    .colab-df-convert:hover {\n",
              "      background-color: #E2EBFA;\n",
              "      box-shadow: 0px 1px 2px rgba(60, 64, 67, 0.3), 0px 1px 3px 1px rgba(60, 64, 67, 0.15);\n",
              "      fill: #174EA6;\n",
              "    }\n",
              "\n",
              "    [theme=dark] .colab-df-convert {\n",
              "      background-color: #3B4455;\n",
              "      fill: #D2E3FC;\n",
              "    }\n",
              "\n",
              "    [theme=dark] .colab-df-convert:hover {\n",
              "      background-color: #434B5C;\n",
              "      box-shadow: 0px 1px 3px 1px rgba(0, 0, 0, 0.15);\n",
              "      filter: drop-shadow(0px 1px 2px rgba(0, 0, 0, 0.3));\n",
              "      fill: #FFFFFF;\n",
              "    }\n",
              "  </style>\n",
              "\n",
              "      <script>\n",
              "        const buttonEl =\n",
              "          document.querySelector('#df-dc7d7089-4f53-4f03-9d99-1c25ea975c8c button.colab-df-convert');\n",
              "        buttonEl.style.display =\n",
              "          google.colab.kernel.accessAllowed ? 'block' : 'none';\n",
              "\n",
              "        async function convertToInteractive(key) {\n",
              "          const element = document.querySelector('#df-dc7d7089-4f53-4f03-9d99-1c25ea975c8c');\n",
              "          const dataTable =\n",
              "            await google.colab.kernel.invokeFunction('convertToInteractive',\n",
              "                                                     [key], {});\n",
              "          if (!dataTable) return;\n",
              "\n",
              "          const docLinkHtml = 'Like what you see? Visit the ' +\n",
              "            '<a target=\"_blank\" href=https://colab.research.google.com/notebooks/data_table.ipynb>data table notebook</a>'\n",
              "            + ' to learn more about interactive tables.';\n",
              "          element.innerHTML = '';\n",
              "          dataTable['output_type'] = 'display_data';\n",
              "          await google.colab.output.renderOutput(dataTable, element);\n",
              "          const docLink = document.createElement('div');\n",
              "          docLink.innerHTML = docLinkHtml;\n",
              "          element.appendChild(docLink);\n",
              "        }\n",
              "      </script>\n",
              "    </div>\n",
              "  </div>\n",
              "  "
            ]
          },
          "metadata": {},
          "execution_count": 14
        }
      ],
      "source": [
        "gender_counts = df.groupby(compare_variable).size()\n",
        "\n",
        "# Calculate the count of each categorical value\n",
        "compare_variable_counts = df.groupby(compare_variable).size()\n",
        "compare_variable_column = f'{compare_variable}_normalized'\n",
        "\n",
        "# Normalize by divide 1 by the count for each row and store the result in a new column\n",
        "df[compare_variable_column] = 1 / df.groupby(compare_variable)[compare_variable].transform('count')\n",
        "\n",
        "df"
      ]
    },
    {
      "cell_type": "code",
      "execution_count": null,
      "metadata": {
        "colab": {
          "base_uri": "https://localhost:8080/",
          "height": 542
        },
        "id": "oVMa8tEN8LZR",
        "outputId": "fa5947cd-d6cc-4210-eea6-73dcd4676630"
      },
      "outputs": [
        {
          "output_type": "display_data",
          "data": {
            "text/html": [
              "<html>\n",
              "<head><meta charset=\"utf-8\" /></head>\n",
              "<body>\n",
              "    <div>            <script src=\"https://cdnjs.cloudflare.com/ajax/libs/mathjax/2.7.5/MathJax.js?config=TeX-AMS-MML_SVG\"></script><script type=\"text/javascript\">if (window.MathJax && window.MathJax.Hub && window.MathJax.Hub.Config) {window.MathJax.Hub.Config({SVG: {font: \"STIX-Web\"}});}</script>                <script type=\"text/javascript\">window.PlotlyConfig = {MathJaxConfig: 'local'};</script>\n",
              "        <script src=\"https://cdn.plot.ly/plotly-2.18.2.min.js\"></script>                <div id=\"9f1cd8c9-f7d0-41f4-bf15-e3285728f4bd\" class=\"plotly-graph-div\" style=\"height:525px; width:1200px;\"></div>            <script type=\"text/javascript\">                                    window.PLOTLYENV=window.PLOTLYENV || {};                                    if (document.getElementById(\"9f1cd8c9-f7d0-41f4-bf15-e3285728f4bd\")) {                    Plotly.newPlot(                        \"9f1cd8c9-f7d0-41f4-bf15-e3285728f4bd\",                        [{\"alignmentgroup\":\"True\",\"bingroup\":\"x\",\"histfunc\":\"count\",\"histnorm\":\"percent\",\"hovertemplate\":\"gender=Female<br>brightness=%{x}<br>percent=%{y}<extra></extra>\",\"legendgroup\":\"Female\",\"marker\":{\"color\":\"#636efa\",\"pattern\":{\"shape\":\"\"}},\"name\":\"Female\",\"nbinsx\":20,\"offsetgroup\":\"Female\",\"orientation\":\"v\",\"showlegend\":true,\"x\":[196.19271323529412,113.60647135416667,74.21645930913348,101.15503146955504,107.7627730855856,95.68500800000001,95.68500800000001,61.30075846354167,61.30075846354167,123.13931864754099,146.19780661610878,170.54328125,114.68777508802816,55.46542317708334,55.46542317708334,107.17709278584391,93.3319729477612,82.06323567708334,117.65871744791667,79.6407199182243,79.6407199182243,79.6407199182243,79.6407199182243,79.6407199182243,79.6407199182243,126.75356770833334,113.92367342202971,37.099638671875,112.46273437500001,133.7945377876569,125.39218424479168,122.50930531103286,122.50930531103286,122.50930531103286,143.91369791666668,157.02789519650653,72.12237837837839,64.9374229753521,116.57737304687501,153.59230825526933,79.21413381742738,130.865390625,130.865390625,113.75802734375,113.75802734375,89.58405246559633,104.38178790983606,75.31849283854167,95.10057316004674,130.828974609375,133.36441066666669,106.91195638020834,155.2353993993994,155.2353993993994,70.093625,83.89913411458333,78.80076191212872,112.45749348958334,125.42970377604168,65.6591737412178,101.96805474238876,137.9399151053864,138.36564778645834,138.36564778645834,108.86714681440442,132.63418471896955,75.18527018229167,118.4470843373494,118.4470843373494,71.5909714033019,68.27853483606557,158.27623607242342,85.20308832159624,85.20308832159624,85.20308832159624,85.20308832159624,111.67197014051523,82.24891334529454,109.35017275798525,85.15160641100702,107.95148180751174,126.32508063138108,82.433671875,72.83370745305164,100.09997395833334,100.09997395833334,96.1785593879668,54.599992681498826,54.599992681498826,114.93143004115227,150.61190720140516,85.5882702978972,126.07276542030569,135.65220764372822,104.98044862412178,133.67297354497356,149.22749155405407,149.22749155405407,149.22749155405407,149.22749155405407,149.22749155405407,149.22749155405407,149.22749155405407,70.61752049180328,98.30832356770834,107.12083943208431,117.239091796875,101.89294270833334,89.28946133333334,101.41929455445545,87.42434244791667,87.42434244791667,58.46486144578313,99.59696940104168,99.59696940104168,117.51778971354167,65.62625,65.62625,103.89642857142857,120.516591796875,79.58008463541667,136.10655210498962,103.36726800351288,126.70820802824267,165.32049546252927,123.30889310747664,113.14038036616162,113.14038036616162,113.14038036616162,68.80345377604166,88.6826953125,88.6826953125,88.6826953125,88.6826953125,36.95196965478842,82.92207356770834,82.92207356770834,130.76241210937502,130.76241210937502,79.60317647058824,136.4859375,136.4859375,153.733686717119,91.02441817915691,91.02441817915691,91.02441817915691,136.90397593896714,100.73741155660377,100.73741155660377,100.73741155660377,100.73741155660377,106.52753580729167,125.14456441627358,117.37130533854167,114.76331733333335,134.59275390625,73.49040544496486,92.91325525525525,99.30310304449648,102.3789300351288,145.72775065104167,109.64606426886793,106.33476012323943,119.10292492492492,110.28750366784037,147.9928632218845,111.39558823529413,99.22248019366197,148.11327466666668,75.8588578088578,122.10837245171673,67.9214624707944,128.7088701253482,169.22641612997657,106.92556966145834,174.0840512820513,126.07307291666667,108.04350848946136,158.79222330729166,88.84548570165094,88.84548570165094,88.84548570165094,88.84548570165094,88.84548570165094,146.16192057291667,108.34944144144144,138.60723780487805,88.36514364303177,88.36514364303177,56.67287402534113,76.35666715456675,76.35666715456675,121.68298502604168,83.03891612997658,83.03891612997658,79.1213174882629,96.50508708708709,94.79235651214128,114.69146809895834,79.04753887910798,79.04753887910798,79.04753887910798,128.45810661764708,128.45810661764708,117.74694522471911,117.74694522471911,117.74694522471911,125.90347200000001,125.90347200000001,125.90347200000001,113.74258729460094,77.51118815104167,77.51118815104167,77.51118815104167,77.51118815104167,77.51118815104167,144.61713917525773,116.72238932291667,91.33259218460111,116.41904935747664,106.96382161458334,49.584613402061855,139.67269467213114,80.52127278645834,96.60958658854167,96.60958658854167,120.87940507629108,76.49379464285714,95.64231191451991,95.64231191451991,55.81685505319149,126.74070312500001,70.308508,68.80849249249249,138.92562155581186,111.48716700819672,86.07054779411764,53.6678628796729,61.25385416666667,141.50170487733646,132.95620266666668,100.42797319312797,92.828310546875,48.961147460937504,48.961147460937504,97.25805445429104,148.5932921362705,148.5932921362705,148.5932921362705,148.5932921362705,127.59126281194295,127.59126281194295,173.03044307511738,102.51574569415449,102.51574569415449,102.51574569415449,102.51574569415449,146.19052534168566,146.19052534168566,73.88266276041666,88.53839518229167,124.91091733333334,54.14055181498829,54.14055181498829,54.14055181498829,54.14055181498829,54.14055181498829,111.34291218199608,111.34291218199608,111.34291218199608,111.34291218199608,111.34291218199608,120.25233600000001,120.25233600000001,112.50834531903764,122.42246419270835,123.27297600000001,41.418362630208335,41.418362630208335,104.48930053710939,97.37883855386417,112.664111328125,112.664111328125,86.97811848958334,58.84087074530516,58.84087074530516,117.89081770833333,126.30661678403756,126.30661678403756,122.83744357638889,129.63963733333335,98.0029242114486,72.93882152974504,72.93882152974504,66.67151583988212,66.67151583988212,87.63130017201836,87.63130017201836,140.81962132352942,157.50272786458333,110.14169270833334,110.94580800000001,88.65632161458333,160.74461805555555,106.99829866666667,125.79887916666667,104.57804294310722,108.145126953125,101.16441744730679,101.16441744730679,48.51373856707317,94.40982421875,114.68687938084112,144.6538671875,97.32824632352941,97.32824632352941,103.57496312364425,85.07912397540984,140.063872813786,137.64191080729168,137.64191080729168,118.500126953125,74.71537406316916,121.89934149002492,89.86618914113785,89.86618914113785,184.43857100938968,122.12514592453617,122.12514592453617,132.9277174377376,79.79192057291667,79.79192057291667,113.81152300443459,137.7931904761905,199.4563012295082,63.707330607476635,98.54960286458333,105.57748200959487,112.652451171875,112.652451171875,115.55767903645834,105.80121405516432,105.80121405516432,77.73341375612745,112.94114257812501,109.41169270833333,109.41169270833333,127.73107394366197,128.51815466666667,73.08027994791667,111.75870361328126,111.75870361328126,131.61652035541886,133.48066133333333,138.90555108313816,175.40805759803922,109.82344075520834,109.82344075520834,100.90050130208334,90.91995148916968,90.91995148916968,119.8280479753521,119.8280479753521,99.40747415523943,123.61501019021739,123.61501019021739,144.57223307291667,144.57223307291667,109.13772460937501,109.13772460937501,109.13772460937501,81.95151090801888,158.62101648938443,108.32367431640625,82.50719188084112,74.7117919921875,119.16821940104167,109.68948063380282,168.85444061850313,100.15518034462617,96.35937600000001,115.80353190104168,115.80353190104168,115.80353190104168,132.60527994791667,89.53458136792453,115.99006015258216,65.37315204326923,65.37315204326923,104.91604215456674,86.0914011976048,103.97981866666667,85.15564737297922,148.3147587466359,148.3147587466359,79.37622950819672,162.93811408005467,99.58423843393567,99.58423843393567,132.4116160504695,96.63340425531915,120.88610288997215,120.88610288997215,120.24906666666668,146.21279481132075,146.21279481132075,137.59495951816746,154.73194525761124,154.73194525761124,75.54234521713614,87.199326171875,87.199326171875,99.591024,93.15832331730769,93.15832331730769,124.81613866666667,61.32473524305556,83.06652462121212,83.06652462121212,137.99913085937501,114.1179925351288,110.82995117187501,90.85492647058824,87.90917748306997,99.51181333333334,99.51181333333334,135.58349119928403,140.23400175644028,140.23400175644028,140.23400175644028,140.23400175644028,140.23400175644028,111.91621422558923,32.668110294117646,108.94176899696049,105.23147786458334,105.59598921832884,142.7390087890625,91.95385685011709,91.95385685011709,106.967119140625,104.47491455078125,104.47491455078125,91.43653883121875,134.2197021484375,107.3683892947157,120.68976141686183,116.14597005208334,116.14597005208334,104.09890136718751,121.84678351873536,123.75592720748429,74.87832682291668,106.20883463541668,98.94886838440112,98.94886838440112,110.976962890625,113.84463216145834,113.84463216145834,113.84463216145834,81.3011260269953,83.57377127347418,123.96900614754098,138.7320648923445,138.7320648923445,138.7320648923445,76.54404296875,113.195654296875,113.195654296875,39.214989778037385,107.66645199063232,161.5589724824356,61.04679166666667,81.75914388020834,134.54170898437502,102.62819010416668,96.91638098594558,44.133723958333334,148.4507197627315,115.15352213541668,76.09028037383177,76.09028037383177,119.36277343750001,120.790869140625,68.35944338074398,108.01317813199105,108.01317813199105,112.29647135416667,112.29647135416667,169.14779347189696,132.46863606770833,102.24294270833335,145.38558159722223,114.52734375000001,114.52734375000001,158.09069425207758,100.98024624624625,156.32952671503958,124.72866895443926,107.71001371247112,116.87478776346605,116.87478776346605,127.96704000000001,118.12577049180328,142.85167699353448,104.79750073185012,58.67234700520834,94.58271809895834,94.58271809895834,94.58271809895834,116.58099283854168,132.76404054449648,81.80828820257611,79.43966176470589,122.22233217592591,109.45674070247934,97.59030933333334,97.59030933333334,115.34196289062501,152.74193033854166,162.6587638608871,193.09625438084112,155.07589285714286,92.59064204545454,92.59064204545454,92.59064204545454,92.59064204545454,102.83420627934272,106.46321721311476,116.11975466666668,140.9979325234192,89.86777526285047,89.86777526285047,89.86777526285047,89.86777526285047,96.33815310846562,90.1307695129108,141.2920118559719,92.9301418671548,92.9301418671548,170.0224338235294,108.19224609375,106.58608533333334,106.58608533333334,90.0863612836439,96.93267377336448,96.93267377336448,119.59977213541667,142.51676838235295,91.098193359375,179.52781878140706,145.81931352459017,122.49740053050398,122.49740053050398,112.12555013020834,112.12555013020834,100.75234189429929,100.75234189429929,100.75234189429929,100.75234189429929,108.43339156626506,108.43339156626506,108.43339156626506,135.61260986328125,99.15467122395835,79.83670400000001,79.83670400000001,135.72489631006866,86.25156983568075,123.862864,38.430172526041666,97.676611328125,113.62483733333335,100.3262977248954,139.48103410421547,139.48103410421547,82.29077844311378,83.47110835280374,83.47110835280374,157.3568466395548,107.95852465986394,101.49672739055299,124.34151570048309,105.60538275761124,61.449017018779344,101.127353515625,129.285421686747,87.22534505208334,129.84558908045977,129.84558908045977,129.84558908045977,120.68260343309859,120.68260343309859,36.054704520697165,93.56361328125,149.25285481770834,113.3660284624413,124.25873372395834,47.071744,106.75913659037559,126.54707031250001,126.54707031250001,126.54707031250001,126.54707031250001,96.84834635416668,122.429392,122.429392,122.429392,129.0890317812269,112.21813151041667,76.21726236979167,76.21726236979167,113.94651273419204,137.5390625,85.43176229508197,90.05583152173914,90.05583152173914,98.772368,98.772368,116.63365559895834,116.63365559895834,116.63365559895834,116.63365559895834,116.63365559895834,165.33901367187502,108.79551432291667,65.94861866666668,95.42685872395833,93.29001753507013,93.29001753507013,122.92787558685446,122.92787558685446,129.13860661764707,135.01472656250002,121.84440487132353,101.90916015625001,96.25282128220141,116.06522786458333,116.06522786458333,111.43781323702831,111.43781323702831,117.72462309718969,117.72462309718969,89.54369131455398,89.54369131455398,86.253759765625,86.253759765625,96.43494718309859,60.669985961914065,104.86883050351288,89.58359375,179.83128203302962,82.71506985294118,82.71506985294118,58.51209066666667,81.39270719365427,103.87200846354168,78.04258088235294,110.27583088235295,103.71237092731829,83.61818089978448,93.52492279411764,175.53045049649535,99.55695019315674,128.61906901041667,128.61906901041667,128.61906901041667,116.23777915632755,116.23777915632755,69.735488,99.83459887222863,99.83459887222863,99.83459887222863,146.325728,120.4930923053528,64.87756748826291,158.48116812227076,133.63011912983427,116.638720703125,116.638720703125,107.71950151384083,159.94283152810306,66.74373902224825,138.39334309895835,138.39334309895835,110.26587239583334,110.26587239583334,91.19913736979167,91.19913736979167,62.40396680056711,112.26668867370891,142.54093244051433,83.68405738901869,117.72425781250001,119.36849066666667,117.99751302083334,98.13263997395833,98.13263997395833,125.35022942643391,74.65861753512881,101.19185490576497,131.60532620320856,103.7328636098131,98.76576533333333,98.76576533333333,71.9381550058548,70.2542019567757,103.29582841981131,93.4913574907087,122.09358167447307,118.58931966145835,87.56019205729167,77.82283076722338,77.82283076722338,85.65766927083334,103.89306731892523,103.89306731892523,74.45692855046948,89.27010416666667,138.205693359375,138.54298502604166,77.97927784222738,79.96849691901409,94.560625,135.6293538943355,121.35111328125001,121.35111328125001,142.39819598946136,142.39819598946136,87.64857228915662,82.55244910941475,101.91363455414013,91.1692144373673,106.49161696058091,130.93103044496488,80.28583138173302,80.28583138173302,111.69014973958335,106.31645182291668,97.98345867406543,97.98345867406543,95.32253212616823,134.9421174898167,85.99611128647588,82.26787760416667,131.09867,154.57618838028168,88.68037000464683,150.3935816033569,150.3935816033569,150.3935816033569,150.3935816033569,150.3935816033569,150.3935816033569,150.3935816033569,128.04236618394634,94.19160567915691,111.11873170374707,189.88151041666666,143.85111653645833,143.85111653645833,142.3299872036638,100.62013346354168,154.2312353286385,127.40930913348946,127.40930913348946,108.5784375,143.86136333154505,112.23853866666667,120.61020833333335,93.93004610655737,93.93004610655737,108.9287543911007,120.37998372395835,119.89730143229167,137.804365234375,148.28627205882353,148.28627205882353,114.74770666666667,114.74770666666667,123.65254317915691,75.47935890042291,75.47935890042291,108.86949544270834,108.86949544270834,124.14645784543326,97.14905667249417,131.09603841145835,131.09603841145835,119.137255859375,79.61404800000001,77.14280230326295,132.784482421875,59.359296875000005,212.33219408665104,83.44190207845433,102.90526975235849,119.73882133333333,96.86612955729167,128.507615658363,92.78743475274726,89.81638978337237,89.81638978337237,89.81638978337237,89.81638978337237,89.81638978337237,89.81638978337237,68.72063506155303,97.05913292253521,89.71251745810055,107.72669596354167,118.45754583333334,88.99975911458334,109.84195963541667,160.45171875,86.8413275761124,120.37229947306791,120.37229947306791,120.37229947306791,120.37229947306791,113.11714670365535,92.36554869957537,117.17687500000001,168.1974609375,97.17008196721312,97.17008196721312,97.17008196721312,97.17008196721312,97.17008196721312,113.4836943793911,124.37935872395835,131.81074869791667,157.5555949941452,97.83343823185012,126.61561397058824,127.29014705882354,109.38557692307691,109.38557692307691,109.38557692307691,81.00261980369515,86.44271933685445,62.138312312312316,103.42923009367682,101.87477213541668,101.87477213541668,80.49185221354168,145.51219726562502,144.04817279411765,88.40587675644028,97.41734484777517,99.8296875,132.98202024647887,132.98202024647887,131.79876302083335,138.2845543032787,138.2845543032787,133.92833984375,118.9462634408602,84.42326497395834,84.42326497395834,134.55990901898736,103.16789713541667,90.83912104800937,128.80754267068275,51.940844298245615,148.3176178047404,163.73927436440678],\"xaxis\":\"x\",\"yaxis\":\"y\",\"type\":\"histogram\"},{\"alignmentgroup\":\"True\",\"bingroup\":\"x\",\"histfunc\":\"count\",\"histnorm\":\"percent\",\"hovertemplate\":\"gender=Male<br>brightness=%{x}<br>percent=%{y}<extra></extra>\",\"legendgroup\":\"Male\",\"marker\":{\"color\":\"#EF553B\",\"pattern\":{\"shape\":\"\"}},\"name\":\"Male\",\"nbinsx\":20,\"offsetgroup\":\"Male\",\"orientation\":\"v\",\"showlegend\":true,\"x\":[121.9002742552335,121.9002742552335,79.38257464871194,79.38257464871194,113.60647135416667,113.60647135416667,113.60647135416667,113.60647135416667,113.60647135416667,88.28125325520834,153.9291020199063,107.7627730855856,107.7627730855856,113.79012415349887,68.26651102941176,68.26651102941176,68.26651102941176,108.85679411764706,145.42350431457984,61.30075846354167,61.30075846354167,61.30075846354167,61.30075846354167,109.18539388020834,96.42996691176471,96.42996691176471,96.42996691176471,96.42996691176471,167.61859163851352,92.50382582582583,92.50382582582583,92.50382582582583,63.186400000000006,123.13931864754099,123.13931864754099,123.13931864754099,123.13931864754099,123.13931864754099,128.31577473958333,145.9421842447917,145.9421842447917,145.9421842447917,131.60841869813277,150.33883138020835,126.60671106557378,148.5970643939394,79.55420572916667,112.16849468954248,112.16849468954248,118.25113336267606,61.1985125,55.46542317708334,99.01757161458335,65.8770930913349,65.8770930913349,65.8770930913349,107.41717122395833,107.41717122395833,113.60292643229167,113.60292643229167,80.37793705778302,93.3319729477612,124.93217600000001,125.17867838541667,125.17867838541667,125.17867838541667,79.6407199182243,79.6407199182243,105.40397135416667,104.52644906323185,120.54350483021078,106.48820298507462,106.48820298507462,106.48820298507462,98.39863235294118,89.87764973958333,89.87764973958333,126.75356770833334,126.75356770833334,102.19843424479167,37.099638671875,37.099638671875,37.099638671875,129.47277713625866,83.60957808219179,83.60957808219179,83.60957808219179,105.33788411458335,69.34179361979167,69.34179361979167,122.50930531103286,94.50545594262294,139.727536407767,31.147539427570095,124.47229166666668,98.20060546875001,83.60646933333334,83.60646933333334,80.46704478922716,64.9374229753521,43.773834228515625,78.39381184895834,187.30131831455986,119.58354080578513,98.41833650468384,117.34921144859814,76.11480359228972,45.67409926470588,45.67409926470588,114.04128580729167,144.77013685597188,120.91904000000001,40.86817057291667,40.86817057291667,63.72205403645834,112.580543764637,78.50443033854167,39.80275907494145,39.80275907494145,146.37455252347416,91.19405076291079,85.6369669117647,85.6369669117647,100.80715288173653,100.80715288173653,106.91195638020834,113.37977213541667,64.6234228286385,76.59707682291668,122.05353708791209,122.05353708791209,122.05353708791209,122.05353708791209,114.8657663551402,110.09247292154566,98.01717040481401,97.41013431425486,90.631171875,143.83294423302107,145.99978460864486,125.42970377604168,65.6591737412178,65.6591737412178,86.61564255617978,125.4995075075075,125.4995075075075,56.950529411764705,101.34256859756097,97.08326731220657,97.08326731220657,108.86714681440442,89.4226911764706,89.4226911764706,132.63418471896955,69.1303125,132.07772135416667,132.07772135416667,132.07772135416667,92.9546155690537,71.5909714033019,71.5909714033019,104.37177924791087,59.498916015207826,134.955792,68.27853483606557,55.38017052107728,98.5285523796499,155.71981119791667,160.00597333333334,91.75268223067916,91.75268223067916,149.3831224173554,110.69890950520833,142.50642832880436,160.73849609375,160.73849609375,100.6613144028103,111.67197014051523,111.67197014051523,111.67197014051523,117.74883789062501,116.14273767605634,126.32508063138108,126.32508063138108,91.30515513657957,91.30515513657957,91.30515513657957,96.1785593879668,54.599992681498826,54.599992681498826,54.599992681498826,123.44802734375001,86.3216232638889,86.3216232638889,74.85755533854167,111.41787760416668,85.5882702978972,85.5882702978972,126.07276542030569,104.10148948598132,104.10148948598132,104.10148948598132,76.79947050415801,76.79947050415801,84.24482508912656,74.64248383620689,114.53360533333334,103.73102678571429,125.47108266666667,57.73186109484777,98.30832356770834,113.74851466049383,105.58964518229168,116.96102067490493,116.96102067490493,116.96102067490493,116.96102067490493,116.96102067490493,116.96102067490493,116.96102067490493,109.14295228337237,122.25234923887588,122.25234923887588,89.28946133333334,101.41929455445545,101.41929455445545,113.57499269859814,119.64473307291668,84.2224275468384,81.90058919270834,62.95020491803279,100.00362630208333,100.00362630208333,116.71769261853449,116.71769261853449,83.9554577978972,83.9554577978972,121.97810872395834,121.97810872395834,121.97810872395834,93.459580078125,118.68695290963332,122.14985695422536,60.38308025234742,204.5838346962617,196.22731454439253,103.36726800351288,121.00817110655737,81.36120768229168,165.32049546252927,165.32049546252927,123.30889310747664,123.30889310747664,154.1472269144144,106.02025395199063,89.39640950520834,119.28041373239436,68.80345377604166,68.80345377604166,88.6826953125,88.6826953125,93.85975556206088,82.92207356770834,130.76241210937502,67.07023199648712,67.07023199648712,67.07023199648712,130.35528395784544,136.4859375,67.4460900900901,107.7153095657277,107.7153095657277,91.02441817915691,91.02441817915691,91.02441817915691,91.02441817915691,104.83884135730858,104.83884135730858,104.83884135730858,104.83884135730858,119.75848713646533,119.75848713646533,111.23360677083335,111.23360677083335,131.99728841145833,125.14456441627358,134.98712533333335,106.29130453601108,74.31419423302108,74.31419423302108,117.37130533854167,121.26405884074941,121.26405884074941,119.72680457746479,89.25875994035786,163.935825,163.935825,118.82748355333419,118.82748355333419,119.02954112997658,76.02333532934132,218.17340448943662,109.48633734939759,134.59275390625,100.68844513747455,100.68844513747455,92.91325525525525,92.91325525525525,92.91325525525525,92.91325525525525,133.72582699063233,120.30828198356807,130.0731337822014,97.61476305751174,110.14070638020834,110.14070638020834,94.00045331790123,94.00045331790123,94.00045331790123,140.729501953125,131.75570737447697,77.397616,77.397616,25.03976758356546,115.20910547785547,110.28750366784037,111.39558823529413,111.39558823529413,111.39558823529413,111.39558823529413,99.22248019366197,99.22248019366197,135.27397906908666,148.11327466666668,78.31942121478873,78.31942121478873,67.9214624707944,88.41039599999999,42.26333455882353,99.75657276995305,99.75657276995305,137.24063602941177,174.0840512820513,115.42494466145834,133.16687569290465,83.74332682291667,83.74332682291667,165.479745,167.16421333333335,94.30939700704225,94.30939700704225,94.30939700704225,85.69083333333334,100.9503308354592,100.9503308354592,100.9503308354592,134.25362630208335,146.16192057291667,163.16554666666667,108.34944144144144,185.76546399297425,82.37245259938838,82.37245259938838,140.21099970725996,107.76030924479167,107.76030924479167,88.36514364303177,99.42654119318182,166.52090529859484,147.070578125,151.2493333333333,94.51594959266802,94.51594959266802,94.51594959266802,75.32097330729167,110.59218750000001,110.59218750000001,110.59218750000001,104.15913740335051,153.61853044496488,130.04860351562502,121.68298502604168,93.35812825520834,95.68542647058824,79.1213174882629,79.1213174882629,136.48315281030446,136.48315281030446,101.08890581476324,55.34686440677966,96.73899663348946,135.6816807827103,102.44056279274005,102.44056279274005,102.44056279274005,102.44056279274005,102.44056279274005,102.44056279274005,132.4934975117096,79.64104044117647,79.64104044117647,114.18988583138173,114.18988583138173,107.39144101288056,124.76103131469979,115.61290364583334,135.22382933333333,105.61120418490154,105.61120418490154,105.61120418490154,85.07148763020834,85.07148763020834,85.03481514084507,98.12826405152225,98.12826405152225,119.94244791666668,104.69450913915094,67.66087890625,117.74694522471911,117.74694522471911,117.74694522471911,125.90347200000001,125.90347200000001,90.36343896713615,107.07946530963304,46.1685861013986,80.33551025390625,80.33551025390625,144.61713917525773,33.145237333333334,33.145237333333334,106.96382161458334,73.39336588541667,155.66631293911007,139.67269467213114,80.52127278645834,66.99502931769723,120.87940507629108,120.87940507629108,127.65090383489462,76.49379464285714,95.64231191451991,95.64231191451991,95.507724609375,90.343171875,90.343171875,115.91625976562501,81.27864469365427,81.27864469365427,81.27864469365427,81.27864469365427,81.27864469365427,78.80846750585481,78.80846750585481,78.80846750585481,78.80846750585481,78.80846750585481,138.384485,145.50621706674474,145.50621706674474,177.699033203125,125.24552205882354,121.68430664062501,107.3737905334728,107.3737905334728,107.3737905334728,118.69681658878505,92.74830403645834,92.74830403645834,68.80849249249249,49.35493266978923,111.48716700819672,111.48716700819672,111.48716700819672,111.48716700819672,111.48716700819672,101.63454752604167,109.29132773109244,104.08615492334906,97.34052366631799,114.79331619537274,114.79331619537274,114.79331619537274,114.79331619537274,114.79331619537274,197.0293069379391,79.69983523725836,48.961147460937504,114.793671875,127.18403468969555,127.18403468969555,127.18403468969555,127.18403468969555,127.18403468969555,74.00894586267606,74.00894586267606,136.81692279411766,129.5644984984985,100.56439414660832,100.56439414660832,100.56439414660832,132.7112668325527,102.87420266666668,114.55026645734546,72.55914759389671,173.03044307511738,101.09841145833335,101.09841145833335,129.4469706666667,52.77015299479167,80.4713011021402,111.5770985878661,92.62063029661017,87.39783350840337,159.99153615339577,73.88266276041666,73.88266276041666,73.88266276041666,112.78169747652582,112.78169747652582,140.6871450526932,110.24765950520835,126.03183913934426,102.58955729166668,54.14055181498829,111.18404622395835,128.12435591603054,128.12435591603054,73.66940104166667,130.08124445921987,130.08124445921987,124.61526594065657,112.50834531903764,167.68743413348946,41.418362630208335,41.418362630208335,104.48930053710939,104.48930053710939,97.37883855386417,97.37883855386417,97.37883855386417,97.37883855386417,112.664111328125,86.97811848958334,43.02151951951952,113.4677400468384,113.4677400468384,120.14596354166667,100.56617929469273,155.1439670138889,155.1439670138889,91.13764973958334,101.02647596914557,98.0029242114486,98.0029242114486,112.8291224211165,88.26841796875,153.40873046875,120.14001801378446,133.16819010416668,154.69436201780417,140.81962132352942,44.66223307291667,138.37841911764707,92.4030246559633,110.14169270833334,133.14898133333335,141.35495689655173,141.35495689655173,141.35495689655173,141.35495689655173,141.35495689655173,141.35495689655173,110.94580800000001,138.28183919270833,68.44218019859814,121.7377518983645,131.05272845643938,157.80334635416668,143.29711285128806,166.36923919392524,145.04654301385682,145.04654301385682,49.33811331775701,129.71536458333333,129.71536458333333,159.8472426666667,151.48690214201878,195.313671875,115.60815139155471,73.44792520491804,131.44330538922156,48.51373856707317,48.51373856707317,105.53845425407926,105.53845425407926,167.77444196428573,167.77444196428573,167.77444196428573,167.77444196428573,113.24806164089348,127.979462890625,82.18337602459016,177.9616447748268,105.03179760514018,97.32824632352941,57.45960611979167,153.0218237704918,125.78732892335768,124.71863201530613,124.71863201530613,140.68658152810303,136.56498697916666,98.29650390625001,140.96299804687501,140.96299804687501,140.96299804687501,85.07912397540984,85.07912397540984,85.07912397540984,118.36705384419552,118.36705384419552,107.41403329439252,97.16770528752437,40.2129855432243,111.96370220588236,119.41530070754717,78.09577473958333,118.500126953125,118.500126953125,118.500126953125,118.500126953125,118.500126953125,118.500126953125,68.8261343676815,50.617486857476635,50.617486857476635,50.617486857476635,50.617486857476635,97.2512617370892,169.30037760416667,184.43857100938968,182.339580078125,113.43810872395834,125.00969923971377,109.63976888020834,54.33883196721312,54.33883196721312,127.80894400000001,159.967152,63.006803385416674,85.72639783372365,93.68862338992975,93.68862338992975,129.40291200000001,98.36532226562501,98.36532226562501,112.43104508196721,112.43104508196721,140.445400390625,127.86270857728337,127.86270857728337,127.86270857728337,103.44878906250001,95.41246985530547,95.41246985530547,164.5123206967213,190.3402567164179,126.79294842007435,126.79294842007435,126.79294842007435,107.80807230679157,120.0682866719243,120.0682866719243,54.82743243243243,120.900244140625,94.42683328454332,111.53643333333333,63.707330607476635,63.707330607476635,63.707330607476635,135.58027136411891,135.58027136411891,93.48250778008298,47.27462565104167,97.55054997086248,97.55054997086248,77.37169066666667,115.79626182033097,115.79626182033097,138.94968942110657,88.05709528688524,88.05709528688524,89.45178819444445,166.28807412790698,90.63825671641791,109.41169270833333,109.41169270833333,127.73107394366197,45.6059375,23.020985802107727,77.65804044117647,73.08027994791667,73.08027994791667,73.08027994791667,111.75870361328126,131.61652035541886,133.48066133333333,138.90555108313816,58.01957993323442,119.10599385245902,134.23054577464788,111.34899475524476,62.284536007025764,106.52919450431034,86.41968263473053,109.82344075520834,109.82344075520834,100.90050130208334,145.73533901949543,90.91995148916968,90.91995148916968,100.48111046511627,99.310537109375,146.3185114155251,146.3185114155251,146.3185114155251,58.665927536231884,98.5273486005089,158.62101648938443,144.60288546580188,106.97234375000001,106.97234375000001,106.97234375000001,73.769912109375,109.76443088128497,109.76443088128497,109.76443088128497,109.76443088128497,109.76443088128497,109.76443088128497,109.76443088128497,109.76443088128497,124.3390625,106.55755269320844,126.83950892857143,126.83950892857143,126.83950892857143,96.14714666666667,125.75967505854801,119.16821940104167,119.16821940104167,109.68948063380282,128.47194133333335,100.15518034462617,122.78796223958334,164.76453373015875,93.38009494617225,93.38009494617225,100.73138539227166,115.80353190104168,158.6528468969555,149.12254464285715,101.89797277517565,101.89797277517565,101.89797277517565,101.89797277517565,120.59587470794393,120.59587470794393,113.63830403645834,113.7459648241206,40.71757629107981,97.12255859375,23.64416176470588,23.64416176470588,106.55353821215986,65.37315204326923,129.81248697916666,129.81248697916666,97.87248019366197,146.79316516516516,91.33106906906907,76.9302656615925,104.10786601027397,148.3147587466359,115.58770833333334,44.0681377245509,66.9559696969697,73.92715026285047,73.79944145414157,133.04850299401198,157.14361002604167,99.58423843393567,132.4116160504695,100.3396539135514,117.92651692708334,96.63340425531915,96.63340425531915,96.63340425531915,120.88610288997215,120.88610288997215,120.88610288997215,120.88610288997215,98.48058593750001,112.89923700350468,112.89923700350468,112.89923700350468,112.89923700350468,77.0414235015773,93.40394648829431,100.17657724056603,100.17657724056603,126.62264344262294,130.40486765521064,158.29350367647058,139.21842500000002,97.59375976562501,143.31444726980726,154.73194525761124,107.36795528017241,99.591024,99.591024,93.15832331730769,93.15832331730769,61.32473524305556,61.32473524305556,128.16856770833334,79.96806966145834,135.420283157277,75.94543998430962,137.99913085937501,137.99913085937501,114.1179925351288,108.73270638173302,121.1976544203747,121.1976544203747,121.1976544203747,135.58349119928403,122.9326419890873,149.55204969376393,98.54783203125001,98.54783203125001,95.98314627347418,95.98314627347418,111.91621422558923,82.58373866666668,32.668110294117646,32.668110294117646,32.668110294117646,170.48729874121778,64.55889675817757,105.58635099531615,99.7851758629707,121.51430265077822,105.23147786458334,117.20126176778243,142.7390087890625,91.95385685011709,91.95385685011709,61.89071282201405,106.967119140625,225.9467900552486,110.02270592485549,109.59966048481309,48.49862778103044,48.49862778103044,134.2197021484375,83.7166265060241,83.7166265060241,83.7166265060241,107.3683892947157,133.670624,120.68976141686183,120.68976141686183,102.1268662177986,87.26358060747664,98.93085294117647,98.93085294117647,87.55382313829787,129.37661783854168,103.05259074941452,124.25885904566745,124.25885904566745,124.25885904566745,124.25885904566745,54.226689453125005,74.87832682291668,74.35213523131672,74.35213523131672,107.9750460600907,106.20883463541668,71.80643296252927,71.80643296252927,127.75188376168225,110.976962890625,154.92276419789226,154.92276419789226,81.82094400000001,61.28663,148.42151639344263,81.3011260269953,81.3011260269953,81.3011260269953,60.44621267564403,123.96900614754098,116.53607987733645,116.53607987733645,102.54310344827586,63.37240683685446,63.37240683685446,63.37240683685446,63.37240683685446,169.40539338235294,113.195654296875,122.33767564402811,137.45293294270834,107.66645199063232,120.24652110299456,105.7296875,82.08116949648712,96.94733072916668,92.90904522613066,166.4515135135135,81.75914388020834,134.54170898437502,121.83558268229167,54.756446629213485,54.756446629213485,81.69461724238876,176.14478939724037,134.26143543543543,118.66814285714287,118.66814285714287,109.42865885416667,80.85672681924882,76.09028037383177,101.3879281323185,56.260068359375005,152.4610595088161,77.21094115925058,119.36277343750001,119.36277343750001,139.35723618090452,112.29647135416667,112.29647135416667,112.29647135416667,112.29647135416667,112.29647135416667,112.29647135416667,112.29647135416667,112.29647135416667,144.63991861979167,142.78889221556886,114.33451822916668,89.15099669220056,103.134130859375,103.134130859375,81.34275449101797,102.24294270833335,123.59271933685446,139.4199831674473,105.80935132575758,98.9757318501171,112.54735661764707,112.54735661764707,112.54735661764707,112.54735661764707,112.54735661764707,117.18254231770834,116.87478776346605,116.87478776346605,127.96704000000001,103.09456426056337,118.12577049180328,66.26429036458333,133.70286397058823,91.88356264637002,58.67234700520834,137.51145833333334,137.91614414414414,157.858740234375,94.7119730679157,132.76404054449648,86.89257082359813,101.0622543065371,79.43966176470589,129.31133680555556,122.22233217592591,127.18623837527353,132.94675790398125,149.17272202998845,112.66179720188283,94.86351498463115,115.34196289062501,115.34196289062501,112.40428462543554,108.62228022780374,101.69823475950783,110.65616238317757,110.65616238317757,110.65616238317757,110.65616238317757,110.65616238317757,101.0203125,91.29794311523438,100.22513048016702,105.422958984375,105.422958984375,135.36196648044694,112.98950195312501,112.98950195312501,93.90224,138.59889066666668,155.07589285714286,155.07589285714286,92.59064204545454,116.11975466666668,184.514320754717,172.39419380868543,87.09039392605634,135.96200846354168,135.96200846354168,135.96200846354168,197.38208408408408,89.86777526285047,89.86777526285047,121.52368971456693,70.82409926470588,91.2827719634434,91.2827719634434,205.2689395680147,180.42931175595237,180.42931175595237,130.10434133333334,105.4540837236534,106.12784383033419,106.12784383033419,117.771962890625,92.9301418671548,108.93617513020834,105.91253293325526,132.3730859375,160.9675080128205,140.23973626373626,140.23973626373626,140.23973626373626,140.23973626373626,104.84131184895834,106.58608533333334,150.45892903645833,136.29701771077282,110.22086267605634,110.22086267605634,118.38329586330936,66.57536783854167,135.93391927083334,111.67324721896955,142.51676838235295,142.51676838235295,142.51676838235295,91.098193359375,99.31442049522673,99.31442049522673,99.31442049522673,85.61449092741935,95.78784031030445,172.1720210280374,150.46775716145834,131.87619291569086,120.65750512295082,123.11459309895834,50.18067279411765,109.71149920886077,112.12555013020834,126.36471384660422,100.75234189429929,105.979970703125,112.58131220725996,135.72489631006866,122.90390299479168,110.7164963312369,107.58440104166668,111.59286446135832,86.25156983568075,97.676611328125,97.676611328125,100.3262977248954,100.3262977248954,122.08985677083334,113.15724531615925,139.48103410421547,136.9616693501171,156.408125688326,150.12856514084507,82.29077844311378,82.29077844311378,131.494740270836,83.47110835280374,83.47110835280374,129.41069117647058,81.68188305035129,115.96243047423887,108.49268880208334,108.49268880208334,97.47989864864866,101.49672739055299,101.49672739055299,117.21240234375001,136.75295572916667,136.75295572916667,145.39139733333334,96.62167643229168,105.60538275761124,105.60538275761124,122.45474698795181,122.45474698795181,122.45474698795181,136.85756617647058,129.285421686747,43.05554010538642,136.45160651408452,107.50496419270834,129.84558908045977,129.84558908045977,129.84558908045977,129.84558908045977,129.84558908045977,79.94213213213213,92.215185546875,95.0476747047244,95.0476747047244,114.17663736979168,114.17663736979168,86.43329752604167,107.38356266666668,126.54176203051642,94.50493815104167,94.50493815104167,103.7744474531616,103.7744474531616,109.16461138758783,123.29513020833335,123.29513020833335,107.5370341842723,126.54707031250001,131.4423992406542,131.4423992406542,133.9351068501171,133.9351068501171,133.9351068501171,133.9351068501171,142.31429669203746,142.31429669203746,142.31429669203746,90.08455796252927,115.02494466145833,115.02494466145833,115.02494466145833,115.02494466145833,115.02494466145833,109.01722775175644,118.69845377604167,122.23603653169013,114.93269540398127,108.20302596830986,76.21726236979167,76.21726236979167,69.78238337818787,69.78238337818787,69.78238337818787,110.54868568232662,148.70074282786885,88.93842647058824,88.93842647058824,88.93842647058824,90.05583152173914,108.64080403645833,98.772368,98.772368,98.772368,98.772368,45.15611127336449,200.2410458846831,200.2410458846831,200.2410458846831,77.49167317708334,146.79285481770833,124.09491500000001,88.96534830729168,134.0689475995316,77.89719701405153,165.33901367187502,122.40736002604167,92.32664300351288,122.59080729166668,95.42685872395833,95.42685872395833,95.42685872395833,121.10367022833724,121.10367022833724,121.10367022833724,121.10367022833724,121.10367022833724,47.11581866666667,63.857015015015016,93.29001753507013,123.12700786817102,101.29654296875,135.01472656250002,119.473603515625,119.473603515625,119.473603515625,101.90916015625001,101.90916015625001,101.90916015625001,101.90916015625001,96.25282128220141,103.56462239583334,103.56462239583334,99.51992513020834,99.51992513020834,162.22787733100233,133.9728081088993,133.9728081088993,121.86589087995338,121.86589087995338,66.36924515845071,144.19757248358863,103.49974283854168,109.869078125,109.869078125,90.88979492187501,122.97308987119438,97.715952,97.715952,113.50271337579618,101.45266666666667,101.45266666666667,86.095693359375,58.79554480651731,123.75403829225351,127.58510742187501,172.256238372093,92.26448364257813,92.26448364257813,92.26448364257813,60.669985961914065,60.669985961914065,60.669985961914065,108.11785585585585,123.08391027517564,109.74755403037383,109.74755403037383,124.45376953125,102.79361198188784,141.996,113.40463248239436,111.33681382275132,104.090816,97.85838334309133,155.131372,82.71506985294118,82.71506985294118,82.71506985294118,82.71506985294118,52.28611979166667,101.21395195195196,81.39270719365427,112.00431640625001,78.04258088235294,78.04258088235294,93.0135076697128,110.27583088235295,110.27583088235295,83.61818089978448,93.52492279411764,109.23494950234192,109.23494950234192,66.70396996996998,123.18736012554585,123.18736012554585,104.00255533854167,103.87437207943925,121.77024406934306,118.72722426470588,79.5067223880597,79.5067223880597,79.5067223880597,139.52905045638946,116.23777915632755,161.3049375,69.735488,69.735488,119.63585410814608,197.21430013020836,122.1484477571116,122.1484477571116,122.1484477571116,120.31028645833334,141.5030303030303,99.83459887222863,92.97539885831382,129.24550644028102,129.24550644028102,116.59100900900901,116.59100900900901,116.59100900900901,131.98638346354167,131.98638346354167,131.98638346354167,151.9541377245509,106.78850865610329,106.78850865610329,114.89299479166668,114.89299479166668,110.26587239583334,142.6448331381733,160.54151174168297,159.0743397887324,144.48250325520834,137.23466471354166,111.60962100456621,111.60962100456621,111.60962100456621,111.60962100456621,67.140125,67.140125,67.140125,67.140125,66.88924912177986,118.13954833984376,105.07505134976526,152.5607471590909,152.5607471590909,94.49389973958334,166.91645182291668,119.35894320843092,119.35894320843092,119.35894320843092,103.60154203056769,103.60154203056769,112.07366400000001,79.97939475995317,99.0993193793911,119.36849066666667,119.36849066666667,89.07200575313807,110.07515271903968,110.07515271903968,72.48491871704745,64.50811525612473,64.50811525612473,125.35022942643391,125.35022942643391,125.35022942643391,125.35022942643391,125.35022942643391,121.98133789062501,121.98133789062501,121.98133789062501,121.98133789062501,101.19185490576497,71.9,71.9,71.9,71.9,143.55760742187502,60.220857938718666,60.220857938718666,105.411396484375,147.0931484741784,86.80322133333334,112.09557617187501,99.20427670187793,120.28273600000001,120.28273600000001,120.28273600000001,142.6574986924686,70.2542019567757,70.2542019567757,112.46729266826924,103.29582841981131,103.29582841981131,103.29582841981131,103.29582841981131,96.1165625,111.78870367954072,111.78870367954072,118.58931966145835,118.58931966145835,77.82283076722338,77.82283076722338,77.82283076722338,85.65766927083334,85.65766927083334,85.65766927083334,109.53789792640187,125.00948166259168,140.5456967213115,66.3298748585973,66.3298748585973,98.32004411764706,195.14321084337348,103.89306731892523,103.89306731892523,103.89306731892523,65.11166203161592,99.94163200000001,99.94163200000001,99.94163200000001,118.37700161007025,118.37700161007025,124.49669921875001,124.49669921875001,124.49669921875001,117.37223423423424,89.05559865339579,168.73225604363208,77.97927784222738,182.3027480971897,121.58379172343325,131.34109815140846,131.34109815140846,131.34109815140846,94.560625,94.560625,3.172822745901639,87.64857228915662,85.12793619791667,101.91363455414013,101.91363455414013,101.91363455414013,131.1678125,131.1678125,131.1678125,155.6146662763466,123.79770833333335,60.338055066510165,80.28583138173302,111.69014973958335,106.31645182291668,51.50779301745636,104.09746307439825,104.09746307439825,72.729104,62.48255941901408,97.98345867406543,124.64768559272301,124.64768559272301,124.64768559272301,124.64768559272301,95.32253212616823,99.27371105341246,113.76147130782918,113.76147130782918,113.76147130782918,125.87853483606557,116.10082669667591,159.3895486111111,82.26787760416667,104.39096915192927,160.11786446135832,94.19160567915691,62.56234666666667,62.56234666666667,125.24459696261682,117.00301106770834,117.00301106770834,97.28888671875,140.1422606850117,140.1422606850117,114.61084309895834,111.11873170374707,66.91775866119868,128.12674479166668,122.03860004378284,116.86734118852459,116.86734118852459,116.86734118852459,112.51042520491804,143.85111653645833,98.73700234192037,100.62013346354168,100.62013346354168,151.49054143246465,141.65108,104.21602393617022,91.15071460674157,106.84727746212121,106.84727746212121,98.37082500000001,126.991887441452,108.9287543911007,117.04493866666667,148.82238606770835,96.44056279274005,96.44056279274005,96.44056279274005,96.44056279274005,96.44056279274005,101.94274088541667,113.11060005868545,119.89730143229167,123.17494466145834,123.17494466145834,123.17494466145834,115.16371744791667,98.29732142857142,98.29732142857142,114.66546765222482,114.74770666666667,114.74770666666667,114.74770666666667,85.05293151285048,127.13794270833334,83.63689453125001,123.65254317915691,59.97893820224719,126.71014973958334,137.03026838235294,108.86949544270834,123.08252929687501,114.54762146892655,137.12879057517085,137.12879057517085,137.12879057517085,126.42883734939758,129.28652068661972,129.28652068661972,125.22562500000001,83.56160481770834,80.63931640625,79.61404800000001,79.61404800000001,55.954733682266,59.359296875000005,59.359296875000005,59.359296875000005,121.13877333333335,131.44755880743983,131.44755880743983,131.44755880743983,119.0550322769953,84.69562424242424,158.93538861241217,158.93538861241217,111.29137323943662,119.73882133333333,115.4937890625,106.78211194248826,44.34186302923387,128.507615658363,107.20518229166667,139.52689778645833,89.81638978337237,89.81638978337237,107.72796071845795,161.37298828125,90.42518120897155,120.37168683274021,120.37168683274021,120.37168683274021,99.23938666666668,94.53223750000001,154.6909415182195,103.88298498498499,107.72669596354167,138.1691796875,138.1691796875,81.79964192708334,81.79964192708334,128.78962602459018,128.78962602459018,160.45171875,160.45171875,82.07623372395834,107.16785871478874,27.16390299479167,104.02121276855469,104.02121276855469,120.37229947306791,113.11714670365535,67.13657066666667,87.43775554906543,87.43775554906543,87.43775554906543,120.06907552083334,120.06907552083334,120.06907552083334,148.71674547697367,124.409873046875,126.61561397058824,117.76168000000001,130.06540544496488,92.44837890625,68.90799503504674,68.90799503504674,68.90799503504674,46.13894202686916,178.54465806613226,178.54465806613226,178.54465806613226,105.28561170212767,73.86824939320388,73.86824939320388,138.06098958333334,60.304810810810814,60.304810810810814,69.662373046875,69.662373046875,69.662373046875,69.662373046875,69.662373046875,125.1915136946387,110.91883463541667,128.9082261965377,128.9082261965377,128.9082261965377,103.42923009367682,103.42923009367682,103.42923009367682,128.16133056133057,166.20737338992973,144.04817279411765,144.04817279411765,109.76470214843751,53.0648828125,98.41565866666667,113.36290064102565,113.36290064102565,91.98503466666668,171.4684785798122,171.4684785798122,81.30976653981264,132.98202024647887,132.98202024647887,132.98202024647887,103.63701470588235,103.63701470588235,103.63701470588235,103.63701470588235,138.2845543032787,103.34171692307693,103.34171692307693,98.08416272271715,42.94974691901408,110.74287082172702,132.89012250586853,52.94066272189349,150.3317944250871,133.92833984375,115.16496000000001,118.9462634408602,101.20794921875,162.7048965669014,91.86852539062501,91.86852539062501,91.86852539062501,122.4781506147541,151.03319503182536,151.03319503182536,93.43656323185012,93.43656323185012,133.88220052083335,154.80803710937502,151.29907786885246,125.38780266666667,100.98724800000001,117.69745135927505,84.42326497395834,84.42326497395834,90.83912104800937,90.83912104800937,144.23943359375002,111.91342738309353,50.39630859375,50.39630859375,157.69943184245375],\"xaxis\":\"x\",\"yaxis\":\"y\",\"type\":\"histogram\"},{\"alignmentgroup\":\"True\",\"bingroup\":\"x\",\"histfunc\":\"count\",\"histnorm\":\"percent\",\"hovertemplate\":\"gender=Unsure<br>brightness=%{x}<br>percent=%{y}<extra></extra>\",\"legendgroup\":\"Unsure\",\"marker\":{\"color\":\"#00cc96\",\"pattern\":{\"shape\":\"\"}},\"name\":\"Unsure\",\"nbinsx\":20,\"offsetgroup\":\"Unsure\",\"orientation\":\"v\",\"showlegend\":true,\"x\":[79.38257464871194,113.60647135416667,113.60647135416667,101.15503146955504,57.503765333333334,57.503765333333334,116.98718202954049,116.98718202954049,116.93359557962529,107.7627730855856,107.7627730855856,107.95928717798594,68.26651102941176,61.30075846354167,96.42996691176471,63.186400000000006,145.9421842447917,145.9421842447917,79.55420572916667,79.55420572916667,55.46542317708334,55.46542317708334,55.46542317708334,65.8770930913349,79.6407199182243,89.87764973958333,89.87764973958333,37.099638671875,37.099638671875,59.75697265625001,122.50930531103286,124.47229166666668,76.71341200313807,143.91369791666668,45.67409926470588,104.38178790983606,63.72205403645834,75.31849283854167,131.96146133333335,111.63015243902439,98.49427507637475,124.90389059020045,119.277880859375,76.78406396370023,100.80715288173653,48.95368168168168,106.91195638020834,146.8867754683841,114.8657663551402,114.8657663551402,83.89913411458333,175.4268320221445,63.29760990712074,78.80076191212872,127.25805664062501,84.4216921201232,84.4216921201232,98.4763356264637,138.36564778645834,114.87224116161616,112.58514361702129,112.58514361702129,129.208615,79.12759466666667,91.75268223067916,225.1290837236534,65.86460266666667,65.86460266666667,76.27491291291291,128.2439713541667,87.6446321770335,87.6446321770335,82.24891334529454,126.32508063138108,126.32508063138108,126.32508063138108,126.32508063138108,54.599992681498826,110.19239386792454,52.85615851873536,103.73102678571429,103.73102678571429,57.73186109484777,100.01302917681234,45.62691012880562,45.62691012880562,121.71936785130718,101.89294270833334,116.96102067490493,81.90058919270834,110.86269703960015,103.89642857142857,79.58008463541667,162.26347701990633,103.36726800351288,103.36726800351288,121.00817110655737,194.70558401639343,81.36120768229168,128.39229166666667,128.0112924473068,82.60828363636364,73.04725260416667,92.7273108936916,92.7273108936916,92.7273108936916,100.70963846604215,104.83884135730858,119.75848713646533,131.99728841145833,134.98712533333335,95.148759765625,117.37130533854167,103.040625,177.5929486241218,177.5929486241218,114.76331733333335,114.76331733333335,142.0178747406639,149.767255859375,134.59275390625,134.59275390625,142.18489461358314,142.18489461358314,107.20554060404118,107.20554060404118,110.14070638020834,41.37604044976636,109.60161783854167,73.86507256799163,73.86507256799163,73.86635416666667,93.23367187500001,113.50713867187501,110.28750366784037,82.52811029411765,101.78494466145834,78.31942121478873,67.9214624707944,115.027275,76.08632903981264,106.92556966145834,99.75657276995305,83.74332682291667,83.74332682291667,83.74332682291667,94.30939700704225,94.30939700704225,88.84548570165094,146.16192057291667,146.16192057291667,108.34944144144144,82.37245259938838,107.76030924479167,107.76030924479167,97.85709960937501,75.32097330729167,75.32097330729167,108.24544087441315,121.68298502604168,121.68298502604168,121.68298502604168,193.9353823529412,83.03891612997658,59.05233826112412,139.78882830796252,94.79235651214128,119.68629231770834,114.69146809895834,128.45810661764708,128.45810661764708,126.45317708333334,85.07148763020834,179.50893333333335,179.50893333333335,117.74694522471911,113.60102933333334,116.72238932291667,116.41904935747664,56.67754231770834,33.145237333333334,33.145237333333334,33.145237333333334,106.96382161458334,107.4897205882353,107.4897205882353,73.39336588541667,73.39336588541667,161.86221561192468,95.64231191451991,55.81685505319149,55.81685505319149,120.71890002927401,78.80846750585481,70.308508,84.79002666666668,92.74830403645834,143.88661333333334,143.88661333333334,86.87525898158827,91.15204379067245,114.79331619537274,145.60817057291666,58.7344140625,92.828310546875,159.18055715935336,62.67664533333334,48.961147460937504,48.961147460937504,48.961147460937504,138.86460106382978,138.86460106382978,122.29597005208335,122.29597005208335,203.29582113583137,72.13760294117647,72.13760294117647,74.91143466666666,121.71868489583333,73.88266276041666,73.88266276041666,88.53839518229167,88.53839518229167,120.11667676592799,162.09920425801013,108.77095881925754,120.25233600000001,120.25233600000001,120.25233600000001,141.3067635793872,141.3067635793872,134.94249651810586,112.90688802083334,112.664111328125,96.35769856770834,86.97811848958334,86.97811848958334,106.21356907894736,117.89081770833333,117.89081770833333,157.05693359375002,91.13764973958334,114.97042643229167,114.97042643229167,114.97042643229167,108.406923828125,111.39471788194444,87.63130017201836,87.63130017201836,87.63130017201836,140.81962132352942,44.66223307291667,87.70890299479167,88.65632161458333,95.76239800913838,90.30827437106917,58.43199632352941,133.40978515625,97.1343344634434,97.32824632352941,140.96299804687501,97.16770528752437,101.98916015625001,127.68279947916668,78.09577473958333,89.86618914113785,89.86618914113785,184.43857100938968,113.43810872395834,143.06482985074626,54.33883196721312,110.5754945527523,110.5754945527523,100.13910807291667,113.81152300443459,109.00562842153283,132.60963216145834,112.43104508196721,92.13376646706587,95.41246985530547,95.41246985530547,78.93610891350211,126.79294842007435,77.66721321321322,94.42683328454332,94.42683328454332,63.707330607476635,63.707330607476635,55.43807257174393,55.43807257174393,115.08757486979168,93.48250778008298,119.99356337822014,131.20741333333334,109.41169270833333,109.41169270833333,127.73107394366197,127.73107394366197,127.73107394366197,73.08027994791667,105.43149882903981,111.75870361328126,111.75870361328126,111.75870361328126,109.82344075520834,109.82344075520834,100.48111046511627,99.40747415523943,182.50479166666668,93.70031901041668,98.5273486005089,114.34834258177571,108.32367431640625,124.3390625,76.71569468896713,76.71569468896713,76.71569468896713,109.16147667253522,125.98127466666668,38.791513513513515,38.791513513513515,117.781376953125,101.89797277517565,194.97083628318583,108.71443243243243,108.71443243243243,108.71443243243243,143.01180338541667,113.63830403645834,89.93037434895834,126.3283193955399,97.24427916666667,98.58973946135832,103.97981866666667,101.82263791079812,129.05151463347923,115.58770833333334,115.58770833333334,79.37622950819672,133.04850299401198,100.3396539135514,96.63340425531915,96.63340425531915,83.48932169976636,83.48932169976636,145.87894400000002,87.199326171875,121.754873046875,93.15832331730769,93.15832331730769,93.15832331730769,114.56911958430914,118.88519467213115,118.88519467213115,61.32473524305556,135.33293693693693,79.96806966145834,79.96806966145834,83.06652462121212,83.06652462121212,82.98185585585585,82.98185585585585,82.98185585585585,125.87986506024097,137.99913085937501,159.96907747005986,114.1179925351288,121.1976544203747,98.54783203125001,94.91620682084309,94.91620682084309,72.73869642857143,111.91621422558923,111.91621422558923,111.91621422558923,108.94176899696049,117.20126176778243,91.95385685011709,61.11313157126168,132.02312,104.47491455078125,104.47491455078125,112.91305125584113,128.20404245991983,128.20404245991983,89.6723963963964,56.27012177230047,120.68976141686183,120.68976141686183,87.26358060747664,87.26358060747664,98.93085294117647,94.99241689750693,103.05259074941452,114.94626077586206,114.94626077586206,114.94626077586206,74.87832682291668,74.87832682291668,74.87832682291668,58.46531016042781,113.36856119791668,88.83085572429907,127.4864024024024,127.4864024024024,138.7320648923445,102.54310344827586,120.15136539365201,63.37240683685446,100.78785294117647,111.6542216842723,111.6542216842723,111.6542216842723,111.6542216842723,137.45293294270834,78.45902511503068,78.45902511503068,97.32738625703564,119.58421223958334,70.43853406326035,105.7296875,107.50077799479168,91.50656835480093,89.28013997395834,161.5589724824356,166.4515135135135,86.8545738045738,176.14478939724037,44.133723958333334,44.133723958333334,109.42865885416667,152.4610595088161,120.790869140625,120.790869140625,163.50718014705882,108.01317813199105,114.33451822916668,119.94472211542569,145.38558159722223,145.38558159722223,145.38558159722223,163.95912109375,174.687255859375,123.787861328125,123.787861328125,123.787861328125,112.54735661764707,112.54735661764707,112.54735661764707,112.54735661764707,117.18254231770834,87.86153829723611,142.85167699353448,142.85167699353448,117.88841145833334,152.28833846153844,58.67234700520834,94.58271809895834,94.58271809895834,94.58271809895834,141.02615012106537,86.89257082359813,79.43966176470589,122.22233217592591,126.35163251768869,194.51293545081967,127.8188134765625,130.26242133333335,125.64679468457945,114.49255533854168,114.49255533854168,89.86777526285047,155.14272533333335,83.65266666666668,70.82409926470588,91.2827719634434,84.54068027712265,180.42931175595237,180.42931175595237,180.42931175595237,180.42931175595237,180.42931175595237,180.42931175595237,180.42931175595237,108.66269286087865,108.93617513020834,103.70278834894613,96.93267377336448,96.93267377336448,92.12757486979167,36.7401123046875,110.22086267605634,110.22086267605634,110.22086267605634,92.733359375,114.08707252358491,91.098193359375,99.31442049522673,190.3548041044776,47.28321596244131,96.73552000000001,139.5100876046025,88.39321816314553,123.11459309895834,93.40173502604168,122.49740053050398,95.71840494791667,103.39632,100.75234189429929,108.242578125,122.90390299479168,151.83108167447307,173.61352213541667,123.862864,116.15622222222223,97.676611328125,97.676611328125,132.76598811619718,100.3262977248954,100.3262977248954,113.15724531615925,80.8522998960499,180.01018735363,96.96872804449649,96.96872804449649,120.18973214285714,99.18247058823529,99.18247058823529,99.18247058823529,72.52854313380281,108.49268880208334,113.16503255208335,113.16503255208335,124.14764322916666,107.95852465986394,117.21240234375001,105.60538275761124,105.60538275761124,105.60538275761124,132.85660091607565,87.22534505208334,87.22534505208334,43.05554010538642,136.45160651408452,111.05908067867037,105.18940755208334,95.0476747047244,95.0476747047244,96.51561259920635,153.77631510416668,107.38356266666668,107.38356266666668,142.78064236111112,68.16952210187354,134.37996826171874,133.9351068501171,93.109003003003,105.244833984375,183.9167895962733,113.76470377604167,113.56513554216869,62.82472254672898,116.57274666666667,95.93832352941176,88.93842647058824,85.43176229508197,100.58493815104167,98.772368,98.772368,98.772368,84.00858826112412,88.96534830729168,138.2374050817757,103.03124389648438,138.08806966145835,101.78655225409837,105.0269843016432,125.21338541666667,101.90916015625001,96.25282128220141,99.51992513020834,110.28138905152225,103.49974283854168,103.49974283854168,109.869078125,139.07991925837322,91.39610133333333,108.80800278103044,108.80800278103044,117.72462309718969,110.20234375000001,110.20234375000001,110.57165910421546,89.54369131455398,96.43494718309859,142.10462890625,61.91403887688985,118.85192382812501,140.99696614583334,123.08391027517564,52.28611979166667,101.21395195195196,127.67895495495496,103.87200846354168,110.27583088235295,93.52492279411764,114.96195638020833,114.96195638020833,104.00255533854167,87.45028320312501,101.51742916666667,116.23777915632755,49.48849609375,49.48849609375,93.83315094339623,123.47273694248825,151.9541377245509,146.98491895443925,159.94283152810306,84.78398711943794,110.26587239583334,110.26587239583334,144.48250325520834,37.20768229166667,117.01310872395834,66.88924912177986,66.88924912177986,66.88924912177986,142.1331016112266,142.1331016112266,115.34000719142259,115.34000719142259,92.97825462443946,92.97825462443946,141.64220945550352,61.814093457943926,118.95887369791667,81.3904200819672,104.51025716145834,117.99751302083334,116.05086561032864,110.07515271903968,110.07515271903968,110.07515271903968,72.48491871704745,72.48491871704745,56.155665441176474,60.220857938718666,105.411396484375,105.411396484375,131.3666800525701,86.94012369791668,99.20427670187793,129.23964192708334,129.23964192708334,129.23964192708334,98.76576533333333,71.9381550058548,71.9381550058548,96.27557942708334,142.6574986924686,70.2542019567757,140.514576,140.514576,122.09358167447307,138.05446289062502,109.53789792640187,109.53789792640187,95.90393063583815,126.58533743765585,115.1177693208431,125.26305986533959,101.30376687206572,94.560625,125.20411458333334,87.64857228915662,87.64857228915662,106.31645182291668,97.98345867406543,97.98345867406543,124.64768559272301,81.862109375,61.90738802693208,151.7478559667836,147.69669511851015,97.28888671875,135.91642903645834,227.93542279411764,120.019765625,109.90262695312501,63.3127268735363,63.3127268735363,112.51042520491804,83.56201201201202,98.73700234192037,98.73700234192037,100.62013346354168,100.62013346354168,100.62013346354168,100.62013346354168,108.5784375,125.71696289062501,143.86136333154505,106.84727746212121,53.70888020833333,53.70888020833333,120.37998372395835,117.04493866666667,96.44056279274005,115.16371744791667,149.67792560146444,149.67792560146444,212.0300878558719,114.74770666666667,135.03146589578455,59.97893820224719,129.00415364583336,78.0194921875,78.0194921875,78.0194921875,103.57079026442308,49.56017092901879,139.16719515931374,79.61404800000001,132.784482421875,86.31689127604167,90.046298828125,91.242384,91.242384,125.50720377604168,125.50720377604168,164.58733899297422,109.9760550525701,106.38052376760564,68.82289465962441,68.82289465962441,116.97922526041667,148.07184053308822,59.18098666666667,97.05913292253521,162.67474845104198,121.2225080503513,121.2225080503513,112.84437061915888,112.84437061915888,89.71251745810055,107.72669596354167,118.45754583333334,118.45754583333334,118.45754583333334,109.84195963541667,87.92759074941452,82.07623372395834,82.07623372395834,137.7098261443662,189.1144394028103,27.16390299479167,27.16390299479167,104.02121276855469,104.02121276855469,168.1974609375,120.06907552083334,137.86669600938967,91.20944661458334,91.20944661458334,59.25185931899642,59.25185931899642,68.90799503504674,147.84809879856851,136.55907083333335,127.29014705882354,127.29014705882354,127.29014705882354,127.29014705882354,128.98842020750988,128.98842020750988,138.817119140625,73.86824939320388,73.86824939320388,81.00261980369515,112.073616,103.42923009367682,101.87477213541668,118.40440104166667,144.91778971354168,121.80334969325152,202.55327137002342,113.36290064102565,100.00125,100.00125,100.00125,100.00125,100.00125,106.22784384384384,135.30745341614906,132.98202024647887,132.98202024647887,131.79876302083335,79.05672,81.63944672131147,132.89012250586853,133.92833984375,115.16496000000001,92.66795195195195,102.17283738290398,122.25275541569087,91.50437724550898,72.15432438380282,72.15432438380282,121.65851749539594,121.65851749539594,84.42326497395834,86.09835699648711,90.83912104800937,90.83912104800937,144.23943359375002,50.39630859375,110.5866649269311],\"xaxis\":\"x\",\"yaxis\":\"y\",\"type\":\"histogram\"},{\"alignmentgroup\":\"True\",\"bingroup\":\"x\",\"histfunc\":\"count\",\"histnorm\":\"percent\",\"hovertemplate\":\"gender=<br>brightness=%{x}<br>percent=%{y}<extra></extra>\",\"legendgroup\":\"\",\"marker\":{\"color\":\"#ab63fa\",\"pattern\":{\"shape\":\"\"}},\"name\":\"\",\"nbinsx\":20,\"offsetgroup\":\"\",\"orientation\":\"v\",\"showlegend\":false,\"x\":[113.60647135416667,123.13931864754099,170.54328125,170.54328125,113.60292643229167,82.06323567708334,105.40397135416667,126.75356770833334,113.37977213541667,102.37538013842281,115.24293097964376,85.20308832159624,160.73849609375,160.73849609375,86.65766059027777,85.5882702978972,149.22749155405407,99.59696940104168,121.97810872395834,121.97810872395834,109.87634666666668,172.99878146955504,163.3820124452954,115.908310546875,148.11327466666668,94.30939700704225,146.16192057291667,106.69176668618267,106.69176668618267,83.03891612997658,83.03891612997658,159.04998166079812,94.79235651214128,98.12826405152225,80.33551025390625,132.25697290528234,126.74070312500001,126.74070312500001,92.74830403645834,101.63454752604167,136.68963733333334,73.88266276041666,130.08124445921987,112.90688802083334,112.664111328125,117.89081770833333,129.63963733333335,114.97042643229167,110.94580800000001,104.57804294310722,97.32824632352941,78.26710933333334,140.96299804687501,125.00969923971377,137.7931904761905,120.0682866719243,111.53643333333333,63.707330607476635,98.54960286458333,77.73341375612745,45.6059375,73.08027994791667,109.82344075520834,182.50479166666668,119.16821940104167,109.68948063380282,100.15518034462617,96.63340425531915,91.25842875318067,87.199326171875,93.15832331730769,79.96806966145834,83.06652462121212,110.82995117187501,99.51181333333334,72.73869642857143,111.91621422558923,108.94176899696049,125.134375,74.87832682291668,98.94886838440112,111.6542216842723,117.82346166237113,196.12541446596245,134.26143543543543,109.42865885416667,76.09028037383177,85.64274414062501,85.64274414062501,145.331669921875,114.52734375000001,157.858740234375,86.89257082359813,135.36196648044694,99.83382918149466,136.29701771077282,128.27719703638496,142.38927327327326,93.40173502604168,100.75234189429929,148.41777068661972,132.76598811619718,83.47110835280374,117.21240234375001,105.60538275761124,105.60538275761124,105.60538275761124,129.84558908045977,114.17663736979168,114.17663736979168,114.17663736979168,89.8268905925156,131.4423992406542,156.190830078125,122.40736002604167,116.06522786458333,102.83647786458334,124.45376953125,109.23494950234192,88.5115087890625,64.87756748826291,123.47273694248825,117.15834635416667,205.00121487119438,111.25485714285715,126.35955514705883,125.35022942643391,121.98133789062501,103.7328636098131,112.46729266826924,140.514576,111.78870367954072,79.96849691901409,104.09746307439825,150.3935816033569,150.3935816033569,95.94172986401674,109.90262695312501,109.90262695312501,127.40930913348946,127.13794270833334,123.65254317915691,123.08252929687501,123.08252929687501,123.08252929687501,119.137255859375,119.0550322769953,102.90526975235849,68.72063506155303,68.72063506155303,97.05913292253521,99.23938666666668,162.67474845104198,160.45171875,27.16390299479167,120.06907552083334,124.37935872395835,147.721806640625,113.5486957644628,127.29014705882354,100.00125,89.81223958333334,140.970712890625],\"xaxis\":\"x\",\"yaxis\":\"y\",\"type\":\"histogram\"}],                        {\"template\":{\"data\":{\"histogram2dcontour\":[{\"type\":\"histogram2dcontour\",\"colorbar\":{\"outlinewidth\":0,\"ticks\":\"\"},\"colorscale\":[[0.0,\"#0d0887\"],[0.1111111111111111,\"#46039f\"],[0.2222222222222222,\"#7201a8\"],[0.3333333333333333,\"#9c179e\"],[0.4444444444444444,\"#bd3786\"],[0.5555555555555556,\"#d8576b\"],[0.6666666666666666,\"#ed7953\"],[0.7777777777777778,\"#fb9f3a\"],[0.8888888888888888,\"#fdca26\"],[1.0,\"#f0f921\"]]}],\"choropleth\":[{\"type\":\"choropleth\",\"colorbar\":{\"outlinewidth\":0,\"ticks\":\"\"}}],\"histogram2d\":[{\"type\":\"histogram2d\",\"colorbar\":{\"outlinewidth\":0,\"ticks\":\"\"},\"colorscale\":[[0.0,\"#0d0887\"],[0.1111111111111111,\"#46039f\"],[0.2222222222222222,\"#7201a8\"],[0.3333333333333333,\"#9c179e\"],[0.4444444444444444,\"#bd3786\"],[0.5555555555555556,\"#d8576b\"],[0.6666666666666666,\"#ed7953\"],[0.7777777777777778,\"#fb9f3a\"],[0.8888888888888888,\"#fdca26\"],[1.0,\"#f0f921\"]]}],\"heatmap\":[{\"type\":\"heatmap\",\"colorbar\":{\"outlinewidth\":0,\"ticks\":\"\"},\"colorscale\":[[0.0,\"#0d0887\"],[0.1111111111111111,\"#46039f\"],[0.2222222222222222,\"#7201a8\"],[0.3333333333333333,\"#9c179e\"],[0.4444444444444444,\"#bd3786\"],[0.5555555555555556,\"#d8576b\"],[0.6666666666666666,\"#ed7953\"],[0.7777777777777778,\"#fb9f3a\"],[0.8888888888888888,\"#fdca26\"],[1.0,\"#f0f921\"]]}],\"heatmapgl\":[{\"type\":\"heatmapgl\",\"colorbar\":{\"outlinewidth\":0,\"ticks\":\"\"},\"colorscale\":[[0.0,\"#0d0887\"],[0.1111111111111111,\"#46039f\"],[0.2222222222222222,\"#7201a8\"],[0.3333333333333333,\"#9c179e\"],[0.4444444444444444,\"#bd3786\"],[0.5555555555555556,\"#d8576b\"],[0.6666666666666666,\"#ed7953\"],[0.7777777777777778,\"#fb9f3a\"],[0.8888888888888888,\"#fdca26\"],[1.0,\"#f0f921\"]]}],\"contourcarpet\":[{\"type\":\"contourcarpet\",\"colorbar\":{\"outlinewidth\":0,\"ticks\":\"\"}}],\"contour\":[{\"type\":\"contour\",\"colorbar\":{\"outlinewidth\":0,\"ticks\":\"\"},\"colorscale\":[[0.0,\"#0d0887\"],[0.1111111111111111,\"#46039f\"],[0.2222222222222222,\"#7201a8\"],[0.3333333333333333,\"#9c179e\"],[0.4444444444444444,\"#bd3786\"],[0.5555555555555556,\"#d8576b\"],[0.6666666666666666,\"#ed7953\"],[0.7777777777777778,\"#fb9f3a\"],[0.8888888888888888,\"#fdca26\"],[1.0,\"#f0f921\"]]}],\"surface\":[{\"type\":\"surface\",\"colorbar\":{\"outlinewidth\":0,\"ticks\":\"\"},\"colorscale\":[[0.0,\"#0d0887\"],[0.1111111111111111,\"#46039f\"],[0.2222222222222222,\"#7201a8\"],[0.3333333333333333,\"#9c179e\"],[0.4444444444444444,\"#bd3786\"],[0.5555555555555556,\"#d8576b\"],[0.6666666666666666,\"#ed7953\"],[0.7777777777777778,\"#fb9f3a\"],[0.8888888888888888,\"#fdca26\"],[1.0,\"#f0f921\"]]}],\"mesh3d\":[{\"type\":\"mesh3d\",\"colorbar\":{\"outlinewidth\":0,\"ticks\":\"\"}}],\"scatter\":[{\"fillpattern\":{\"fillmode\":\"overlay\",\"size\":10,\"solidity\":0.2},\"type\":\"scatter\"}],\"parcoords\":[{\"type\":\"parcoords\",\"line\":{\"colorbar\":{\"outlinewidth\":0,\"ticks\":\"\"}}}],\"scatterpolargl\":[{\"type\":\"scatterpolargl\",\"marker\":{\"colorbar\":{\"outlinewidth\":0,\"ticks\":\"\"}}}],\"bar\":[{\"error_x\":{\"color\":\"#2a3f5f\"},\"error_y\":{\"color\":\"#2a3f5f\"},\"marker\":{\"line\":{\"color\":\"#E5ECF6\",\"width\":0.5},\"pattern\":{\"fillmode\":\"overlay\",\"size\":10,\"solidity\":0.2}},\"type\":\"bar\"}],\"scattergeo\":[{\"type\":\"scattergeo\",\"marker\":{\"colorbar\":{\"outlinewidth\":0,\"ticks\":\"\"}}}],\"scatterpolar\":[{\"type\":\"scatterpolar\",\"marker\":{\"colorbar\":{\"outlinewidth\":0,\"ticks\":\"\"}}}],\"histogram\":[{\"marker\":{\"pattern\":{\"fillmode\":\"overlay\",\"size\":10,\"solidity\":0.2}},\"type\":\"histogram\"}],\"scattergl\":[{\"type\":\"scattergl\",\"marker\":{\"colorbar\":{\"outlinewidth\":0,\"ticks\":\"\"}}}],\"scatter3d\":[{\"type\":\"scatter3d\",\"line\":{\"colorbar\":{\"outlinewidth\":0,\"ticks\":\"\"}},\"marker\":{\"colorbar\":{\"outlinewidth\":0,\"ticks\":\"\"}}}],\"scattermapbox\":[{\"type\":\"scattermapbox\",\"marker\":{\"colorbar\":{\"outlinewidth\":0,\"ticks\":\"\"}}}],\"scatterternary\":[{\"type\":\"scatterternary\",\"marker\":{\"colorbar\":{\"outlinewidth\":0,\"ticks\":\"\"}}}],\"scattercarpet\":[{\"type\":\"scattercarpet\",\"marker\":{\"colorbar\":{\"outlinewidth\":0,\"ticks\":\"\"}}}],\"carpet\":[{\"aaxis\":{\"endlinecolor\":\"#2a3f5f\",\"gridcolor\":\"white\",\"linecolor\":\"white\",\"minorgridcolor\":\"white\",\"startlinecolor\":\"#2a3f5f\"},\"baxis\":{\"endlinecolor\":\"#2a3f5f\",\"gridcolor\":\"white\",\"linecolor\":\"white\",\"minorgridcolor\":\"white\",\"startlinecolor\":\"#2a3f5f\"},\"type\":\"carpet\"}],\"table\":[{\"cells\":{\"fill\":{\"color\":\"#EBF0F8\"},\"line\":{\"color\":\"white\"}},\"header\":{\"fill\":{\"color\":\"#C8D4E3\"},\"line\":{\"color\":\"white\"}},\"type\":\"table\"}],\"barpolar\":[{\"marker\":{\"line\":{\"color\":\"#E5ECF6\",\"width\":0.5},\"pattern\":{\"fillmode\":\"overlay\",\"size\":10,\"solidity\":0.2}},\"type\":\"barpolar\"}],\"pie\":[{\"automargin\":true,\"type\":\"pie\"}]},\"layout\":{\"autotypenumbers\":\"strict\",\"colorway\":[\"#636efa\",\"#EF553B\",\"#00cc96\",\"#ab63fa\",\"#FFA15A\",\"#19d3f3\",\"#FF6692\",\"#B6E880\",\"#FF97FF\",\"#FECB52\"],\"font\":{\"color\":\"#2a3f5f\"},\"hovermode\":\"closest\",\"hoverlabel\":{\"align\":\"left\"},\"paper_bgcolor\":\"white\",\"plot_bgcolor\":\"#E5ECF6\",\"polar\":{\"bgcolor\":\"#E5ECF6\",\"angularaxis\":{\"gridcolor\":\"white\",\"linecolor\":\"white\",\"ticks\":\"\"},\"radialaxis\":{\"gridcolor\":\"white\",\"linecolor\":\"white\",\"ticks\":\"\"}},\"ternary\":{\"bgcolor\":\"#E5ECF6\",\"aaxis\":{\"gridcolor\":\"white\",\"linecolor\":\"white\",\"ticks\":\"\"},\"baxis\":{\"gridcolor\":\"white\",\"linecolor\":\"white\",\"ticks\":\"\"},\"caxis\":{\"gridcolor\":\"white\",\"linecolor\":\"white\",\"ticks\":\"\"}},\"coloraxis\":{\"colorbar\":{\"outlinewidth\":0,\"ticks\":\"\"}},\"colorscale\":{\"sequential\":[[0.0,\"#0d0887\"],[0.1111111111111111,\"#46039f\"],[0.2222222222222222,\"#7201a8\"],[0.3333333333333333,\"#9c179e\"],[0.4444444444444444,\"#bd3786\"],[0.5555555555555556,\"#d8576b\"],[0.6666666666666666,\"#ed7953\"],[0.7777777777777778,\"#fb9f3a\"],[0.8888888888888888,\"#fdca26\"],[1.0,\"#f0f921\"]],\"sequentialminus\":[[0.0,\"#0d0887\"],[0.1111111111111111,\"#46039f\"],[0.2222222222222222,\"#7201a8\"],[0.3333333333333333,\"#9c179e\"],[0.4444444444444444,\"#bd3786\"],[0.5555555555555556,\"#d8576b\"],[0.6666666666666666,\"#ed7953\"],[0.7777777777777778,\"#fb9f3a\"],[0.8888888888888888,\"#fdca26\"],[1.0,\"#f0f921\"]],\"diverging\":[[0,\"#8e0152\"],[0.1,\"#c51b7d\"],[0.2,\"#de77ae\"],[0.3,\"#f1b6da\"],[0.4,\"#fde0ef\"],[0.5,\"#f7f7f7\"],[0.6,\"#e6f5d0\"],[0.7,\"#b8e186\"],[0.8,\"#7fbc41\"],[0.9,\"#4d9221\"],[1,\"#276419\"]]},\"xaxis\":{\"gridcolor\":\"white\",\"linecolor\":\"white\",\"ticks\":\"\",\"title\":{\"standoff\":15},\"zerolinecolor\":\"white\",\"automargin\":true,\"zerolinewidth\":2},\"yaxis\":{\"gridcolor\":\"white\",\"linecolor\":\"white\",\"ticks\":\"\",\"title\":{\"standoff\":15},\"zerolinecolor\":\"white\",\"automargin\":true,\"zerolinewidth\":2},\"scene\":{\"xaxis\":{\"backgroundcolor\":\"#E5ECF6\",\"gridcolor\":\"white\",\"linecolor\":\"white\",\"showbackground\":true,\"ticks\":\"\",\"zerolinecolor\":\"white\",\"gridwidth\":2},\"yaxis\":{\"backgroundcolor\":\"#E5ECF6\",\"gridcolor\":\"white\",\"linecolor\":\"white\",\"showbackground\":true,\"ticks\":\"\",\"zerolinecolor\":\"white\",\"gridwidth\":2},\"zaxis\":{\"backgroundcolor\":\"#E5ECF6\",\"gridcolor\":\"white\",\"linecolor\":\"white\",\"showbackground\":true,\"ticks\":\"\",\"zerolinecolor\":\"white\",\"gridwidth\":2}},\"shapedefaults\":{\"line\":{\"color\":\"#2a3f5f\"}},\"annotationdefaults\":{\"arrowcolor\":\"#2a3f5f\",\"arrowhead\":0,\"arrowwidth\":1},\"geo\":{\"bgcolor\":\"white\",\"landcolor\":\"#E5ECF6\",\"subunitcolor\":\"white\",\"showland\":true,\"showlakes\":true,\"lakecolor\":\"white\"},\"title\":{\"x\":0.05},\"mapbox\":{\"style\":\"light\"}}},\"xaxis\":{\"anchor\":\"y\",\"domain\":[0.0,1.0],\"title\":{\"text\":\"Brightness (mean grayscale value)\",\"font\":{\"size\":26}},\"automargin\":true,\"tickwidth\":40},\"yaxis\":{\"anchor\":\"x\",\"domain\":[0.0,1.0],\"title\":{\"text\":\"% of Category Total\",\"standoff\":20,\"font\":{\"size\":26}},\"automargin\":true,\"tickwidth\":40},\"legend\":{\"title\":{\"text\":\"gender\"},\"tracegroupgap\":0},\"margin\":{\"t\":50,\"l\":0,\"r\":50,\"b\":20},\"barmode\":\"group\",\"bargap\":0.2,\"bargroupgap\":0.1,\"font\":{\"size\":20},\"title\":{\"text\":\"Image Brightness per Gender in Coco Val 2017\"},\"width\":1200},                        {\"responsive\": true}                    ).then(function(){\n",
              "                            \n",
              "var gd = document.getElementById('9f1cd8c9-f7d0-41f4-bf15-e3285728f4bd');\n",
              "var x = new MutationObserver(function (mutations, observer) {{\n",
              "        var display = window.getComputedStyle(gd).display;\n",
              "        if (!display || display === 'none') {{\n",
              "            console.log([gd, 'removed!']);\n",
              "            Plotly.purge(gd);\n",
              "            observer.disconnect();\n",
              "        }}\n",
              "}});\n",
              "\n",
              "// Listen for the removal of the full notebook cells\n",
              "var notebookContainer = gd.closest('#notebook-container');\n",
              "if (notebookContainer) {{\n",
              "    x.observe(notebookContainer, {childList: true});\n",
              "}}\n",
              "\n",
              "// Listen for the clearing of the current output cell\n",
              "var outputEl = gd.closest('.output');\n",
              "if (outputEl) {{\n",
              "    x.observe(outputEl, {childList: true});\n",
              "}}\n",
              "\n",
              "                        })                };                            </script>        </div>\n",
              "</body>\n",
              "</html>"
            ]
          },
          "metadata": {}
        }
      ],
      "source": [
        "# Plot a histogram showing a normalized count for each brightness bin for each gender\n",
        "# TODO:  Fix column name\n",
        "# TODO:  Title:  Brightness frequency by gender, normalized\n",
        "#fig = px.histogram(df, x=\"brightness\", y=compare_variable_column, color=compare_variable, labels={compare_variable_column: compare_variable}, histfunc='sum', barmode=\"group\", nbins=20)\n",
        "fig = px.histogram(df, x=\"brightness\", color='gender', labels={''}, histfunc='count', histnorm='percent', barmode=\"group\", nbins=20)\n",
        "fig.update_layout(bargap=0.2, bargroupgap=0.1)\n",
        "fig.layout.yaxis.title.text = 'percent of total'\n",
        "fig.update_yaxes(title='% of Category Total', title_standoff=20, automargin=True, title_font_size=26, tickwidth=40)\n",
        "fig.update_xaxes(title='Brightness (mean grayscale value)', automargin=True, title_font_size=26, tickwidth=40)\n",
        "fig.update_layout(\n",
        "    title='Image Brightness per Gender in Coco Val 2017',\n",
        "    font_size=20,\n",
        "    margin=dict(l=0, r=50, t=50, b=20),\n",
        "    width=1200\n",
        ")\n",
        "fig.show()"
      ]
    },
    {
      "cell_type": "markdown",
      "metadata": {
        "id": "Qwush9UWoS1F"
      },
      "source": [
        "# Inference Metrics\n",
        "The next few sections of the notebook show how to use supplementary metadata along with inference results to better predict model behavior in the real world.  We use YOLOv8 Nano for this sample.  While this model is smaller and less accurate than the larger YOLO models, it is much faster.\n",
        "\n",
        "An experiment that I leave to the reader is to run this same analysis below on varying model sizes and architectures."
      ]
    },
    {
      "cell_type": "code",
      "execution_count": null,
      "metadata": {
        "id": "aBC19cD9Siz7"
      },
      "outputs": [],
      "source": [
        "!pip install fiftyone ultralytics"
      ]
    },
    {
      "cell_type": "code",
      "execution_count": null,
      "metadata": {
        "colab": {
          "base_uri": "https://localhost:8080/"
        },
        "id": "VuCVoT0p83Qo",
        "outputId": "afa2ef3d-809e-4b26-bd82-f7d8d131a963"
      },
      "outputs": [
        {
          "output_type": "stream",
          "name": "stderr",
          "text": [
            "Downloading https://github.com/ultralytics/assets/releases/download/v0.0.0/yolov8n.pt to yolov8n.pt...\n",
            "100%|██████████| 6.23M/6.23M [00:00<00:00, 25.5MB/s]\n"
          ]
        },
        {
          "output_type": "stream",
          "name": "stdout",
          "text": [
            " 100% |███████████████| 2693/2693 [21.6s elapsed, 0s remaining, 146.5 samples/s]      \n"
          ]
        },
        {
          "output_type": "stream",
          "name": "stderr",
          "text": [
            "INFO:eta.core.utils: 100% |███████████████| 2693/2693 [21.6s elapsed, 0s remaining, 146.5 samples/s]      \n"
          ]
        }
      ],
      "source": [
        "# Add inference results to dataset\n",
        "from ultralytics import YOLO\n",
        "\n",
        "detection_model = YOLO(\"yolov8n.pt\")\n",
        "\n",
        "coco_classes = [c for c in dataset.default_classes if not c.isnumeric()]\n",
        "\n",
        "# Creates an on-disk dataset based on a FiftyOne SampleView\n",
        "def export_yolo_data(\n",
        "    samples,\n",
        "    export_dir,\n",
        "    classes,\n",
        "    label_field = \"detections\",\n",
        "    split = None\n",
        "    ):\n",
        "\n",
        "    if type(split) == list:\n",
        "        splits = split\n",
        "        for split in splits:\n",
        "            export_yolo_data(\n",
        "                samples,\n",
        "                export_dir,\n",
        "                classes,\n",
        "                label_field,\n",
        "                split\n",
        "            )\n",
        "    else:\n",
        "        if split is None:\n",
        "            split_view = samples\n",
        "            split = \"val\"\n",
        "        else:\n",
        "            split_view = samples.match_tags(split)\n",
        "\n",
        "        split_view.export(\n",
        "            export_dir=export_dir,\n",
        "            dataset_type=fo.types.YOLOv5Dataset,\n",
        "            label_field=label_field,\n",
        "            classes=classes,\n",
        "            split=split\n",
        "        )\n",
        "\n",
        "coco_val_dir = \"yolo_export\"\n",
        "export_yolo_data(personimages, coco_val_dir, coco_classes)"
      ]
    },
    {
      "cell_type": "code",
      "execution_count": null,
      "metadata": {
        "id": "FQXO0u9m-Ol_"
      },
      "outputs": [],
      "source": [
        "# Generate predictions for the exported dataset\n",
        "# TODO: Move to tdqm/streaming, optional GPU, and ideally multithread\n",
        "# TODO: should not need to load from disk, can use the in-memory streaming data to push to FiftyOne\n",
        "model = YOLO(\"yolov8n.pt\")  # load a pretrained model (recommended for training)\n",
        "predictions = model.predict(source=f'{coco_val_dir}/images/val', save_txt=True, save_conf=True, stream=True)\n",
        "for prediction in predictions:\n",
        "  prediction.boxes"
      ]
    },
    {
      "cell_type": "code",
      "execution_count": null,
      "metadata": {
        "id": "F2xh9Sy_-WDc"
      },
      "outputs": [],
      "source": [
        "# This cell contains a number of helper methods to load the inference results into FiftyOne\n",
        "import numpy as np\n",
        "\n",
        "def read_yolo_detections_file(filepath):\n",
        "    detections = []\n",
        "    if not os.path.exists(filepath):\n",
        "        return np.array([])\n",
        "\n",
        "    with open(filepath) as f:\n",
        "        lines = [line.rstrip('\\n').split(' ') for line in f]\n",
        "\n",
        "    for line in lines:\n",
        "        detection = [float(l) for l in line]\n",
        "        detections.append(detection)\n",
        "    return np.array(detections)\n",
        "\n",
        "def _uncenter_boxes(boxes):\n",
        "    '''convert from center coords to corner coords'''\n",
        "    boxes[:, 0] -= boxes[:, 2]/2.\n",
        "    boxes[:, 1] -= boxes[:, 3]/2.\n",
        "\n",
        "def _get_class_labels(predicted_classes, class_list):\n",
        "    labels = (predicted_classes).astype(int)\n",
        "    labels = [class_list[l] if l < len(class_list) else '' for l in labels]\n",
        "    return labels\n",
        "\n",
        "def convert_yolo_detections_to_fiftyone(\n",
        "    yolo_detections,\n",
        "    class_list\n",
        "    ):\n",
        "\n",
        "    detections = []\n",
        "    if yolo_detections.size == 0:\n",
        "        return fo.Detections(detections=detections)\n",
        "\n",
        "    boxes = yolo_detections[:, 1:-1]\n",
        "    _uncenter_boxes(boxes)\n",
        "\n",
        "    confs = yolo_detections[:, -1]\n",
        "    labels = _get_class_labels(yolo_detections[:, 0], class_list)\n",
        "\n",
        "    for label, conf, box in zip(labels, confs, boxes):\n",
        "      if label == 'person':\n",
        "        detections.append(\n",
        "            fo.Detection(\n",
        "                label=label,\n",
        "                bounding_box=box.tolist(),\n",
        "                confidence=conf\n",
        "            )\n",
        "        )\n",
        "\n",
        "    return fo.Detections(detections=detections)\n",
        "\n",
        "def get_prediction_filepath(filepath, run_number = 1):\n",
        "    run_num_string = \"\"\n",
        "    if run_number != 1:\n",
        "        run_num_string = str(run_number)\n",
        "    filename = filepath.split(\"/\")[-1].split(\".\")[0]\n",
        "    return f\"runs/detect/predict{run_num_string}/labels/{filename}.txt\"\n",
        "\n",
        "def add_yolo_detections(\n",
        "    samples,\n",
        "    prediction_field,\n",
        "    prediction_filepath,\n",
        "    class_list\n",
        "    ):\n",
        "\n",
        "    prediction_filepaths = samples.values(prediction_filepath)\n",
        "    yolo_detections = [read_yolo_detections_file(pf) for pf in prediction_filepaths]\n",
        "    detections =  [convert_yolo_detections_to_fiftyone(yd, class_list) for yd in yolo_detections]\n",
        "    samples.set_values(prediction_field, detections)\n"
      ]
    },
    {
      "cell_type": "code",
      "execution_count": null,
      "metadata": {
        "colab": {
          "base_uri": "https://localhost:8080/",
          "height": 978
        },
        "id": "VrLZ-umDCZga",
        "outputId": "094cce4c-f045-4f50-e36c-cf30ad55eda0"
      },
      "outputs": [
        {
          "output_type": "display_data",
          "data": {
            "text/plain": [
              "<IPython.core.display.HTML object>"
            ],
            "text/html": [
              "\n",
              "<style>\n",
              "\n",
              "@import url(\"https://fonts.googleapis.com/css2?family=Palanquin&display=swap\");\n",
              "\n",
              "body, html {\n",
              "  margin: 0;\n",
              "  padding: 0;\n",
              "  width: 100%;\n",
              "}\n",
              "\n",
              "#focontainer-67ae15bb-0ca7-48b6-b042-0bf83984f205 {\n",
              "  position: relative;\n",
              "  height: px;\n",
              "  display: block !important;\n",
              "}\n",
              "#foactivate-67ae15bb-0ca7-48b6-b042-0bf83984f205 {\n",
              "  font-weight: bold;\n",
              "  cursor: pointer;\n",
              "  font-size: 24px;\n",
              "  border-radius: 3px;\n",
              "  text-align: center;\n",
              "  padding: 0.5em;\n",
              "  color: rgb(255, 255, 255);\n",
              "  font-family: \"Palanquin\", sans-serif;\n",
              "  position: absolute;\n",
              "  left: 50%;\n",
              "  top: 50%;\n",
              "  width: 160px;\n",
              "  margin-left: -80px;\n",
              "  margin-top: -23px;\n",
              "  background: hsla(210,11%,15%, 0.8);\n",
              "  border: none;\n",
              "}\n",
              "#foactivate-67ae15bb-0ca7-48b6-b042-0bf83984f205:focus {\n",
              "  outline: none;\n",
              "}\n",
              "#fooverlay-67ae15bb-0ca7-48b6-b042-0bf83984f205 {\n",
              "  width: 100%;\n",
              "  height: 100%;\n",
              "  background: hsla(208, 7%, 46%, 0.7);\n",
              "  position: absolute;\n",
              "  top: 0;\n",
              "  left: 0;\n",
              "  display: none;\n",
              "  cursor: pointer;\n",
              "}\n",
              "</style>\n",
              "<div id=\"focontainer-67ae15bb-0ca7-48b6-b042-0bf83984f205\" style=\"display: none;\">\n",
              "   <div id=\"fooverlay-67ae15bb-0ca7-48b6-b042-0bf83984f205\">\n",
              "      <button id=\"foactivate-67ae15bb-0ca7-48b6-b042-0bf83984f205\" >Activate</button>\n",
              "   </div>\n",
              "</div>"
            ]
          },
          "metadata": {}
        },
        {
          "output_type": "execute_result",
          "data": {
            "text/plain": [
              "Dataset:          coco-2017-val\n",
              "Media type:       image\n",
              "Num samples:      2693\n",
              "Selected samples: 0\n",
              "Selected labels:  0\n",
              "Session type:     colab\n",
              "View stages:\n",
              "    1. FilterLabels(field='detections', filter={'$in': ['$$this.label', [...]]}, only_matches=True, trajectories=False)\n",
              "    2. FilterLabels(field='detections', filter={'$eq': ['$$this.iscrowd', 0]}, only_matches=True, trajectories=False)\n",
              "    3. ExcludeFields(field_names=['segmentations'])"
            ]
          },
          "metadata": {},
          "execution_count": 20
        }
      ],
      "source": [
        "# View results with predictions in the FiftyOne app\n",
        "filepaths = dataset.values(\"filepath\")\n",
        "prediction_filepaths = [get_prediction_filepath(fp) for fp in filepaths]\n",
        "dataset.set_values(\n",
        "    \"yolov8n_det_filepath\",\n",
        "    prediction_filepaths\n",
        ")\n",
        "\n",
        "add_yolo_detections(\n",
        "    personimages,\n",
        "    \"yolov8n\",\n",
        "    \"yolov8n_det_filepath\",\n",
        "    coco_classes\n",
        ")\n",
        "\n",
        "fo.launch_app(personimages)"
      ]
    },
    {
      "cell_type": "code",
      "execution_count": null,
      "metadata": {
        "colab": {
          "base_uri": "https://localhost:8080/"
        },
        "id": "Yzm26m3LqRdX",
        "outputId": "13f301b5-9e9b-4c6a-bd8b-25fc6e1f349c"
      },
      "outputs": [
        {
          "output_type": "stream",
          "name": "stdout",
          "text": [
            "Evaluating detections...\n"
          ]
        },
        {
          "output_type": "stream",
          "name": "stderr",
          "text": [
            "INFO:fiftyone.utils.eval.detection:Evaluating detections...\n"
          ]
        },
        {
          "output_type": "stream",
          "name": "stdout",
          "text": [
            " 100% |███████████████| 1541/1541 [46.8s elapsed, 0s remaining, 54.3 samples/s]      \n"
          ]
        },
        {
          "output_type": "stream",
          "name": "stderr",
          "text": [
            "INFO:eta.core.utils: 100% |███████████████| 1541/1541 [46.8s elapsed, 0s remaining, 54.3 samples/s]      \n"
          ]
        },
        {
          "output_type": "stream",
          "name": "stdout",
          "text": [
            "Evaluating detections...\n"
          ]
        },
        {
          "output_type": "stream",
          "name": "stderr",
          "text": [
            "INFO:fiftyone.utils.eval.detection:Evaluating detections...\n"
          ]
        },
        {
          "output_type": "stream",
          "name": "stdout",
          "text": [
            " 100% |█████████████████| 623/623 [9.5s elapsed, 0s remaining, 92.1 samples/s]       \n"
          ]
        },
        {
          "output_type": "stream",
          "name": "stderr",
          "text": [
            "INFO:eta.core.utils: 100% |█████████████████| 623/623 [9.5s elapsed, 0s remaining, 92.1 samples/s]       \n"
          ]
        },
        {
          "output_type": "stream",
          "name": "stdout",
          "text": [
            "Evaluating detections...\n"
          ]
        },
        {
          "output_type": "stream",
          "name": "stderr",
          "text": [
            "INFO:fiftyone.utils.eval.detection:Evaluating detections...\n"
          ]
        },
        {
          "output_type": "stream",
          "name": "stdout",
          "text": [
            " 100% |███████████████| 1141/1141 [18.1s elapsed, 0s remaining, 86.8 samples/s]      \n"
          ]
        },
        {
          "output_type": "stream",
          "name": "stderr",
          "text": [
            "INFO:eta.core.utils: 100% |███████████████| 1141/1141 [18.1s elapsed, 0s remaining, 86.8 samples/s]      \n"
          ]
        },
        {
          "output_type": "stream",
          "name": "stdout",
          "text": [
            "Evaluating detections...\n"
          ]
        },
        {
          "output_type": "stream",
          "name": "stderr",
          "text": [
            "INFO:fiftyone.utils.eval.detection:Evaluating detections...\n"
          ]
        },
        {
          "output_type": "stream",
          "name": "stdout",
          "text": [
            " 100% |█████████████████| 639/639 [9.3s elapsed, 0s remaining, 51.1 samples/s]       \n"
          ]
        },
        {
          "output_type": "stream",
          "name": "stderr",
          "text": [
            "INFO:eta.core.utils: 100% |█████████████████| 639/639 [9.3s elapsed, 0s remaining, 51.1 samples/s]       \n"
          ]
        }
      ],
      "source": [
        "# Slice personimages into views by gender and compute detections per slice\n",
        "gender_acc_df = pd.DataFrame(columns=['recall'])\n",
        "for gender in list(personimages.count_values(\"detections.detections.gender\")):\n",
        "    if gender == '':\n",
        "        continue\n",
        "    subset = personimages.filter_labels(\"detections\", F(\"gender\") == gender)\n",
        "    print(f'Evaluating detections for {gender}')\n",
        "    results = subset.evaluate_detections(\n",
        "        \"yolov8n\",\n",
        "        gt_field=\"detections\",\n",
        "        eval_key=\"eval\",\n",
        "        compute_mAP=False)\n",
        "    gender_acc_df.loc[gender] = results.metrics()['recall']"
      ]
    },
    {
      "cell_type": "code",
      "execution_count": null,
      "metadata": {
        "colab": {
          "base_uri": "https://localhost:8080/",
          "height": 542
        },
        "id": "1RnqX8GjtjW3",
        "outputId": "ca387672-2eec-4695-9df1-007fda194225"
      },
      "outputs": [
        {
          "output_type": "display_data",
          "data": {
            "text/html": [
              "<html>\n",
              "<head><meta charset=\"utf-8\" /></head>\n",
              "<body>\n",
              "    <div>            <script src=\"https://cdnjs.cloudflare.com/ajax/libs/mathjax/2.7.5/MathJax.js?config=TeX-AMS-MML_SVG\"></script><script type=\"text/javascript\">if (window.MathJax && window.MathJax.Hub && window.MathJax.Hub.Config) {window.MathJax.Hub.Config({SVG: {font: \"STIX-Web\"}});}</script>                <script type=\"text/javascript\">window.PlotlyConfig = {MathJaxConfig: 'local'};</script>\n",
              "        <script src=\"https://cdn.plot.ly/plotly-2.18.2.min.js\"></script>                <div id=\"04b70087-d65f-4def-8d6e-526b079b652e\" class=\"plotly-graph-div\" style=\"height:525px; width:1000px;\"></div>            <script type=\"text/javascript\">                                    window.PLOTLYENV=window.PLOTLYENV || {};                                    if (document.getElementById(\"04b70087-d65f-4def-8d6e-526b079b652e\")) {                    Plotly.newPlot(                        \"04b70087-d65f-4def-8d6e-526b079b652e\",                        [{\"alignmentgroup\":\"True\",\"hovertemplate\":\"Gender=%{x}<br>Recall=%{y}<extra></extra>\",\"legendgroup\":\"\",\"marker\":{\"color\":\"#636efa\",\"pattern\":{\"shape\":\"\"}},\"name\":\"\",\"offsetgroup\":\"\",\"orientation\":\"v\",\"showlegend\":false,\"textposition\":\"auto\",\"texttemplate\":\"%{y:.2f}\",\"x\":[\"None\",\"Unsure\",\"Male\",\"Female\"],\"xaxis\":\"x\",\"y\":[0.5439249758653979,0.8068459657701712,0.966626936829559,0.9446366782006921],\"yaxis\":\"y\",\"type\":\"bar\"}],                        {\"template\":{\"data\":{\"histogram2dcontour\":[{\"type\":\"histogram2dcontour\",\"colorbar\":{\"outlinewidth\":0,\"ticks\":\"\"},\"colorscale\":[[0.0,\"#0d0887\"],[0.1111111111111111,\"#46039f\"],[0.2222222222222222,\"#7201a8\"],[0.3333333333333333,\"#9c179e\"],[0.4444444444444444,\"#bd3786\"],[0.5555555555555556,\"#d8576b\"],[0.6666666666666666,\"#ed7953\"],[0.7777777777777778,\"#fb9f3a\"],[0.8888888888888888,\"#fdca26\"],[1.0,\"#f0f921\"]]}],\"choropleth\":[{\"type\":\"choropleth\",\"colorbar\":{\"outlinewidth\":0,\"ticks\":\"\"}}],\"histogram2d\":[{\"type\":\"histogram2d\",\"colorbar\":{\"outlinewidth\":0,\"ticks\":\"\"},\"colorscale\":[[0.0,\"#0d0887\"],[0.1111111111111111,\"#46039f\"],[0.2222222222222222,\"#7201a8\"],[0.3333333333333333,\"#9c179e\"],[0.4444444444444444,\"#bd3786\"],[0.5555555555555556,\"#d8576b\"],[0.6666666666666666,\"#ed7953\"],[0.7777777777777778,\"#fb9f3a\"],[0.8888888888888888,\"#fdca26\"],[1.0,\"#f0f921\"]]}],\"heatmap\":[{\"type\":\"heatmap\",\"colorbar\":{\"outlinewidth\":0,\"ticks\":\"\"},\"colorscale\":[[0.0,\"#0d0887\"],[0.1111111111111111,\"#46039f\"],[0.2222222222222222,\"#7201a8\"],[0.3333333333333333,\"#9c179e\"],[0.4444444444444444,\"#bd3786\"],[0.5555555555555556,\"#d8576b\"],[0.6666666666666666,\"#ed7953\"],[0.7777777777777778,\"#fb9f3a\"],[0.8888888888888888,\"#fdca26\"],[1.0,\"#f0f921\"]]}],\"heatmapgl\":[{\"type\":\"heatmapgl\",\"colorbar\":{\"outlinewidth\":0,\"ticks\":\"\"},\"colorscale\":[[0.0,\"#0d0887\"],[0.1111111111111111,\"#46039f\"],[0.2222222222222222,\"#7201a8\"],[0.3333333333333333,\"#9c179e\"],[0.4444444444444444,\"#bd3786\"],[0.5555555555555556,\"#d8576b\"],[0.6666666666666666,\"#ed7953\"],[0.7777777777777778,\"#fb9f3a\"],[0.8888888888888888,\"#fdca26\"],[1.0,\"#f0f921\"]]}],\"contourcarpet\":[{\"type\":\"contourcarpet\",\"colorbar\":{\"outlinewidth\":0,\"ticks\":\"\"}}],\"contour\":[{\"type\":\"contour\",\"colorbar\":{\"outlinewidth\":0,\"ticks\":\"\"},\"colorscale\":[[0.0,\"#0d0887\"],[0.1111111111111111,\"#46039f\"],[0.2222222222222222,\"#7201a8\"],[0.3333333333333333,\"#9c179e\"],[0.4444444444444444,\"#bd3786\"],[0.5555555555555556,\"#d8576b\"],[0.6666666666666666,\"#ed7953\"],[0.7777777777777778,\"#fb9f3a\"],[0.8888888888888888,\"#fdca26\"],[1.0,\"#f0f921\"]]}],\"surface\":[{\"type\":\"surface\",\"colorbar\":{\"outlinewidth\":0,\"ticks\":\"\"},\"colorscale\":[[0.0,\"#0d0887\"],[0.1111111111111111,\"#46039f\"],[0.2222222222222222,\"#7201a8\"],[0.3333333333333333,\"#9c179e\"],[0.4444444444444444,\"#bd3786\"],[0.5555555555555556,\"#d8576b\"],[0.6666666666666666,\"#ed7953\"],[0.7777777777777778,\"#fb9f3a\"],[0.8888888888888888,\"#fdca26\"],[1.0,\"#f0f921\"]]}],\"mesh3d\":[{\"type\":\"mesh3d\",\"colorbar\":{\"outlinewidth\":0,\"ticks\":\"\"}}],\"scatter\":[{\"fillpattern\":{\"fillmode\":\"overlay\",\"size\":10,\"solidity\":0.2},\"type\":\"scatter\"}],\"parcoords\":[{\"type\":\"parcoords\",\"line\":{\"colorbar\":{\"outlinewidth\":0,\"ticks\":\"\"}}}],\"scatterpolargl\":[{\"type\":\"scatterpolargl\",\"marker\":{\"colorbar\":{\"outlinewidth\":0,\"ticks\":\"\"}}}],\"bar\":[{\"error_x\":{\"color\":\"#2a3f5f\"},\"error_y\":{\"color\":\"#2a3f5f\"},\"marker\":{\"line\":{\"color\":\"#E5ECF6\",\"width\":0.5},\"pattern\":{\"fillmode\":\"overlay\",\"size\":10,\"solidity\":0.2}},\"type\":\"bar\"}],\"scattergeo\":[{\"type\":\"scattergeo\",\"marker\":{\"colorbar\":{\"outlinewidth\":0,\"ticks\":\"\"}}}],\"scatterpolar\":[{\"type\":\"scatterpolar\",\"marker\":{\"colorbar\":{\"outlinewidth\":0,\"ticks\":\"\"}}}],\"histogram\":[{\"marker\":{\"pattern\":{\"fillmode\":\"overlay\",\"size\":10,\"solidity\":0.2}},\"type\":\"histogram\"}],\"scattergl\":[{\"type\":\"scattergl\",\"marker\":{\"colorbar\":{\"outlinewidth\":0,\"ticks\":\"\"}}}],\"scatter3d\":[{\"type\":\"scatter3d\",\"line\":{\"colorbar\":{\"outlinewidth\":0,\"ticks\":\"\"}},\"marker\":{\"colorbar\":{\"outlinewidth\":0,\"ticks\":\"\"}}}],\"scattermapbox\":[{\"type\":\"scattermapbox\",\"marker\":{\"colorbar\":{\"outlinewidth\":0,\"ticks\":\"\"}}}],\"scatterternary\":[{\"type\":\"scatterternary\",\"marker\":{\"colorbar\":{\"outlinewidth\":0,\"ticks\":\"\"}}}],\"scattercarpet\":[{\"type\":\"scattercarpet\",\"marker\":{\"colorbar\":{\"outlinewidth\":0,\"ticks\":\"\"}}}],\"carpet\":[{\"aaxis\":{\"endlinecolor\":\"#2a3f5f\",\"gridcolor\":\"white\",\"linecolor\":\"white\",\"minorgridcolor\":\"white\",\"startlinecolor\":\"#2a3f5f\"},\"baxis\":{\"endlinecolor\":\"#2a3f5f\",\"gridcolor\":\"white\",\"linecolor\":\"white\",\"minorgridcolor\":\"white\",\"startlinecolor\":\"#2a3f5f\"},\"type\":\"carpet\"}],\"table\":[{\"cells\":{\"fill\":{\"color\":\"#EBF0F8\"},\"line\":{\"color\":\"white\"}},\"header\":{\"fill\":{\"color\":\"#C8D4E3\"},\"line\":{\"color\":\"white\"}},\"type\":\"table\"}],\"barpolar\":[{\"marker\":{\"line\":{\"color\":\"#E5ECF6\",\"width\":0.5},\"pattern\":{\"fillmode\":\"overlay\",\"size\":10,\"solidity\":0.2}},\"type\":\"barpolar\"}],\"pie\":[{\"automargin\":true,\"type\":\"pie\"}]},\"layout\":{\"autotypenumbers\":\"strict\",\"colorway\":[\"#636efa\",\"#EF553B\",\"#00cc96\",\"#ab63fa\",\"#FFA15A\",\"#19d3f3\",\"#FF6692\",\"#B6E880\",\"#FF97FF\",\"#FECB52\"],\"font\":{\"color\":\"#2a3f5f\"},\"hovermode\":\"closest\",\"hoverlabel\":{\"align\":\"left\"},\"paper_bgcolor\":\"white\",\"plot_bgcolor\":\"#E5ECF6\",\"polar\":{\"bgcolor\":\"#E5ECF6\",\"angularaxis\":{\"gridcolor\":\"white\",\"linecolor\":\"white\",\"ticks\":\"\"},\"radialaxis\":{\"gridcolor\":\"white\",\"linecolor\":\"white\",\"ticks\":\"\"}},\"ternary\":{\"bgcolor\":\"#E5ECF6\",\"aaxis\":{\"gridcolor\":\"white\",\"linecolor\":\"white\",\"ticks\":\"\"},\"baxis\":{\"gridcolor\":\"white\",\"linecolor\":\"white\",\"ticks\":\"\"},\"caxis\":{\"gridcolor\":\"white\",\"linecolor\":\"white\",\"ticks\":\"\"}},\"coloraxis\":{\"colorbar\":{\"outlinewidth\":0,\"ticks\":\"\"}},\"colorscale\":{\"sequential\":[[0.0,\"#0d0887\"],[0.1111111111111111,\"#46039f\"],[0.2222222222222222,\"#7201a8\"],[0.3333333333333333,\"#9c179e\"],[0.4444444444444444,\"#bd3786\"],[0.5555555555555556,\"#d8576b\"],[0.6666666666666666,\"#ed7953\"],[0.7777777777777778,\"#fb9f3a\"],[0.8888888888888888,\"#fdca26\"],[1.0,\"#f0f921\"]],\"sequentialminus\":[[0.0,\"#0d0887\"],[0.1111111111111111,\"#46039f\"],[0.2222222222222222,\"#7201a8\"],[0.3333333333333333,\"#9c179e\"],[0.4444444444444444,\"#bd3786\"],[0.5555555555555556,\"#d8576b\"],[0.6666666666666666,\"#ed7953\"],[0.7777777777777778,\"#fb9f3a\"],[0.8888888888888888,\"#fdca26\"],[1.0,\"#f0f921\"]],\"diverging\":[[0,\"#8e0152\"],[0.1,\"#c51b7d\"],[0.2,\"#de77ae\"],[0.3,\"#f1b6da\"],[0.4,\"#fde0ef\"],[0.5,\"#f7f7f7\"],[0.6,\"#e6f5d0\"],[0.7,\"#b8e186\"],[0.8,\"#7fbc41\"],[0.9,\"#4d9221\"],[1,\"#276419\"]]},\"xaxis\":{\"gridcolor\":\"white\",\"linecolor\":\"white\",\"ticks\":\"\",\"title\":{\"standoff\":15},\"zerolinecolor\":\"white\",\"automargin\":true,\"zerolinewidth\":2},\"yaxis\":{\"gridcolor\":\"white\",\"linecolor\":\"white\",\"ticks\":\"\",\"title\":{\"standoff\":15},\"zerolinecolor\":\"white\",\"automargin\":true,\"zerolinewidth\":2},\"scene\":{\"xaxis\":{\"backgroundcolor\":\"#E5ECF6\",\"gridcolor\":\"white\",\"linecolor\":\"white\",\"showbackground\":true,\"ticks\":\"\",\"zerolinecolor\":\"white\",\"gridwidth\":2},\"yaxis\":{\"backgroundcolor\":\"#E5ECF6\",\"gridcolor\":\"white\",\"linecolor\":\"white\",\"showbackground\":true,\"ticks\":\"\",\"zerolinecolor\":\"white\",\"gridwidth\":2},\"zaxis\":{\"backgroundcolor\":\"#E5ECF6\",\"gridcolor\":\"white\",\"linecolor\":\"white\",\"showbackground\":true,\"ticks\":\"\",\"zerolinecolor\":\"white\",\"gridwidth\":2}},\"shapedefaults\":{\"line\":{\"color\":\"#2a3f5f\"}},\"annotationdefaults\":{\"arrowcolor\":\"#2a3f5f\",\"arrowhead\":0,\"arrowwidth\":1},\"geo\":{\"bgcolor\":\"white\",\"landcolor\":\"#E5ECF6\",\"subunitcolor\":\"white\",\"showland\":true,\"showlakes\":true,\"lakecolor\":\"white\"},\"title\":{\"x\":0.05},\"mapbox\":{\"style\":\"light\"}}},\"xaxis\":{\"anchor\":\"y\",\"domain\":[0.0,1.0],\"title\":{\"text\":\"Gender\"},\"categoryorder\":\"array\",\"categoryarray\":[\"Male\",\"Female\",\"Unsure\",\"None\"]},\"yaxis\":{\"anchor\":\"x\",\"domain\":[0.0,1.0],\"title\":{\"text\":\"Recall\"},\"range\":[0.5,1]},\"legend\":{\"tracegroupgap\":0},\"title\":{\"text\":\"Recall by gender\"},\"barmode\":\"relative\",\"width\":1000,\"font\":{\"size\":20}},                        {\"responsive\": true}                    ).then(function(){\n",
              "                            \n",
              "var gd = document.getElementById('04b70087-d65f-4def-8d6e-526b079b652e');\n",
              "var x = new MutationObserver(function (mutations, observer) {{\n",
              "        var display = window.getComputedStyle(gd).display;\n",
              "        if (!display || display === 'none') {{\n",
              "            console.log([gd, 'removed!']);\n",
              "            Plotly.purge(gd);\n",
              "            observer.disconnect();\n",
              "        }}\n",
              "}});\n",
              "\n",
              "// Listen for the removal of the full notebook cells\n",
              "var notebookContainer = gd.closest('#notebook-container');\n",
              "if (notebookContainer) {{\n",
              "    x.observe(notebookContainer, {childList: true});\n",
              "}}\n",
              "\n",
              "// Listen for the clearing of the current output cell\n",
              "var outputEl = gd.closest('.output');\n",
              "if (outputEl) {{\n",
              "    x.observe(outputEl, {childList: true});\n",
              "}}\n",
              "\n",
              "                        })                };                            </script>        </div>\n",
              "</body>\n",
              "</html>"
            ]
          },
          "metadata": {}
        }
      ],
      "source": [
        "# Show chart of recall per gender\n",
        "fig = px.bar(gender_acc_df,\n",
        "             x=gender_acc_df.index.astype(str),\n",
        "             y='recall',\n",
        "             width=1000,\n",
        "             range_y=[0.5, 1],\n",
        "             #text='recall',\n",
        "             text_auto='.2f',\n",
        "             labels={'x': 'Gender', 'recall': 'Recall'},\n",
        "             title='Recall by gender',\n",
        "             category_orders={'x': ['Male', 'Female', 'Unsure', 'None']})\n",
        "fig.update_layout(font_size=20)\n",
        "fig.show()"
      ]
    },
    {
      "cell_type": "markdown",
      "metadata": {
        "id": "z8EFCEmGCze_"
      },
      "source": [
        "# Synthetic Data\n",
        "Synthetic Data is a powerful tool for computer vision.  It can be used to pretrain models for better generalization, fill data gaps for rare or hard to capture cases, and study model behaviors.\n",
        "\n",
        "The example below uses a dataset generated by the Unity engine, along with the Unity Perception Package and Unity Synthetic Humans package to create a synthetic dataset with labels and run inference on this data.  An experiment is created where there is only one clipped person in the image and the onloy variable that changes is the skin tone.  We can then capture the ground truth skin tone in the metadata, similar to what was done by human labelers in the example above, and show inference results compared to this single variable.\n",
        "\n",
        "The procedure shown is a controlled experiment that is only possible with synthetic data due to the difficulty in controlling single descriptive variables in the real world.  The typical procedure for studying effects with real world data is via ablation studies.\n",
        "\n",
        "The original Unity project that generated this dataset is also available in the source repository."
      ]
    },
    {
      "cell_type": "code",
      "execution_count": null,
      "metadata": {
        "id": "BDYSyqeBC9f7"
      },
      "outputs": [],
      "source": [
        "!pip install pysolotools"
      ]
    },
    {
      "cell_type": "code",
      "execution_count": null,
      "metadata": {
        "colab": {
          "base_uri": "https://localhost:8080/"
        },
        "id": "vfefll0EP_lZ",
        "outputId": "012a0460-397b-4e94-b4c3-1d4048a629f4"
      },
      "outputs": [
        {
          "output_type": "stream",
          "name": "stdout",
          "text": [
            "Copied UnitySynthFull.zip\n"
          ]
        }
      ],
      "source": [
        "# Unzip the generated synthetic dataset\n",
        "# TODO:  Check in UnitySynthFull.zip\n",
        "unity_synth = \"UnitySynth\"\n",
        "coco_synth = \"CocoSynth\"\n",
        "\n",
        "!cp '/content/gdrive/My Drive/UnitySynthFull.zip' UnitySynthFull.zip\n",
        "# This will work when the repo is public\n",
        "#!curl -O https://github.com/alexthaman/evs2023/releases/download/dataset_v1/UnitySynthFull.zip\n",
        "print(f'Copied UnitySynthFull.zip')\n",
        "\n",
        "!unzip -q UnitySynthFull.zip\n",
        "!mv UnitySynthFull {unity_synth}"
      ]
    },
    {
      "cell_type": "code",
      "execution_count": null,
      "metadata": {
        "id": "r0AziYmkBKbs"
      },
      "outputs": [],
      "source": [
        "# Convert the Unity SOLO format to Coco format\n",
        "!solo2coco {unity_synth} {coco_synth}"
      ]
    },
    {
      "cell_type": "code",
      "execution_count": null,
      "metadata": {
        "colab": {
          "base_uri": "https://localhost:8080/"
        },
        "id": "WdZ5qIreO88J",
        "outputId": "8a8a5cfd-5132-46ab-90b2-09c7c6243e7c"
      },
      "outputs": [
        {
          "output_type": "stream",
          "name": "stdout",
          "text": [
            "{'106': 0.6621692, '179': 1.72474885, '158': 0.4645226, '108': -2.42970324, '34': 0.0309360027, '186': -8.457423, '146': -7.95697, '101': 2.8042028, '178': 0.289458036, '73': 6.262553, '27': 2.48165536, '133': 2.11224437, '149': 2.4306376, '69': 6.060336, '50': 4.196192, '134': -4.90179253, '68': -5.93427324, '29': -5.852691, '187': 1.48282433, '42': -0.4372232, '99': -9.22485, '127': -4.79540062, '111': 7.012754, '115': -6.397379, '172': -1.55508208, '196': -1.55677938, '47': 2.83169, '168': -9.896701, '63': 5.963952, '17': 6.850128, '190': 0.5501559, '121': 6.316472, '83': -7.57226, '43': -7.81850147, '45': -9.026798, '163': -8.42891, '3': -3.66666937, '153': -4.69803429, '103': -6.41292524, '129': -1.78371787, '54': -1.11029029, '166': -8.15327549, '86': -7.553609, '139': 7.67909431, '151': 5.99931431, '24': -3.59881163, '79': 5.103058, '124': 1.90857244, '10': 5.18042755, '150': -4.195324, '48': 4.5961504, '199': 1.60135651, '39': 4.630787, '113': -9.836494, '131': -5.7503767, '138': -6.693409, '125': -2.05878377, '98': 5.759864, '7': 6.2393055, '185': -5.94917774, '9': 0.198971033, '104': 4.08758831, '184': -7.8901186, '142': -0.675549269, '33': -8.582946, '192': -5.18319225, '137': -7.57245255, '80': -1.34143233, '175': -2.903731, '130': 4.866049, '145': -9.096778, '41': -6.62806845, '170': 0.77056694, '123': 1.061063, '169': -1.57499909, '143': -4.887253, '0': 6.33499432, '197': -6.742528, '31': -1.73266578, '89': -8.587958, '76': 0.8630538, '97': -6.11651134, '23': -6.36233234, '20': -4.956417, '25': -0.474033833, '114': -1.56441617, '159': -0.5870578, '135': 4.472314, '38': -9.069012, '22': 1.57569742, '37': 3.645202, '81': 7.45748568, '91': -7.46864033, '46': -4.9094696, '180': -9.691401, '84': -5.01464462, '82': 0.841883659, '160': 0.231520176, '88': -3.833183, '173': -5.73160362, '4': 2.41556573, '174': 3.00382352, '77': -9.498691, '26': 6.94971561, '61': 4.84618139, '36': 5.604884, '176': 7.970221, '157': 3.93422818, '161': -9.703596, '40': -6.274701, '193': -5.041943, '194': -6.960514, '120': 1.070337, '16': 7.91680431, '155': 5.605236, '116': -5.489891, '35': 7.00639629, '136': -8.721236, '195': -7.913926, '112': 0.306242228, '11': 2.18512964, '183': 6.16067839, '64': 4.56500435, '162': -4.865344, '15': -5.784005, '6': -5.241789, '53': -6.33894348, '181': 0.8267839, '156': 5.436117, '165': -6.89598465, '96': 5.41120052, '14': 5.137319, '100': 7.305827, '117': 5.65642929, '109': 6.4013195, '2': -5.82873344, '1': 0.792303562, '55': -1.21251678, '126': -6.164357, '21': 5.135193, '95': -5.82738829, '177': -2.20905614, '132': -1.57443476, '148': -4.436206, '58': -4.93412876, '30': -3.38851786, '85': -7.42191029, '118': -4.375236, '188': -9.751808, '147': 3.89424825, '52': 4.12198257, '74': -9.253855, '182': -4.43153238, '18': -6.33427429, '94': -0.2557106, '5': 4.644911, '62': -1.86776328, '56': 5.88268137, '65': -5.74244165, '72': -0.6036961, '44': 5.07844162, '105': -9.279713, '164': -6.82141066, '60': -2.75284076, '110': 6.1969223, '70': 3.63751364, '67': -5.434348, '28': 1.6088903, '12': -9.038192, '144': 7.188677, '19': 3.73506021, '167': -1.8105464, '191': -4.321989, '90': 4.988611, '71': -1.09606171, '66': -7.84432364, '119': -1.96954131, '102': 1.84847808, '189': -4.86665535, '75': 6.603511, '93': -7.07894564, '107': 3.06948614, '141': -8.473027, '32': 6.840232, '49': -1.29299808, '152': 1.76096082, '198': -1.64002013, '59': 4.454313, '92': -2.142651, '87': -6.69718361, '171': -1.640518, '122': -7.004636, '128': -1.81516623, '78': 4.875272, '57': 2.10736275, '154': -6.567423, '140': -5.59441376, '8': -9.825218, '13': 3.52242327, '51': 0.884796858}\n",
            "[{'segmentation': [], 'area': 2688, 'iscrowd': 0, 'image_id': 0, 'bbox': [584, 412, 56, 48], 'keypoints': [], 'num_keypoints': 0, 'category_id': 1, 'id': 0, 'skin': 6.33499432}, {'segmentation': [], 'area': 2688, 'iscrowd': 0, 'image_id': 1, 'bbox': [584, 412, 56, 48], 'keypoints': [], 'num_keypoints': 0, 'category_id': 1, 'id': 1, 'skin': 0.792303562}, {'segmentation': [], 'area': 2688, 'iscrowd': 0, 'image_id': 2, 'bbox': [584, 412, 56, 48], 'keypoints': [], 'num_keypoints': 0, 'category_id': 1, 'id': 2, 'skin': -5.82873344}, {'segmentation': [], 'area': 2688, 'iscrowd': 0, 'image_id': 3, 'bbox': [584, 412, 56, 48], 'keypoints': [], 'num_keypoints': 0, 'category_id': 1, 'id': 3, 'skin': -3.66666937}, {'segmentation': [], 'area': 2688, 'iscrowd': 0, 'image_id': 4, 'bbox': [584, 412, 56, 48], 'keypoints': [], 'num_keypoints': 0, 'category_id': 1, 'id': 4, 'skin': 2.41556573}, {'segmentation': [], 'area': 2688, 'iscrowd': 0, 'image_id': 5, 'bbox': [584, 412, 56, 48], 'keypoints': [], 'num_keypoints': 0, 'category_id': 1, 'id': 5, 'skin': 4.644911}, {'segmentation': [], 'area': 2688, 'iscrowd': 0, 'image_id': 6, 'bbox': [584, 412, 56, 48], 'keypoints': [], 'num_keypoints': 0, 'category_id': 1, 'id': 6, 'skin': -5.241789}, {'segmentation': [], 'area': 2688, 'iscrowd': 0, 'image_id': 7, 'bbox': [584, 412, 56, 48], 'keypoints': [], 'num_keypoints': 0, 'category_id': 1, 'id': 7, 'skin': 6.2393055}, {'segmentation': [], 'area': 2688, 'iscrowd': 0, 'image_id': 8, 'bbox': [584, 412, 56, 48], 'keypoints': [], 'num_keypoints': 0, 'category_id': 1, 'id': 8, 'skin': -9.825218}, {'segmentation': [], 'area': 2688, 'iscrowd': 0, 'image_id': 9, 'bbox': [584, 412, 56, 48], 'keypoints': [], 'num_keypoints': 0, 'category_id': 1, 'id': 9, 'skin': 0.198971033}, {'segmentation': [], 'area': 2688, 'iscrowd': 0, 'image_id': 10, 'bbox': [584, 412, 56, 48], 'keypoints': [], 'num_keypoints': 0, 'category_id': 1, 'id': 10, 'skin': 5.18042755}, {'segmentation': [], 'area': 2688, 'iscrowd': 0, 'image_id': 11, 'bbox': [584, 412, 56, 48], 'keypoints': [], 'num_keypoints': 0, 'category_id': 1, 'id': 11, 'skin': 2.18512964}, {'segmentation': [], 'area': 2688, 'iscrowd': 0, 'image_id': 12, 'bbox': [584, 412, 56, 48], 'keypoints': [], 'num_keypoints': 0, 'category_id': 1, 'id': 12, 'skin': -9.038192}, {'segmentation': [], 'area': 2688, 'iscrowd': 0, 'image_id': 13, 'bbox': [584, 412, 56, 48], 'keypoints': [], 'num_keypoints': 0, 'category_id': 1, 'id': 13, 'skin': 3.52242327}, {'segmentation': [], 'area': 2688, 'iscrowd': 0, 'image_id': 14, 'bbox': [584, 412, 56, 48], 'keypoints': [], 'num_keypoints': 0, 'category_id': 1, 'id': 14, 'skin': 5.137319}, {'segmentation': [], 'area': 2688, 'iscrowd': 0, 'image_id': 15, 'bbox': [584, 412, 56, 48], 'keypoints': [], 'num_keypoints': 0, 'category_id': 1, 'id': 15, 'skin': -5.784005}, {'segmentation': [], 'area': 2688, 'iscrowd': 0, 'image_id': 16, 'bbox': [584, 412, 56, 48], 'keypoints': [], 'num_keypoints': 0, 'category_id': 1, 'id': 16, 'skin': 7.91680431}, {'segmentation': [], 'area': 2688, 'iscrowd': 0, 'image_id': 17, 'bbox': [584, 412, 56, 48], 'keypoints': [], 'num_keypoints': 0, 'category_id': 1, 'id': 17, 'skin': 6.850128}, {'segmentation': [], 'area': 2688, 'iscrowd': 0, 'image_id': 18, 'bbox': [584, 412, 56, 48], 'keypoints': [], 'num_keypoints': 0, 'category_id': 1, 'id': 18, 'skin': -6.33427429}, {'segmentation': [], 'area': 2688, 'iscrowd': 0, 'image_id': 19, 'bbox': [584, 412, 56, 48], 'keypoints': [], 'num_keypoints': 0, 'category_id': 1, 'id': 19, 'skin': 3.73506021}, {'segmentation': [], 'area': 2688, 'iscrowd': 0, 'image_id': 20, 'bbox': [584, 412, 56, 48], 'keypoints': [], 'num_keypoints': 0, 'category_id': 1, 'id': 20, 'skin': -4.956417}, {'segmentation': [], 'area': 2688, 'iscrowd': 0, 'image_id': 21, 'bbox': [584, 412, 56, 48], 'keypoints': [], 'num_keypoints': 0, 'category_id': 1, 'id': 21, 'skin': 5.135193}, {'segmentation': [], 'area': 2688, 'iscrowd': 0, 'image_id': 22, 'bbox': [584, 412, 56, 48], 'keypoints': [], 'num_keypoints': 0, 'category_id': 1, 'id': 22, 'skin': 1.57569742}, {'segmentation': [], 'area': 2688, 'iscrowd': 0, 'image_id': 23, 'bbox': [584, 412, 56, 48], 'keypoints': [], 'num_keypoints': 0, 'category_id': 1, 'id': 23, 'skin': -6.36233234}, {'segmentation': [], 'area': 2688, 'iscrowd': 0, 'image_id': 24, 'bbox': [584, 412, 56, 48], 'keypoints': [], 'num_keypoints': 0, 'category_id': 1, 'id': 24, 'skin': -3.59881163}, {'segmentation': [], 'area': 2688, 'iscrowd': 0, 'image_id': 25, 'bbox': [584, 412, 56, 48], 'keypoints': [], 'num_keypoints': 0, 'category_id': 1, 'id': 25, 'skin': -0.474033833}, {'segmentation': [], 'area': 2688, 'iscrowd': 0, 'image_id': 26, 'bbox': [584, 412, 56, 48], 'keypoints': [], 'num_keypoints': 0, 'category_id': 1, 'id': 26, 'skin': 6.94971561}, {'segmentation': [], 'area': 2688, 'iscrowd': 0, 'image_id': 27, 'bbox': [584, 412, 56, 48], 'keypoints': [], 'num_keypoints': 0, 'category_id': 1, 'id': 27, 'skin': 2.48165536}, {'segmentation': [], 'area': 2688, 'iscrowd': 0, 'image_id': 28, 'bbox': [584, 412, 56, 48], 'keypoints': [], 'num_keypoints': 0, 'category_id': 1, 'id': 28, 'skin': 1.6088903}, {'segmentation': [], 'area': 2688, 'iscrowd': 0, 'image_id': 29, 'bbox': [584, 412, 56, 48], 'keypoints': [], 'num_keypoints': 0, 'category_id': 1, 'id': 29, 'skin': -5.852691}, {'segmentation': [], 'area': 2688, 'iscrowd': 0, 'image_id': 30, 'bbox': [584, 412, 56, 48], 'keypoints': [], 'num_keypoints': 0, 'category_id': 1, 'id': 30, 'skin': -3.38851786}, {'segmentation': [], 'area': 2688, 'iscrowd': 0, 'image_id': 31, 'bbox': [584, 412, 56, 48], 'keypoints': [], 'num_keypoints': 0, 'category_id': 1, 'id': 31, 'skin': -1.73266578}, {'segmentation': [], 'area': 2688, 'iscrowd': 0, 'image_id': 32, 'bbox': [584, 412, 56, 48], 'keypoints': [], 'num_keypoints': 0, 'category_id': 1, 'id': 32, 'skin': 6.840232}, {'segmentation': [], 'area': 2688, 'iscrowd': 0, 'image_id': 33, 'bbox': [584, 412, 56, 48], 'keypoints': [], 'num_keypoints': 0, 'category_id': 1, 'id': 33, 'skin': -8.582946}, {'segmentation': [], 'area': 2688, 'iscrowd': 0, 'image_id': 34, 'bbox': [584, 412, 56, 48], 'keypoints': [], 'num_keypoints': 0, 'category_id': 1, 'id': 34, 'skin': 0.0309360027}, {'segmentation': [], 'area': 2688, 'iscrowd': 0, 'image_id': 35, 'bbox': [584, 412, 56, 48], 'keypoints': [], 'num_keypoints': 0, 'category_id': 1, 'id': 35, 'skin': 7.00639629}, {'segmentation': [], 'area': 2688, 'iscrowd': 0, 'image_id': 36, 'bbox': [584, 412, 56, 48], 'keypoints': [], 'num_keypoints': 0, 'category_id': 1, 'id': 36, 'skin': 5.604884}, {'segmentation': [], 'area': 2688, 'iscrowd': 0, 'image_id': 37, 'bbox': [584, 412, 56, 48], 'keypoints': [], 'num_keypoints': 0, 'category_id': 1, 'id': 37, 'skin': 3.645202}, {'segmentation': [], 'area': 2688, 'iscrowd': 0, 'image_id': 38, 'bbox': [584, 412, 56, 48], 'keypoints': [], 'num_keypoints': 0, 'category_id': 1, 'id': 38, 'skin': -9.069012}, {'segmentation': [], 'area': 2688, 'iscrowd': 0, 'image_id': 39, 'bbox': [584, 412, 56, 48], 'keypoints': [], 'num_keypoints': 0, 'category_id': 1, 'id': 39, 'skin': 4.630787}, {'segmentation': [], 'area': 2688, 'iscrowd': 0, 'image_id': 40, 'bbox': [584, 412, 56, 48], 'keypoints': [], 'num_keypoints': 0, 'category_id': 1, 'id': 40, 'skin': -6.274701}, {'segmentation': [], 'area': 2688, 'iscrowd': 0, 'image_id': 41, 'bbox': [584, 412, 56, 48], 'keypoints': [], 'num_keypoints': 0, 'category_id': 1, 'id': 41, 'skin': -6.62806845}, {'segmentation': [], 'area': 2688, 'iscrowd': 0, 'image_id': 42, 'bbox': [584, 412, 56, 48], 'keypoints': [], 'num_keypoints': 0, 'category_id': 1, 'id': 42, 'skin': -0.4372232}, {'segmentation': [], 'area': 2688, 'iscrowd': 0, 'image_id': 43, 'bbox': [584, 412, 56, 48], 'keypoints': [], 'num_keypoints': 0, 'category_id': 1, 'id': 43, 'skin': -7.81850147}, {'segmentation': [], 'area': 2688, 'iscrowd': 0, 'image_id': 44, 'bbox': [584, 412, 56, 48], 'keypoints': [], 'num_keypoints': 0, 'category_id': 1, 'id': 44, 'skin': 5.07844162}, {'segmentation': [], 'area': 2688, 'iscrowd': 0, 'image_id': 45, 'bbox': [584, 412, 56, 48], 'keypoints': [], 'num_keypoints': 0, 'category_id': 1, 'id': 45, 'skin': -9.026798}, {'segmentation': [], 'area': 2688, 'iscrowd': 0, 'image_id': 46, 'bbox': [584, 412, 56, 48], 'keypoints': [], 'num_keypoints': 0, 'category_id': 1, 'id': 46, 'skin': -4.9094696}, {'segmentation': [], 'area': 2688, 'iscrowd': 0, 'image_id': 47, 'bbox': [584, 412, 56, 48], 'keypoints': [], 'num_keypoints': 0, 'category_id': 1, 'id': 47, 'skin': 2.83169}, {'segmentation': [], 'area': 2688, 'iscrowd': 0, 'image_id': 48, 'bbox': [584, 412, 56, 48], 'keypoints': [], 'num_keypoints': 0, 'category_id': 1, 'id': 48, 'skin': 4.5961504}, {'segmentation': [], 'area': 2688, 'iscrowd': 0, 'image_id': 49, 'bbox': [584, 412, 56, 48], 'keypoints': [], 'num_keypoints': 0, 'category_id': 1, 'id': 49, 'skin': -1.29299808}, {'segmentation': [], 'area': 2688, 'iscrowd': 0, 'image_id': 50, 'bbox': [584, 412, 56, 48], 'keypoints': [], 'num_keypoints': 0, 'category_id': 1, 'id': 50, 'skin': 4.196192}, {'segmentation': [], 'area': 2688, 'iscrowd': 0, 'image_id': 51, 'bbox': [584, 412, 56, 48], 'keypoints': [], 'num_keypoints': 0, 'category_id': 1, 'id': 51, 'skin': 0.884796858}, {'segmentation': [], 'area': 2688, 'iscrowd': 0, 'image_id': 52, 'bbox': [584, 412, 56, 48], 'keypoints': [], 'num_keypoints': 0, 'category_id': 1, 'id': 52, 'skin': 4.12198257}, {'segmentation': [], 'area': 2688, 'iscrowd': 0, 'image_id': 53, 'bbox': [584, 412, 56, 48], 'keypoints': [], 'num_keypoints': 0, 'category_id': 1, 'id': 53, 'skin': -6.33894348}, {'segmentation': [], 'area': 2688, 'iscrowd': 0, 'image_id': 54, 'bbox': [584, 412, 56, 48], 'keypoints': [], 'num_keypoints': 0, 'category_id': 1, 'id': 54, 'skin': -1.11029029}, {'segmentation': [], 'area': 2688, 'iscrowd': 0, 'image_id': 55, 'bbox': [584, 412, 56, 48], 'keypoints': [], 'num_keypoints': 0, 'category_id': 1, 'id': 55, 'skin': -1.21251678}, {'segmentation': [], 'area': 2688, 'iscrowd': 0, 'image_id': 56, 'bbox': [584, 412, 56, 48], 'keypoints': [], 'num_keypoints': 0, 'category_id': 1, 'id': 56, 'skin': 5.88268137}, {'segmentation': [], 'area': 2688, 'iscrowd': 0, 'image_id': 57, 'bbox': [584, 412, 56, 48], 'keypoints': [], 'num_keypoints': 0, 'category_id': 1, 'id': 57, 'skin': 2.10736275}, {'segmentation': [], 'area': 2688, 'iscrowd': 0, 'image_id': 58, 'bbox': [584, 412, 56, 48], 'keypoints': [], 'num_keypoints': 0, 'category_id': 1, 'id': 58, 'skin': -4.93412876}, {'segmentation': [], 'area': 2688, 'iscrowd': 0, 'image_id': 59, 'bbox': [584, 412, 56, 48], 'keypoints': [], 'num_keypoints': 0, 'category_id': 1, 'id': 59, 'skin': 4.454313}, {'segmentation': [], 'area': 2688, 'iscrowd': 0, 'image_id': 60, 'bbox': [584, 412, 56, 48], 'keypoints': [], 'num_keypoints': 0, 'category_id': 1, 'id': 60, 'skin': -2.75284076}, {'segmentation': [], 'area': 2688, 'iscrowd': 0, 'image_id': 61, 'bbox': [584, 412, 56, 48], 'keypoints': [], 'num_keypoints': 0, 'category_id': 1, 'id': 61, 'skin': 4.84618139}, {'segmentation': [], 'area': 2688, 'iscrowd': 0, 'image_id': 62, 'bbox': [584, 412, 56, 48], 'keypoints': [], 'num_keypoints': 0, 'category_id': 1, 'id': 62, 'skin': -1.86776328}, {'segmentation': [], 'area': 2688, 'iscrowd': 0, 'image_id': 63, 'bbox': [584, 412, 56, 48], 'keypoints': [], 'num_keypoints': 0, 'category_id': 1, 'id': 63, 'skin': 5.963952}, {'segmentation': [], 'area': 2688, 'iscrowd': 0, 'image_id': 64, 'bbox': [584, 412, 56, 48], 'keypoints': [], 'num_keypoints': 0, 'category_id': 1, 'id': 64, 'skin': 4.56500435}, {'segmentation': [], 'area': 2688, 'iscrowd': 0, 'image_id': 65, 'bbox': [584, 412, 56, 48], 'keypoints': [], 'num_keypoints': 0, 'category_id': 1, 'id': 65, 'skin': -5.74244165}, {'segmentation': [], 'area': 2688, 'iscrowd': 0, 'image_id': 66, 'bbox': [584, 412, 56, 48], 'keypoints': [], 'num_keypoints': 0, 'category_id': 1, 'id': 66, 'skin': -7.84432364}, {'segmentation': [], 'area': 2688, 'iscrowd': 0, 'image_id': 67, 'bbox': [584, 412, 56, 48], 'keypoints': [], 'num_keypoints': 0, 'category_id': 1, 'id': 67, 'skin': -5.434348}, {'segmentation': [], 'area': 2688, 'iscrowd': 0, 'image_id': 68, 'bbox': [584, 412, 56, 48], 'keypoints': [], 'num_keypoints': 0, 'category_id': 1, 'id': 68, 'skin': -5.93427324}, {'segmentation': [], 'area': 2688, 'iscrowd': 0, 'image_id': 69, 'bbox': [584, 412, 56, 48], 'keypoints': [], 'num_keypoints': 0, 'category_id': 1, 'id': 69, 'skin': 6.060336}, {'segmentation': [], 'area': 2688, 'iscrowd': 0, 'image_id': 70, 'bbox': [584, 412, 56, 48], 'keypoints': [], 'num_keypoints': 0, 'category_id': 1, 'id': 70, 'skin': 3.63751364}, {'segmentation': [], 'area': 2688, 'iscrowd': 0, 'image_id': 71, 'bbox': [584, 412, 56, 48], 'keypoints': [], 'num_keypoints': 0, 'category_id': 1, 'id': 71, 'skin': -1.09606171}, {'segmentation': [], 'area': 2688, 'iscrowd': 0, 'image_id': 72, 'bbox': [584, 412, 56, 48], 'keypoints': [], 'num_keypoints': 0, 'category_id': 1, 'id': 72, 'skin': -0.6036961}, {'segmentation': [], 'area': 2688, 'iscrowd': 0, 'image_id': 73, 'bbox': [584, 412, 56, 48], 'keypoints': [], 'num_keypoints': 0, 'category_id': 1, 'id': 73, 'skin': 6.262553}, {'segmentation': [], 'area': 2688, 'iscrowd': 0, 'image_id': 74, 'bbox': [584, 412, 56, 48], 'keypoints': [], 'num_keypoints': 0, 'category_id': 1, 'id': 74, 'skin': -9.253855}, {'segmentation': [], 'area': 2688, 'iscrowd': 0, 'image_id': 75, 'bbox': [584, 412, 56, 48], 'keypoints': [], 'num_keypoints': 0, 'category_id': 1, 'id': 75, 'skin': 6.603511}, {'segmentation': [], 'area': 2688, 'iscrowd': 0, 'image_id': 76, 'bbox': [584, 412, 56, 48], 'keypoints': [], 'num_keypoints': 0, 'category_id': 1, 'id': 76, 'skin': 0.8630538}, {'segmentation': [], 'area': 2688, 'iscrowd': 0, 'image_id': 77, 'bbox': [584, 412, 56, 48], 'keypoints': [], 'num_keypoints': 0, 'category_id': 1, 'id': 77, 'skin': -9.498691}, {'segmentation': [], 'area': 2688, 'iscrowd': 0, 'image_id': 78, 'bbox': [584, 412, 56, 48], 'keypoints': [], 'num_keypoints': 0, 'category_id': 1, 'id': 78, 'skin': 4.875272}, {'segmentation': [], 'area': 2688, 'iscrowd': 0, 'image_id': 79, 'bbox': [584, 412, 56, 48], 'keypoints': [], 'num_keypoints': 0, 'category_id': 1, 'id': 79, 'skin': 5.103058}, {'segmentation': [], 'area': 2688, 'iscrowd': 0, 'image_id': 80, 'bbox': [584, 412, 56, 48], 'keypoints': [], 'num_keypoints': 0, 'category_id': 1, 'id': 80, 'skin': -1.34143233}, {'segmentation': [], 'area': 2688, 'iscrowd': 0, 'image_id': 81, 'bbox': [584, 412, 56, 48], 'keypoints': [], 'num_keypoints': 0, 'category_id': 1, 'id': 81, 'skin': 7.45748568}, {'segmentation': [], 'area': 2688, 'iscrowd': 0, 'image_id': 82, 'bbox': [584, 412, 56, 48], 'keypoints': [], 'num_keypoints': 0, 'category_id': 1, 'id': 82, 'skin': 0.841883659}, {'segmentation': [], 'area': 2688, 'iscrowd': 0, 'image_id': 83, 'bbox': [584, 412, 56, 48], 'keypoints': [], 'num_keypoints': 0, 'category_id': 1, 'id': 83, 'skin': -7.57226}, {'segmentation': [], 'area': 2688, 'iscrowd': 0, 'image_id': 84, 'bbox': [584, 412, 56, 48], 'keypoints': [], 'num_keypoints': 0, 'category_id': 1, 'id': 84, 'skin': -5.01464462}, {'segmentation': [], 'area': 2688, 'iscrowd': 0, 'image_id': 85, 'bbox': [584, 412, 56, 48], 'keypoints': [], 'num_keypoints': 0, 'category_id': 1, 'id': 85, 'skin': -7.42191029}, {'segmentation': [], 'area': 2688, 'iscrowd': 0, 'image_id': 86, 'bbox': [584, 412, 56, 48], 'keypoints': [], 'num_keypoints': 0, 'category_id': 1, 'id': 86, 'skin': -7.553609}, {'segmentation': [], 'area': 2688, 'iscrowd': 0, 'image_id': 87, 'bbox': [584, 412, 56, 48], 'keypoints': [], 'num_keypoints': 0, 'category_id': 1, 'id': 87, 'skin': -6.69718361}, {'segmentation': [], 'area': 2688, 'iscrowd': 0, 'image_id': 88, 'bbox': [584, 412, 56, 48], 'keypoints': [], 'num_keypoints': 0, 'category_id': 1, 'id': 88, 'skin': -3.833183}, {'segmentation': [], 'area': 2688, 'iscrowd': 0, 'image_id': 89, 'bbox': [584, 412, 56, 48], 'keypoints': [], 'num_keypoints': 0, 'category_id': 1, 'id': 89, 'skin': -8.587958}, {'segmentation': [], 'area': 2688, 'iscrowd': 0, 'image_id': 91, 'bbox': [584, 412, 56, 48], 'keypoints': [], 'num_keypoints': 0, 'category_id': 1, 'id': 90, 'skin': -7.46864033}, {'segmentation': [], 'area': 2688, 'iscrowd': 0, 'image_id': 90, 'bbox': [584, 412, 56, 48], 'keypoints': [], 'num_keypoints': 0, 'category_id': 1, 'id': 91, 'skin': 4.988611}, {'segmentation': [], 'area': 2688, 'iscrowd': 0, 'image_id': 93, 'bbox': [584, 412, 56, 48], 'keypoints': [], 'num_keypoints': 0, 'category_id': 1, 'id': 92, 'skin': -7.07894564}, {'segmentation': [], 'area': 2688, 'iscrowd': 0, 'image_id': 94, 'bbox': [584, 412, 56, 48], 'keypoints': [], 'num_keypoints': 0, 'category_id': 1, 'id': 93, 'skin': -0.2557106}, {'segmentation': [], 'area': 2688, 'iscrowd': 0, 'image_id': 95, 'bbox': [584, 412, 56, 48], 'keypoints': [], 'num_keypoints': 0, 'category_id': 1, 'id': 94, 'skin': -5.82738829}, {'segmentation': [], 'area': 2688, 'iscrowd': 0, 'image_id': 92, 'bbox': [584, 412, 56, 48], 'keypoints': [], 'num_keypoints': 0, 'category_id': 1, 'id': 95, 'skin': -2.142651}, {'segmentation': [], 'area': 2688, 'iscrowd': 0, 'image_id': 96, 'bbox': [584, 412, 56, 48], 'keypoints': [], 'num_keypoints': 0, 'category_id': 1, 'id': 96, 'skin': 5.41120052}, {'segmentation': [], 'area': 2688, 'iscrowd': 0, 'image_id': 97, 'bbox': [584, 412, 56, 48], 'keypoints': [], 'num_keypoints': 0, 'category_id': 1, 'id': 97, 'skin': -6.11651134}, {'segmentation': [], 'area': 2688, 'iscrowd': 0, 'image_id': 98, 'bbox': [584, 412, 56, 48], 'keypoints': [], 'num_keypoints': 0, 'category_id': 1, 'id': 98, 'skin': 5.759864}, {'segmentation': [], 'area': 2688, 'iscrowd': 0, 'image_id': 99, 'bbox': [584, 412, 56, 48], 'keypoints': [], 'num_keypoints': 0, 'category_id': 1, 'id': 99, 'skin': -9.22485}, {'segmentation': [], 'area': 2688, 'iscrowd': 0, 'image_id': 100, 'bbox': [584, 412, 56, 48], 'keypoints': [], 'num_keypoints': 0, 'category_id': 1, 'id': 100, 'skin': 7.305827}, {'segmentation': [], 'area': 2688, 'iscrowd': 0, 'image_id': 101, 'bbox': [584, 412, 56, 48], 'keypoints': [], 'num_keypoints': 0, 'category_id': 1, 'id': 101, 'skin': 2.8042028}, {'segmentation': [], 'area': 2688, 'iscrowd': 0, 'image_id': 102, 'bbox': [584, 412, 56, 48], 'keypoints': [], 'num_keypoints': 0, 'category_id': 1, 'id': 102, 'skin': 1.84847808}, {'segmentation': [], 'area': 2688, 'iscrowd': 0, 'image_id': 103, 'bbox': [584, 412, 56, 48], 'keypoints': [], 'num_keypoints': 0, 'category_id': 1, 'id': 103, 'skin': -6.41292524}, {'segmentation': [], 'area': 2688, 'iscrowd': 0, 'image_id': 104, 'bbox': [584, 412, 56, 48], 'keypoints': [], 'num_keypoints': 0, 'category_id': 1, 'id': 104, 'skin': 4.08758831}, {'segmentation': [], 'area': 2688, 'iscrowd': 0, 'image_id': 105, 'bbox': [584, 412, 56, 48], 'keypoints': [], 'num_keypoints': 0, 'category_id': 1, 'id': 105, 'skin': -9.279713}, {'segmentation': [], 'area': 2688, 'iscrowd': 0, 'image_id': 106, 'bbox': [584, 412, 56, 48], 'keypoints': [], 'num_keypoints': 0, 'category_id': 1, 'id': 106, 'skin': 0.6621692}, {'segmentation': [], 'area': 2688, 'iscrowd': 0, 'image_id': 107, 'bbox': [584, 412, 56, 48], 'keypoints': [], 'num_keypoints': 0, 'category_id': 1, 'id': 107, 'skin': 3.06948614}, {'segmentation': [], 'area': 2688, 'iscrowd': 0, 'image_id': 108, 'bbox': [584, 412, 56, 48], 'keypoints': [], 'num_keypoints': 0, 'category_id': 1, 'id': 108, 'skin': -2.42970324}, {'segmentation': [], 'area': 2688, 'iscrowd': 0, 'image_id': 109, 'bbox': [584, 412, 56, 48], 'keypoints': [], 'num_keypoints': 0, 'category_id': 1, 'id': 109, 'skin': 6.4013195}, {'segmentation': [], 'area': 2688, 'iscrowd': 0, 'image_id': 110, 'bbox': [584, 412, 56, 48], 'keypoints': [], 'num_keypoints': 0, 'category_id': 1, 'id': 110, 'skin': 6.1969223}, {'segmentation': [], 'area': 2688, 'iscrowd': 0, 'image_id': 111, 'bbox': [584, 412, 56, 48], 'keypoints': [], 'num_keypoints': 0, 'category_id': 1, 'id': 111, 'skin': 7.012754}, {'segmentation': [], 'area': 2688, 'iscrowd': 0, 'image_id': 112, 'bbox': [584, 412, 56, 48], 'keypoints': [], 'num_keypoints': 0, 'category_id': 1, 'id': 112, 'skin': 0.306242228}, {'segmentation': [], 'area': 2688, 'iscrowd': 0, 'image_id': 113, 'bbox': [584, 412, 56, 48], 'keypoints': [], 'num_keypoints': 0, 'category_id': 1, 'id': 113, 'skin': -9.836494}, {'segmentation': [], 'area': 2688, 'iscrowd': 0, 'image_id': 114, 'bbox': [584, 412, 56, 48], 'keypoints': [], 'num_keypoints': 0, 'category_id': 1, 'id': 114, 'skin': -1.56441617}, {'segmentation': [], 'area': 2688, 'iscrowd': 0, 'image_id': 115, 'bbox': [584, 412, 56, 48], 'keypoints': [], 'num_keypoints': 0, 'category_id': 1, 'id': 115, 'skin': -6.397379}, {'segmentation': [], 'area': 2688, 'iscrowd': 0, 'image_id': 116, 'bbox': [584, 412, 56, 48], 'keypoints': [], 'num_keypoints': 0, 'category_id': 1, 'id': 116, 'skin': -5.489891}, {'segmentation': [], 'area': 2688, 'iscrowd': 0, 'image_id': 117, 'bbox': [584, 412, 56, 48], 'keypoints': [], 'num_keypoints': 0, 'category_id': 1, 'id': 117, 'skin': 5.65642929}, {'segmentation': [], 'area': 2688, 'iscrowd': 0, 'image_id': 118, 'bbox': [584, 412, 56, 48], 'keypoints': [], 'num_keypoints': 0, 'category_id': 1, 'id': 118, 'skin': -4.375236}, {'segmentation': [], 'area': 2688, 'iscrowd': 0, 'image_id': 119, 'bbox': [584, 412, 56, 48], 'keypoints': [], 'num_keypoints': 0, 'category_id': 1, 'id': 119, 'skin': -1.96954131}, {'segmentation': [], 'area': 2688, 'iscrowd': 0, 'image_id': 120, 'bbox': [584, 412, 56, 48], 'keypoints': [], 'num_keypoints': 0, 'category_id': 1, 'id': 120, 'skin': 1.070337}, {'segmentation': [], 'area': 2688, 'iscrowd': 0, 'image_id': 121, 'bbox': [584, 412, 56, 48], 'keypoints': [], 'num_keypoints': 0, 'category_id': 1, 'id': 121, 'skin': 6.316472}, {'segmentation': [], 'area': 2688, 'iscrowd': 0, 'image_id': 122, 'bbox': [584, 412, 56, 48], 'keypoints': [], 'num_keypoints': 0, 'category_id': 1, 'id': 122, 'skin': -7.004636}, {'segmentation': [], 'area': 2688, 'iscrowd': 0, 'image_id': 123, 'bbox': [584, 412, 56, 48], 'keypoints': [], 'num_keypoints': 0, 'category_id': 1, 'id': 123, 'skin': 1.061063}, {'segmentation': [], 'area': 2688, 'iscrowd': 0, 'image_id': 124, 'bbox': [584, 412, 56, 48], 'keypoints': [], 'num_keypoints': 0, 'category_id': 1, 'id': 124, 'skin': 1.90857244}, {'segmentation': [], 'area': 2688, 'iscrowd': 0, 'image_id': 125, 'bbox': [584, 412, 56, 48], 'keypoints': [], 'num_keypoints': 0, 'category_id': 1, 'id': 125, 'skin': -2.05878377}, {'segmentation': [], 'area': 2688, 'iscrowd': 0, 'image_id': 126, 'bbox': [584, 412, 56, 48], 'keypoints': [], 'num_keypoints': 0, 'category_id': 1, 'id': 126, 'skin': -6.164357}, {'segmentation': [], 'area': 2688, 'iscrowd': 0, 'image_id': 127, 'bbox': [584, 412, 56, 48], 'keypoints': [], 'num_keypoints': 0, 'category_id': 1, 'id': 127, 'skin': -4.79540062}, {'segmentation': [], 'area': 2688, 'iscrowd': 0, 'image_id': 128, 'bbox': [584, 412, 56, 48], 'keypoints': [], 'num_keypoints': 0, 'category_id': 1, 'id': 128, 'skin': -1.81516623}, {'segmentation': [], 'area': 2688, 'iscrowd': 0, 'image_id': 129, 'bbox': [584, 412, 56, 48], 'keypoints': [], 'num_keypoints': 0, 'category_id': 1, 'id': 129, 'skin': -1.78371787}, {'segmentation': [], 'area': 2688, 'iscrowd': 0, 'image_id': 130, 'bbox': [584, 412, 56, 48], 'keypoints': [], 'num_keypoints': 0, 'category_id': 1, 'id': 130, 'skin': 4.866049}, {'segmentation': [], 'area': 2688, 'iscrowd': 0, 'image_id': 131, 'bbox': [584, 412, 56, 48], 'keypoints': [], 'num_keypoints': 0, 'category_id': 1, 'id': 131, 'skin': -5.7503767}, {'segmentation': [], 'area': 2688, 'iscrowd': 0, 'image_id': 132, 'bbox': [584, 412, 56, 48], 'keypoints': [], 'num_keypoints': 0, 'category_id': 1, 'id': 132, 'skin': -1.57443476}, {'segmentation': [], 'area': 2688, 'iscrowd': 0, 'image_id': 133, 'bbox': [584, 412, 56, 48], 'keypoints': [], 'num_keypoints': 0, 'category_id': 1, 'id': 133, 'skin': 2.11224437}, {'segmentation': [], 'area': 2688, 'iscrowd': 0, 'image_id': 134, 'bbox': [584, 412, 56, 48], 'keypoints': [], 'num_keypoints': 0, 'category_id': 1, 'id': 134, 'skin': -4.90179253}, {'segmentation': [], 'area': 2688, 'iscrowd': 0, 'image_id': 135, 'bbox': [584, 412, 56, 48], 'keypoints': [], 'num_keypoints': 0, 'category_id': 1, 'id': 135, 'skin': 4.472314}, {'segmentation': [], 'area': 2688, 'iscrowd': 0, 'image_id': 136, 'bbox': [584, 412, 56, 48], 'keypoints': [], 'num_keypoints': 0, 'category_id': 1, 'id': 136, 'skin': -8.721236}, {'segmentation': [], 'area': 2688, 'iscrowd': 0, 'image_id': 137, 'bbox': [584, 412, 56, 48], 'keypoints': [], 'num_keypoints': 0, 'category_id': 1, 'id': 137, 'skin': -7.57245255}, {'segmentation': [], 'area': 2688, 'iscrowd': 0, 'image_id': 138, 'bbox': [584, 412, 56, 48], 'keypoints': [], 'num_keypoints': 0, 'category_id': 1, 'id': 138, 'skin': -6.693409}, {'segmentation': [], 'area': 2688, 'iscrowd': 0, 'image_id': 139, 'bbox': [584, 412, 56, 48], 'keypoints': [], 'num_keypoints': 0, 'category_id': 1, 'id': 139, 'skin': 7.67909431}, {'segmentation': [], 'area': 2688, 'iscrowd': 0, 'image_id': 140, 'bbox': [584, 412, 56, 48], 'keypoints': [], 'num_keypoints': 0, 'category_id': 1, 'id': 140, 'skin': -5.59441376}, {'segmentation': [], 'area': 2688, 'iscrowd': 0, 'image_id': 141, 'bbox': [584, 412, 56, 48], 'keypoints': [], 'num_keypoints': 0, 'category_id': 1, 'id': 141, 'skin': -8.473027}, {'segmentation': [], 'area': 2688, 'iscrowd': 0, 'image_id': 142, 'bbox': [584, 412, 56, 48], 'keypoints': [], 'num_keypoints': 0, 'category_id': 1, 'id': 142, 'skin': -0.675549269}, {'segmentation': [], 'area': 2688, 'iscrowd': 0, 'image_id': 143, 'bbox': [584, 412, 56, 48], 'keypoints': [], 'num_keypoints': 0, 'category_id': 1, 'id': 143, 'skin': -4.887253}, {'segmentation': [], 'area': 2688, 'iscrowd': 0, 'image_id': 144, 'bbox': [584, 412, 56, 48], 'keypoints': [], 'num_keypoints': 0, 'category_id': 1, 'id': 144, 'skin': 7.188677}, {'segmentation': [], 'area': 2688, 'iscrowd': 0, 'image_id': 145, 'bbox': [584, 412, 56, 48], 'keypoints': [], 'num_keypoints': 0, 'category_id': 1, 'id': 145, 'skin': -9.096778}, {'segmentation': [], 'area': 2688, 'iscrowd': 0, 'image_id': 146, 'bbox': [584, 412, 56, 48], 'keypoints': [], 'num_keypoints': 0, 'category_id': 1, 'id': 146, 'skin': -7.95697}, {'segmentation': [], 'area': 2688, 'iscrowd': 0, 'image_id': 147, 'bbox': [584, 412, 56, 48], 'keypoints': [], 'num_keypoints': 0, 'category_id': 1, 'id': 147, 'skin': 3.89424825}, {'segmentation': [], 'area': 2688, 'iscrowd': 0, 'image_id': 148, 'bbox': [584, 412, 56, 48], 'keypoints': [], 'num_keypoints': 0, 'category_id': 1, 'id': 148, 'skin': -4.436206}, {'segmentation': [], 'area': 2688, 'iscrowd': 0, 'image_id': 149, 'bbox': [584, 412, 56, 48], 'keypoints': [], 'num_keypoints': 0, 'category_id': 1, 'id': 149, 'skin': 2.4306376}, {'segmentation': [], 'area': 2688, 'iscrowd': 0, 'image_id': 150, 'bbox': [584, 412, 56, 48], 'keypoints': [], 'num_keypoints': 0, 'category_id': 1, 'id': 150, 'skin': -4.195324}, {'segmentation': [], 'area': 2688, 'iscrowd': 0, 'image_id': 151, 'bbox': [584, 412, 56, 48], 'keypoints': [], 'num_keypoints': 0, 'category_id': 1, 'id': 151, 'skin': 5.99931431}, {'segmentation': [], 'area': 2688, 'iscrowd': 0, 'image_id': 152, 'bbox': [584, 412, 56, 48], 'keypoints': [], 'num_keypoints': 0, 'category_id': 1, 'id': 152, 'skin': 1.76096082}, {'segmentation': [], 'area': 2688, 'iscrowd': 0, 'image_id': 153, 'bbox': [584, 412, 56, 48], 'keypoints': [], 'num_keypoints': 0, 'category_id': 1, 'id': 153, 'skin': -4.69803429}, {'segmentation': [], 'area': 2688, 'iscrowd': 0, 'image_id': 154, 'bbox': [584, 412, 56, 48], 'keypoints': [], 'num_keypoints': 0, 'category_id': 1, 'id': 154, 'skin': -6.567423}, {'segmentation': [], 'area': 2688, 'iscrowd': 0, 'image_id': 155, 'bbox': [584, 412, 56, 48], 'keypoints': [], 'num_keypoints': 0, 'category_id': 1, 'id': 155, 'skin': 5.605236}, {'segmentation': [], 'area': 2688, 'iscrowd': 0, 'image_id': 156, 'bbox': [584, 412, 56, 48], 'keypoints': [], 'num_keypoints': 0, 'category_id': 1, 'id': 156, 'skin': 5.436117}, {'segmentation': [], 'area': 2688, 'iscrowd': 0, 'image_id': 157, 'bbox': [584, 412, 56, 48], 'keypoints': [], 'num_keypoints': 0, 'category_id': 1, 'id': 157, 'skin': 3.93422818}, {'segmentation': [], 'area': 2688, 'iscrowd': 0, 'image_id': 158, 'bbox': [584, 412, 56, 48], 'keypoints': [], 'num_keypoints': 0, 'category_id': 1, 'id': 158, 'skin': 0.4645226}, {'segmentation': [], 'area': 2688, 'iscrowd': 0, 'image_id': 159, 'bbox': [584, 412, 56, 48], 'keypoints': [], 'num_keypoints': 0, 'category_id': 1, 'id': 159, 'skin': -0.5870578}, {'segmentation': [], 'area': 2688, 'iscrowd': 0, 'image_id': 160, 'bbox': [584, 412, 56, 48], 'keypoints': [], 'num_keypoints': 0, 'category_id': 1, 'id': 160, 'skin': 0.231520176}, {'segmentation': [], 'area': 2688, 'iscrowd': 0, 'image_id': 161, 'bbox': [584, 412, 56, 48], 'keypoints': [], 'num_keypoints': 0, 'category_id': 1, 'id': 161, 'skin': -9.703596}, {'segmentation': [], 'area': 2688, 'iscrowd': 0, 'image_id': 162, 'bbox': [584, 412, 56, 48], 'keypoints': [], 'num_keypoints': 0, 'category_id': 1, 'id': 162, 'skin': -4.865344}, {'segmentation': [], 'area': 2688, 'iscrowd': 0, 'image_id': 163, 'bbox': [584, 412, 56, 48], 'keypoints': [], 'num_keypoints': 0, 'category_id': 1, 'id': 163, 'skin': -8.42891}, {'segmentation': [], 'area': 2688, 'iscrowd': 0, 'image_id': 164, 'bbox': [584, 412, 56, 48], 'keypoints': [], 'num_keypoints': 0, 'category_id': 1, 'id': 164, 'skin': -6.82141066}, {'segmentation': [], 'area': 2688, 'iscrowd': 0, 'image_id': 166, 'bbox': [584, 412, 56, 48], 'keypoints': [], 'num_keypoints': 0, 'category_id': 1, 'id': 165, 'skin': -8.15327549}, {'segmentation': [], 'area': 2688, 'iscrowd': 0, 'image_id': 165, 'bbox': [584, 412, 56, 48], 'keypoints': [], 'num_keypoints': 0, 'category_id': 1, 'id': 166, 'skin': -6.89598465}, {'segmentation': [], 'area': 2688, 'iscrowd': 0, 'image_id': 167, 'bbox': [584, 412, 56, 48], 'keypoints': [], 'num_keypoints': 0, 'category_id': 1, 'id': 167, 'skin': -1.8105464}, {'segmentation': [], 'area': 2688, 'iscrowd': 0, 'image_id': 168, 'bbox': [584, 412, 56, 48], 'keypoints': [], 'num_keypoints': 0, 'category_id': 1, 'id': 168, 'skin': -9.896701}, {'segmentation': [], 'area': 2688, 'iscrowd': 0, 'image_id': 169, 'bbox': [584, 412, 56, 48], 'keypoints': [], 'num_keypoints': 0, 'category_id': 1, 'id': 169, 'skin': -1.57499909}, {'segmentation': [], 'area': 2688, 'iscrowd': 0, 'image_id': 170, 'bbox': [584, 412, 56, 48], 'keypoints': [], 'num_keypoints': 0, 'category_id': 1, 'id': 170, 'skin': 0.77056694}, {'segmentation': [], 'area': 2688, 'iscrowd': 0, 'image_id': 171, 'bbox': [584, 412, 56, 48], 'keypoints': [], 'num_keypoints': 0, 'category_id': 1, 'id': 171, 'skin': -1.640518}, {'segmentation': [], 'area': 2688, 'iscrowd': 0, 'image_id': 172, 'bbox': [584, 412, 56, 48], 'keypoints': [], 'num_keypoints': 0, 'category_id': 1, 'id': 172, 'skin': -1.55508208}, {'segmentation': [], 'area': 2688, 'iscrowd': 0, 'image_id': 173, 'bbox': [584, 412, 56, 48], 'keypoints': [], 'num_keypoints': 0, 'category_id': 1, 'id': 173, 'skin': -5.73160362}, {'segmentation': [], 'area': 2688, 'iscrowd': 0, 'image_id': 174, 'bbox': [584, 412, 56, 48], 'keypoints': [], 'num_keypoints': 0, 'category_id': 1, 'id': 174, 'skin': 3.00382352}, {'segmentation': [], 'area': 2688, 'iscrowd': 0, 'image_id': 175, 'bbox': [584, 412, 56, 48], 'keypoints': [], 'num_keypoints': 0, 'category_id': 1, 'id': 175, 'skin': -2.903731}, {'segmentation': [], 'area': 2688, 'iscrowd': 0, 'image_id': 176, 'bbox': [584, 412, 56, 48], 'keypoints': [], 'num_keypoints': 0, 'category_id': 1, 'id': 176, 'skin': 7.970221}, {'segmentation': [], 'area': 2688, 'iscrowd': 0, 'image_id': 177, 'bbox': [584, 412, 56, 48], 'keypoints': [], 'num_keypoints': 0, 'category_id': 1, 'id': 177, 'skin': -2.20905614}, {'segmentation': [], 'area': 2688, 'iscrowd': 0, 'image_id': 178, 'bbox': [584, 412, 56, 48], 'keypoints': [], 'num_keypoints': 0, 'category_id': 1, 'id': 178, 'skin': 0.289458036}, {'segmentation': [], 'area': 2688, 'iscrowd': 0, 'image_id': 179, 'bbox': [584, 412, 56, 48], 'keypoints': [], 'num_keypoints': 0, 'category_id': 1, 'id': 179, 'skin': 1.72474885}, {'segmentation': [], 'area': 2688, 'iscrowd': 0, 'image_id': 180, 'bbox': [584, 412, 56, 48], 'keypoints': [], 'num_keypoints': 0, 'category_id': 1, 'id': 180, 'skin': -9.691401}, {'segmentation': [], 'area': 2688, 'iscrowd': 0, 'image_id': 181, 'bbox': [584, 412, 56, 48], 'keypoints': [], 'num_keypoints': 0, 'category_id': 1, 'id': 181, 'skin': 0.8267839}, {'segmentation': [], 'area': 2688, 'iscrowd': 0, 'image_id': 182, 'bbox': [584, 412, 56, 48], 'keypoints': [], 'num_keypoints': 0, 'category_id': 1, 'id': 182, 'skin': -4.43153238}, {'segmentation': [], 'area': 2688, 'iscrowd': 0, 'image_id': 183, 'bbox': [584, 412, 56, 48], 'keypoints': [], 'num_keypoints': 0, 'category_id': 1, 'id': 183, 'skin': 6.16067839}, {'segmentation': [], 'area': 2688, 'iscrowd': 0, 'image_id': 184, 'bbox': [584, 412, 56, 48], 'keypoints': [], 'num_keypoints': 0, 'category_id': 1, 'id': 184, 'skin': -7.8901186}, {'segmentation': [], 'area': 2688, 'iscrowd': 0, 'image_id': 185, 'bbox': [584, 412, 56, 48], 'keypoints': [], 'num_keypoints': 0, 'category_id': 1, 'id': 185, 'skin': -5.94917774}, {'segmentation': [], 'area': 2688, 'iscrowd': 0, 'image_id': 186, 'bbox': [584, 412, 56, 48], 'keypoints': [], 'num_keypoints': 0, 'category_id': 1, 'id': 186, 'skin': -8.457423}, {'segmentation': [], 'area': 2688, 'iscrowd': 0, 'image_id': 187, 'bbox': [584, 412, 56, 48], 'keypoints': [], 'num_keypoints': 0, 'category_id': 1, 'id': 187, 'skin': 1.48282433}, {'segmentation': [], 'area': 2688, 'iscrowd': 0, 'image_id': 188, 'bbox': [584, 412, 56, 48], 'keypoints': [], 'num_keypoints': 0, 'category_id': 1, 'id': 188, 'skin': -9.751808}, {'segmentation': [], 'area': 2688, 'iscrowd': 0, 'image_id': 189, 'bbox': [584, 412, 56, 48], 'keypoints': [], 'num_keypoints': 0, 'category_id': 1, 'id': 189, 'skin': -4.86665535}, {'segmentation': [], 'area': 2688, 'iscrowd': 0, 'image_id': 190, 'bbox': [584, 412, 56, 48], 'keypoints': [], 'num_keypoints': 0, 'category_id': 1, 'id': 190, 'skin': 0.5501559}, {'segmentation': [], 'area': 2688, 'iscrowd': 0, 'image_id': 191, 'bbox': [584, 412, 56, 48], 'keypoints': [], 'num_keypoints': 0, 'category_id': 1, 'id': 191, 'skin': -4.321989}, {'segmentation': [], 'area': 2688, 'iscrowd': 0, 'image_id': 192, 'bbox': [584, 412, 56, 48], 'keypoints': [], 'num_keypoints': 0, 'category_id': 1, 'id': 192, 'skin': -5.18319225}, {'segmentation': [], 'area': 2688, 'iscrowd': 0, 'image_id': 193, 'bbox': [584, 412, 56, 48], 'keypoints': [], 'num_keypoints': 0, 'category_id': 1, 'id': 193, 'skin': -5.041943}, {'segmentation': [], 'area': 2688, 'iscrowd': 0, 'image_id': 194, 'bbox': [584, 412, 56, 48], 'keypoints': [], 'num_keypoints': 0, 'category_id': 1, 'id': 194, 'skin': -6.960514}, {'segmentation': [], 'area': 2688, 'iscrowd': 0, 'image_id': 195, 'bbox': [584, 412, 56, 48], 'keypoints': [], 'num_keypoints': 0, 'category_id': 1, 'id': 195, 'skin': -7.913926}, {'segmentation': [], 'area': 2688, 'iscrowd': 0, 'image_id': 196, 'bbox': [584, 412, 56, 48], 'keypoints': [], 'num_keypoints': 0, 'category_id': 1, 'id': 196, 'skin': -1.55677938}, {'segmentation': [], 'area': 2688, 'iscrowd': 0, 'image_id': 197, 'bbox': [584, 412, 56, 48], 'keypoints': [], 'num_keypoints': 0, 'category_id': 1, 'id': 197, 'skin': -6.742528}, {'segmentation': [], 'area': 2688, 'iscrowd': 0, 'image_id': 198, 'bbox': [584, 412, 56, 48], 'keypoints': [], 'num_keypoints': 0, 'category_id': 1, 'id': 198, 'skin': -1.64002013}, {'segmentation': [], 'area': 2688, 'iscrowd': 0, 'image_id': 199, 'bbox': [584, 412, 56, 48], 'keypoints': [], 'num_keypoints': 0, 'category_id': 1, 'id': 199, 'skin': 1.60135651}]\n"
          ]
        }
      ],
      "source": [
        "# Augment Coco data with extra metadata\n",
        "import csv\n",
        "import os\n",
        "import glob\n",
        "import json\n",
        "import re\n",
        "\n",
        "# Read extra skin tone data from Unity synth\n",
        "skin_tones = {}\n",
        "for file in glob.glob(f'{unity_synth}/sequence.*/step0.frame_data.json'):\n",
        "  match = re.search(f'{re.escape(unity_synth)}/sequence\\.(.*)/step0\\.frame_data\\.json', file)\n",
        "  index = match.group(1)\n",
        "  with open(file, 'r') as f:\n",
        "    js = json.load(f)\n",
        "  metadata = [i for i in js['metrics'] if i['description'] == 'Metadata labeler']\n",
        "  f.close()\n",
        "  skin_tone = metadata[0]['values'][0]['instances'][0]['Person data']['Skin tone']\n",
        "  skin_tones[index] = skin_tone\n",
        "print(skin_tones)\n",
        "\n",
        "# Augment annotation metadata with extra information\n",
        "import json\n",
        "with open(f'{coco_synth}/coco/bbox.json') as f:\n",
        "    js = json.load(f)\n",
        "    for ann in js['annotations']:\n",
        "        ann.update({'skin': skin_tones[f'{ann[\"image_id\"]}']})\n",
        "print(js['annotations'])\n",
        "\n",
        "# Write the labels file back with the updated metadata\n",
        "f = open(f'{coco_synth}/coco/bbox2.json', 'w')\n",
        "json.dump(js, f, indent=2)\n",
        "f.close()"
      ]
    },
    {
      "cell_type": "code",
      "execution_count": null,
      "metadata": {
        "colab": {
          "base_uri": "https://localhost:8080/",
          "height": 839
        },
        "id": "EyJSua7dDRHR",
        "outputId": "0ff95642-5e9d-4896-a7eb-c2073f1a31c9"
      },
      "outputs": [
        {
          "output_type": "stream",
          "name": "stdout",
          "text": [
            " 100% |█████████████████| 200/200 [2.1s elapsed, 0s remaining, 113.1 samples/s]     \n"
          ]
        },
        {
          "output_type": "stream",
          "name": "stderr",
          "text": [
            "INFO:eta.core.utils: 100% |█████████████████| 200/200 [2.1s elapsed, 0s remaining, 113.1 samples/s]     \n"
          ]
        },
        {
          "output_type": "display_data",
          "data": {
            "text/plain": [
              "<IPython.core.display.HTML object>"
            ],
            "text/html": [
              "\n",
              "<style>\n",
              "\n",
              "@import url(\"https://fonts.googleapis.com/css2?family=Palanquin&display=swap\");\n",
              "\n",
              "body, html {\n",
              "  margin: 0;\n",
              "  padding: 0;\n",
              "  width: 100%;\n",
              "}\n",
              "\n",
              "#focontainer-42baec24-4ecd-4f64-a5f3-30b9c0873933 {\n",
              "  position: relative;\n",
              "  height: px;\n",
              "  display: block !important;\n",
              "}\n",
              "#foactivate-42baec24-4ecd-4f64-a5f3-30b9c0873933 {\n",
              "  font-weight: bold;\n",
              "  cursor: pointer;\n",
              "  font-size: 24px;\n",
              "  border-radius: 3px;\n",
              "  text-align: center;\n",
              "  padding: 0.5em;\n",
              "  color: rgb(255, 255, 255);\n",
              "  font-family: \"Palanquin\", sans-serif;\n",
              "  position: absolute;\n",
              "  left: 50%;\n",
              "  top: 50%;\n",
              "  width: 160px;\n",
              "  margin-left: -80px;\n",
              "  margin-top: -23px;\n",
              "  background: hsla(210,11%,15%, 0.8);\n",
              "  border: none;\n",
              "}\n",
              "#foactivate-42baec24-4ecd-4f64-a5f3-30b9c0873933:focus {\n",
              "  outline: none;\n",
              "}\n",
              "#fooverlay-42baec24-4ecd-4f64-a5f3-30b9c0873933 {\n",
              "  width: 100%;\n",
              "  height: 100%;\n",
              "  background: hsla(208, 7%, 46%, 0.7);\n",
              "  position: absolute;\n",
              "  top: 0;\n",
              "  left: 0;\n",
              "  display: none;\n",
              "  cursor: pointer;\n",
              "}\n",
              "</style>\n",
              "<div id=\"focontainer-42baec24-4ecd-4f64-a5f3-30b9c0873933\" style=\"display: none;\">\n",
              "   <div id=\"fooverlay-42baec24-4ecd-4f64-a5f3-30b9c0873933\">\n",
              "      <button id=\"foactivate-42baec24-4ecd-4f64-a5f3-30b9c0873933\" >Activate</button>\n",
              "   </div>\n",
              "</div>"
            ]
          },
          "metadata": {}
        }
      ],
      "source": [
        "# Load the CocoSynth dataset into FiftyOne\n",
        "dataset_name = \"synth\"\n",
        "dataset_dir = \"./CocoSynth/coco\"\n",
        "dataset_type = fo.types.COCODetectionDataset  # for example\n",
        "if not dataset_name in fo.list_datasets():\n",
        "    dataset = fo.Dataset.from_dir(\n",
        "        dataset_dir=dataset_dir,\n",
        "        dataset_type=dataset_type,\n",
        "        name=dataset_name,\n",
        "        data_path='images',\n",
        "        labels_path='bbox2.json'\n",
        "    )\n",
        "else:\n",
        "    dataset = fo.load_dataset(dataset_name)\n",
        "\n",
        "dataset = dataset.exclude_fields('keypoints')\n",
        "\n",
        "session = fo.launch_app(dataset.to_patches('detections'))"
      ]
    },
    {
      "cell_type": "code",
      "execution_count": null,
      "metadata": {
        "colab": {
          "base_uri": "https://localhost:8080/"
        },
        "id": "ndd9WZ_ER5qA",
        "outputId": "5d92eecd-d77e-4e41-bbeb-a483bbe8bdba"
      },
      "outputs": [
        {
          "output_type": "stream",
          "name": "stdout",
          "text": [
            " 100% |█████████████████| 200/200 [434.4ms elapsed, 0s remaining, 460.4 samples/s]      \n"
          ]
        },
        {
          "output_type": "stream",
          "name": "stderr",
          "text": [
            "INFO:eta.core.utils: 100% |█████████████████| 200/200 [434.4ms elapsed, 0s remaining, 460.4 samples/s]      \n"
          ]
        }
      ],
      "source": [
        "# Export the dataset from FiftyOne in YOLO format\n",
        "detection_model = YOLO(\"yolov8n.pt\")\n",
        "\n",
        "coco_classes = [c for c in dataset.default_classes if not c.isnumeric()]\n",
        "\n",
        "coco_val_dir = \"yolo_export_synth\"\n",
        "export_yolo_data(dataset, coco_val_dir, coco_classes)"
      ]
    },
    {
      "cell_type": "code",
      "execution_count": null,
      "metadata": {
        "id": "djNHwdWeR-4E"
      },
      "outputs": [],
      "source": [
        "# Run inference on the synthetic dataset\n",
        "import tqdm\n",
        "\n",
        "# Clean any previous inference runs\n",
        "!rm -rf runs\n",
        "\n",
        "model = YOLO(\"yolov8n.pt\")  # load a pretrained model (recommended for training)\n",
        "predictions = model.predict(source=f'{coco_val_dir}/images/val', save_txt=True, save_conf=True, stream=True)\n",
        "for prediction in predictions:\n",
        "  prediction.boxes"
      ]
    },
    {
      "cell_type": "code",
      "execution_count": null,
      "metadata": {
        "id": "H_WuMnqqSGi4",
        "colab": {
          "base_uri": "https://localhost:8080/",
          "height": 804
        },
        "outputId": "30e7977d-0985-481c-ed0f-5c13167e6026"
      },
      "outputs": [
        {
          "output_type": "display_data",
          "data": {
            "text/plain": [
              "<IPython.core.display.HTML object>"
            ],
            "text/html": [
              "\n",
              "<style>\n",
              "\n",
              "@import url(\"https://fonts.googleapis.com/css2?family=Palanquin&display=swap\");\n",
              "\n",
              "body, html {\n",
              "  margin: 0;\n",
              "  padding: 0;\n",
              "  width: 100%;\n",
              "}\n",
              "\n",
              "#focontainer-ee523aa6-da00-4039-b3b4-9ab34604e738 {\n",
              "  position: relative;\n",
              "  height: px;\n",
              "  display: block !important;\n",
              "}\n",
              "#foactivate-ee523aa6-da00-4039-b3b4-9ab34604e738 {\n",
              "  font-weight: bold;\n",
              "  cursor: pointer;\n",
              "  font-size: 24px;\n",
              "  border-radius: 3px;\n",
              "  text-align: center;\n",
              "  padding: 0.5em;\n",
              "  color: rgb(255, 255, 255);\n",
              "  font-family: \"Palanquin\", sans-serif;\n",
              "  position: absolute;\n",
              "  left: 50%;\n",
              "  top: 50%;\n",
              "  width: 160px;\n",
              "  margin-left: -80px;\n",
              "  margin-top: -23px;\n",
              "  background: hsla(210,11%,15%, 0.8);\n",
              "  border: none;\n",
              "}\n",
              "#foactivate-ee523aa6-da00-4039-b3b4-9ab34604e738:focus {\n",
              "  outline: none;\n",
              "}\n",
              "#fooverlay-ee523aa6-da00-4039-b3b4-9ab34604e738 {\n",
              "  width: 100%;\n",
              "  height: 100%;\n",
              "  background: hsla(208, 7%, 46%, 0.7);\n",
              "  position: absolute;\n",
              "  top: 0;\n",
              "  left: 0;\n",
              "  display: none;\n",
              "  cursor: pointer;\n",
              "}\n",
              "</style>\n",
              "<div id=\"focontainer-ee523aa6-da00-4039-b3b4-9ab34604e738\" style=\"display: none;\">\n",
              "   <div id=\"fooverlay-ee523aa6-da00-4039-b3b4-9ab34604e738\">\n",
              "      <button id=\"foactivate-ee523aa6-da00-4039-b3b4-9ab34604e738\" >Activate</button>\n",
              "   </div>\n",
              "</div>"
            ]
          },
          "metadata": {}
        }
      ],
      "source": [
        "# Load the predictions on the synthetic dataset back into FiftyOne\n",
        "filepaths = dataset.values(\"filepath\")\n",
        "prediction_filepaths = [get_prediction_filepath(fp) for fp in filepaths]\n",
        "dataset.set_values(\n",
        "    \"yolov8n_det_filepath\",\n",
        "    prediction_filepaths,\n",
        ")\n",
        "\n",
        "add_yolo_detections(\n",
        "    dataset,\n",
        "    \"yolov8n\",\n",
        "    \"yolov8n_det_filepath\",\n",
        "    coco_classes\n",
        ")\n",
        "\n",
        "session = fo.launch_app(dataset)"
      ]
    },
    {
      "cell_type": "code",
      "execution_count": null,
      "metadata": {
        "id": "iW7Ntl10s88-"
      },
      "outputs": [],
      "source": [
        "# Optional cleanup cell, uncomment as needed\n",
        "#!rm -rf runs\n",
        "#!rm -rf UnitySynth\n",
        "#!rm -rf yolo_export_synth\n",
        "#!rm -rf CocoSynth"
      ]
    },
    {
      "cell_type": "code",
      "execution_count": null,
      "metadata": {
        "colab": {
          "base_uri": "https://localhost:8080/",
          "height": 760
        },
        "id": "96gi6IgvaUry",
        "outputId": "e1548f94-486f-4e9a-ce53-b8ae6ffcbd62"
      },
      "outputs": [
        {
          "output_type": "stream",
          "name": "stdout",
          "text": [
            "Evaluating detections...\n"
          ]
        },
        {
          "output_type": "stream",
          "name": "stderr",
          "text": [
            "INFO:fiftyone.utils.eval.detection:Evaluating detections...\n"
          ]
        },
        {
          "output_type": "stream",
          "name": "stdout",
          "text": [
            " 100% |███████████████████| 33/33 [188.2ms elapsed, 0s remaining, 175.4 samples/s]     \n"
          ]
        },
        {
          "output_type": "stream",
          "name": "stderr",
          "text": [
            "INFO:eta.core.utils: 100% |███████████████████| 33/33 [188.2ms elapsed, 0s remaining, 175.4 samples/s]     \n"
          ]
        },
        {
          "output_type": "stream",
          "name": "stdout",
          "text": [
            "Evaluating detections...\n"
          ]
        },
        {
          "output_type": "stream",
          "name": "stderr",
          "text": [
            "INFO:fiftyone.utils.eval.detection:Evaluating detections...\n"
          ]
        },
        {
          "output_type": "stream",
          "name": "stdout",
          "text": [
            " 100% |███████████████████| 46/46 [250.6ms elapsed, 0s remaining, 183.5 samples/s]      \n"
          ]
        },
        {
          "output_type": "stream",
          "name": "stderr",
          "text": [
            "INFO:eta.core.utils: 100% |███████████████████| 46/46 [250.6ms elapsed, 0s remaining, 183.5 samples/s]      \n"
          ]
        },
        {
          "output_type": "stream",
          "name": "stdout",
          "text": [
            "Evaluating detections...\n"
          ]
        },
        {
          "output_type": "stream",
          "name": "stderr",
          "text": [
            "INFO:fiftyone.utils.eval.detection:Evaluating detections...\n"
          ]
        },
        {
          "output_type": "stream",
          "name": "stdout",
          "text": [
            " 100% |███████████████████| 28/28 [121.6ms elapsed, 0s remaining, 230.2 samples/s]    \n"
          ]
        },
        {
          "output_type": "stream",
          "name": "stderr",
          "text": [
            "INFO:eta.core.utils: 100% |███████████████████| 28/28 [121.6ms elapsed, 0s remaining, 230.2 samples/s]    \n"
          ]
        },
        {
          "output_type": "stream",
          "name": "stdout",
          "text": [
            "Evaluating detections...\n"
          ]
        },
        {
          "output_type": "stream",
          "name": "stderr",
          "text": [
            "INFO:fiftyone.utils.eval.detection:Evaluating detections...\n"
          ]
        },
        {
          "output_type": "stream",
          "name": "stdout",
          "text": [
            " 100% |███████████████████| 30/30 [85.4ms elapsed, 0s remaining, 351.1 samples/s] \n"
          ]
        },
        {
          "output_type": "stream",
          "name": "stderr",
          "text": [
            "INFO:eta.core.utils: 100% |███████████████████| 30/30 [85.4ms elapsed, 0s remaining, 351.1 samples/s] \n"
          ]
        },
        {
          "output_type": "stream",
          "name": "stdout",
          "text": [
            "Evaluating detections...\n"
          ]
        },
        {
          "output_type": "stream",
          "name": "stderr",
          "text": [
            "INFO:fiftyone.utils.eval.detection:Evaluating detections...\n"
          ]
        },
        {
          "output_type": "stream",
          "name": "stdout",
          "text": [
            " 100% |███████████████████| 29/29 [101.4ms elapsed, 0s remaining, 286.1 samples/s] \n"
          ]
        },
        {
          "output_type": "stream",
          "name": "stderr",
          "text": [
            "INFO:eta.core.utils: 100% |███████████████████| 29/29 [101.4ms elapsed, 0s remaining, 286.1 samples/s] \n"
          ]
        },
        {
          "output_type": "stream",
          "name": "stdout",
          "text": [
            "Evaluating detections...\n"
          ]
        },
        {
          "output_type": "stream",
          "name": "stderr",
          "text": [
            "INFO:fiftyone.utils.eval.detection:Evaluating detections...\n"
          ]
        },
        {
          "output_type": "stream",
          "name": "stdout",
          "text": [
            " 100% |███████████████████| 34/34 [105.7ms elapsed, 0s remaining, 321.7 samples/s] \n"
          ]
        },
        {
          "output_type": "stream",
          "name": "stderr",
          "text": [
            "INFO:eta.core.utils: 100% |███████████████████| 34/34 [105.7ms elapsed, 0s remaining, 321.7 samples/s] \n",
            "<ipython-input-46-0b4b7451851c>:26: DeprecationWarning:\n",
            "\n",
            "`np.int` is a deprecated alias for the builtin `int`. To silence this warning, use `int` by itself. Doing this will not modify any behavior and is safe. When replacing `np.int`, you may wish to use e.g. `np.int64` or `np.int32` to specify the precision. If you wish to review your current use, check the release note link for additional information.\n",
            "Deprecated in NumPy 1.20; for more details and guidance: https://numpy.org/devdocs/release/1.20.0-notes.html#deprecations\n",
            "\n"
          ]
        },
        {
          "output_type": "execute_result",
          "data": {
            "text/plain": [
              "                count  precision    recall\n",
              "(-10.0)-(-7.0)     33        1.0  1.000000\n",
              "(-7.0)-(-4.0)      46        1.0  0.586957\n",
              "(-4.0)-(-1.0)      28        0.0  0.000000\n",
              "(-1.0)-(2.0)       30        0.0  0.000000\n",
              "(2.0)-(5.0)        29        0.0  0.000000\n",
              "(5.0)-(8.0)        34        0.0  0.000000"
            ],
            "text/html": [
              "\n",
              "  <div id=\"df-8d9e7c78-eaee-423d-b1d2-c37b4a41c11f\">\n",
              "    <div class=\"colab-df-container\">\n",
              "      <div>\n",
              "<style scoped>\n",
              "    .dataframe tbody tr th:only-of-type {\n",
              "        vertical-align: middle;\n",
              "    }\n",
              "\n",
              "    .dataframe tbody tr th {\n",
              "        vertical-align: top;\n",
              "    }\n",
              "\n",
              "    .dataframe thead th {\n",
              "        text-align: right;\n",
              "    }\n",
              "</style>\n",
              "<table border=\"1\" class=\"dataframe\">\n",
              "  <thead>\n",
              "    <tr style=\"text-align: right;\">\n",
              "      <th></th>\n",
              "      <th>count</th>\n",
              "      <th>precision</th>\n",
              "      <th>recall</th>\n",
              "    </tr>\n",
              "  </thead>\n",
              "  <tbody>\n",
              "    <tr>\n",
              "      <th>(-10.0)-(-7.0)</th>\n",
              "      <td>33</td>\n",
              "      <td>1.0</td>\n",
              "      <td>1.000000</td>\n",
              "    </tr>\n",
              "    <tr>\n",
              "      <th>(-7.0)-(-4.0)</th>\n",
              "      <td>46</td>\n",
              "      <td>1.0</td>\n",
              "      <td>0.586957</td>\n",
              "    </tr>\n",
              "    <tr>\n",
              "      <th>(-4.0)-(-1.0)</th>\n",
              "      <td>28</td>\n",
              "      <td>0.0</td>\n",
              "      <td>0.000000</td>\n",
              "    </tr>\n",
              "    <tr>\n",
              "      <th>(-1.0)-(2.0)</th>\n",
              "      <td>30</td>\n",
              "      <td>0.0</td>\n",
              "      <td>0.000000</td>\n",
              "    </tr>\n",
              "    <tr>\n",
              "      <th>(2.0)-(5.0)</th>\n",
              "      <td>29</td>\n",
              "      <td>0.0</td>\n",
              "      <td>0.000000</td>\n",
              "    </tr>\n",
              "    <tr>\n",
              "      <th>(5.0)-(8.0)</th>\n",
              "      <td>34</td>\n",
              "      <td>0.0</td>\n",
              "      <td>0.000000</td>\n",
              "    </tr>\n",
              "  </tbody>\n",
              "</table>\n",
              "</div>\n",
              "      <button class=\"colab-df-convert\" onclick=\"convertToInteractive('df-8d9e7c78-eaee-423d-b1d2-c37b4a41c11f')\"\n",
              "              title=\"Convert this dataframe to an interactive table.\"\n",
              "              style=\"display:none;\">\n",
              "        \n",
              "  <svg xmlns=\"http://www.w3.org/2000/svg\" height=\"24px\"viewBox=\"0 0 24 24\"\n",
              "       width=\"24px\">\n",
              "    <path d=\"M0 0h24v24H0V0z\" fill=\"none\"/>\n",
              "    <path d=\"M18.56 5.44l.94 2.06.94-2.06 2.06-.94-2.06-.94-.94-2.06-.94 2.06-2.06.94zm-11 1L8.5 8.5l.94-2.06 2.06-.94-2.06-.94L8.5 2.5l-.94 2.06-2.06.94zm10 10l.94 2.06.94-2.06 2.06-.94-2.06-.94-.94-2.06-.94 2.06-2.06.94z\"/><path d=\"M17.41 7.96l-1.37-1.37c-.4-.4-.92-.59-1.43-.59-.52 0-1.04.2-1.43.59L10.3 9.45l-7.72 7.72c-.78.78-.78 2.05 0 2.83L4 21.41c.39.39.9.59 1.41.59.51 0 1.02-.2 1.41-.59l7.78-7.78 2.81-2.81c.8-.78.8-2.07 0-2.86zM5.41 20L4 18.59l7.72-7.72 1.47 1.35L5.41 20z\"/>\n",
              "  </svg>\n",
              "      </button>\n",
              "      \n",
              "  <style>\n",
              "    .colab-df-container {\n",
              "      display:flex;\n",
              "      flex-wrap:wrap;\n",
              "      gap: 12px;\n",
              "    }\n",
              "\n",
              "    .colab-df-convert {\n",
              "      background-color: #E8F0FE;\n",
              "      border: none;\n",
              "      border-radius: 50%;\n",
              "      cursor: pointer;\n",
              "      display: none;\n",
              "      fill: #1967D2;\n",
              "      height: 32px;\n",
              "      padding: 0 0 0 0;\n",
              "      width: 32px;\n",
              "    }\n",
              "\n",
              "    .colab-df-convert:hover {\n",
              "      background-color: #E2EBFA;\n",
              "      box-shadow: 0px 1px 2px rgba(60, 64, 67, 0.3), 0px 1px 3px 1px rgba(60, 64, 67, 0.15);\n",
              "      fill: #174EA6;\n",
              "    }\n",
              "\n",
              "    [theme=dark] .colab-df-convert {\n",
              "      background-color: #3B4455;\n",
              "      fill: #D2E3FC;\n",
              "    }\n",
              "\n",
              "    [theme=dark] .colab-df-convert:hover {\n",
              "      background-color: #434B5C;\n",
              "      box-shadow: 0px 1px 3px 1px rgba(0, 0, 0, 0.15);\n",
              "      filter: drop-shadow(0px 1px 2px rgba(0, 0, 0, 0.3));\n",
              "      fill: #FFFFFF;\n",
              "    }\n",
              "  </style>\n",
              "\n",
              "      <script>\n",
              "        const buttonEl =\n",
              "          document.querySelector('#df-8d9e7c78-eaee-423d-b1d2-c37b4a41c11f button.colab-df-convert');\n",
              "        buttonEl.style.display =\n",
              "          google.colab.kernel.accessAllowed ? 'block' : 'none';\n",
              "\n",
              "        async function convertToInteractive(key) {\n",
              "          const element = document.querySelector('#df-8d9e7c78-eaee-423d-b1d2-c37b4a41c11f');\n",
              "          const dataTable =\n",
              "            await google.colab.kernel.invokeFunction('convertToInteractive',\n",
              "                                                     [key], {});\n",
              "          if (!dataTable) return;\n",
              "\n",
              "          const docLinkHtml = 'Like what you see? Visit the ' +\n",
              "            '<a target=\"_blank\" href=https://colab.research.google.com/notebooks/data_table.ipynb>data table notebook</a>'\n",
              "            + ' to learn more about interactive tables.';\n",
              "          element.innerHTML = '';\n",
              "          dataTable['output_type'] = 'display_data';\n",
              "          await google.colab.output.renderOutput(dataTable, element);\n",
              "          const docLink = document.createElement('div');\n",
              "          docLink.innerHTML = docLinkHtml;\n",
              "          element.appendChild(docLink);\n",
              "        }\n",
              "      </script>\n",
              "    </div>\n",
              "  </div>\n",
              "  "
            ]
          },
          "metadata": {},
          "execution_count": 46
        }
      ],
      "source": [
        "# Slice dataset into views by tone and compute detections per slice\n",
        "import pandas as pd\n",
        "from fiftyone import ViewField as F\n",
        "\n",
        "# calculate the interval size\n",
        "interval_count = 6\n",
        "start = -10\n",
        "end = 8\n",
        "interval_size = (end - start) / interval_count\n",
        "skin_acc_df = pd.DataFrame(columns=['count', 'precision', 'recall'])\n",
        "\n",
        "# loop through the range and slice it into 6 even intervals\n",
        "for i in range(interval_count):\n",
        "  s = start + i * interval_size\n",
        "  e = s + interval_size\n",
        "\n",
        "  sub = dataset.match(F(\"detections.detections\").filter((F('skin') >= s) & (F('skin') < e)).length() > 0)\n",
        "  results = sub.evaluate_detections(\n",
        "      \"yolov8n\",\n",
        "      gt_field=\"detections\",\n",
        "      eval_key=\"eval\",\n",
        "      compute_mAP=False,\n",
        "  )\n",
        "  skin_acc_df.loc[f'({s})-({e})'] = [len(sub), results.metrics()['precision'], results.metrics()['recall']]\n",
        "\n",
        "skin_acc_df['count'] = skin_acc_df['count'].astype(np.int)\n",
        "skin_acc_df"
      ]
    },
    {
      "cell_type": "code",
      "execution_count": null,
      "metadata": {
        "colab": {
          "base_uri": "https://localhost:8080/",
          "height": 542
        },
        "id": "0kbU3FO6n-SG",
        "outputId": "f53ae3fc-b200-4f04-d223-341ff4f90dab"
      },
      "outputs": [
        {
          "output_type": "display_data",
          "data": {
            "text/html": [
              "<html>\n",
              "<head><meta charset=\"utf-8\" /></head>\n",
              "<body>\n",
              "    <div>            <script src=\"https://cdnjs.cloudflare.com/ajax/libs/mathjax/2.7.5/MathJax.js?config=TeX-AMS-MML_SVG\"></script><script type=\"text/javascript\">if (window.MathJax && window.MathJax.Hub && window.MathJax.Hub.Config) {window.MathJax.Hub.Config({SVG: {font: \"STIX-Web\"}});}</script>                <script type=\"text/javascript\">window.PlotlyConfig = {MathJaxConfig: 'local'};</script>\n",
              "        <script src=\"https://cdn.plot.ly/plotly-2.18.2.min.js\"></script>                <div id=\"8c2e4be9-a5a7-4b07-afd6-bbaa5eab19fa\" class=\"plotly-graph-div\" style=\"height:525px; width:1000px;\"></div>            <script type=\"text/javascript\">                                    window.PLOTLYENV=window.PLOTLYENV || {};                                    if (document.getElementById(\"8c2e4be9-a5a7-4b07-afd6-bbaa5eab19fa\")) {                    Plotly.newPlot(                        \"8c2e4be9-a5a7-4b07-afd6-bbaa5eab19fa\",                        [{\"alignmentgroup\":\"True\",\"hovertemplate\":\"skin shading=%{x}<br>recall=%{text}<extra></extra>\",\"legendgroup\":\"\",\"marker\":{\"color\":\"#636efa\",\"pattern\":{\"shape\":\"\"}},\"name\":\"\",\"offsetgroup\":\"\",\"orientation\":\"v\",\"showlegend\":false,\"text\":[1.0,0.5869565217391305,0.0,0.0,0.0,0.0],\"textposition\":\"auto\",\"texttemplate\":\"%{y:.2f}\",\"x\":[\"(-10.0)-(-7.0)\",\"(-7.0)-(-4.0)\",\"(-4.0)-(-1.0)\",\"(-1.0)-(2.0)\",\"(2.0)-(5.0)\",\"(5.0)-(8.0)\"],\"xaxis\":\"x\",\"y\":[1.0,0.5869565217391305,0.0,0.0,0.0,0.0],\"yaxis\":\"y\",\"type\":\"bar\"}],                        {\"template\":{\"data\":{\"histogram2dcontour\":[{\"type\":\"histogram2dcontour\",\"colorbar\":{\"outlinewidth\":0,\"ticks\":\"\"},\"colorscale\":[[0.0,\"#0d0887\"],[0.1111111111111111,\"#46039f\"],[0.2222222222222222,\"#7201a8\"],[0.3333333333333333,\"#9c179e\"],[0.4444444444444444,\"#bd3786\"],[0.5555555555555556,\"#d8576b\"],[0.6666666666666666,\"#ed7953\"],[0.7777777777777778,\"#fb9f3a\"],[0.8888888888888888,\"#fdca26\"],[1.0,\"#f0f921\"]]}],\"choropleth\":[{\"type\":\"choropleth\",\"colorbar\":{\"outlinewidth\":0,\"ticks\":\"\"}}],\"histogram2d\":[{\"type\":\"histogram2d\",\"colorbar\":{\"outlinewidth\":0,\"ticks\":\"\"},\"colorscale\":[[0.0,\"#0d0887\"],[0.1111111111111111,\"#46039f\"],[0.2222222222222222,\"#7201a8\"],[0.3333333333333333,\"#9c179e\"],[0.4444444444444444,\"#bd3786\"],[0.5555555555555556,\"#d8576b\"],[0.6666666666666666,\"#ed7953\"],[0.7777777777777778,\"#fb9f3a\"],[0.8888888888888888,\"#fdca26\"],[1.0,\"#f0f921\"]]}],\"heatmap\":[{\"type\":\"heatmap\",\"colorbar\":{\"outlinewidth\":0,\"ticks\":\"\"},\"colorscale\":[[0.0,\"#0d0887\"],[0.1111111111111111,\"#46039f\"],[0.2222222222222222,\"#7201a8\"],[0.3333333333333333,\"#9c179e\"],[0.4444444444444444,\"#bd3786\"],[0.5555555555555556,\"#d8576b\"],[0.6666666666666666,\"#ed7953\"],[0.7777777777777778,\"#fb9f3a\"],[0.8888888888888888,\"#fdca26\"],[1.0,\"#f0f921\"]]}],\"heatmapgl\":[{\"type\":\"heatmapgl\",\"colorbar\":{\"outlinewidth\":0,\"ticks\":\"\"},\"colorscale\":[[0.0,\"#0d0887\"],[0.1111111111111111,\"#46039f\"],[0.2222222222222222,\"#7201a8\"],[0.3333333333333333,\"#9c179e\"],[0.4444444444444444,\"#bd3786\"],[0.5555555555555556,\"#d8576b\"],[0.6666666666666666,\"#ed7953\"],[0.7777777777777778,\"#fb9f3a\"],[0.8888888888888888,\"#fdca26\"],[1.0,\"#f0f921\"]]}],\"contourcarpet\":[{\"type\":\"contourcarpet\",\"colorbar\":{\"outlinewidth\":0,\"ticks\":\"\"}}],\"contour\":[{\"type\":\"contour\",\"colorbar\":{\"outlinewidth\":0,\"ticks\":\"\"},\"colorscale\":[[0.0,\"#0d0887\"],[0.1111111111111111,\"#46039f\"],[0.2222222222222222,\"#7201a8\"],[0.3333333333333333,\"#9c179e\"],[0.4444444444444444,\"#bd3786\"],[0.5555555555555556,\"#d8576b\"],[0.6666666666666666,\"#ed7953\"],[0.7777777777777778,\"#fb9f3a\"],[0.8888888888888888,\"#fdca26\"],[1.0,\"#f0f921\"]]}],\"surface\":[{\"type\":\"surface\",\"colorbar\":{\"outlinewidth\":0,\"ticks\":\"\"},\"colorscale\":[[0.0,\"#0d0887\"],[0.1111111111111111,\"#46039f\"],[0.2222222222222222,\"#7201a8\"],[0.3333333333333333,\"#9c179e\"],[0.4444444444444444,\"#bd3786\"],[0.5555555555555556,\"#d8576b\"],[0.6666666666666666,\"#ed7953\"],[0.7777777777777778,\"#fb9f3a\"],[0.8888888888888888,\"#fdca26\"],[1.0,\"#f0f921\"]]}],\"mesh3d\":[{\"type\":\"mesh3d\",\"colorbar\":{\"outlinewidth\":0,\"ticks\":\"\"}}],\"scatter\":[{\"fillpattern\":{\"fillmode\":\"overlay\",\"size\":10,\"solidity\":0.2},\"type\":\"scatter\"}],\"parcoords\":[{\"type\":\"parcoords\",\"line\":{\"colorbar\":{\"outlinewidth\":0,\"ticks\":\"\"}}}],\"scatterpolargl\":[{\"type\":\"scatterpolargl\",\"marker\":{\"colorbar\":{\"outlinewidth\":0,\"ticks\":\"\"}}}],\"bar\":[{\"error_x\":{\"color\":\"#2a3f5f\"},\"error_y\":{\"color\":\"#2a3f5f\"},\"marker\":{\"line\":{\"color\":\"#E5ECF6\",\"width\":0.5},\"pattern\":{\"fillmode\":\"overlay\",\"size\":10,\"solidity\":0.2}},\"type\":\"bar\"}],\"scattergeo\":[{\"type\":\"scattergeo\",\"marker\":{\"colorbar\":{\"outlinewidth\":0,\"ticks\":\"\"}}}],\"scatterpolar\":[{\"type\":\"scatterpolar\",\"marker\":{\"colorbar\":{\"outlinewidth\":0,\"ticks\":\"\"}}}],\"histogram\":[{\"marker\":{\"pattern\":{\"fillmode\":\"overlay\",\"size\":10,\"solidity\":0.2}},\"type\":\"histogram\"}],\"scattergl\":[{\"type\":\"scattergl\",\"marker\":{\"colorbar\":{\"outlinewidth\":0,\"ticks\":\"\"}}}],\"scatter3d\":[{\"type\":\"scatter3d\",\"line\":{\"colorbar\":{\"outlinewidth\":0,\"ticks\":\"\"}},\"marker\":{\"colorbar\":{\"outlinewidth\":0,\"ticks\":\"\"}}}],\"scattermapbox\":[{\"type\":\"scattermapbox\",\"marker\":{\"colorbar\":{\"outlinewidth\":0,\"ticks\":\"\"}}}],\"scatterternary\":[{\"type\":\"scatterternary\",\"marker\":{\"colorbar\":{\"outlinewidth\":0,\"ticks\":\"\"}}}],\"scattercarpet\":[{\"type\":\"scattercarpet\",\"marker\":{\"colorbar\":{\"outlinewidth\":0,\"ticks\":\"\"}}}],\"carpet\":[{\"aaxis\":{\"endlinecolor\":\"#2a3f5f\",\"gridcolor\":\"white\",\"linecolor\":\"white\",\"minorgridcolor\":\"white\",\"startlinecolor\":\"#2a3f5f\"},\"baxis\":{\"endlinecolor\":\"#2a3f5f\",\"gridcolor\":\"white\",\"linecolor\":\"white\",\"minorgridcolor\":\"white\",\"startlinecolor\":\"#2a3f5f\"},\"type\":\"carpet\"}],\"table\":[{\"cells\":{\"fill\":{\"color\":\"#EBF0F8\"},\"line\":{\"color\":\"white\"}},\"header\":{\"fill\":{\"color\":\"#C8D4E3\"},\"line\":{\"color\":\"white\"}},\"type\":\"table\"}],\"barpolar\":[{\"marker\":{\"line\":{\"color\":\"#E5ECF6\",\"width\":0.5},\"pattern\":{\"fillmode\":\"overlay\",\"size\":10,\"solidity\":0.2}},\"type\":\"barpolar\"}],\"pie\":[{\"automargin\":true,\"type\":\"pie\"}]},\"layout\":{\"autotypenumbers\":\"strict\",\"colorway\":[\"#636efa\",\"#EF553B\",\"#00cc96\",\"#ab63fa\",\"#FFA15A\",\"#19d3f3\",\"#FF6692\",\"#B6E880\",\"#FF97FF\",\"#FECB52\"],\"font\":{\"color\":\"#2a3f5f\"},\"hovermode\":\"closest\",\"hoverlabel\":{\"align\":\"left\"},\"paper_bgcolor\":\"white\",\"plot_bgcolor\":\"#E5ECF6\",\"polar\":{\"bgcolor\":\"#E5ECF6\",\"angularaxis\":{\"gridcolor\":\"white\",\"linecolor\":\"white\",\"ticks\":\"\"},\"radialaxis\":{\"gridcolor\":\"white\",\"linecolor\":\"white\",\"ticks\":\"\"}},\"ternary\":{\"bgcolor\":\"#E5ECF6\",\"aaxis\":{\"gridcolor\":\"white\",\"linecolor\":\"white\",\"ticks\":\"\"},\"baxis\":{\"gridcolor\":\"white\",\"linecolor\":\"white\",\"ticks\":\"\"},\"caxis\":{\"gridcolor\":\"white\",\"linecolor\":\"white\",\"ticks\":\"\"}},\"coloraxis\":{\"colorbar\":{\"outlinewidth\":0,\"ticks\":\"\"}},\"colorscale\":{\"sequential\":[[0.0,\"#0d0887\"],[0.1111111111111111,\"#46039f\"],[0.2222222222222222,\"#7201a8\"],[0.3333333333333333,\"#9c179e\"],[0.4444444444444444,\"#bd3786\"],[0.5555555555555556,\"#d8576b\"],[0.6666666666666666,\"#ed7953\"],[0.7777777777777778,\"#fb9f3a\"],[0.8888888888888888,\"#fdca26\"],[1.0,\"#f0f921\"]],\"sequentialminus\":[[0.0,\"#0d0887\"],[0.1111111111111111,\"#46039f\"],[0.2222222222222222,\"#7201a8\"],[0.3333333333333333,\"#9c179e\"],[0.4444444444444444,\"#bd3786\"],[0.5555555555555556,\"#d8576b\"],[0.6666666666666666,\"#ed7953\"],[0.7777777777777778,\"#fb9f3a\"],[0.8888888888888888,\"#fdca26\"],[1.0,\"#f0f921\"]],\"diverging\":[[0,\"#8e0152\"],[0.1,\"#c51b7d\"],[0.2,\"#de77ae\"],[0.3,\"#f1b6da\"],[0.4,\"#fde0ef\"],[0.5,\"#f7f7f7\"],[0.6,\"#e6f5d0\"],[0.7,\"#b8e186\"],[0.8,\"#7fbc41\"],[0.9,\"#4d9221\"],[1,\"#276419\"]]},\"xaxis\":{\"gridcolor\":\"white\",\"linecolor\":\"white\",\"ticks\":\"\",\"title\":{\"standoff\":15},\"zerolinecolor\":\"white\",\"automargin\":true,\"zerolinewidth\":2},\"yaxis\":{\"gridcolor\":\"white\",\"linecolor\":\"white\",\"ticks\":\"\",\"title\":{\"standoff\":15},\"zerolinecolor\":\"white\",\"automargin\":true,\"zerolinewidth\":2},\"scene\":{\"xaxis\":{\"backgroundcolor\":\"#E5ECF6\",\"gridcolor\":\"white\",\"linecolor\":\"white\",\"showbackground\":true,\"ticks\":\"\",\"zerolinecolor\":\"white\",\"gridwidth\":2},\"yaxis\":{\"backgroundcolor\":\"#E5ECF6\",\"gridcolor\":\"white\",\"linecolor\":\"white\",\"showbackground\":true,\"ticks\":\"\",\"zerolinecolor\":\"white\",\"gridwidth\":2},\"zaxis\":{\"backgroundcolor\":\"#E5ECF6\",\"gridcolor\":\"white\",\"linecolor\":\"white\",\"showbackground\":true,\"ticks\":\"\",\"zerolinecolor\":\"white\",\"gridwidth\":2}},\"shapedefaults\":{\"line\":{\"color\":\"#2a3f5f\"}},\"annotationdefaults\":{\"arrowcolor\":\"#2a3f5f\",\"arrowhead\":0,\"arrowwidth\":1},\"geo\":{\"bgcolor\":\"white\",\"landcolor\":\"#E5ECF6\",\"subunitcolor\":\"white\",\"showland\":true,\"showlakes\":true,\"lakecolor\":\"white\"},\"title\":{\"x\":0.05},\"mapbox\":{\"style\":\"light\"}}},\"xaxis\":{\"anchor\":\"y\",\"domain\":[0.0,1.0],\"title\":{\"text\":\"skin shading\"},\"tickvals\":[0,1,2,3,4,5],\"ticktext\":[\"I (33)\",\"II (46)\",\"III (28)\",\"IV (30)\",\"V (29)\",\"VI (34)\"]},\"yaxis\":{\"anchor\":\"x\",\"domain\":[0.0,1.0],\"title\":{\"text\":\"recall\"}},\"legend\":{\"tracegroupgap\":0},\"title\":{\"text\":\"Recall by skin shading (synthetic)\"},\"barmode\":\"relative\",\"width\":1000,\"font\":{\"size\":20}},                        {\"responsive\": true}                    ).then(function(){\n",
              "                            \n",
              "var gd = document.getElementById('8c2e4be9-a5a7-4b07-afd6-bbaa5eab19fa');\n",
              "var x = new MutationObserver(function (mutations, observer) {{\n",
              "        var display = window.getComputedStyle(gd).display;\n",
              "        if (!display || display === 'none') {{\n",
              "            console.log([gd, 'removed!']);\n",
              "            Plotly.purge(gd);\n",
              "            observer.disconnect();\n",
              "        }}\n",
              "}});\n",
              "\n",
              "// Listen for the removal of the full notebook cells\n",
              "var notebookContainer = gd.closest('#notebook-container');\n",
              "if (notebookContainer) {{\n",
              "    x.observe(notebookContainer, {childList: true});\n",
              "}}\n",
              "\n",
              "// Listen for the clearing of the current output cell\n",
              "var outputEl = gd.closest('.output');\n",
              "if (outputEl) {{\n",
              "    x.observe(outputEl, {childList: true});\n",
              "}}\n",
              "\n",
              "                        })                };                            </script>        </div>\n",
              "</body>\n",
              "</html>"
            ]
          },
          "metadata": {}
        }
      ],
      "source": [
        "# Show chart of recall per gender.  We use recall since the background of the image is pretty basic\n",
        "# and it is unlikely to have false detections.\n",
        "import plotly.express as px\n",
        "\n",
        "fig = px.bar(skin_acc_df,\n",
        "             x=skin_acc_df.index.astype(str),\n",
        "             y='recall',\n",
        "             width=1000,\n",
        "             #range_y=[0.5, 1],\n",
        "             text='recall',\n",
        "             text_auto='.2f',\n",
        "             labels={'x': 'skin shading'},\n",
        "             title='Recall by skin shading (synthetic)')\n",
        "fig.update_layout(font_size=20)\n",
        "tt = ['I', 'II', 'III', 'IV', 'V', 'VI']\n",
        "ticktexts = [f'{tt[i]} ({skin_acc_df[\"count\"][i]})' for i in range (0, 6)]\n",
        "fig.update_xaxes(tickvals=list(range(0, 6)), ticktext=ticktexts)\n",
        "fig.show()"
      ]
    }
  ],
  "metadata": {
    "accelerator": "GPU",
    "colab": {
      "provenance": [],
      "include_colab_link": true
    },
    "gpuClass": "standard",
    "kernelspec": {
      "display_name": "Python 3 (ipykernel)",
      "language": "python",
      "name": "python3"
    },
    "language_info": {
      "name": "python"
    },
    "widgets": {
      "application/vnd.jupyter.widget-state+json": {
        "d9258872add74275bedd12f1e76ad4dc": {
          "model_module": "@jupyter-widgets/controls",
          "model_name": "HBoxModel",
          "model_module_version": "1.5.0",
          "state": {
            "_dom_classes": [],
            "_model_module": "@jupyter-widgets/controls",
            "_model_module_version": "1.5.0",
            "_model_name": "HBoxModel",
            "_view_count": null,
            "_view_module": "@jupyter-widgets/controls",
            "_view_module_version": "1.5.0",
            "_view_name": "HBoxView",
            "box_style": "",
            "children": [
              "IPY_MODEL_ba5c4db89b634f00b9ffce8df5e2839e",
              "IPY_MODEL_bbffcbf0eceb43dfbbc2765485dd5314",
              "IPY_MODEL_8f0b1bbaadf04005833ce6e6fdd328aa"
            ],
            "layout": "IPY_MODEL_806b1ee87bcd490e8b81ec6855bd5268"
          }
        },
        "ba5c4db89b634f00b9ffce8df5e2839e": {
          "model_module": "@jupyter-widgets/controls",
          "model_name": "HTMLModel",
          "model_module_version": "1.5.0",
          "state": {
            "_dom_classes": [],
            "_model_module": "@jupyter-widgets/controls",
            "_model_module_version": "1.5.0",
            "_model_name": "HTMLModel",
            "_view_count": null,
            "_view_module": "@jupyter-widgets/controls",
            "_view_module_version": "1.5.0",
            "_view_name": "HTMLView",
            "description": "",
            "description_tooltip": null,
            "layout": "IPY_MODEL_9efe1b53b91e48d6a6b99a30d0978e18",
            "placeholder": "​",
            "style": "IPY_MODEL_9972dd8e8451499a8a791a7c4653057c",
            "value": "Epochs completed: 100%| "
          }
        },
        "bbffcbf0eceb43dfbbc2765485dd5314": {
          "model_module": "@jupyter-widgets/controls",
          "model_name": "FloatProgressModel",
          "model_module_version": "1.5.0",
          "state": {
            "_dom_classes": [],
            "_model_module": "@jupyter-widgets/controls",
            "_model_module_version": "1.5.0",
            "_model_name": "FloatProgressModel",
            "_view_count": null,
            "_view_module": "@jupyter-widgets/controls",
            "_view_module_version": "1.5.0",
            "_view_name": "ProgressView",
            "bar_style": "success",
            "description": "",
            "description_tooltip": null,
            "layout": "IPY_MODEL_c614dfc7cfa1430786a2b7b3a14e61f8",
            "max": 200,
            "min": 0,
            "orientation": "horizontal",
            "style": "IPY_MODEL_9d8521d7d06b450cba58c2c4e94a881e",
            "value": 200
          }
        },
        "8f0b1bbaadf04005833ce6e6fdd328aa": {
          "model_module": "@jupyter-widgets/controls",
          "model_name": "HTMLModel",
          "model_module_version": "1.5.0",
          "state": {
            "_dom_classes": [],
            "_model_module": "@jupyter-widgets/controls",
            "_model_module_version": "1.5.0",
            "_model_name": "HTMLModel",
            "_view_count": null,
            "_view_module": "@jupyter-widgets/controls",
            "_view_module_version": "1.5.0",
            "_view_name": "HTMLView",
            "description": "",
            "description_tooltip": null,
            "layout": "IPY_MODEL_ba3b98b435124861b9c13f9b14e500fe",
            "placeholder": "​",
            "style": "IPY_MODEL_74c1dbc6ef4b42188375f243e3fedaf4",
            "value": " 200/200 [00:09]"
          }
        },
        "806b1ee87bcd490e8b81ec6855bd5268": {
          "model_module": "@jupyter-widgets/base",
          "model_name": "LayoutModel",
          "model_module_version": "1.2.0",
          "state": {
            "_model_module": "@jupyter-widgets/base",
            "_model_module_version": "1.2.0",
            "_model_name": "LayoutModel",
            "_view_count": null,
            "_view_module": "@jupyter-widgets/base",
            "_view_module_version": "1.2.0",
            "_view_name": "LayoutView",
            "align_content": null,
            "align_items": null,
            "align_self": null,
            "border": null,
            "bottom": null,
            "display": null,
            "flex": null,
            "flex_flow": null,
            "grid_area": null,
            "grid_auto_columns": null,
            "grid_auto_flow": null,
            "grid_auto_rows": null,
            "grid_column": null,
            "grid_gap": null,
            "grid_row": null,
            "grid_template_areas": null,
            "grid_template_columns": null,
            "grid_template_rows": null,
            "height": null,
            "justify_content": null,
            "justify_items": null,
            "left": null,
            "margin": null,
            "max_height": null,
            "max_width": null,
            "min_height": null,
            "min_width": null,
            "object_fit": null,
            "object_position": null,
            "order": null,
            "overflow": null,
            "overflow_x": null,
            "overflow_y": null,
            "padding": null,
            "right": null,
            "top": null,
            "visibility": null,
            "width": null
          }
        },
        "9efe1b53b91e48d6a6b99a30d0978e18": {
          "model_module": "@jupyter-widgets/base",
          "model_name": "LayoutModel",
          "model_module_version": "1.2.0",
          "state": {
            "_model_module": "@jupyter-widgets/base",
            "_model_module_version": "1.2.0",
            "_model_name": "LayoutModel",
            "_view_count": null,
            "_view_module": "@jupyter-widgets/base",
            "_view_module_version": "1.2.0",
            "_view_name": "LayoutView",
            "align_content": null,
            "align_items": null,
            "align_self": null,
            "border": null,
            "bottom": null,
            "display": null,
            "flex": null,
            "flex_flow": null,
            "grid_area": null,
            "grid_auto_columns": null,
            "grid_auto_flow": null,
            "grid_auto_rows": null,
            "grid_column": null,
            "grid_gap": null,
            "grid_row": null,
            "grid_template_areas": null,
            "grid_template_columns": null,
            "grid_template_rows": null,
            "height": null,
            "justify_content": null,
            "justify_items": null,
            "left": null,
            "margin": null,
            "max_height": null,
            "max_width": null,
            "min_height": null,
            "min_width": null,
            "object_fit": null,
            "object_position": null,
            "order": null,
            "overflow": null,
            "overflow_x": null,
            "overflow_y": null,
            "padding": null,
            "right": null,
            "top": null,
            "visibility": null,
            "width": null
          }
        },
        "9972dd8e8451499a8a791a7c4653057c": {
          "model_module": "@jupyter-widgets/controls",
          "model_name": "DescriptionStyleModel",
          "model_module_version": "1.5.0",
          "state": {
            "_model_module": "@jupyter-widgets/controls",
            "_model_module_version": "1.5.0",
            "_model_name": "DescriptionStyleModel",
            "_view_count": null,
            "_view_module": "@jupyter-widgets/base",
            "_view_module_version": "1.2.0",
            "_view_name": "StyleView",
            "description_width": ""
          }
        },
        "c614dfc7cfa1430786a2b7b3a14e61f8": {
          "model_module": "@jupyter-widgets/base",
          "model_name": "LayoutModel",
          "model_module_version": "1.2.0",
          "state": {
            "_model_module": "@jupyter-widgets/base",
            "_model_module_version": "1.2.0",
            "_model_name": "LayoutModel",
            "_view_count": null,
            "_view_module": "@jupyter-widgets/base",
            "_view_module_version": "1.2.0",
            "_view_name": "LayoutView",
            "align_content": null,
            "align_items": null,
            "align_self": null,
            "border": null,
            "bottom": null,
            "display": null,
            "flex": null,
            "flex_flow": null,
            "grid_area": null,
            "grid_auto_columns": null,
            "grid_auto_flow": null,
            "grid_auto_rows": null,
            "grid_column": null,
            "grid_gap": null,
            "grid_row": null,
            "grid_template_areas": null,
            "grid_template_columns": null,
            "grid_template_rows": null,
            "height": null,
            "justify_content": null,
            "justify_items": null,
            "left": null,
            "margin": null,
            "max_height": null,
            "max_width": null,
            "min_height": null,
            "min_width": null,
            "object_fit": null,
            "object_position": null,
            "order": null,
            "overflow": null,
            "overflow_x": null,
            "overflow_y": null,
            "padding": null,
            "right": null,
            "top": null,
            "visibility": null,
            "width": null
          }
        },
        "9d8521d7d06b450cba58c2c4e94a881e": {
          "model_module": "@jupyter-widgets/controls",
          "model_name": "ProgressStyleModel",
          "model_module_version": "1.5.0",
          "state": {
            "_model_module": "@jupyter-widgets/controls",
            "_model_module_version": "1.5.0",
            "_model_name": "ProgressStyleModel",
            "_view_count": null,
            "_view_module": "@jupyter-widgets/base",
            "_view_module_version": "1.2.0",
            "_view_name": "StyleView",
            "bar_color": null,
            "description_width": ""
          }
        },
        "ba3b98b435124861b9c13f9b14e500fe": {
          "model_module": "@jupyter-widgets/base",
          "model_name": "LayoutModel",
          "model_module_version": "1.2.0",
          "state": {
            "_model_module": "@jupyter-widgets/base",
            "_model_module_version": "1.2.0",
            "_model_name": "LayoutModel",
            "_view_count": null,
            "_view_module": "@jupyter-widgets/base",
            "_view_module_version": "1.2.0",
            "_view_name": "LayoutView",
            "align_content": null,
            "align_items": null,
            "align_self": null,
            "border": null,
            "bottom": null,
            "display": null,
            "flex": null,
            "flex_flow": null,
            "grid_area": null,
            "grid_auto_columns": null,
            "grid_auto_flow": null,
            "grid_auto_rows": null,
            "grid_column": null,
            "grid_gap": null,
            "grid_row": null,
            "grid_template_areas": null,
            "grid_template_columns": null,
            "grid_template_rows": null,
            "height": null,
            "justify_content": null,
            "justify_items": null,
            "left": null,
            "margin": null,
            "max_height": null,
            "max_width": null,
            "min_height": null,
            "min_width": null,
            "object_fit": null,
            "object_position": null,
            "order": null,
            "overflow": null,
            "overflow_x": null,
            "overflow_y": null,
            "padding": null,
            "right": null,
            "top": null,
            "visibility": null,
            "width": null
          }
        },
        "74c1dbc6ef4b42188375f243e3fedaf4": {
          "model_module": "@jupyter-widgets/controls",
          "model_name": "DescriptionStyleModel",
          "model_module_version": "1.5.0",
          "state": {
            "_model_module": "@jupyter-widgets/controls",
            "_model_module_version": "1.5.0",
            "_model_name": "DescriptionStyleModel",
            "_view_count": null,
            "_view_module": "@jupyter-widgets/base",
            "_view_module_version": "1.2.0",
            "_view_name": "StyleView",
            "description_width": ""
          }
        },
        "26a72caa2b3f4e1987716e5b43d5bc78": {
          "model_module": "@jupyter-widgets/controls",
          "model_name": "HBoxModel",
          "model_module_version": "1.5.0",
          "state": {
            "_dom_classes": [],
            "_model_module": "@jupyter-widgets/controls",
            "_model_module_version": "1.5.0",
            "_model_name": "HBoxModel",
            "_view_count": null,
            "_view_module": "@jupyter-widgets/controls",
            "_view_module_version": "1.5.0",
            "_view_name": "HBoxView",
            "box_style": "",
            "children": [
              "IPY_MODEL_cabf4ca7901046f49d20f3b6f283aec6",
              "IPY_MODEL_71486389b13a4a539e919e5281aecae0",
              "IPY_MODEL_0cb18b830f6846188aa768b66bd79fcc"
            ],
            "layout": "IPY_MODEL_cba0aeba830442da92d9464beac7700f"
          }
        },
        "cabf4ca7901046f49d20f3b6f283aec6": {
          "model_module": "@jupyter-widgets/controls",
          "model_name": "HTMLModel",
          "model_module_version": "1.5.0",
          "state": {
            "_dom_classes": [],
            "_model_module": "@jupyter-widgets/controls",
            "_model_module_version": "1.5.0",
            "_model_name": "HTMLModel",
            "_view_count": null,
            "_view_module": "@jupyter-widgets/controls",
            "_view_module_version": "1.5.0",
            "_view_name": "HTMLView",
            "description": "",
            "description_tooltip": null,
            "layout": "IPY_MODEL_1cd7dfc4d9e84276af38034922020b0b",
            "placeholder": "​",
            "style": "IPY_MODEL_ee5d5109e54c447e9aa8a65f19d1365c",
            "value": "Epochs completed: 100%| "
          }
        },
        "71486389b13a4a539e919e5281aecae0": {
          "model_module": "@jupyter-widgets/controls",
          "model_name": "FloatProgressModel",
          "model_module_version": "1.5.0",
          "state": {
            "_dom_classes": [],
            "_model_module": "@jupyter-widgets/controls",
            "_model_module_version": "1.5.0",
            "_model_name": "FloatProgressModel",
            "_view_count": null,
            "_view_module": "@jupyter-widgets/controls",
            "_view_module_version": "1.5.0",
            "_view_name": "ProgressView",
            "bar_style": "success",
            "description": "",
            "description_tooltip": null,
            "layout": "IPY_MODEL_343d4f0b22ec4cddbf653f81d5918c4a",
            "max": 500,
            "min": 0,
            "orientation": "horizontal",
            "style": "IPY_MODEL_8223c9c76e5f4d31a4715c611a3a04f5",
            "value": 500
          }
        },
        "0cb18b830f6846188aa768b66bd79fcc": {
          "model_module": "@jupyter-widgets/controls",
          "model_name": "HTMLModel",
          "model_module_version": "1.5.0",
          "state": {
            "_dom_classes": [],
            "_model_module": "@jupyter-widgets/controls",
            "_model_module_version": "1.5.0",
            "_model_name": "HTMLModel",
            "_view_count": null,
            "_view_module": "@jupyter-widgets/controls",
            "_view_module_version": "1.5.0",
            "_view_name": "HTMLView",
            "description": "",
            "description_tooltip": null,
            "layout": "IPY_MODEL_3bdc70d07808452a9da592c12c83820c",
            "placeholder": "​",
            "style": "IPY_MODEL_81039cddd4bf4e3ea256cbaeaf0c8cf4",
            "value": " 500/500 [00:06]"
          }
        },
        "cba0aeba830442da92d9464beac7700f": {
          "model_module": "@jupyter-widgets/base",
          "model_name": "LayoutModel",
          "model_module_version": "1.2.0",
          "state": {
            "_model_module": "@jupyter-widgets/base",
            "_model_module_version": "1.2.0",
            "_model_name": "LayoutModel",
            "_view_count": null,
            "_view_module": "@jupyter-widgets/base",
            "_view_module_version": "1.2.0",
            "_view_name": "LayoutView",
            "align_content": null,
            "align_items": null,
            "align_self": null,
            "border": null,
            "bottom": null,
            "display": null,
            "flex": null,
            "flex_flow": null,
            "grid_area": null,
            "grid_auto_columns": null,
            "grid_auto_flow": null,
            "grid_auto_rows": null,
            "grid_column": null,
            "grid_gap": null,
            "grid_row": null,
            "grid_template_areas": null,
            "grid_template_columns": null,
            "grid_template_rows": null,
            "height": null,
            "justify_content": null,
            "justify_items": null,
            "left": null,
            "margin": null,
            "max_height": null,
            "max_width": null,
            "min_height": null,
            "min_width": null,
            "object_fit": null,
            "object_position": null,
            "order": null,
            "overflow": null,
            "overflow_x": null,
            "overflow_y": null,
            "padding": null,
            "right": null,
            "top": null,
            "visibility": null,
            "width": null
          }
        },
        "1cd7dfc4d9e84276af38034922020b0b": {
          "model_module": "@jupyter-widgets/base",
          "model_name": "LayoutModel",
          "model_module_version": "1.2.0",
          "state": {
            "_model_module": "@jupyter-widgets/base",
            "_model_module_version": "1.2.0",
            "_model_name": "LayoutModel",
            "_view_count": null,
            "_view_module": "@jupyter-widgets/base",
            "_view_module_version": "1.2.0",
            "_view_name": "LayoutView",
            "align_content": null,
            "align_items": null,
            "align_self": null,
            "border": null,
            "bottom": null,
            "display": null,
            "flex": null,
            "flex_flow": null,
            "grid_area": null,
            "grid_auto_columns": null,
            "grid_auto_flow": null,
            "grid_auto_rows": null,
            "grid_column": null,
            "grid_gap": null,
            "grid_row": null,
            "grid_template_areas": null,
            "grid_template_columns": null,
            "grid_template_rows": null,
            "height": null,
            "justify_content": null,
            "justify_items": null,
            "left": null,
            "margin": null,
            "max_height": null,
            "max_width": null,
            "min_height": null,
            "min_width": null,
            "object_fit": null,
            "object_position": null,
            "order": null,
            "overflow": null,
            "overflow_x": null,
            "overflow_y": null,
            "padding": null,
            "right": null,
            "top": null,
            "visibility": null,
            "width": null
          }
        },
        "ee5d5109e54c447e9aa8a65f19d1365c": {
          "model_module": "@jupyter-widgets/controls",
          "model_name": "DescriptionStyleModel",
          "model_module_version": "1.5.0",
          "state": {
            "_model_module": "@jupyter-widgets/controls",
            "_model_module_version": "1.5.0",
            "_model_name": "DescriptionStyleModel",
            "_view_count": null,
            "_view_module": "@jupyter-widgets/base",
            "_view_module_version": "1.2.0",
            "_view_name": "StyleView",
            "description_width": ""
          }
        },
        "343d4f0b22ec4cddbf653f81d5918c4a": {
          "model_module": "@jupyter-widgets/base",
          "model_name": "LayoutModel",
          "model_module_version": "1.2.0",
          "state": {
            "_model_module": "@jupyter-widgets/base",
            "_model_module_version": "1.2.0",
            "_model_name": "LayoutModel",
            "_view_count": null,
            "_view_module": "@jupyter-widgets/base",
            "_view_module_version": "1.2.0",
            "_view_name": "LayoutView",
            "align_content": null,
            "align_items": null,
            "align_self": null,
            "border": null,
            "bottom": null,
            "display": null,
            "flex": null,
            "flex_flow": null,
            "grid_area": null,
            "grid_auto_columns": null,
            "grid_auto_flow": null,
            "grid_auto_rows": null,
            "grid_column": null,
            "grid_gap": null,
            "grid_row": null,
            "grid_template_areas": null,
            "grid_template_columns": null,
            "grid_template_rows": null,
            "height": null,
            "justify_content": null,
            "justify_items": null,
            "left": null,
            "margin": null,
            "max_height": null,
            "max_width": null,
            "min_height": null,
            "min_width": null,
            "object_fit": null,
            "object_position": null,
            "order": null,
            "overflow": null,
            "overflow_x": null,
            "overflow_y": null,
            "padding": null,
            "right": null,
            "top": null,
            "visibility": null,
            "width": null
          }
        },
        "8223c9c76e5f4d31a4715c611a3a04f5": {
          "model_module": "@jupyter-widgets/controls",
          "model_name": "ProgressStyleModel",
          "model_module_version": "1.5.0",
          "state": {
            "_model_module": "@jupyter-widgets/controls",
            "_model_module_version": "1.5.0",
            "_model_name": "ProgressStyleModel",
            "_view_count": null,
            "_view_module": "@jupyter-widgets/base",
            "_view_module_version": "1.2.0",
            "_view_name": "StyleView",
            "bar_color": null,
            "description_width": ""
          }
        },
        "3bdc70d07808452a9da592c12c83820c": {
          "model_module": "@jupyter-widgets/base",
          "model_name": "LayoutModel",
          "model_module_version": "1.2.0",
          "state": {
            "_model_module": "@jupyter-widgets/base",
            "_model_module_version": "1.2.0",
            "_model_name": "LayoutModel",
            "_view_count": null,
            "_view_module": "@jupyter-widgets/base",
            "_view_module_version": "1.2.0",
            "_view_name": "LayoutView",
            "align_content": null,
            "align_items": null,
            "align_self": null,
            "border": null,
            "bottom": null,
            "display": null,
            "flex": null,
            "flex_flow": null,
            "grid_area": null,
            "grid_auto_columns": null,
            "grid_auto_flow": null,
            "grid_auto_rows": null,
            "grid_column": null,
            "grid_gap": null,
            "grid_row": null,
            "grid_template_areas": null,
            "grid_template_columns": null,
            "grid_template_rows": null,
            "height": null,
            "justify_content": null,
            "justify_items": null,
            "left": null,
            "margin": null,
            "max_height": null,
            "max_width": null,
            "min_height": null,
            "min_width": null,
            "object_fit": null,
            "object_position": null,
            "order": null,
            "overflow": null,
            "overflow_x": null,
            "overflow_y": null,
            "padding": null,
            "right": null,
            "top": null,
            "visibility": null,
            "width": null
          }
        },
        "81039cddd4bf4e3ea256cbaeaf0c8cf4": {
          "model_module": "@jupyter-widgets/controls",
          "model_name": "DescriptionStyleModel",
          "model_module_version": "1.5.0",
          "state": {
            "_model_module": "@jupyter-widgets/controls",
            "_model_module_version": "1.5.0",
            "_model_name": "DescriptionStyleModel",
            "_view_count": null,
            "_view_module": "@jupyter-widgets/base",
            "_view_module_version": "1.2.0",
            "_view_name": "StyleView",
            "description_width": ""
          }
        }
      }
    }
  },
  "nbformat": 4,
  "nbformat_minor": 0
}